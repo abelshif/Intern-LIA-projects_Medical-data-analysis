{
 "cells": [
  {
   "cell_type": "markdown",
   "metadata": {},
   "source": [
    "# Analysis of Patient Data"
   ]
  },
  {
   "cell_type": "markdown",
   "metadata": {},
   "source": [
    "# Pre-step"
   ]
  },
  {
   "attachments": {},
   "cell_type": "markdown",
   "metadata": {},
   "source": [
    "### Research Question\n",
    "\n",
    "    Determine the distribution and correlation of variables in the cleaned patient data.\n"
   ]
  },
  {
   "attachments": {},
   "cell_type": "markdown",
   "metadata": {},
   "source": [
    "### Dataset\n",
    "\n",
    "    patient data.csv\n"
   ]
  },
  {
   "attachments": {},
   "cell_type": "markdown",
   "metadata": {},
   "source": [
    "### Libraries"
   ]
  },
  {
   "cell_type": "code",
   "execution_count": 69,
   "metadata": {
    "scrolled": true
   },
   "outputs": [],
   "source": [
    "import pandas as pd\n",
    "import plotly.express as px\n",
    "import plotly.figure_factory as ff\n",
    "import warnings"
   ]
  },
  {
   "cell_type": "code",
   "execution_count": 70,
   "metadata": {},
   "outputs": [],
   "source": [
    "warnings.filterwarnings(\"ignore\")"
   ]
  },
  {
   "attachments": {},
   "cell_type": "markdown",
   "metadata": {},
   "source": [
    "# Data Pre-processing "
   ]
  },
  {
   "cell_type": "code",
   "execution_count": 71,
   "metadata": {},
   "outputs": [
    {
     "data": {
      "text/plain": [
       "(100, 16)"
      ]
     },
     "execution_count": 71,
     "metadata": {},
     "output_type": "execute_result"
    }
   ],
   "source": [
    "patient_df = pd.read_csv(\"./patient_data.csv\")\n",
    "patient_df.shape"
   ]
  },
  {
   "cell_type": "code",
   "execution_count": 72,
   "metadata": {},
   "outputs": [
    {
     "data": {
      "text/html": [
       "<div>\n",
       "<style scoped>\n",
       "    .dataframe tbody tr th:only-of-type {\n",
       "        vertical-align: middle;\n",
       "    }\n",
       "\n",
       "    .dataframe tbody tr th {\n",
       "        vertical-align: top;\n",
       "    }\n",
       "\n",
       "    .dataframe thead th {\n",
       "        text-align: right;\n",
       "    }\n",
       "</style>\n",
       "<table border=\"1\" class=\"dataframe\">\n",
       "  <thead>\n",
       "    <tr style=\"text-align: right;\">\n",
       "      <th></th>\n",
       "      <th>patient_id</th>\n",
       "      <th>allergies</th>\n",
       "      <th>blood_type</th>\n",
       "      <th>closest_hospital</th>\n",
       "      <th>community</th>\n",
       "      <th>country</th>\n",
       "      <th>date_of_birth</th>\n",
       "      <th>disabilities</th>\n",
       "      <th>name</th>\n",
       "      <th>gender</th>\n",
       "      <th>has_children</th>\n",
       "      <th>has_dependent</th>\n",
       "      <th>height</th>\n",
       "      <th>marital_status</th>\n",
       "      <th>medical_problems</th>\n",
       "      <th>weight</th>\n",
       "    </tr>\n",
       "  </thead>\n",
       "  <tbody>\n",
       "    <tr>\n",
       "      <th>0</th>\n",
       "      <td>1</td>\n",
       "      <td>NaN</td>\n",
       "      <td>AB-</td>\n",
       "      <td>1</td>\n",
       "      <td>rural</td>\n",
       "      <td>nigeria</td>\n",
       "      <td>2006-11-02 00:00:00</td>\n",
       "      <td>NaN</td>\n",
       "      <td>ACRA SMITH</td>\n",
       "      <td>Male</td>\n",
       "      <td>No</td>\n",
       "      <td>Yes</td>\n",
       "      <td>221</td>\n",
       "      <td>single</td>\n",
       "      <td>underweight</td>\n",
       "      <td>73</td>\n",
       "    </tr>\n",
       "    <tr>\n",
       "      <th>1</th>\n",
       "      <td>2</td>\n",
       "      <td>NaN</td>\n",
       "      <td>O-</td>\n",
       "      <td>12</td>\n",
       "      <td>rural</td>\n",
       "      <td>nigeria</td>\n",
       "      <td>1990-12-09 00:00:00</td>\n",
       "      <td>scoliosis</td>\n",
       "      <td>ADOLPH NEILON</td>\n",
       "      <td>Female</td>\n",
       "      <td>Yes</td>\n",
       "      <td>Yes</td>\n",
       "      <td>212</td>\n",
       "      <td>single</td>\n",
       "      <td>drug addiction</td>\n",
       "      <td>70</td>\n",
       "    </tr>\n",
       "    <tr>\n",
       "      <th>2</th>\n",
       "      <td>3</td>\n",
       "      <td>NaN</td>\n",
       "      <td>AB-</td>\n",
       "      <td>2</td>\n",
       "      <td>urban</td>\n",
       "      <td>nigeria</td>\n",
       "      <td>1990-01-26 00:00:00</td>\n",
       "      <td>atherosclerosis</td>\n",
       "      <td>ANKI HENDRI</td>\n",
       "      <td>Male</td>\n",
       "      <td>No</td>\n",
       "      <td>No</td>\n",
       "      <td>226</td>\n",
       "      <td>single</td>\n",
       "      <td>overweight</td>\n",
       "      <td>84</td>\n",
       "    </tr>\n",
       "    <tr>\n",
       "      <th>3</th>\n",
       "      <td>4</td>\n",
       "      <td>pollen</td>\n",
       "      <td>A-</td>\n",
       "      <td>12</td>\n",
       "      <td>rural</td>\n",
       "      <td>nigeria</td>\n",
       "      <td>2006-06-15 00:00:00</td>\n",
       "      <td>delirium</td>\n",
       "      <td>GARBO SHARRON</td>\n",
       "      <td>Male</td>\n",
       "      <td>Yes</td>\n",
       "      <td>Yes</td>\n",
       "      <td>169</td>\n",
       "      <td>single</td>\n",
       "      <td>overweight</td>\n",
       "      <td>63</td>\n",
       "    </tr>\n",
       "    <tr>\n",
       "      <th>4</th>\n",
       "      <td>5</td>\n",
       "      <td>flowers</td>\n",
       "      <td>AB-</td>\n",
       "      <td>3</td>\n",
       "      <td>suburban</td>\n",
       "      <td>nigeria</td>\n",
       "      <td>1987-07-18 00:00:00</td>\n",
       "      <td>delirium</td>\n",
       "      <td>ADONAI NEIVA</td>\n",
       "      <td>Male</td>\n",
       "      <td>No</td>\n",
       "      <td>Yes</td>\n",
       "      <td>196</td>\n",
       "      <td>married</td>\n",
       "      <td>NaN</td>\n",
       "      <td>85</td>\n",
       "    </tr>\n",
       "  </tbody>\n",
       "</table>\n",
       "</div>"
      ],
      "text/plain": [
       "   patient_id allergies blood_type  closest_hospital community  country  \\\n",
       "0           1       NaN        AB-                 1     rural  nigeria   \n",
       "1           2       NaN         O-                12     rural  nigeria   \n",
       "2           3       NaN        AB-                 2     urban  nigeria   \n",
       "3           4    pollen         A-                12     rural  nigeria   \n",
       "4           5   flowers        AB-                 3  suburban  nigeria   \n",
       "\n",
       "         date_of_birth     disabilities           name  gender has_children  \\\n",
       "0  2006-11-02 00:00:00              NaN     ACRA SMITH    Male           No   \n",
       "1  1990-12-09 00:00:00        scoliosis  ADOLPH NEILON  Female          Yes   \n",
       "2  1990-01-26 00:00:00  atherosclerosis    ANKI HENDRI    Male           No   \n",
       "3  2006-06-15 00:00:00         delirium  GARBO SHARRON    Male          Yes   \n",
       "4  1987-07-18 00:00:00         delirium   ADONAI NEIVA    Male           No   \n",
       "\n",
       "  has_dependent  height marital_status medical_problems  weight  \n",
       "0           Yes     221         single      underweight      73  \n",
       "1           Yes     212         single   drug addiction      70  \n",
       "2            No     226         single       overweight      84  \n",
       "3           Yes     169         single       overweight      63  \n",
       "4           Yes     196        married              NaN      85  "
      ]
     },
     "execution_count": 72,
     "metadata": {},
     "output_type": "execute_result"
    }
   ],
   "source": [
    "patient_df.head()"
   ]
  },
  {
   "cell_type": "code",
   "execution_count": 73,
   "metadata": {},
   "outputs": [
    {
     "name": "stdout",
     "output_type": "stream",
     "text": [
      "<class 'pandas.core.frame.DataFrame'>\n",
      "RangeIndex: 100 entries, 0 to 99\n",
      "Data columns (total 16 columns):\n",
      " #   Column            Non-Null Count  Dtype \n",
      "---  ------            --------------  ----- \n",
      " 0   patient_id        100 non-null    int64 \n",
      " 1   allergies         73 non-null     object\n",
      " 2   blood_type        100 non-null    object\n",
      " 3   closest_hospital  100 non-null    int64 \n",
      " 4   community         100 non-null    object\n",
      " 5   country           100 non-null    object\n",
      " 6   date_of_birth     100 non-null    object\n",
      " 7   disabilities      82 non-null     object\n",
      " 8   name              99 non-null     object\n",
      " 9   gender            100 non-null    object\n",
      " 10  has_children      100 non-null    object\n",
      " 11  has_dependent     100 non-null    object\n",
      " 12  height            100 non-null    int64 \n",
      " 13  marital_status    100 non-null    object\n",
      " 14  medical_problems  75 non-null     object\n",
      " 15  weight            100 non-null    int64 \n",
      "dtypes: int64(4), object(12)\n",
      "memory usage: 12.6+ KB\n"
     ]
    }
   ],
   "source": [
    "patient_df.info()"
   ]
  },
  {
   "cell_type": "markdown",
   "metadata": {},
   "source": [
    "### Check for duplicates"
   ]
  },
  {
   "cell_type": "code",
   "execution_count": 74,
   "metadata": {},
   "outputs": [
    {
     "data": {
      "text/html": [
       "<div>\n",
       "<style scoped>\n",
       "    .dataframe tbody tr th:only-of-type {\n",
       "        vertical-align: middle;\n",
       "    }\n",
       "\n",
       "    .dataframe tbody tr th {\n",
       "        vertical-align: top;\n",
       "    }\n",
       "\n",
       "    .dataframe thead th {\n",
       "        text-align: right;\n",
       "    }\n",
       "</style>\n",
       "<table border=\"1\" class=\"dataframe\">\n",
       "  <thead>\n",
       "    <tr style=\"text-align: right;\">\n",
       "      <th></th>\n",
       "      <th>patient_id</th>\n",
       "      <th>allergies</th>\n",
       "      <th>blood_type</th>\n",
       "      <th>closest_hospital</th>\n",
       "      <th>community</th>\n",
       "      <th>country</th>\n",
       "      <th>date_of_birth</th>\n",
       "      <th>disabilities</th>\n",
       "      <th>name</th>\n",
       "      <th>gender</th>\n",
       "      <th>has_children</th>\n",
       "      <th>has_dependent</th>\n",
       "      <th>height</th>\n",
       "      <th>marital_status</th>\n",
       "      <th>medical_problems</th>\n",
       "      <th>weight</th>\n",
       "    </tr>\n",
       "  </thead>\n",
       "  <tbody>\n",
       "  </tbody>\n",
       "</table>\n",
       "</div>"
      ],
      "text/plain": [
       "Empty DataFrame\n",
       "Columns: [patient_id, allergies, blood_type, closest_hospital, community, country, date_of_birth, disabilities, name, gender, has_children, has_dependent, height, marital_status, medical_problems, weight]\n",
       "Index: []"
      ]
     },
     "execution_count": 74,
     "metadata": {},
     "output_type": "execute_result"
    }
   ],
   "source": [
    "patient_df[patient_df.duplicated() == True]"
   ]
  },
  {
   "cell_type": "markdown",
   "metadata": {},
   "source": [
    "### Check for missing values"
   ]
  },
  {
   "cell_type": "code",
   "execution_count": 75,
   "metadata": {},
   "outputs": [
    {
     "data": {
      "text/html": [
       "<div>\n",
       "<style scoped>\n",
       "    .dataframe tbody tr th:only-of-type {\n",
       "        vertical-align: middle;\n",
       "    }\n",
       "\n",
       "    .dataframe tbody tr th {\n",
       "        vertical-align: top;\n",
       "    }\n",
       "\n",
       "    .dataframe thead th {\n",
       "        text-align: right;\n",
       "    }\n",
       "</style>\n",
       "<table border=\"1\" class=\"dataframe\">\n",
       "  <thead>\n",
       "    <tr style=\"text-align: right;\">\n",
       "      <th></th>\n",
       "      <th>Missing Values</th>\n",
       "    </tr>\n",
       "  </thead>\n",
       "  <tbody>\n",
       "    <tr>\n",
       "      <th>allergies</th>\n",
       "      <td>27</td>\n",
       "    </tr>\n",
       "    <tr>\n",
       "      <th>medical_problems</th>\n",
       "      <td>25</td>\n",
       "    </tr>\n",
       "    <tr>\n",
       "      <th>disabilities</th>\n",
       "      <td>18</td>\n",
       "    </tr>\n",
       "    <tr>\n",
       "      <th>name</th>\n",
       "      <td>1</td>\n",
       "    </tr>\n",
       "  </tbody>\n",
       "</table>\n",
       "</div>"
      ],
      "text/plain": [
       "                  Missing Values\n",
       "allergies                     27\n",
       "medical_problems              25\n",
       "disabilities                  18\n",
       "name                           1"
      ]
     },
     "execution_count": 75,
     "metadata": {},
     "output_type": "execute_result"
    }
   ],
   "source": [
    "nan = pd.DataFrame({\n",
    "    'Missing Values': patient_df.isnull().sum().sort_values(ascending=False)\n",
    "})\n",
    "\n",
    "nan[nan['Missing Values'] > 0]"
   ]
  },
  {
   "cell_type": "code",
   "execution_count": 76,
   "metadata": {},
   "outputs": [],
   "source": [
    "patient_df.dropna(axis=0, inplace=True)\n",
    "patient_df.reset_index(drop=True, inplace=True)"
   ]
  },
  {
   "cell_type": "code",
   "execution_count": 77,
   "metadata": {},
   "outputs": [
    {
     "data": {
      "text/html": [
       "<div>\n",
       "<style scoped>\n",
       "    .dataframe tbody tr th:only-of-type {\n",
       "        vertical-align: middle;\n",
       "    }\n",
       "\n",
       "    .dataframe tbody tr th {\n",
       "        vertical-align: top;\n",
       "    }\n",
       "\n",
       "    .dataframe thead th {\n",
       "        text-align: right;\n",
       "    }\n",
       "</style>\n",
       "<table border=\"1\" class=\"dataframe\">\n",
       "  <thead>\n",
       "    <tr style=\"text-align: right;\">\n",
       "      <th></th>\n",
       "      <th>Missing Values</th>\n",
       "    </tr>\n",
       "  </thead>\n",
       "  <tbody>\n",
       "  </tbody>\n",
       "</table>\n",
       "</div>"
      ],
      "text/plain": [
       "Empty DataFrame\n",
       "Columns: [Missing Values]\n",
       "Index: []"
      ]
     },
     "execution_count": 77,
     "metadata": {},
     "output_type": "execute_result"
    }
   ],
   "source": [
    "nan = pd.DataFrame({\n",
    "    'Missing Values': patient_df.isnull().sum().sort_values(ascending=False)\n",
    "})\n",
    "\n",
    "nan[nan['Missing Values'] > 0]"
   ]
  },
  {
   "cell_type": "code",
   "execution_count": 78,
   "metadata": {},
   "outputs": [
    {
     "data": {
      "text/plain": [
       "(47, 16)"
      ]
     },
     "execution_count": 78,
     "metadata": {},
     "output_type": "execute_result"
    }
   ],
   "source": [
    "patient_df.shape"
   ]
  },
  {
   "cell_type": "code",
   "execution_count": 79,
   "metadata": {},
   "outputs": [
    {
     "data": {
      "text/html": [
       "<div>\n",
       "<style scoped>\n",
       "    .dataframe tbody tr th:only-of-type {\n",
       "        vertical-align: middle;\n",
       "    }\n",
       "\n",
       "    .dataframe tbody tr th {\n",
       "        vertical-align: top;\n",
       "    }\n",
       "\n",
       "    .dataframe thead th {\n",
       "        text-align: right;\n",
       "    }\n",
       "</style>\n",
       "<table border=\"1\" class=\"dataframe\">\n",
       "  <thead>\n",
       "    <tr style=\"text-align: right;\">\n",
       "      <th></th>\n",
       "      <th>patient_id</th>\n",
       "      <th>allergies</th>\n",
       "      <th>blood_type</th>\n",
       "      <th>closest_hospital</th>\n",
       "      <th>community</th>\n",
       "      <th>country</th>\n",
       "      <th>date_of_birth</th>\n",
       "      <th>disabilities</th>\n",
       "      <th>name</th>\n",
       "      <th>gender</th>\n",
       "      <th>has_children</th>\n",
       "      <th>has_dependent</th>\n",
       "      <th>height</th>\n",
       "      <th>marital_status</th>\n",
       "      <th>medical_problems</th>\n",
       "      <th>weight</th>\n",
       "    </tr>\n",
       "  </thead>\n",
       "  <tbody>\n",
       "    <tr>\n",
       "      <th>0</th>\n",
       "      <td>4</td>\n",
       "      <td>pollen</td>\n",
       "      <td>A-</td>\n",
       "      <td>12</td>\n",
       "      <td>rural</td>\n",
       "      <td>nigeria</td>\n",
       "      <td>2006-06-15 00:00:00</td>\n",
       "      <td>delirium</td>\n",
       "      <td>GARBO SHARRON</td>\n",
       "      <td>Male</td>\n",
       "      <td>Yes</td>\n",
       "      <td>Yes</td>\n",
       "      <td>169</td>\n",
       "      <td>single</td>\n",
       "      <td>overweight</td>\n",
       "      <td>63</td>\n",
       "    </tr>\n",
       "    <tr>\n",
       "      <th>1</th>\n",
       "      <td>6</td>\n",
       "      <td>nuts</td>\n",
       "      <td>B-</td>\n",
       "      <td>10</td>\n",
       "      <td>urban</td>\n",
       "      <td>nigeria</td>\n",
       "      <td>2010-03-21 00:00:00</td>\n",
       "      <td>alzheimer's</td>\n",
       "      <td>ANKUR HENDRY</td>\n",
       "      <td>Female</td>\n",
       "      <td>No</td>\n",
       "      <td>Yes</td>\n",
       "      <td>167</td>\n",
       "      <td>single</td>\n",
       "      <td>underweight</td>\n",
       "      <td>79</td>\n",
       "    </tr>\n",
       "    <tr>\n",
       "      <th>2</th>\n",
       "      <td>8</td>\n",
       "      <td>nuts</td>\n",
       "      <td>A+</td>\n",
       "      <td>5</td>\n",
       "      <td>urban</td>\n",
       "      <td>nigeria</td>\n",
       "      <td>2012-08-24 00:00:00</td>\n",
       "      <td>arthritis</td>\n",
       "      <td>ADONIJAH NEKA</td>\n",
       "      <td>Male</td>\n",
       "      <td>No</td>\n",
       "      <td>No</td>\n",
       "      <td>147</td>\n",
       "      <td>divorced</td>\n",
       "      <td>drug addiction</td>\n",
       "      <td>69</td>\n",
       "    </tr>\n",
       "    <tr>\n",
       "      <th>3</th>\n",
       "      <td>12</td>\n",
       "      <td>pollen</td>\n",
       "      <td>AB-</td>\n",
       "      <td>5</td>\n",
       "      <td>rural</td>\n",
       "      <td>nigeria</td>\n",
       "      <td>1996-08-11 00:00:00</td>\n",
       "      <td>ruptured discs</td>\n",
       "      <td>ANNABELLA HENNESSEY</td>\n",
       "      <td>Female</td>\n",
       "      <td>No</td>\n",
       "      <td>Yes</td>\n",
       "      <td>151</td>\n",
       "      <td>widowed</td>\n",
       "      <td>underweight</td>\n",
       "      <td>86</td>\n",
       "    </tr>\n",
       "    <tr>\n",
       "      <th>4</th>\n",
       "      <td>13</td>\n",
       "      <td>pollen</td>\n",
       "      <td>B+</td>\n",
       "      <td>15</td>\n",
       "      <td>urban</td>\n",
       "      <td>nigeria</td>\n",
       "      <td>1996-01-13 00:00:00</td>\n",
       "      <td>ruptured discs</td>\n",
       "      <td>GARETH SHASHWAT</td>\n",
       "      <td>Female</td>\n",
       "      <td>No</td>\n",
       "      <td>Yes</td>\n",
       "      <td>207</td>\n",
       "      <td>divorced</td>\n",
       "      <td>none</td>\n",
       "      <td>91</td>\n",
       "    </tr>\n",
       "  </tbody>\n",
       "</table>\n",
       "</div>"
      ],
      "text/plain": [
       "   patient_id allergies blood_type  closest_hospital community  country  \\\n",
       "0           4    pollen         A-                12     rural  nigeria   \n",
       "1           6      nuts         B-                10     urban  nigeria   \n",
       "2           8      nuts         A+                 5     urban  nigeria   \n",
       "3          12    pollen        AB-                 5     rural  nigeria   \n",
       "4          13    pollen         B+                15     urban  nigeria   \n",
       "\n",
       "         date_of_birth    disabilities                 name  gender  \\\n",
       "0  2006-06-15 00:00:00        delirium        GARBO SHARRON    Male   \n",
       "1  2010-03-21 00:00:00     alzheimer's         ANKUR HENDRY  Female   \n",
       "2  2012-08-24 00:00:00       arthritis        ADONIJAH NEKA    Male   \n",
       "3  1996-08-11 00:00:00  ruptured discs  ANNABELLA HENNESSEY  Female   \n",
       "4  1996-01-13 00:00:00  ruptured discs      GARETH SHASHWAT  Female   \n",
       "\n",
       "  has_children has_dependent  height marital_status medical_problems  weight  \n",
       "0          Yes           Yes     169         single       overweight      63  \n",
       "1           No           Yes     167         single      underweight      79  \n",
       "2           No            No     147       divorced   drug addiction      69  \n",
       "3           No           Yes     151        widowed      underweight      86  \n",
       "4           No           Yes     207       divorced             none      91  "
      ]
     },
     "execution_count": 79,
     "metadata": {},
     "output_type": "execute_result"
    }
   ],
   "source": [
    "patient_df.head()"
   ]
  },
  {
   "cell_type": "code",
   "execution_count": 80,
   "metadata": {},
   "outputs": [],
   "source": [
    "patient_df.to_csv('Patient_data_clean.csv', index=False)"
   ]
  },
  {
   "cell_type": "code",
   "execution_count": 81,
   "metadata": {},
   "outputs": [
    {
     "data": {
      "text/plain": [
       "(47, 15)"
      ]
     },
     "execution_count": 81,
     "metadata": {},
     "output_type": "execute_result"
    }
   ],
   "source": [
    "patient_df = pd.read_csv('./Patient_data_clean.csv', index_col='patient_id')\n",
    "patient_df.shape"
   ]
  },
  {
   "attachments": {},
   "cell_type": "markdown",
   "metadata": {},
   "source": [
    "### Describtive statistics"
   ]
  },
  {
   "cell_type": "code",
   "execution_count": 82,
   "metadata": {},
   "outputs": [
    {
     "data": {
      "text/html": [
       "<div>\n",
       "<style scoped>\n",
       "    .dataframe tbody tr th:only-of-type {\n",
       "        vertical-align: middle;\n",
       "    }\n",
       "\n",
       "    .dataframe tbody tr th {\n",
       "        vertical-align: top;\n",
       "    }\n",
       "\n",
       "    .dataframe thead th {\n",
       "        text-align: right;\n",
       "    }\n",
       "</style>\n",
       "<table border=\"1\" class=\"dataframe\">\n",
       "  <thead>\n",
       "    <tr style=\"text-align: right;\">\n",
       "      <th></th>\n",
       "      <th>closest_hospital</th>\n",
       "      <th>height</th>\n",
       "      <th>weight</th>\n",
       "    </tr>\n",
       "  </thead>\n",
       "  <tbody>\n",
       "    <tr>\n",
       "      <th>count</th>\n",
       "      <td>47.000000</td>\n",
       "      <td>47.000000</td>\n",
       "      <td>47.000000</td>\n",
       "    </tr>\n",
       "    <tr>\n",
       "      <th>mean</th>\n",
       "      <td>6.361702</td>\n",
       "      <td>202.787234</td>\n",
       "      <td>83.000000</td>\n",
       "    </tr>\n",
       "    <tr>\n",
       "      <th>std</th>\n",
       "      <td>4.336025</td>\n",
       "      <td>36.828590</td>\n",
       "      <td>11.090537</td>\n",
       "    </tr>\n",
       "    <tr>\n",
       "      <th>min</th>\n",
       "      <td>1.000000</td>\n",
       "      <td>133.000000</td>\n",
       "      <td>60.000000</td>\n",
       "    </tr>\n",
       "    <tr>\n",
       "      <th>25%</th>\n",
       "      <td>2.500000</td>\n",
       "      <td>172.500000</td>\n",
       "      <td>77.000000</td>\n",
       "    </tr>\n",
       "    <tr>\n",
       "      <th>50%</th>\n",
       "      <td>5.000000</td>\n",
       "      <td>200.000000</td>\n",
       "      <td>83.000000</td>\n",
       "    </tr>\n",
       "    <tr>\n",
       "      <th>75%</th>\n",
       "      <td>10.000000</td>\n",
       "      <td>236.000000</td>\n",
       "      <td>90.000000</td>\n",
       "    </tr>\n",
       "    <tr>\n",
       "      <th>max</th>\n",
       "      <td>15.000000</td>\n",
       "      <td>260.000000</td>\n",
       "      <td>102.000000</td>\n",
       "    </tr>\n",
       "  </tbody>\n",
       "</table>\n",
       "</div>"
      ],
      "text/plain": [
       "       closest_hospital      height      weight\n",
       "count         47.000000   47.000000   47.000000\n",
       "mean           6.361702  202.787234   83.000000\n",
       "std            4.336025   36.828590   11.090537\n",
       "min            1.000000  133.000000   60.000000\n",
       "25%            2.500000  172.500000   77.000000\n",
       "50%            5.000000  200.000000   83.000000\n",
       "75%           10.000000  236.000000   90.000000\n",
       "max           15.000000  260.000000  102.000000"
      ]
     },
     "execution_count": 82,
     "metadata": {},
     "output_type": "execute_result"
    }
   ],
   "source": [
    "patient_df.describe()"
   ]
  },
  {
   "attachments": {},
   "cell_type": "markdown",
   "metadata": {},
   "source": [
    "# Data Visualization"
   ]
  },
  {
   "attachments": {},
   "cell_type": "markdown",
   "metadata": {},
   "source": [
    "## Distribution plots "
   ]
  },
  {
   "attachments": {},
   "cell_type": "markdown",
   "metadata": {},
   "source": [
    "### Scatter matrix of \"closest_hospital\", \"height\" and \"weight\" by gender"
   ]
  },
  {
   "cell_type": "code",
   "execution_count": 83,
   "metadata": {},
   "outputs": [
    {
     "data": {
      "application/vnd.plotly.v1+json": {
       "config": {
        "plotlyServerURL": "https://plot.ly"
       },
       "data": [
        {
         "dimensions": [
          {
           "axis": {
            "matches": true
           },
           "label": "closest_hospital",
           "values": [
            12,
            5,
            15,
            15,
            5,
            2,
            3,
            5,
            8,
            3,
            10,
            2,
            5,
            5,
            8,
            2,
            3,
            15,
            5,
            10,
            1,
            3,
            2,
            1,
            10,
            12
           ]
          },
          {
           "axis": {
            "matches": true
           },
           "label": "height",
           "values": [
            169,
            147,
            181,
            178,
            164,
            175,
            162,
            223,
            192,
            181,
            239,
            200,
            147,
            218,
            259,
            225,
            150,
            240,
            239,
            258,
            212,
            260,
            232,
            237,
            193,
            252
           ]
          },
          {
           "axis": {
            "matches": true
           },
           "label": "weight",
           "values": [
            63,
            69,
            87,
            73,
            76,
            83,
            84,
            77,
            89,
            87,
            77,
            85,
            73,
            79,
            87,
            79,
            77,
            77,
            98,
            61,
            84,
            60,
            99,
            92,
            63,
            101
           ]
          }
         ],
         "hovertemplate": "gender=Male<br>%{xaxis.title.text}=%{x}<br>%{yaxis.title.text}=%{y}<extra></extra>",
         "legendgroup": "Male",
         "marker": {
          "color": "#636efa",
          "symbol": "circle"
         },
         "name": "Male",
         "showlegend": true,
         "type": "splom"
        },
        {
         "dimensions": [
          {
           "axis": {
            "matches": true
           },
           "label": "closest_hospital",
           "values": [
            10,
            5,
            15,
            2,
            8,
            10,
            2,
            8,
            8,
            2,
            1,
            5,
            10,
            10,
            12,
            1,
            3,
            10,
            5,
            2,
            3
           ]
          },
          {
           "axis": {
            "matches": true
           },
           "label": "height",
           "values": [
            167,
            151,
            207,
            190,
            170,
            228,
            189,
            133,
            159,
            220,
            184,
            145,
            249,
            223,
            254,
            252,
            190,
            244,
            209,
            199,
            235
           ]
          },
          {
           "axis": {
            "matches": true
           },
           "label": "weight",
           "values": [
            79,
            86,
            91,
            76,
            91,
            73,
            86,
            102,
            88,
            67,
            89,
            77,
            101,
            81,
            96,
            99,
            78,
            83,
            101,
            83,
            94
           ]
          }
         ],
         "hovertemplate": "gender=Female<br>%{xaxis.title.text}=%{x}<br>%{yaxis.title.text}=%{y}<extra></extra>",
         "legendgroup": "Female",
         "marker": {
          "color": "#EF553B",
          "symbol": "circle"
         },
         "name": "Female",
         "showlegend": true,
         "type": "splom"
        }
       ],
       "layout": {
        "dragmode": "select",
        "legend": {
         "title": {
          "text": "gender"
         },
         "tracegroupgap": 0
        },
        "margin": {
         "t": 60
        },
        "template": {
         "data": {
          "bar": [
           {
            "error_x": {
             "color": "#2a3f5f"
            },
            "error_y": {
             "color": "#2a3f5f"
            },
            "marker": {
             "line": {
              "color": "#E5ECF6",
              "width": 0.5
             },
             "pattern": {
              "fillmode": "overlay",
              "size": 10,
              "solidity": 0.2
             }
            },
            "type": "bar"
           }
          ],
          "barpolar": [
           {
            "marker": {
             "line": {
              "color": "#E5ECF6",
              "width": 0.5
             },
             "pattern": {
              "fillmode": "overlay",
              "size": 10,
              "solidity": 0.2
             }
            },
            "type": "barpolar"
           }
          ],
          "carpet": [
           {
            "aaxis": {
             "endlinecolor": "#2a3f5f",
             "gridcolor": "white",
             "linecolor": "white",
             "minorgridcolor": "white",
             "startlinecolor": "#2a3f5f"
            },
            "baxis": {
             "endlinecolor": "#2a3f5f",
             "gridcolor": "white",
             "linecolor": "white",
             "minorgridcolor": "white",
             "startlinecolor": "#2a3f5f"
            },
            "type": "carpet"
           }
          ],
          "choropleth": [
           {
            "colorbar": {
             "outlinewidth": 0,
             "ticks": ""
            },
            "type": "choropleth"
           }
          ],
          "contour": [
           {
            "colorbar": {
             "outlinewidth": 0,
             "ticks": ""
            },
            "colorscale": [
             [
              0,
              "#0d0887"
             ],
             [
              0.1111111111111111,
              "#46039f"
             ],
             [
              0.2222222222222222,
              "#7201a8"
             ],
             [
              0.3333333333333333,
              "#9c179e"
             ],
             [
              0.4444444444444444,
              "#bd3786"
             ],
             [
              0.5555555555555556,
              "#d8576b"
             ],
             [
              0.6666666666666666,
              "#ed7953"
             ],
             [
              0.7777777777777778,
              "#fb9f3a"
             ],
             [
              0.8888888888888888,
              "#fdca26"
             ],
             [
              1,
              "#f0f921"
             ]
            ],
            "type": "contour"
           }
          ],
          "contourcarpet": [
           {
            "colorbar": {
             "outlinewidth": 0,
             "ticks": ""
            },
            "type": "contourcarpet"
           }
          ],
          "heatmap": [
           {
            "colorbar": {
             "outlinewidth": 0,
             "ticks": ""
            },
            "colorscale": [
             [
              0,
              "#0d0887"
             ],
             [
              0.1111111111111111,
              "#46039f"
             ],
             [
              0.2222222222222222,
              "#7201a8"
             ],
             [
              0.3333333333333333,
              "#9c179e"
             ],
             [
              0.4444444444444444,
              "#bd3786"
             ],
             [
              0.5555555555555556,
              "#d8576b"
             ],
             [
              0.6666666666666666,
              "#ed7953"
             ],
             [
              0.7777777777777778,
              "#fb9f3a"
             ],
             [
              0.8888888888888888,
              "#fdca26"
             ],
             [
              1,
              "#f0f921"
             ]
            ],
            "type": "heatmap"
           }
          ],
          "heatmapgl": [
           {
            "colorbar": {
             "outlinewidth": 0,
             "ticks": ""
            },
            "colorscale": [
             [
              0,
              "#0d0887"
             ],
             [
              0.1111111111111111,
              "#46039f"
             ],
             [
              0.2222222222222222,
              "#7201a8"
             ],
             [
              0.3333333333333333,
              "#9c179e"
             ],
             [
              0.4444444444444444,
              "#bd3786"
             ],
             [
              0.5555555555555556,
              "#d8576b"
             ],
             [
              0.6666666666666666,
              "#ed7953"
             ],
             [
              0.7777777777777778,
              "#fb9f3a"
             ],
             [
              0.8888888888888888,
              "#fdca26"
             ],
             [
              1,
              "#f0f921"
             ]
            ],
            "type": "heatmapgl"
           }
          ],
          "histogram": [
           {
            "marker": {
             "pattern": {
              "fillmode": "overlay",
              "size": 10,
              "solidity": 0.2
             }
            },
            "type": "histogram"
           }
          ],
          "histogram2d": [
           {
            "colorbar": {
             "outlinewidth": 0,
             "ticks": ""
            },
            "colorscale": [
             [
              0,
              "#0d0887"
             ],
             [
              0.1111111111111111,
              "#46039f"
             ],
             [
              0.2222222222222222,
              "#7201a8"
             ],
             [
              0.3333333333333333,
              "#9c179e"
             ],
             [
              0.4444444444444444,
              "#bd3786"
             ],
             [
              0.5555555555555556,
              "#d8576b"
             ],
             [
              0.6666666666666666,
              "#ed7953"
             ],
             [
              0.7777777777777778,
              "#fb9f3a"
             ],
             [
              0.8888888888888888,
              "#fdca26"
             ],
             [
              1,
              "#f0f921"
             ]
            ],
            "type": "histogram2d"
           }
          ],
          "histogram2dcontour": [
           {
            "colorbar": {
             "outlinewidth": 0,
             "ticks": ""
            },
            "colorscale": [
             [
              0,
              "#0d0887"
             ],
             [
              0.1111111111111111,
              "#46039f"
             ],
             [
              0.2222222222222222,
              "#7201a8"
             ],
             [
              0.3333333333333333,
              "#9c179e"
             ],
             [
              0.4444444444444444,
              "#bd3786"
             ],
             [
              0.5555555555555556,
              "#d8576b"
             ],
             [
              0.6666666666666666,
              "#ed7953"
             ],
             [
              0.7777777777777778,
              "#fb9f3a"
             ],
             [
              0.8888888888888888,
              "#fdca26"
             ],
             [
              1,
              "#f0f921"
             ]
            ],
            "type": "histogram2dcontour"
           }
          ],
          "mesh3d": [
           {
            "colorbar": {
             "outlinewidth": 0,
             "ticks": ""
            },
            "type": "mesh3d"
           }
          ],
          "parcoords": [
           {
            "line": {
             "colorbar": {
              "outlinewidth": 0,
              "ticks": ""
             }
            },
            "type": "parcoords"
           }
          ],
          "pie": [
           {
            "automargin": true,
            "type": "pie"
           }
          ],
          "scatter": [
           {
            "fillpattern": {
             "fillmode": "overlay",
             "size": 10,
             "solidity": 0.2
            },
            "type": "scatter"
           }
          ],
          "scatter3d": [
           {
            "line": {
             "colorbar": {
              "outlinewidth": 0,
              "ticks": ""
             }
            },
            "marker": {
             "colorbar": {
              "outlinewidth": 0,
              "ticks": ""
             }
            },
            "type": "scatter3d"
           }
          ],
          "scattercarpet": [
           {
            "marker": {
             "colorbar": {
              "outlinewidth": 0,
              "ticks": ""
             }
            },
            "type": "scattercarpet"
           }
          ],
          "scattergeo": [
           {
            "marker": {
             "colorbar": {
              "outlinewidth": 0,
              "ticks": ""
             }
            },
            "type": "scattergeo"
           }
          ],
          "scattergl": [
           {
            "marker": {
             "colorbar": {
              "outlinewidth": 0,
              "ticks": ""
             }
            },
            "type": "scattergl"
           }
          ],
          "scattermapbox": [
           {
            "marker": {
             "colorbar": {
              "outlinewidth": 0,
              "ticks": ""
             }
            },
            "type": "scattermapbox"
           }
          ],
          "scatterpolar": [
           {
            "marker": {
             "colorbar": {
              "outlinewidth": 0,
              "ticks": ""
             }
            },
            "type": "scatterpolar"
           }
          ],
          "scatterpolargl": [
           {
            "marker": {
             "colorbar": {
              "outlinewidth": 0,
              "ticks": ""
             }
            },
            "type": "scatterpolargl"
           }
          ],
          "scatterternary": [
           {
            "marker": {
             "colorbar": {
              "outlinewidth": 0,
              "ticks": ""
             }
            },
            "type": "scatterternary"
           }
          ],
          "surface": [
           {
            "colorbar": {
             "outlinewidth": 0,
             "ticks": ""
            },
            "colorscale": [
             [
              0,
              "#0d0887"
             ],
             [
              0.1111111111111111,
              "#46039f"
             ],
             [
              0.2222222222222222,
              "#7201a8"
             ],
             [
              0.3333333333333333,
              "#9c179e"
             ],
             [
              0.4444444444444444,
              "#bd3786"
             ],
             [
              0.5555555555555556,
              "#d8576b"
             ],
             [
              0.6666666666666666,
              "#ed7953"
             ],
             [
              0.7777777777777778,
              "#fb9f3a"
             ],
             [
              0.8888888888888888,
              "#fdca26"
             ],
             [
              1,
              "#f0f921"
             ]
            ],
            "type": "surface"
           }
          ],
          "table": [
           {
            "cells": {
             "fill": {
              "color": "#EBF0F8"
             },
             "line": {
              "color": "white"
             }
            },
            "header": {
             "fill": {
              "color": "#C8D4E3"
             },
             "line": {
              "color": "white"
             }
            },
            "type": "table"
           }
          ]
         },
         "layout": {
          "annotationdefaults": {
           "arrowcolor": "#2a3f5f",
           "arrowhead": 0,
           "arrowwidth": 1
          },
          "autotypenumbers": "strict",
          "coloraxis": {
           "colorbar": {
            "outlinewidth": 0,
            "ticks": ""
           }
          },
          "colorscale": {
           "diverging": [
            [
             0,
             "#8e0152"
            ],
            [
             0.1,
             "#c51b7d"
            ],
            [
             0.2,
             "#de77ae"
            ],
            [
             0.3,
             "#f1b6da"
            ],
            [
             0.4,
             "#fde0ef"
            ],
            [
             0.5,
             "#f7f7f7"
            ],
            [
             0.6,
             "#e6f5d0"
            ],
            [
             0.7,
             "#b8e186"
            ],
            [
             0.8,
             "#7fbc41"
            ],
            [
             0.9,
             "#4d9221"
            ],
            [
             1,
             "#276419"
            ]
           ],
           "sequential": [
            [
             0,
             "#0d0887"
            ],
            [
             0.1111111111111111,
             "#46039f"
            ],
            [
             0.2222222222222222,
             "#7201a8"
            ],
            [
             0.3333333333333333,
             "#9c179e"
            ],
            [
             0.4444444444444444,
             "#bd3786"
            ],
            [
             0.5555555555555556,
             "#d8576b"
            ],
            [
             0.6666666666666666,
             "#ed7953"
            ],
            [
             0.7777777777777778,
             "#fb9f3a"
            ],
            [
             0.8888888888888888,
             "#fdca26"
            ],
            [
             1,
             "#f0f921"
            ]
           ],
           "sequentialminus": [
            [
             0,
             "#0d0887"
            ],
            [
             0.1111111111111111,
             "#46039f"
            ],
            [
             0.2222222222222222,
             "#7201a8"
            ],
            [
             0.3333333333333333,
             "#9c179e"
            ],
            [
             0.4444444444444444,
             "#bd3786"
            ],
            [
             0.5555555555555556,
             "#d8576b"
            ],
            [
             0.6666666666666666,
             "#ed7953"
            ],
            [
             0.7777777777777778,
             "#fb9f3a"
            ],
            [
             0.8888888888888888,
             "#fdca26"
            ],
            [
             1,
             "#f0f921"
            ]
           ]
          },
          "colorway": [
           "#636efa",
           "#EF553B",
           "#00cc96",
           "#ab63fa",
           "#FFA15A",
           "#19d3f3",
           "#FF6692",
           "#B6E880",
           "#FF97FF",
           "#FECB52"
          ],
          "font": {
           "color": "#2a3f5f"
          },
          "geo": {
           "bgcolor": "white",
           "lakecolor": "white",
           "landcolor": "#E5ECF6",
           "showlakes": true,
           "showland": true,
           "subunitcolor": "white"
          },
          "hoverlabel": {
           "align": "left"
          },
          "hovermode": "closest",
          "mapbox": {
           "style": "light"
          },
          "paper_bgcolor": "white",
          "plot_bgcolor": "#E5ECF6",
          "polar": {
           "angularaxis": {
            "gridcolor": "white",
            "linecolor": "white",
            "ticks": ""
           },
           "bgcolor": "#E5ECF6",
           "radialaxis": {
            "gridcolor": "white",
            "linecolor": "white",
            "ticks": ""
           }
          },
          "scene": {
           "xaxis": {
            "backgroundcolor": "#E5ECF6",
            "gridcolor": "white",
            "gridwidth": 2,
            "linecolor": "white",
            "showbackground": true,
            "ticks": "",
            "zerolinecolor": "white"
           },
           "yaxis": {
            "backgroundcolor": "#E5ECF6",
            "gridcolor": "white",
            "gridwidth": 2,
            "linecolor": "white",
            "showbackground": true,
            "ticks": "",
            "zerolinecolor": "white"
           },
           "zaxis": {
            "backgroundcolor": "#E5ECF6",
            "gridcolor": "white",
            "gridwidth": 2,
            "linecolor": "white",
            "showbackground": true,
            "ticks": "",
            "zerolinecolor": "white"
           }
          },
          "shapedefaults": {
           "line": {
            "color": "#2a3f5f"
           }
          },
          "ternary": {
           "aaxis": {
            "gridcolor": "white",
            "linecolor": "white",
            "ticks": ""
           },
           "baxis": {
            "gridcolor": "white",
            "linecolor": "white",
            "ticks": ""
           },
           "bgcolor": "#E5ECF6",
           "caxis": {
            "gridcolor": "white",
            "linecolor": "white",
            "ticks": ""
           }
          },
          "title": {
           "x": 0.05
          },
          "xaxis": {
           "automargin": true,
           "gridcolor": "white",
           "linecolor": "white",
           "ticks": "",
           "title": {
            "standoff": 15
           },
           "zerolinecolor": "white",
           "zerolinewidth": 2
          },
          "yaxis": {
           "automargin": true,
           "gridcolor": "white",
           "linecolor": "white",
           "ticks": "",
           "title": {
            "standoff": 15
           },
           "zerolinecolor": "white",
           "zerolinewidth": 2
          }
         }
        }
       }
      }
     },
     "metadata": {},
     "output_type": "display_data"
    }
   ],
   "source": [
    "fig = px.scatter_matrix(patient_df,\n",
    "    dimensions=[\"closest_hospital\", \"height\", \"weight\"],\n",
    "    color=\"gender\")\n",
    "fig.show()"
   ]
  },
  {
   "attachments": {},
   "cell_type": "markdown",
   "metadata": {},
   "source": [
    "### Histogram of \"closest_hospital\" by gender"
   ]
  },
  {
   "cell_type": "code",
   "execution_count": 84,
   "metadata": {},
   "outputs": [
    {
     "data": {
      "application/vnd.plotly.v1+json": {
       "config": {
        "plotlyServerURL": "https://plot.ly"
       },
       "data": [
        {
         "alignmentgroup": "True",
         "bingroup": "x",
         "hovertemplate": "gender=Male<br>closest_hospital=%{x}<br>count=%{y}<extra></extra>",
         "legendgroup": "Male",
         "marker": {
          "color": "#636efa",
          "pattern": {
           "shape": ""
          }
         },
         "name": "Male",
         "offsetgroup": "Male",
         "orientation": "v",
         "showlegend": true,
         "type": "histogram",
         "x": [
          12,
          5,
          15,
          15,
          5,
          2,
          3,
          5,
          8,
          3,
          10,
          2,
          5,
          5,
          8,
          2,
          3,
          15,
          5,
          10,
          1,
          3,
          2,
          1,
          10,
          12
         ],
         "xaxis": "x",
         "yaxis": "y"
        },
        {
         "alignmentgroup": "True",
         "customdata": [
          [
           "pollen",
           "A-",
           "rural",
           "nigeria",
           "2006-06-15 00:00:00",
           "delirium",
           "GARBO SHARRON",
           "Male",
           "Yes",
           "Yes",
           169,
           "single",
           "overweight",
           63
          ],
          [
           "nuts",
           "A+",
           "urban",
           "nigeria",
           "2012-08-24 00:00:00",
           "arthritis",
           "ADONIJAH NEKA",
           "Male",
           "No",
           "No",
           147,
           "divorced",
           "drug addiction",
           69
          ],
          [
           "dust",
           "B+",
           "rural",
           "nigeria",
           "2011-04-02 00:00:00",
           "alzheimer's",
           "ADRIANA NELI",
           "Male",
           "No",
           "Yes",
           181,
           "single",
           "mental issue",
           87
          ],
          [
           "flowers",
           "O+",
           "urban",
           "nigeria",
           "1988-10-15 00:00:00",
           "amnesia",
           "GARNETTE SHATERA",
           "Male",
           "No",
           "Yes",
           178,
           "divorced",
           "mental issue",
           73
          ],
          [
           "pollen",
           "AB-",
           "suburban",
           "nigeria",
           "1987-09-08 00:00:00",
           "fibromas",
           "ADRIANNA NELINI",
           "Male",
           "Yes",
           "No",
           164,
           "single",
           "none",
           76
          ],
          [
           "pollen",
           "B-",
           "rural",
           "nigeria",
           "2010-01-16 00:00:00",
           "cyclothimic disorder",
           "GARRETH SHATIK",
           "Male",
           "No",
           "No",
           175,
           "single",
           "none",
           83
          ],
          [
           "dust",
           "B+",
           "urban",
           "nigeria",
           "1998-11-30 00:00:00",
           "scoliosis",
           "ADRIELLE NELLI",
           "Male",
           "Yes",
           "Yes",
           162,
           "single",
           "not immunized",
           84
          ],
          [
           "pollen",
           "AB-",
           "rural",
           "nigeria",
           "1988-10-27 00:00:00",
           "alzheimer's",
           "ADRION NELSI",
           "Male",
           "No",
           "No",
           223,
           "single",
           "none",
           77
          ],
          [
           "flowers",
           "B-",
           "suburban",
           "nigeria",
           "2008-06-24 00:00:00",
           "none",
           "GARY SHAUNDA",
           "Male",
           "Yes",
           "Yes",
           192,
           "single",
           "physical injury",
           89
          ],
          [
           "pollen",
           "O-",
           "rural",
           "nigeria",
           "1988-03-15 00:00:00",
           "atherosclerosis",
           "ADY NEMA",
           "Male",
           "No",
           "Yes",
           181,
           "married",
           "drug addiction",
           87
          ],
          [
           "flowers",
           "AB+",
           "rural",
           "nigeria",
           "1989-02-25 00:00:00",
           "fibromas",
           "AEISHA NENA",
           "Male",
           "No",
           "Yes",
           239,
           "single",
           "underweight",
           77
          ],
          [
           "flowers",
           "B+",
           "suburban",
           "nigeria",
           "2000-10-22 00:00:00",
           "ruptured discs",
           "ANNEMARIE HERMINIO",
           "Male",
           "No",
           "No",
           200,
           "married",
           "mental issue",
           85
          ],
          [
           "pollen",
           "A-",
           "urban",
           "nigeria",
           "1990-01-15 00:00:00",
           "fibromas",
           "GAURAV SHAUNTA",
           "Male",
           "No",
           "Yes",
           147,
           "single",
           "underweight",
           73
          ],
          [
           "dust",
           "A-",
           "urban",
           "nigeria",
           "2007-12-16 00:00:00",
           "alzheimer's",
           "ANNE-SOPHIE HERO",
           "Male",
           "Yes",
           "Yes",
           218,
           "single",
           "overweight",
           79
          ],
          [
           "pollen",
           "AB+",
           "suburban",
           "nigeria",
           "2004-10-15 00:00:00",
           "arthritis",
           "AFONSO NEREYDA",
           "Male",
           "No",
           "Yes",
           259,
           "divorced",
           "drug addiction",
           87
          ],
          [
           "flowers",
           "A-",
           "suburban",
           "nigeria",
           "1987-10-10 00:00:00",
           "delirium",
           "ANNIKA HERSON",
           "Male",
           "No",
           "No",
           225,
           "single",
           "not immunized",
           79
          ],
          [
           "pollen",
           "A+",
           "suburban",
           "nigeria",
           "2007-08-11 00:00:00",
           "fibromas",
           "GAYATRI SHAVAUGHN",
           "Male",
           "Yes",
           "Yes",
           150,
           "married",
           "physical injury",
           77
          ],
          [
           "nuts",
           "A+",
           "suburban",
           "nigeria",
           "1983-09-19 00:00:00",
           "scoliosis",
           "ANNISIA HERU",
           "Male",
           "No",
           "No",
           240,
           "married",
           "overweight",
           77
          ],
          [
           "dust",
           "AB-",
           "rural",
           "nigeria",
           "2012-03-19 00:00:00",
           "none",
           "AGAM NESSIE",
           "Male",
           "Yes",
           "Yes",
           239,
           "widowed",
           "none",
           98
          ],
          [
           "pollen",
           "AB-",
           "urban",
           "nigeria",
           "1993-07-09 00:00:00",
           "none",
           "GEENA SHAWNETTE",
           "Male",
           "Yes",
           "No",
           258,
           "single",
           "drug addiction",
           61
          ],
          [
           "pollen",
           "B+",
           "suburban",
           "nigeria",
           "1991-05-07 00:00:00",
           "cyclothimic disorder",
           "AGNE NEUMAN",
           "Male",
           "Yes",
           "Yes",
           212,
           "single",
           "none",
           84
          ],
          [
           "flowers",
           "O-",
           "urban",
           "nigeria",
           "1994-02-11 00:00:00",
           "amnesia",
           "GEETHA SHAWNTA",
           "Male",
           "Yes",
           "No",
           260,
           "single",
           "overweight",
           60
          ],
          [
           "dust",
           "AB+",
           "rural",
           "nigeria",
           "2006-12-01 00:00:00",
           "cyclothimic disorder",
           "AGNÃˆS NEVA",
           "Male",
           "Yes",
           "Yes",
           232,
           "single",
           "none",
           99
          ],
          [
           "pollen",
           "B-",
           "suburban",
           "nigeria",
           "2004-04-25 00:00:00",
           "none",
           "ANSIL HIJIRI",
           "Male",
           "No",
           "Yes",
           237,
           "widowed",
           "drug addiction",
           92
          ],
          [
           "dust",
           "A+",
           "rural",
           "nigeria",
           "2011-11-16 00:00:00",
           "alzheimer's",
           "AGRON NEVENA",
           "Male",
           "Yes",
           "Yes",
           193,
           "divorced",
           "drug addiction",
           63
          ],
          [
           "nuts",
           "O+",
           "rural",
           "nigeria",
           "2007-01-23 00:00:00",
           "atherosclerosis",
           "ANTHE HILDY",
           "Male",
           "Yes",
           "Yes",
           252,
           "single",
           "mental issue",
           101
          ]
         ],
         "hovertemplate": "gender=%{customdata[7]}<br>closest_hospital=%{x}<br>allergies=%{customdata[0]}<br>blood_type=%{customdata[1]}<br>community=%{customdata[2]}<br>country=%{customdata[3]}<br>date_of_birth=%{customdata[4]}<br>disabilities=%{customdata[5]}<br>name=%{customdata[6]}<br>has_children=%{customdata[8]}<br>has_dependent=%{customdata[9]}<br>height=%{customdata[10]}<br>marital_status=%{customdata[11]}<br>medical_problems=%{customdata[12]}<br>weight=%{customdata[13]}<extra></extra>",
         "legendgroup": "Male",
         "marker": {
          "color": "#636efa"
         },
         "name": "Male",
         "notched": true,
         "offsetgroup": "Male",
         "showlegend": false,
         "type": "box",
         "x": [
          12,
          5,
          15,
          15,
          5,
          2,
          3,
          5,
          8,
          3,
          10,
          2,
          5,
          5,
          8,
          2,
          3,
          15,
          5,
          10,
          1,
          3,
          2,
          1,
          10,
          12
         ],
         "xaxis": "x2",
         "yaxis": "y2"
        },
        {
         "alignmentgroup": "True",
         "bingroup": "x",
         "hovertemplate": "gender=Female<br>closest_hospital=%{x}<br>count=%{y}<extra></extra>",
         "legendgroup": "Female",
         "marker": {
          "color": "#EF553B",
          "pattern": {
           "shape": ""
          }
         },
         "name": "Female",
         "offsetgroup": "Female",
         "orientation": "v",
         "showlegend": true,
         "type": "histogram",
         "x": [
          10,
          5,
          15,
          2,
          8,
          10,
          2,
          8,
          8,
          2,
          1,
          5,
          10,
          10,
          12,
          1,
          3,
          10,
          5,
          2,
          3
         ],
         "xaxis": "x",
         "yaxis": "y"
        },
        {
         "alignmentgroup": "True",
         "customdata": [
          [
           "nuts",
           "B-",
           "urban",
           "nigeria",
           "2010-03-21 00:00:00",
           "alzheimer's",
           "ANKUR HENDRY",
           "Female",
           "No",
           "Yes",
           167,
           "single",
           "underweight",
           79
          ],
          [
           "pollen",
           "AB-",
           "rural",
           "nigeria",
           "1996-08-11 00:00:00",
           "ruptured discs",
           "ANNABELLA HENNESSEY",
           "Female",
           "No",
           "Yes",
           151,
           "widowed",
           "underweight",
           86
          ],
          [
           "pollen",
           "B+",
           "urban",
           "nigeria",
           "1996-01-13 00:00:00",
           "ruptured discs",
           "GARETH SHASHWAT",
           "Female",
           "No",
           "Yes",
           207,
           "divorced",
           "none",
           91
          ],
          [
           "flowers",
           "B-",
           "urban",
           "nigeria",
           "1988-04-11 00:00:00",
           "ruptured discs",
           "ADREAN NEKO",
           "Female",
           "Yes",
           "No",
           190,
           "single",
           "overweight",
           76
          ],
          [
           "flowers",
           "A+",
           "urban",
           "nigeria",
           "1998-07-24 00:00:00",
           "none",
           "ANNA-LISA HENRIQUE",
           "Female",
           "Yes",
           "No",
           170,
           "single",
           "underweight",
           91
          ],
          [
           "dust",
           "A-",
           "rural",
           "nigeria",
           "1986-04-03 00:00:00",
           "atherosclerosis",
           "GARRY SHAUGHN",
           "Female",
           "Yes",
           "No",
           228,
           "widowed",
           "physical injury",
           73
          ],
          [
           "flowers",
           "AB+",
           "urban",
           "nigeria",
           "1995-09-13 00:00:00",
           "cyclothimic disorder",
           "ADUNNI NELSY",
           "Female",
           "Yes",
           "Yes",
           189,
           "married",
           "none",
           86
          ],
          [
           "flowers",
           "AB+",
           "suburban",
           "nigeria",
           "2012-08-02 00:00:00",
           "none",
           "ANNELISE HERMES",
           "Female",
           "Yes",
           "Yes",
           133,
           "single",
           "mental issue",
           102
          ],
          [
           "dust",
           "AB-",
           "rural",
           "nigeria",
           "1984-11-15 00:00:00",
           "amnesia",
           "AESHA NENETTE",
           "Female",
           "Yes",
           "Yes",
           159,
           "widowed",
           "none",
           88
          ],
          [
           "pollen",
           "AB-",
           "rural",
           "nigeria",
           "2010-07-10 00:00:00",
           "fibromas",
           "AFEISHA NEO",
           "Female",
           "No",
           "No",
           220,
           "single",
           "none",
           67
          ],
          [
           "pollen",
           "B-",
           "urban",
           "nigeria",
           "1989-06-04 00:00:00",
           "cyclothimic disorder",
           "ANNICA HERSHEL",
           "Female",
           "No",
           "No",
           184,
           "single",
           "none",
           89
          ],
          [
           "dust",
           "O-",
           "urban",
           "nigeria",
           "2007-10-24 00:00:00",
           "amnesia",
           "GAY SHAVA",
           "Female",
           "No",
           "No",
           145,
           "single",
           "none",
           77
          ],
          [
           "dust",
           "A-",
           "urban",
           "nigeria",
           "1988-02-15 00:00:00",
           "none",
           "GAYLORD SHAVON",
           "Female",
           "No",
           "Yes",
           249,
           "single",
           "overweight",
           101
          ],
          [
           "dust",
           "A+",
           "urban",
           "nigeria",
           "2009-08-26 00:00:00",
           "amnesia",
           "AFSHIN NESHA",
           "Female",
           "Yes",
           "Yes",
           223,
           "single",
           "none",
           81
          ],
          [
           "dust",
           "B-",
           "urban",
           "nigeria",
           "1997-04-13 00:00:00",
           "cyclothimic disorder",
           "ANOOP HESKY",
           "Female",
           "No",
           "Yes",
           254,
           "single",
           "none",
           96
          ],
          [
           "nuts",
           "O-",
           "urban",
           "nigeria",
           "1993-04-17 00:00:00",
           "fibromas",
           "AFZAL NESRIN",
           "Female",
           "Yes",
           "No",
           252,
           "single",
           "not immunized",
           99
          ],
          [
           "dust",
           "B-",
           "suburban",
           "nigeria",
           "1994-10-05 00:00:00",
           "arthritis",
           "ANOWAR HIBA",
           "Female",
           "No",
           "No",
           190,
           "single",
           "none",
           78
          ],
          [
           "nuts",
           "B-",
           "urban",
           "nigeria",
           "2005-06-23 00:00:00",
           "none",
           "GEANINE SHAWNDA",
           "Female",
           "No",
           "Yes",
           244,
           "single",
           "underweight",
           83
          ],
          [
           "flowers",
           "AB-",
           "rural",
           "nigeria",
           "2005-07-20 00:00:00",
           "atherosclerosis",
           "GELISA SHAWNTIA",
           "Female",
           "No",
           "No",
           209,
           "single",
           "mental issue",
           101
          ],
          [
           "dust",
           "AB+",
           "urban",
           "nigeria",
           "1996-05-14 00:00:00",
           "none",
           "AGUSTINA NEVILLE",
           "Female",
           "Yes",
           "Yes",
           199,
           "single",
           "none",
           83
          ],
          [
           "dust",
           "AB+",
           "urban",
           "nigeria",
           "1997-08-13 00:00:00",
           "none",
           "GEM SHAYA",
           "Female",
           "No",
           "Yes",
           235,
           "widowed",
           "mental issue",
           94
          ]
         ],
         "hovertemplate": "gender=%{customdata[7]}<br>closest_hospital=%{x}<br>allergies=%{customdata[0]}<br>blood_type=%{customdata[1]}<br>community=%{customdata[2]}<br>country=%{customdata[3]}<br>date_of_birth=%{customdata[4]}<br>disabilities=%{customdata[5]}<br>name=%{customdata[6]}<br>has_children=%{customdata[8]}<br>has_dependent=%{customdata[9]}<br>height=%{customdata[10]}<br>marital_status=%{customdata[11]}<br>medical_problems=%{customdata[12]}<br>weight=%{customdata[13]}<extra></extra>",
         "legendgroup": "Female",
         "marker": {
          "color": "#EF553B"
         },
         "name": "Female",
         "notched": true,
         "offsetgroup": "Female",
         "showlegend": false,
         "type": "box",
         "x": [
          10,
          5,
          15,
          2,
          8,
          10,
          2,
          8,
          8,
          2,
          1,
          5,
          10,
          10,
          12,
          1,
          3,
          10,
          5,
          2,
          3
         ],
         "xaxis": "x2",
         "yaxis": "y2"
        }
       ],
       "layout": {
        "barmode": "relative",
        "legend": {
         "title": {
          "text": "gender"
         },
         "tracegroupgap": 0
        },
        "margin": {
         "t": 60
        },
        "template": {
         "data": {
          "bar": [
           {
            "error_x": {
             "color": "#2a3f5f"
            },
            "error_y": {
             "color": "#2a3f5f"
            },
            "marker": {
             "line": {
              "color": "#E5ECF6",
              "width": 0.5
             },
             "pattern": {
              "fillmode": "overlay",
              "size": 10,
              "solidity": 0.2
             }
            },
            "type": "bar"
           }
          ],
          "barpolar": [
           {
            "marker": {
             "line": {
              "color": "#E5ECF6",
              "width": 0.5
             },
             "pattern": {
              "fillmode": "overlay",
              "size": 10,
              "solidity": 0.2
             }
            },
            "type": "barpolar"
           }
          ],
          "carpet": [
           {
            "aaxis": {
             "endlinecolor": "#2a3f5f",
             "gridcolor": "white",
             "linecolor": "white",
             "minorgridcolor": "white",
             "startlinecolor": "#2a3f5f"
            },
            "baxis": {
             "endlinecolor": "#2a3f5f",
             "gridcolor": "white",
             "linecolor": "white",
             "minorgridcolor": "white",
             "startlinecolor": "#2a3f5f"
            },
            "type": "carpet"
           }
          ],
          "choropleth": [
           {
            "colorbar": {
             "outlinewidth": 0,
             "ticks": ""
            },
            "type": "choropleth"
           }
          ],
          "contour": [
           {
            "colorbar": {
             "outlinewidth": 0,
             "ticks": ""
            },
            "colorscale": [
             [
              0,
              "#0d0887"
             ],
             [
              0.1111111111111111,
              "#46039f"
             ],
             [
              0.2222222222222222,
              "#7201a8"
             ],
             [
              0.3333333333333333,
              "#9c179e"
             ],
             [
              0.4444444444444444,
              "#bd3786"
             ],
             [
              0.5555555555555556,
              "#d8576b"
             ],
             [
              0.6666666666666666,
              "#ed7953"
             ],
             [
              0.7777777777777778,
              "#fb9f3a"
             ],
             [
              0.8888888888888888,
              "#fdca26"
             ],
             [
              1,
              "#f0f921"
             ]
            ],
            "type": "contour"
           }
          ],
          "contourcarpet": [
           {
            "colorbar": {
             "outlinewidth": 0,
             "ticks": ""
            },
            "type": "contourcarpet"
           }
          ],
          "heatmap": [
           {
            "colorbar": {
             "outlinewidth": 0,
             "ticks": ""
            },
            "colorscale": [
             [
              0,
              "#0d0887"
             ],
             [
              0.1111111111111111,
              "#46039f"
             ],
             [
              0.2222222222222222,
              "#7201a8"
             ],
             [
              0.3333333333333333,
              "#9c179e"
             ],
             [
              0.4444444444444444,
              "#bd3786"
             ],
             [
              0.5555555555555556,
              "#d8576b"
             ],
             [
              0.6666666666666666,
              "#ed7953"
             ],
             [
              0.7777777777777778,
              "#fb9f3a"
             ],
             [
              0.8888888888888888,
              "#fdca26"
             ],
             [
              1,
              "#f0f921"
             ]
            ],
            "type": "heatmap"
           }
          ],
          "heatmapgl": [
           {
            "colorbar": {
             "outlinewidth": 0,
             "ticks": ""
            },
            "colorscale": [
             [
              0,
              "#0d0887"
             ],
             [
              0.1111111111111111,
              "#46039f"
             ],
             [
              0.2222222222222222,
              "#7201a8"
             ],
             [
              0.3333333333333333,
              "#9c179e"
             ],
             [
              0.4444444444444444,
              "#bd3786"
             ],
             [
              0.5555555555555556,
              "#d8576b"
             ],
             [
              0.6666666666666666,
              "#ed7953"
             ],
             [
              0.7777777777777778,
              "#fb9f3a"
             ],
             [
              0.8888888888888888,
              "#fdca26"
             ],
             [
              1,
              "#f0f921"
             ]
            ],
            "type": "heatmapgl"
           }
          ],
          "histogram": [
           {
            "marker": {
             "pattern": {
              "fillmode": "overlay",
              "size": 10,
              "solidity": 0.2
             }
            },
            "type": "histogram"
           }
          ],
          "histogram2d": [
           {
            "colorbar": {
             "outlinewidth": 0,
             "ticks": ""
            },
            "colorscale": [
             [
              0,
              "#0d0887"
             ],
             [
              0.1111111111111111,
              "#46039f"
             ],
             [
              0.2222222222222222,
              "#7201a8"
             ],
             [
              0.3333333333333333,
              "#9c179e"
             ],
             [
              0.4444444444444444,
              "#bd3786"
             ],
             [
              0.5555555555555556,
              "#d8576b"
             ],
             [
              0.6666666666666666,
              "#ed7953"
             ],
             [
              0.7777777777777778,
              "#fb9f3a"
             ],
             [
              0.8888888888888888,
              "#fdca26"
             ],
             [
              1,
              "#f0f921"
             ]
            ],
            "type": "histogram2d"
           }
          ],
          "histogram2dcontour": [
           {
            "colorbar": {
             "outlinewidth": 0,
             "ticks": ""
            },
            "colorscale": [
             [
              0,
              "#0d0887"
             ],
             [
              0.1111111111111111,
              "#46039f"
             ],
             [
              0.2222222222222222,
              "#7201a8"
             ],
             [
              0.3333333333333333,
              "#9c179e"
             ],
             [
              0.4444444444444444,
              "#bd3786"
             ],
             [
              0.5555555555555556,
              "#d8576b"
             ],
             [
              0.6666666666666666,
              "#ed7953"
             ],
             [
              0.7777777777777778,
              "#fb9f3a"
             ],
             [
              0.8888888888888888,
              "#fdca26"
             ],
             [
              1,
              "#f0f921"
             ]
            ],
            "type": "histogram2dcontour"
           }
          ],
          "mesh3d": [
           {
            "colorbar": {
             "outlinewidth": 0,
             "ticks": ""
            },
            "type": "mesh3d"
           }
          ],
          "parcoords": [
           {
            "line": {
             "colorbar": {
              "outlinewidth": 0,
              "ticks": ""
             }
            },
            "type": "parcoords"
           }
          ],
          "pie": [
           {
            "automargin": true,
            "type": "pie"
           }
          ],
          "scatter": [
           {
            "fillpattern": {
             "fillmode": "overlay",
             "size": 10,
             "solidity": 0.2
            },
            "type": "scatter"
           }
          ],
          "scatter3d": [
           {
            "line": {
             "colorbar": {
              "outlinewidth": 0,
              "ticks": ""
             }
            },
            "marker": {
             "colorbar": {
              "outlinewidth": 0,
              "ticks": ""
             }
            },
            "type": "scatter3d"
           }
          ],
          "scattercarpet": [
           {
            "marker": {
             "colorbar": {
              "outlinewidth": 0,
              "ticks": ""
             }
            },
            "type": "scattercarpet"
           }
          ],
          "scattergeo": [
           {
            "marker": {
             "colorbar": {
              "outlinewidth": 0,
              "ticks": ""
             }
            },
            "type": "scattergeo"
           }
          ],
          "scattergl": [
           {
            "marker": {
             "colorbar": {
              "outlinewidth": 0,
              "ticks": ""
             }
            },
            "type": "scattergl"
           }
          ],
          "scattermapbox": [
           {
            "marker": {
             "colorbar": {
              "outlinewidth": 0,
              "ticks": ""
             }
            },
            "type": "scattermapbox"
           }
          ],
          "scatterpolar": [
           {
            "marker": {
             "colorbar": {
              "outlinewidth": 0,
              "ticks": ""
             }
            },
            "type": "scatterpolar"
           }
          ],
          "scatterpolargl": [
           {
            "marker": {
             "colorbar": {
              "outlinewidth": 0,
              "ticks": ""
             }
            },
            "type": "scatterpolargl"
           }
          ],
          "scatterternary": [
           {
            "marker": {
             "colorbar": {
              "outlinewidth": 0,
              "ticks": ""
             }
            },
            "type": "scatterternary"
           }
          ],
          "surface": [
           {
            "colorbar": {
             "outlinewidth": 0,
             "ticks": ""
            },
            "colorscale": [
             [
              0,
              "#0d0887"
             ],
             [
              0.1111111111111111,
              "#46039f"
             ],
             [
              0.2222222222222222,
              "#7201a8"
             ],
             [
              0.3333333333333333,
              "#9c179e"
             ],
             [
              0.4444444444444444,
              "#bd3786"
             ],
             [
              0.5555555555555556,
              "#d8576b"
             ],
             [
              0.6666666666666666,
              "#ed7953"
             ],
             [
              0.7777777777777778,
              "#fb9f3a"
             ],
             [
              0.8888888888888888,
              "#fdca26"
             ],
             [
              1,
              "#f0f921"
             ]
            ],
            "type": "surface"
           }
          ],
          "table": [
           {
            "cells": {
             "fill": {
              "color": "#EBF0F8"
             },
             "line": {
              "color": "white"
             }
            },
            "header": {
             "fill": {
              "color": "#C8D4E3"
             },
             "line": {
              "color": "white"
             }
            },
            "type": "table"
           }
          ]
         },
         "layout": {
          "annotationdefaults": {
           "arrowcolor": "#2a3f5f",
           "arrowhead": 0,
           "arrowwidth": 1
          },
          "autotypenumbers": "strict",
          "coloraxis": {
           "colorbar": {
            "outlinewidth": 0,
            "ticks": ""
           }
          },
          "colorscale": {
           "diverging": [
            [
             0,
             "#8e0152"
            ],
            [
             0.1,
             "#c51b7d"
            ],
            [
             0.2,
             "#de77ae"
            ],
            [
             0.3,
             "#f1b6da"
            ],
            [
             0.4,
             "#fde0ef"
            ],
            [
             0.5,
             "#f7f7f7"
            ],
            [
             0.6,
             "#e6f5d0"
            ],
            [
             0.7,
             "#b8e186"
            ],
            [
             0.8,
             "#7fbc41"
            ],
            [
             0.9,
             "#4d9221"
            ],
            [
             1,
             "#276419"
            ]
           ],
           "sequential": [
            [
             0,
             "#0d0887"
            ],
            [
             0.1111111111111111,
             "#46039f"
            ],
            [
             0.2222222222222222,
             "#7201a8"
            ],
            [
             0.3333333333333333,
             "#9c179e"
            ],
            [
             0.4444444444444444,
             "#bd3786"
            ],
            [
             0.5555555555555556,
             "#d8576b"
            ],
            [
             0.6666666666666666,
             "#ed7953"
            ],
            [
             0.7777777777777778,
             "#fb9f3a"
            ],
            [
             0.8888888888888888,
             "#fdca26"
            ],
            [
             1,
             "#f0f921"
            ]
           ],
           "sequentialminus": [
            [
             0,
             "#0d0887"
            ],
            [
             0.1111111111111111,
             "#46039f"
            ],
            [
             0.2222222222222222,
             "#7201a8"
            ],
            [
             0.3333333333333333,
             "#9c179e"
            ],
            [
             0.4444444444444444,
             "#bd3786"
            ],
            [
             0.5555555555555556,
             "#d8576b"
            ],
            [
             0.6666666666666666,
             "#ed7953"
            ],
            [
             0.7777777777777778,
             "#fb9f3a"
            ],
            [
             0.8888888888888888,
             "#fdca26"
            ],
            [
             1,
             "#f0f921"
            ]
           ]
          },
          "colorway": [
           "#636efa",
           "#EF553B",
           "#00cc96",
           "#ab63fa",
           "#FFA15A",
           "#19d3f3",
           "#FF6692",
           "#B6E880",
           "#FF97FF",
           "#FECB52"
          ],
          "font": {
           "color": "#2a3f5f"
          },
          "geo": {
           "bgcolor": "white",
           "lakecolor": "white",
           "landcolor": "#E5ECF6",
           "showlakes": true,
           "showland": true,
           "subunitcolor": "white"
          },
          "hoverlabel": {
           "align": "left"
          },
          "hovermode": "closest",
          "mapbox": {
           "style": "light"
          },
          "paper_bgcolor": "white",
          "plot_bgcolor": "#E5ECF6",
          "polar": {
           "angularaxis": {
            "gridcolor": "white",
            "linecolor": "white",
            "ticks": ""
           },
           "bgcolor": "#E5ECF6",
           "radialaxis": {
            "gridcolor": "white",
            "linecolor": "white",
            "ticks": ""
           }
          },
          "scene": {
           "xaxis": {
            "backgroundcolor": "#E5ECF6",
            "gridcolor": "white",
            "gridwidth": 2,
            "linecolor": "white",
            "showbackground": true,
            "ticks": "",
            "zerolinecolor": "white"
           },
           "yaxis": {
            "backgroundcolor": "#E5ECF6",
            "gridcolor": "white",
            "gridwidth": 2,
            "linecolor": "white",
            "showbackground": true,
            "ticks": "",
            "zerolinecolor": "white"
           },
           "zaxis": {
            "backgroundcolor": "#E5ECF6",
            "gridcolor": "white",
            "gridwidth": 2,
            "linecolor": "white",
            "showbackground": true,
            "ticks": "",
            "zerolinecolor": "white"
           }
          },
          "shapedefaults": {
           "line": {
            "color": "#2a3f5f"
           }
          },
          "ternary": {
           "aaxis": {
            "gridcolor": "white",
            "linecolor": "white",
            "ticks": ""
           },
           "baxis": {
            "gridcolor": "white",
            "linecolor": "white",
            "ticks": ""
           },
           "bgcolor": "#E5ECF6",
           "caxis": {
            "gridcolor": "white",
            "linecolor": "white",
            "ticks": ""
           }
          },
          "title": {
           "x": 0.05
          },
          "xaxis": {
           "automargin": true,
           "gridcolor": "white",
           "linecolor": "white",
           "ticks": "",
           "title": {
            "standoff": 15
           },
           "zerolinecolor": "white",
           "zerolinewidth": 2
          },
          "yaxis": {
           "automargin": true,
           "gridcolor": "white",
           "linecolor": "white",
           "ticks": "",
           "title": {
            "standoff": 15
           },
           "zerolinecolor": "white",
           "zerolinewidth": 2
          }
         }
        },
        "xaxis": {
         "anchor": "y",
         "domain": [
          0,
          1
         ],
         "title": {
          "text": "closest_hospital"
         }
        },
        "xaxis2": {
         "anchor": "y2",
         "domain": [
          0,
          1
         ],
         "matches": "x",
         "showgrid": true,
         "showticklabels": false
        },
        "yaxis": {
         "anchor": "x",
         "domain": [
          0,
          0.7326
         ],
         "title": {
          "text": "count"
         }
        },
        "yaxis2": {
         "anchor": "x2",
         "domain": [
          0.7426,
          1
         ],
         "matches": "y2",
         "showgrid": false,
         "showline": false,
         "showticklabels": false,
         "ticks": ""
        }
       }
      }
     },
     "metadata": {},
     "output_type": "display_data"
    }
   ],
   "source": [
    "px.histogram(patient_df, x=\"closest_hospital\", color=\"gender\", marginal=\"box\", hover_data=patient_df.columns)"
   ]
  },
  {
   "attachments": {},
   "cell_type": "markdown",
   "metadata": {},
   "source": [
    "### Histogram of \"height\" by gender"
   ]
  },
  {
   "cell_type": "code",
   "execution_count": 85,
   "metadata": {},
   "outputs": [
    {
     "data": {
      "application/vnd.plotly.v1+json": {
       "config": {
        "plotlyServerURL": "https://plot.ly"
       },
       "data": [
        {
         "alignmentgroup": "True",
         "bingroup": "x",
         "hovertemplate": "gender=Male<br>height=%{x}<br>count=%{y}<extra></extra>",
         "legendgroup": "Male",
         "marker": {
          "color": "#636efa",
          "pattern": {
           "shape": ""
          }
         },
         "name": "Male",
         "offsetgroup": "Male",
         "orientation": "v",
         "showlegend": true,
         "type": "histogram",
         "x": [
          169,
          147,
          181,
          178,
          164,
          175,
          162,
          223,
          192,
          181,
          239,
          200,
          147,
          218,
          259,
          225,
          150,
          240,
          239,
          258,
          212,
          260,
          232,
          237,
          193,
          252
         ],
         "xaxis": "x",
         "yaxis": "y"
        },
        {
         "alignmentgroup": "True",
         "customdata": [
          [
           "pollen",
           "A-",
           12,
           "rural",
           "nigeria",
           "2006-06-15 00:00:00",
           "delirium",
           "GARBO SHARRON",
           "Male",
           "Yes",
           "Yes",
           "single",
           "overweight",
           63
          ],
          [
           "nuts",
           "A+",
           5,
           "urban",
           "nigeria",
           "2012-08-24 00:00:00",
           "arthritis",
           "ADONIJAH NEKA",
           "Male",
           "No",
           "No",
           "divorced",
           "drug addiction",
           69
          ],
          [
           "dust",
           "B+",
           15,
           "rural",
           "nigeria",
           "2011-04-02 00:00:00",
           "alzheimer's",
           "ADRIANA NELI",
           "Male",
           "No",
           "Yes",
           "single",
           "mental issue",
           87
          ],
          [
           "flowers",
           "O+",
           15,
           "urban",
           "nigeria",
           "1988-10-15 00:00:00",
           "amnesia",
           "GARNETTE SHATERA",
           "Male",
           "No",
           "Yes",
           "divorced",
           "mental issue",
           73
          ],
          [
           "pollen",
           "AB-",
           5,
           "suburban",
           "nigeria",
           "1987-09-08 00:00:00",
           "fibromas",
           "ADRIANNA NELINI",
           "Male",
           "Yes",
           "No",
           "single",
           "none",
           76
          ],
          [
           "pollen",
           "B-",
           2,
           "rural",
           "nigeria",
           "2010-01-16 00:00:00",
           "cyclothimic disorder",
           "GARRETH SHATIK",
           "Male",
           "No",
           "No",
           "single",
           "none",
           83
          ],
          [
           "dust",
           "B+",
           3,
           "urban",
           "nigeria",
           "1998-11-30 00:00:00",
           "scoliosis",
           "ADRIELLE NELLI",
           "Male",
           "Yes",
           "Yes",
           "single",
           "not immunized",
           84
          ],
          [
           "pollen",
           "AB-",
           5,
           "rural",
           "nigeria",
           "1988-10-27 00:00:00",
           "alzheimer's",
           "ADRION NELSI",
           "Male",
           "No",
           "No",
           "single",
           "none",
           77
          ],
          [
           "flowers",
           "B-",
           8,
           "suburban",
           "nigeria",
           "2008-06-24 00:00:00",
           "none",
           "GARY SHAUNDA",
           "Male",
           "Yes",
           "Yes",
           "single",
           "physical injury",
           89
          ],
          [
           "pollen",
           "O-",
           3,
           "rural",
           "nigeria",
           "1988-03-15 00:00:00",
           "atherosclerosis",
           "ADY NEMA",
           "Male",
           "No",
           "Yes",
           "married",
           "drug addiction",
           87
          ],
          [
           "flowers",
           "AB+",
           10,
           "rural",
           "nigeria",
           "1989-02-25 00:00:00",
           "fibromas",
           "AEISHA NENA",
           "Male",
           "No",
           "Yes",
           "single",
           "underweight",
           77
          ],
          [
           "flowers",
           "B+",
           2,
           "suburban",
           "nigeria",
           "2000-10-22 00:00:00",
           "ruptured discs",
           "ANNEMARIE HERMINIO",
           "Male",
           "No",
           "No",
           "married",
           "mental issue",
           85
          ],
          [
           "pollen",
           "A-",
           5,
           "urban",
           "nigeria",
           "1990-01-15 00:00:00",
           "fibromas",
           "GAURAV SHAUNTA",
           "Male",
           "No",
           "Yes",
           "single",
           "underweight",
           73
          ],
          [
           "dust",
           "A-",
           5,
           "urban",
           "nigeria",
           "2007-12-16 00:00:00",
           "alzheimer's",
           "ANNE-SOPHIE HERO",
           "Male",
           "Yes",
           "Yes",
           "single",
           "overweight",
           79
          ],
          [
           "pollen",
           "AB+",
           8,
           "suburban",
           "nigeria",
           "2004-10-15 00:00:00",
           "arthritis",
           "AFONSO NEREYDA",
           "Male",
           "No",
           "Yes",
           "divorced",
           "drug addiction",
           87
          ],
          [
           "flowers",
           "A-",
           2,
           "suburban",
           "nigeria",
           "1987-10-10 00:00:00",
           "delirium",
           "ANNIKA HERSON",
           "Male",
           "No",
           "No",
           "single",
           "not immunized",
           79
          ],
          [
           "pollen",
           "A+",
           3,
           "suburban",
           "nigeria",
           "2007-08-11 00:00:00",
           "fibromas",
           "GAYATRI SHAVAUGHN",
           "Male",
           "Yes",
           "Yes",
           "married",
           "physical injury",
           77
          ],
          [
           "nuts",
           "A+",
           15,
           "suburban",
           "nigeria",
           "1983-09-19 00:00:00",
           "scoliosis",
           "ANNISIA HERU",
           "Male",
           "No",
           "No",
           "married",
           "overweight",
           77
          ],
          [
           "dust",
           "AB-",
           5,
           "rural",
           "nigeria",
           "2012-03-19 00:00:00",
           "none",
           "AGAM NESSIE",
           "Male",
           "Yes",
           "Yes",
           "widowed",
           "none",
           98
          ],
          [
           "pollen",
           "AB-",
           10,
           "urban",
           "nigeria",
           "1993-07-09 00:00:00",
           "none",
           "GEENA SHAWNETTE",
           "Male",
           "Yes",
           "No",
           "single",
           "drug addiction",
           61
          ],
          [
           "pollen",
           "B+",
           1,
           "suburban",
           "nigeria",
           "1991-05-07 00:00:00",
           "cyclothimic disorder",
           "AGNE NEUMAN",
           "Male",
           "Yes",
           "Yes",
           "single",
           "none",
           84
          ],
          [
           "flowers",
           "O-",
           3,
           "urban",
           "nigeria",
           "1994-02-11 00:00:00",
           "amnesia",
           "GEETHA SHAWNTA",
           "Male",
           "Yes",
           "No",
           "single",
           "overweight",
           60
          ],
          [
           "dust",
           "AB+",
           2,
           "rural",
           "nigeria",
           "2006-12-01 00:00:00",
           "cyclothimic disorder",
           "AGNÃˆS NEVA",
           "Male",
           "Yes",
           "Yes",
           "single",
           "none",
           99
          ],
          [
           "pollen",
           "B-",
           1,
           "suburban",
           "nigeria",
           "2004-04-25 00:00:00",
           "none",
           "ANSIL HIJIRI",
           "Male",
           "No",
           "Yes",
           "widowed",
           "drug addiction",
           92
          ],
          [
           "dust",
           "A+",
           10,
           "rural",
           "nigeria",
           "2011-11-16 00:00:00",
           "alzheimer's",
           "AGRON NEVENA",
           "Male",
           "Yes",
           "Yes",
           "divorced",
           "drug addiction",
           63
          ],
          [
           "nuts",
           "O+",
           12,
           "rural",
           "nigeria",
           "2007-01-23 00:00:00",
           "atherosclerosis",
           "ANTHE HILDY",
           "Male",
           "Yes",
           "Yes",
           "single",
           "mental issue",
           101
          ]
         ],
         "hovertemplate": "gender=%{customdata[8]}<br>height=%{x}<br>allergies=%{customdata[0]}<br>blood_type=%{customdata[1]}<br>closest_hospital=%{customdata[2]}<br>community=%{customdata[3]}<br>country=%{customdata[4]}<br>date_of_birth=%{customdata[5]}<br>disabilities=%{customdata[6]}<br>name=%{customdata[7]}<br>has_children=%{customdata[9]}<br>has_dependent=%{customdata[10]}<br>marital_status=%{customdata[11]}<br>medical_problems=%{customdata[12]}<br>weight=%{customdata[13]}<extra></extra>",
         "legendgroup": "Male",
         "marker": {
          "color": "#636efa"
         },
         "name": "Male",
         "notched": true,
         "offsetgroup": "Male",
         "showlegend": false,
         "type": "box",
         "x": [
          169,
          147,
          181,
          178,
          164,
          175,
          162,
          223,
          192,
          181,
          239,
          200,
          147,
          218,
          259,
          225,
          150,
          240,
          239,
          258,
          212,
          260,
          232,
          237,
          193,
          252
         ],
         "xaxis": "x2",
         "yaxis": "y2"
        },
        {
         "alignmentgroup": "True",
         "bingroup": "x",
         "hovertemplate": "gender=Female<br>height=%{x}<br>count=%{y}<extra></extra>",
         "legendgroup": "Female",
         "marker": {
          "color": "#EF553B",
          "pattern": {
           "shape": ""
          }
         },
         "name": "Female",
         "offsetgroup": "Female",
         "orientation": "v",
         "showlegend": true,
         "type": "histogram",
         "x": [
          167,
          151,
          207,
          190,
          170,
          228,
          189,
          133,
          159,
          220,
          184,
          145,
          249,
          223,
          254,
          252,
          190,
          244,
          209,
          199,
          235
         ],
         "xaxis": "x",
         "yaxis": "y"
        },
        {
         "alignmentgroup": "True",
         "customdata": [
          [
           "nuts",
           "B-",
           10,
           "urban",
           "nigeria",
           "2010-03-21 00:00:00",
           "alzheimer's",
           "ANKUR HENDRY",
           "Female",
           "No",
           "Yes",
           "single",
           "underweight",
           79
          ],
          [
           "pollen",
           "AB-",
           5,
           "rural",
           "nigeria",
           "1996-08-11 00:00:00",
           "ruptured discs",
           "ANNABELLA HENNESSEY",
           "Female",
           "No",
           "Yes",
           "widowed",
           "underweight",
           86
          ],
          [
           "pollen",
           "B+",
           15,
           "urban",
           "nigeria",
           "1996-01-13 00:00:00",
           "ruptured discs",
           "GARETH SHASHWAT",
           "Female",
           "No",
           "Yes",
           "divorced",
           "none",
           91
          ],
          [
           "flowers",
           "B-",
           2,
           "urban",
           "nigeria",
           "1988-04-11 00:00:00",
           "ruptured discs",
           "ADREAN NEKO",
           "Female",
           "Yes",
           "No",
           "single",
           "overweight",
           76
          ],
          [
           "flowers",
           "A+",
           8,
           "urban",
           "nigeria",
           "1998-07-24 00:00:00",
           "none",
           "ANNA-LISA HENRIQUE",
           "Female",
           "Yes",
           "No",
           "single",
           "underweight",
           91
          ],
          [
           "dust",
           "A-",
           10,
           "rural",
           "nigeria",
           "1986-04-03 00:00:00",
           "atherosclerosis",
           "GARRY SHAUGHN",
           "Female",
           "Yes",
           "No",
           "widowed",
           "physical injury",
           73
          ],
          [
           "flowers",
           "AB+",
           2,
           "urban",
           "nigeria",
           "1995-09-13 00:00:00",
           "cyclothimic disorder",
           "ADUNNI NELSY",
           "Female",
           "Yes",
           "Yes",
           "married",
           "none",
           86
          ],
          [
           "flowers",
           "AB+",
           8,
           "suburban",
           "nigeria",
           "2012-08-02 00:00:00",
           "none",
           "ANNELISE HERMES",
           "Female",
           "Yes",
           "Yes",
           "single",
           "mental issue",
           102
          ],
          [
           "dust",
           "AB-",
           8,
           "rural",
           "nigeria",
           "1984-11-15 00:00:00",
           "amnesia",
           "AESHA NENETTE",
           "Female",
           "Yes",
           "Yes",
           "widowed",
           "none",
           88
          ],
          [
           "pollen",
           "AB-",
           2,
           "rural",
           "nigeria",
           "2010-07-10 00:00:00",
           "fibromas",
           "AFEISHA NEO",
           "Female",
           "No",
           "No",
           "single",
           "none",
           67
          ],
          [
           "pollen",
           "B-",
           1,
           "urban",
           "nigeria",
           "1989-06-04 00:00:00",
           "cyclothimic disorder",
           "ANNICA HERSHEL",
           "Female",
           "No",
           "No",
           "single",
           "none",
           89
          ],
          [
           "dust",
           "O-",
           5,
           "urban",
           "nigeria",
           "2007-10-24 00:00:00",
           "amnesia",
           "GAY SHAVA",
           "Female",
           "No",
           "No",
           "single",
           "none",
           77
          ],
          [
           "dust",
           "A-",
           10,
           "urban",
           "nigeria",
           "1988-02-15 00:00:00",
           "none",
           "GAYLORD SHAVON",
           "Female",
           "No",
           "Yes",
           "single",
           "overweight",
           101
          ],
          [
           "dust",
           "A+",
           10,
           "urban",
           "nigeria",
           "2009-08-26 00:00:00",
           "amnesia",
           "AFSHIN NESHA",
           "Female",
           "Yes",
           "Yes",
           "single",
           "none",
           81
          ],
          [
           "dust",
           "B-",
           12,
           "urban",
           "nigeria",
           "1997-04-13 00:00:00",
           "cyclothimic disorder",
           "ANOOP HESKY",
           "Female",
           "No",
           "Yes",
           "single",
           "none",
           96
          ],
          [
           "nuts",
           "O-",
           1,
           "urban",
           "nigeria",
           "1993-04-17 00:00:00",
           "fibromas",
           "AFZAL NESRIN",
           "Female",
           "Yes",
           "No",
           "single",
           "not immunized",
           99
          ],
          [
           "dust",
           "B-",
           3,
           "suburban",
           "nigeria",
           "1994-10-05 00:00:00",
           "arthritis",
           "ANOWAR HIBA",
           "Female",
           "No",
           "No",
           "single",
           "none",
           78
          ],
          [
           "nuts",
           "B-",
           10,
           "urban",
           "nigeria",
           "2005-06-23 00:00:00",
           "none",
           "GEANINE SHAWNDA",
           "Female",
           "No",
           "Yes",
           "single",
           "underweight",
           83
          ],
          [
           "flowers",
           "AB-",
           5,
           "rural",
           "nigeria",
           "2005-07-20 00:00:00",
           "atherosclerosis",
           "GELISA SHAWNTIA",
           "Female",
           "No",
           "No",
           "single",
           "mental issue",
           101
          ],
          [
           "dust",
           "AB+",
           2,
           "urban",
           "nigeria",
           "1996-05-14 00:00:00",
           "none",
           "AGUSTINA NEVILLE",
           "Female",
           "Yes",
           "Yes",
           "single",
           "none",
           83
          ],
          [
           "dust",
           "AB+",
           3,
           "urban",
           "nigeria",
           "1997-08-13 00:00:00",
           "none",
           "GEM SHAYA",
           "Female",
           "No",
           "Yes",
           "widowed",
           "mental issue",
           94
          ]
         ],
         "hovertemplate": "gender=%{customdata[8]}<br>height=%{x}<br>allergies=%{customdata[0]}<br>blood_type=%{customdata[1]}<br>closest_hospital=%{customdata[2]}<br>community=%{customdata[3]}<br>country=%{customdata[4]}<br>date_of_birth=%{customdata[5]}<br>disabilities=%{customdata[6]}<br>name=%{customdata[7]}<br>has_children=%{customdata[9]}<br>has_dependent=%{customdata[10]}<br>marital_status=%{customdata[11]}<br>medical_problems=%{customdata[12]}<br>weight=%{customdata[13]}<extra></extra>",
         "legendgroup": "Female",
         "marker": {
          "color": "#EF553B"
         },
         "name": "Female",
         "notched": true,
         "offsetgroup": "Female",
         "showlegend": false,
         "type": "box",
         "x": [
          167,
          151,
          207,
          190,
          170,
          228,
          189,
          133,
          159,
          220,
          184,
          145,
          249,
          223,
          254,
          252,
          190,
          244,
          209,
          199,
          235
         ],
         "xaxis": "x2",
         "yaxis": "y2"
        }
       ],
       "layout": {
        "barmode": "relative",
        "legend": {
         "title": {
          "text": "gender"
         },
         "tracegroupgap": 0
        },
        "margin": {
         "t": 60
        },
        "template": {
         "data": {
          "bar": [
           {
            "error_x": {
             "color": "#2a3f5f"
            },
            "error_y": {
             "color": "#2a3f5f"
            },
            "marker": {
             "line": {
              "color": "#E5ECF6",
              "width": 0.5
             },
             "pattern": {
              "fillmode": "overlay",
              "size": 10,
              "solidity": 0.2
             }
            },
            "type": "bar"
           }
          ],
          "barpolar": [
           {
            "marker": {
             "line": {
              "color": "#E5ECF6",
              "width": 0.5
             },
             "pattern": {
              "fillmode": "overlay",
              "size": 10,
              "solidity": 0.2
             }
            },
            "type": "barpolar"
           }
          ],
          "carpet": [
           {
            "aaxis": {
             "endlinecolor": "#2a3f5f",
             "gridcolor": "white",
             "linecolor": "white",
             "minorgridcolor": "white",
             "startlinecolor": "#2a3f5f"
            },
            "baxis": {
             "endlinecolor": "#2a3f5f",
             "gridcolor": "white",
             "linecolor": "white",
             "minorgridcolor": "white",
             "startlinecolor": "#2a3f5f"
            },
            "type": "carpet"
           }
          ],
          "choropleth": [
           {
            "colorbar": {
             "outlinewidth": 0,
             "ticks": ""
            },
            "type": "choropleth"
           }
          ],
          "contour": [
           {
            "colorbar": {
             "outlinewidth": 0,
             "ticks": ""
            },
            "colorscale": [
             [
              0,
              "#0d0887"
             ],
             [
              0.1111111111111111,
              "#46039f"
             ],
             [
              0.2222222222222222,
              "#7201a8"
             ],
             [
              0.3333333333333333,
              "#9c179e"
             ],
             [
              0.4444444444444444,
              "#bd3786"
             ],
             [
              0.5555555555555556,
              "#d8576b"
             ],
             [
              0.6666666666666666,
              "#ed7953"
             ],
             [
              0.7777777777777778,
              "#fb9f3a"
             ],
             [
              0.8888888888888888,
              "#fdca26"
             ],
             [
              1,
              "#f0f921"
             ]
            ],
            "type": "contour"
           }
          ],
          "contourcarpet": [
           {
            "colorbar": {
             "outlinewidth": 0,
             "ticks": ""
            },
            "type": "contourcarpet"
           }
          ],
          "heatmap": [
           {
            "colorbar": {
             "outlinewidth": 0,
             "ticks": ""
            },
            "colorscale": [
             [
              0,
              "#0d0887"
             ],
             [
              0.1111111111111111,
              "#46039f"
             ],
             [
              0.2222222222222222,
              "#7201a8"
             ],
             [
              0.3333333333333333,
              "#9c179e"
             ],
             [
              0.4444444444444444,
              "#bd3786"
             ],
             [
              0.5555555555555556,
              "#d8576b"
             ],
             [
              0.6666666666666666,
              "#ed7953"
             ],
             [
              0.7777777777777778,
              "#fb9f3a"
             ],
             [
              0.8888888888888888,
              "#fdca26"
             ],
             [
              1,
              "#f0f921"
             ]
            ],
            "type": "heatmap"
           }
          ],
          "heatmapgl": [
           {
            "colorbar": {
             "outlinewidth": 0,
             "ticks": ""
            },
            "colorscale": [
             [
              0,
              "#0d0887"
             ],
             [
              0.1111111111111111,
              "#46039f"
             ],
             [
              0.2222222222222222,
              "#7201a8"
             ],
             [
              0.3333333333333333,
              "#9c179e"
             ],
             [
              0.4444444444444444,
              "#bd3786"
             ],
             [
              0.5555555555555556,
              "#d8576b"
             ],
             [
              0.6666666666666666,
              "#ed7953"
             ],
             [
              0.7777777777777778,
              "#fb9f3a"
             ],
             [
              0.8888888888888888,
              "#fdca26"
             ],
             [
              1,
              "#f0f921"
             ]
            ],
            "type": "heatmapgl"
           }
          ],
          "histogram": [
           {
            "marker": {
             "pattern": {
              "fillmode": "overlay",
              "size": 10,
              "solidity": 0.2
             }
            },
            "type": "histogram"
           }
          ],
          "histogram2d": [
           {
            "colorbar": {
             "outlinewidth": 0,
             "ticks": ""
            },
            "colorscale": [
             [
              0,
              "#0d0887"
             ],
             [
              0.1111111111111111,
              "#46039f"
             ],
             [
              0.2222222222222222,
              "#7201a8"
             ],
             [
              0.3333333333333333,
              "#9c179e"
             ],
             [
              0.4444444444444444,
              "#bd3786"
             ],
             [
              0.5555555555555556,
              "#d8576b"
             ],
             [
              0.6666666666666666,
              "#ed7953"
             ],
             [
              0.7777777777777778,
              "#fb9f3a"
             ],
             [
              0.8888888888888888,
              "#fdca26"
             ],
             [
              1,
              "#f0f921"
             ]
            ],
            "type": "histogram2d"
           }
          ],
          "histogram2dcontour": [
           {
            "colorbar": {
             "outlinewidth": 0,
             "ticks": ""
            },
            "colorscale": [
             [
              0,
              "#0d0887"
             ],
             [
              0.1111111111111111,
              "#46039f"
             ],
             [
              0.2222222222222222,
              "#7201a8"
             ],
             [
              0.3333333333333333,
              "#9c179e"
             ],
             [
              0.4444444444444444,
              "#bd3786"
             ],
             [
              0.5555555555555556,
              "#d8576b"
             ],
             [
              0.6666666666666666,
              "#ed7953"
             ],
             [
              0.7777777777777778,
              "#fb9f3a"
             ],
             [
              0.8888888888888888,
              "#fdca26"
             ],
             [
              1,
              "#f0f921"
             ]
            ],
            "type": "histogram2dcontour"
           }
          ],
          "mesh3d": [
           {
            "colorbar": {
             "outlinewidth": 0,
             "ticks": ""
            },
            "type": "mesh3d"
           }
          ],
          "parcoords": [
           {
            "line": {
             "colorbar": {
              "outlinewidth": 0,
              "ticks": ""
             }
            },
            "type": "parcoords"
           }
          ],
          "pie": [
           {
            "automargin": true,
            "type": "pie"
           }
          ],
          "scatter": [
           {
            "fillpattern": {
             "fillmode": "overlay",
             "size": 10,
             "solidity": 0.2
            },
            "type": "scatter"
           }
          ],
          "scatter3d": [
           {
            "line": {
             "colorbar": {
              "outlinewidth": 0,
              "ticks": ""
             }
            },
            "marker": {
             "colorbar": {
              "outlinewidth": 0,
              "ticks": ""
             }
            },
            "type": "scatter3d"
           }
          ],
          "scattercarpet": [
           {
            "marker": {
             "colorbar": {
              "outlinewidth": 0,
              "ticks": ""
             }
            },
            "type": "scattercarpet"
           }
          ],
          "scattergeo": [
           {
            "marker": {
             "colorbar": {
              "outlinewidth": 0,
              "ticks": ""
             }
            },
            "type": "scattergeo"
           }
          ],
          "scattergl": [
           {
            "marker": {
             "colorbar": {
              "outlinewidth": 0,
              "ticks": ""
             }
            },
            "type": "scattergl"
           }
          ],
          "scattermapbox": [
           {
            "marker": {
             "colorbar": {
              "outlinewidth": 0,
              "ticks": ""
             }
            },
            "type": "scattermapbox"
           }
          ],
          "scatterpolar": [
           {
            "marker": {
             "colorbar": {
              "outlinewidth": 0,
              "ticks": ""
             }
            },
            "type": "scatterpolar"
           }
          ],
          "scatterpolargl": [
           {
            "marker": {
             "colorbar": {
              "outlinewidth": 0,
              "ticks": ""
             }
            },
            "type": "scatterpolargl"
           }
          ],
          "scatterternary": [
           {
            "marker": {
             "colorbar": {
              "outlinewidth": 0,
              "ticks": ""
             }
            },
            "type": "scatterternary"
           }
          ],
          "surface": [
           {
            "colorbar": {
             "outlinewidth": 0,
             "ticks": ""
            },
            "colorscale": [
             [
              0,
              "#0d0887"
             ],
             [
              0.1111111111111111,
              "#46039f"
             ],
             [
              0.2222222222222222,
              "#7201a8"
             ],
             [
              0.3333333333333333,
              "#9c179e"
             ],
             [
              0.4444444444444444,
              "#bd3786"
             ],
             [
              0.5555555555555556,
              "#d8576b"
             ],
             [
              0.6666666666666666,
              "#ed7953"
             ],
             [
              0.7777777777777778,
              "#fb9f3a"
             ],
             [
              0.8888888888888888,
              "#fdca26"
             ],
             [
              1,
              "#f0f921"
             ]
            ],
            "type": "surface"
           }
          ],
          "table": [
           {
            "cells": {
             "fill": {
              "color": "#EBF0F8"
             },
             "line": {
              "color": "white"
             }
            },
            "header": {
             "fill": {
              "color": "#C8D4E3"
             },
             "line": {
              "color": "white"
             }
            },
            "type": "table"
           }
          ]
         },
         "layout": {
          "annotationdefaults": {
           "arrowcolor": "#2a3f5f",
           "arrowhead": 0,
           "arrowwidth": 1
          },
          "autotypenumbers": "strict",
          "coloraxis": {
           "colorbar": {
            "outlinewidth": 0,
            "ticks": ""
           }
          },
          "colorscale": {
           "diverging": [
            [
             0,
             "#8e0152"
            ],
            [
             0.1,
             "#c51b7d"
            ],
            [
             0.2,
             "#de77ae"
            ],
            [
             0.3,
             "#f1b6da"
            ],
            [
             0.4,
             "#fde0ef"
            ],
            [
             0.5,
             "#f7f7f7"
            ],
            [
             0.6,
             "#e6f5d0"
            ],
            [
             0.7,
             "#b8e186"
            ],
            [
             0.8,
             "#7fbc41"
            ],
            [
             0.9,
             "#4d9221"
            ],
            [
             1,
             "#276419"
            ]
           ],
           "sequential": [
            [
             0,
             "#0d0887"
            ],
            [
             0.1111111111111111,
             "#46039f"
            ],
            [
             0.2222222222222222,
             "#7201a8"
            ],
            [
             0.3333333333333333,
             "#9c179e"
            ],
            [
             0.4444444444444444,
             "#bd3786"
            ],
            [
             0.5555555555555556,
             "#d8576b"
            ],
            [
             0.6666666666666666,
             "#ed7953"
            ],
            [
             0.7777777777777778,
             "#fb9f3a"
            ],
            [
             0.8888888888888888,
             "#fdca26"
            ],
            [
             1,
             "#f0f921"
            ]
           ],
           "sequentialminus": [
            [
             0,
             "#0d0887"
            ],
            [
             0.1111111111111111,
             "#46039f"
            ],
            [
             0.2222222222222222,
             "#7201a8"
            ],
            [
             0.3333333333333333,
             "#9c179e"
            ],
            [
             0.4444444444444444,
             "#bd3786"
            ],
            [
             0.5555555555555556,
             "#d8576b"
            ],
            [
             0.6666666666666666,
             "#ed7953"
            ],
            [
             0.7777777777777778,
             "#fb9f3a"
            ],
            [
             0.8888888888888888,
             "#fdca26"
            ],
            [
             1,
             "#f0f921"
            ]
           ]
          },
          "colorway": [
           "#636efa",
           "#EF553B",
           "#00cc96",
           "#ab63fa",
           "#FFA15A",
           "#19d3f3",
           "#FF6692",
           "#B6E880",
           "#FF97FF",
           "#FECB52"
          ],
          "font": {
           "color": "#2a3f5f"
          },
          "geo": {
           "bgcolor": "white",
           "lakecolor": "white",
           "landcolor": "#E5ECF6",
           "showlakes": true,
           "showland": true,
           "subunitcolor": "white"
          },
          "hoverlabel": {
           "align": "left"
          },
          "hovermode": "closest",
          "mapbox": {
           "style": "light"
          },
          "paper_bgcolor": "white",
          "plot_bgcolor": "#E5ECF6",
          "polar": {
           "angularaxis": {
            "gridcolor": "white",
            "linecolor": "white",
            "ticks": ""
           },
           "bgcolor": "#E5ECF6",
           "radialaxis": {
            "gridcolor": "white",
            "linecolor": "white",
            "ticks": ""
           }
          },
          "scene": {
           "xaxis": {
            "backgroundcolor": "#E5ECF6",
            "gridcolor": "white",
            "gridwidth": 2,
            "linecolor": "white",
            "showbackground": true,
            "ticks": "",
            "zerolinecolor": "white"
           },
           "yaxis": {
            "backgroundcolor": "#E5ECF6",
            "gridcolor": "white",
            "gridwidth": 2,
            "linecolor": "white",
            "showbackground": true,
            "ticks": "",
            "zerolinecolor": "white"
           },
           "zaxis": {
            "backgroundcolor": "#E5ECF6",
            "gridcolor": "white",
            "gridwidth": 2,
            "linecolor": "white",
            "showbackground": true,
            "ticks": "",
            "zerolinecolor": "white"
           }
          },
          "shapedefaults": {
           "line": {
            "color": "#2a3f5f"
           }
          },
          "ternary": {
           "aaxis": {
            "gridcolor": "white",
            "linecolor": "white",
            "ticks": ""
           },
           "baxis": {
            "gridcolor": "white",
            "linecolor": "white",
            "ticks": ""
           },
           "bgcolor": "#E5ECF6",
           "caxis": {
            "gridcolor": "white",
            "linecolor": "white",
            "ticks": ""
           }
          },
          "title": {
           "x": 0.05
          },
          "xaxis": {
           "automargin": true,
           "gridcolor": "white",
           "linecolor": "white",
           "ticks": "",
           "title": {
            "standoff": 15
           },
           "zerolinecolor": "white",
           "zerolinewidth": 2
          },
          "yaxis": {
           "automargin": true,
           "gridcolor": "white",
           "linecolor": "white",
           "ticks": "",
           "title": {
            "standoff": 15
           },
           "zerolinecolor": "white",
           "zerolinewidth": 2
          }
         }
        },
        "xaxis": {
         "anchor": "y",
         "domain": [
          0,
          1
         ],
         "title": {
          "text": "height"
         }
        },
        "xaxis2": {
         "anchor": "y2",
         "domain": [
          0,
          1
         ],
         "matches": "x",
         "showgrid": true,
         "showticklabels": false
        },
        "yaxis": {
         "anchor": "x",
         "domain": [
          0,
          0.7326
         ],
         "title": {
          "text": "count"
         }
        },
        "yaxis2": {
         "anchor": "x2",
         "domain": [
          0.7426,
          1
         ],
         "matches": "y2",
         "showgrid": false,
         "showline": false,
         "showticklabels": false,
         "ticks": ""
        }
       }
      }
     },
     "metadata": {},
     "output_type": "display_data"
    }
   ],
   "source": [
    "px.histogram(patient_df, x=\"height\", color=\"gender\", marginal=\"box\", hover_data=patient_df.columns)"
   ]
  },
  {
   "attachments": {},
   "cell_type": "markdown",
   "metadata": {},
   "source": [
    "### Histogram of \"weight\" by gender"
   ]
  },
  {
   "cell_type": "code",
   "execution_count": 86,
   "metadata": {},
   "outputs": [
    {
     "data": {
      "application/vnd.plotly.v1+json": {
       "config": {
        "plotlyServerURL": "https://plot.ly"
       },
       "data": [
        {
         "alignmentgroup": "True",
         "bingroup": "x",
         "hovertemplate": "gender=Male<br>weight=%{x}<br>count=%{y}<extra></extra>",
         "legendgroup": "Male",
         "marker": {
          "color": "#636efa",
          "pattern": {
           "shape": ""
          }
         },
         "name": "Male",
         "offsetgroup": "Male",
         "orientation": "v",
         "showlegend": true,
         "type": "histogram",
         "x": [
          63,
          69,
          87,
          73,
          76,
          83,
          84,
          77,
          89,
          87,
          77,
          85,
          73,
          79,
          87,
          79,
          77,
          77,
          98,
          61,
          84,
          60,
          99,
          92,
          63,
          101
         ],
         "xaxis": "x",
         "yaxis": "y"
        },
        {
         "alignmentgroup": "True",
         "customdata": [
          [
           "pollen",
           "A-",
           12,
           "rural",
           "nigeria",
           "2006-06-15 00:00:00",
           "delirium",
           "GARBO SHARRON",
           "Male",
           "Yes",
           "Yes",
           169,
           "single",
           "overweight"
          ],
          [
           "nuts",
           "A+",
           5,
           "urban",
           "nigeria",
           "2012-08-24 00:00:00",
           "arthritis",
           "ADONIJAH NEKA",
           "Male",
           "No",
           "No",
           147,
           "divorced",
           "drug addiction"
          ],
          [
           "dust",
           "B+",
           15,
           "rural",
           "nigeria",
           "2011-04-02 00:00:00",
           "alzheimer's",
           "ADRIANA NELI",
           "Male",
           "No",
           "Yes",
           181,
           "single",
           "mental issue"
          ],
          [
           "flowers",
           "O+",
           15,
           "urban",
           "nigeria",
           "1988-10-15 00:00:00",
           "amnesia",
           "GARNETTE SHATERA",
           "Male",
           "No",
           "Yes",
           178,
           "divorced",
           "mental issue"
          ],
          [
           "pollen",
           "AB-",
           5,
           "suburban",
           "nigeria",
           "1987-09-08 00:00:00",
           "fibromas",
           "ADRIANNA NELINI",
           "Male",
           "Yes",
           "No",
           164,
           "single",
           "none"
          ],
          [
           "pollen",
           "B-",
           2,
           "rural",
           "nigeria",
           "2010-01-16 00:00:00",
           "cyclothimic disorder",
           "GARRETH SHATIK",
           "Male",
           "No",
           "No",
           175,
           "single",
           "none"
          ],
          [
           "dust",
           "B+",
           3,
           "urban",
           "nigeria",
           "1998-11-30 00:00:00",
           "scoliosis",
           "ADRIELLE NELLI",
           "Male",
           "Yes",
           "Yes",
           162,
           "single",
           "not immunized"
          ],
          [
           "pollen",
           "AB-",
           5,
           "rural",
           "nigeria",
           "1988-10-27 00:00:00",
           "alzheimer's",
           "ADRION NELSI",
           "Male",
           "No",
           "No",
           223,
           "single",
           "none"
          ],
          [
           "flowers",
           "B-",
           8,
           "suburban",
           "nigeria",
           "2008-06-24 00:00:00",
           "none",
           "GARY SHAUNDA",
           "Male",
           "Yes",
           "Yes",
           192,
           "single",
           "physical injury"
          ],
          [
           "pollen",
           "O-",
           3,
           "rural",
           "nigeria",
           "1988-03-15 00:00:00",
           "atherosclerosis",
           "ADY NEMA",
           "Male",
           "No",
           "Yes",
           181,
           "married",
           "drug addiction"
          ],
          [
           "flowers",
           "AB+",
           10,
           "rural",
           "nigeria",
           "1989-02-25 00:00:00",
           "fibromas",
           "AEISHA NENA",
           "Male",
           "No",
           "Yes",
           239,
           "single",
           "underweight"
          ],
          [
           "flowers",
           "B+",
           2,
           "suburban",
           "nigeria",
           "2000-10-22 00:00:00",
           "ruptured discs",
           "ANNEMARIE HERMINIO",
           "Male",
           "No",
           "No",
           200,
           "married",
           "mental issue"
          ],
          [
           "pollen",
           "A-",
           5,
           "urban",
           "nigeria",
           "1990-01-15 00:00:00",
           "fibromas",
           "GAURAV SHAUNTA",
           "Male",
           "No",
           "Yes",
           147,
           "single",
           "underweight"
          ],
          [
           "dust",
           "A-",
           5,
           "urban",
           "nigeria",
           "2007-12-16 00:00:00",
           "alzheimer's",
           "ANNE-SOPHIE HERO",
           "Male",
           "Yes",
           "Yes",
           218,
           "single",
           "overweight"
          ],
          [
           "pollen",
           "AB+",
           8,
           "suburban",
           "nigeria",
           "2004-10-15 00:00:00",
           "arthritis",
           "AFONSO NEREYDA",
           "Male",
           "No",
           "Yes",
           259,
           "divorced",
           "drug addiction"
          ],
          [
           "flowers",
           "A-",
           2,
           "suburban",
           "nigeria",
           "1987-10-10 00:00:00",
           "delirium",
           "ANNIKA HERSON",
           "Male",
           "No",
           "No",
           225,
           "single",
           "not immunized"
          ],
          [
           "pollen",
           "A+",
           3,
           "suburban",
           "nigeria",
           "2007-08-11 00:00:00",
           "fibromas",
           "GAYATRI SHAVAUGHN",
           "Male",
           "Yes",
           "Yes",
           150,
           "married",
           "physical injury"
          ],
          [
           "nuts",
           "A+",
           15,
           "suburban",
           "nigeria",
           "1983-09-19 00:00:00",
           "scoliosis",
           "ANNISIA HERU",
           "Male",
           "No",
           "No",
           240,
           "married",
           "overweight"
          ],
          [
           "dust",
           "AB-",
           5,
           "rural",
           "nigeria",
           "2012-03-19 00:00:00",
           "none",
           "AGAM NESSIE",
           "Male",
           "Yes",
           "Yes",
           239,
           "widowed",
           "none"
          ],
          [
           "pollen",
           "AB-",
           10,
           "urban",
           "nigeria",
           "1993-07-09 00:00:00",
           "none",
           "GEENA SHAWNETTE",
           "Male",
           "Yes",
           "No",
           258,
           "single",
           "drug addiction"
          ],
          [
           "pollen",
           "B+",
           1,
           "suburban",
           "nigeria",
           "1991-05-07 00:00:00",
           "cyclothimic disorder",
           "AGNE NEUMAN",
           "Male",
           "Yes",
           "Yes",
           212,
           "single",
           "none"
          ],
          [
           "flowers",
           "O-",
           3,
           "urban",
           "nigeria",
           "1994-02-11 00:00:00",
           "amnesia",
           "GEETHA SHAWNTA",
           "Male",
           "Yes",
           "No",
           260,
           "single",
           "overweight"
          ],
          [
           "dust",
           "AB+",
           2,
           "rural",
           "nigeria",
           "2006-12-01 00:00:00",
           "cyclothimic disorder",
           "AGNÃˆS NEVA",
           "Male",
           "Yes",
           "Yes",
           232,
           "single",
           "none"
          ],
          [
           "pollen",
           "B-",
           1,
           "suburban",
           "nigeria",
           "2004-04-25 00:00:00",
           "none",
           "ANSIL HIJIRI",
           "Male",
           "No",
           "Yes",
           237,
           "widowed",
           "drug addiction"
          ],
          [
           "dust",
           "A+",
           10,
           "rural",
           "nigeria",
           "2011-11-16 00:00:00",
           "alzheimer's",
           "AGRON NEVENA",
           "Male",
           "Yes",
           "Yes",
           193,
           "divorced",
           "drug addiction"
          ],
          [
           "nuts",
           "O+",
           12,
           "rural",
           "nigeria",
           "2007-01-23 00:00:00",
           "atherosclerosis",
           "ANTHE HILDY",
           "Male",
           "Yes",
           "Yes",
           252,
           "single",
           "mental issue"
          ]
         ],
         "hovertemplate": "gender=%{customdata[8]}<br>weight=%{x}<br>allergies=%{customdata[0]}<br>blood_type=%{customdata[1]}<br>closest_hospital=%{customdata[2]}<br>community=%{customdata[3]}<br>country=%{customdata[4]}<br>date_of_birth=%{customdata[5]}<br>disabilities=%{customdata[6]}<br>name=%{customdata[7]}<br>has_children=%{customdata[9]}<br>has_dependent=%{customdata[10]}<br>height=%{customdata[11]}<br>marital_status=%{customdata[12]}<br>medical_problems=%{customdata[13]}<extra></extra>",
         "legendgroup": "Male",
         "marker": {
          "color": "#636efa"
         },
         "name": "Male",
         "notched": true,
         "offsetgroup": "Male",
         "showlegend": false,
         "type": "box",
         "x": [
          63,
          69,
          87,
          73,
          76,
          83,
          84,
          77,
          89,
          87,
          77,
          85,
          73,
          79,
          87,
          79,
          77,
          77,
          98,
          61,
          84,
          60,
          99,
          92,
          63,
          101
         ],
         "xaxis": "x2",
         "yaxis": "y2"
        },
        {
         "alignmentgroup": "True",
         "bingroup": "x",
         "hovertemplate": "gender=Female<br>weight=%{x}<br>count=%{y}<extra></extra>",
         "legendgroup": "Female",
         "marker": {
          "color": "#EF553B",
          "pattern": {
           "shape": ""
          }
         },
         "name": "Female",
         "offsetgroup": "Female",
         "orientation": "v",
         "showlegend": true,
         "type": "histogram",
         "x": [
          79,
          86,
          91,
          76,
          91,
          73,
          86,
          102,
          88,
          67,
          89,
          77,
          101,
          81,
          96,
          99,
          78,
          83,
          101,
          83,
          94
         ],
         "xaxis": "x",
         "yaxis": "y"
        },
        {
         "alignmentgroup": "True",
         "customdata": [
          [
           "nuts",
           "B-",
           10,
           "urban",
           "nigeria",
           "2010-03-21 00:00:00",
           "alzheimer's",
           "ANKUR HENDRY",
           "Female",
           "No",
           "Yes",
           167,
           "single",
           "underweight"
          ],
          [
           "pollen",
           "AB-",
           5,
           "rural",
           "nigeria",
           "1996-08-11 00:00:00",
           "ruptured discs",
           "ANNABELLA HENNESSEY",
           "Female",
           "No",
           "Yes",
           151,
           "widowed",
           "underweight"
          ],
          [
           "pollen",
           "B+",
           15,
           "urban",
           "nigeria",
           "1996-01-13 00:00:00",
           "ruptured discs",
           "GARETH SHASHWAT",
           "Female",
           "No",
           "Yes",
           207,
           "divorced",
           "none"
          ],
          [
           "flowers",
           "B-",
           2,
           "urban",
           "nigeria",
           "1988-04-11 00:00:00",
           "ruptured discs",
           "ADREAN NEKO",
           "Female",
           "Yes",
           "No",
           190,
           "single",
           "overweight"
          ],
          [
           "flowers",
           "A+",
           8,
           "urban",
           "nigeria",
           "1998-07-24 00:00:00",
           "none",
           "ANNA-LISA HENRIQUE",
           "Female",
           "Yes",
           "No",
           170,
           "single",
           "underweight"
          ],
          [
           "dust",
           "A-",
           10,
           "rural",
           "nigeria",
           "1986-04-03 00:00:00",
           "atherosclerosis",
           "GARRY SHAUGHN",
           "Female",
           "Yes",
           "No",
           228,
           "widowed",
           "physical injury"
          ],
          [
           "flowers",
           "AB+",
           2,
           "urban",
           "nigeria",
           "1995-09-13 00:00:00",
           "cyclothimic disorder",
           "ADUNNI NELSY",
           "Female",
           "Yes",
           "Yes",
           189,
           "married",
           "none"
          ],
          [
           "flowers",
           "AB+",
           8,
           "suburban",
           "nigeria",
           "2012-08-02 00:00:00",
           "none",
           "ANNELISE HERMES",
           "Female",
           "Yes",
           "Yes",
           133,
           "single",
           "mental issue"
          ],
          [
           "dust",
           "AB-",
           8,
           "rural",
           "nigeria",
           "1984-11-15 00:00:00",
           "amnesia",
           "AESHA NENETTE",
           "Female",
           "Yes",
           "Yes",
           159,
           "widowed",
           "none"
          ],
          [
           "pollen",
           "AB-",
           2,
           "rural",
           "nigeria",
           "2010-07-10 00:00:00",
           "fibromas",
           "AFEISHA NEO",
           "Female",
           "No",
           "No",
           220,
           "single",
           "none"
          ],
          [
           "pollen",
           "B-",
           1,
           "urban",
           "nigeria",
           "1989-06-04 00:00:00",
           "cyclothimic disorder",
           "ANNICA HERSHEL",
           "Female",
           "No",
           "No",
           184,
           "single",
           "none"
          ],
          [
           "dust",
           "O-",
           5,
           "urban",
           "nigeria",
           "2007-10-24 00:00:00",
           "amnesia",
           "GAY SHAVA",
           "Female",
           "No",
           "No",
           145,
           "single",
           "none"
          ],
          [
           "dust",
           "A-",
           10,
           "urban",
           "nigeria",
           "1988-02-15 00:00:00",
           "none",
           "GAYLORD SHAVON",
           "Female",
           "No",
           "Yes",
           249,
           "single",
           "overweight"
          ],
          [
           "dust",
           "A+",
           10,
           "urban",
           "nigeria",
           "2009-08-26 00:00:00",
           "amnesia",
           "AFSHIN NESHA",
           "Female",
           "Yes",
           "Yes",
           223,
           "single",
           "none"
          ],
          [
           "dust",
           "B-",
           12,
           "urban",
           "nigeria",
           "1997-04-13 00:00:00",
           "cyclothimic disorder",
           "ANOOP HESKY",
           "Female",
           "No",
           "Yes",
           254,
           "single",
           "none"
          ],
          [
           "nuts",
           "O-",
           1,
           "urban",
           "nigeria",
           "1993-04-17 00:00:00",
           "fibromas",
           "AFZAL NESRIN",
           "Female",
           "Yes",
           "No",
           252,
           "single",
           "not immunized"
          ],
          [
           "dust",
           "B-",
           3,
           "suburban",
           "nigeria",
           "1994-10-05 00:00:00",
           "arthritis",
           "ANOWAR HIBA",
           "Female",
           "No",
           "No",
           190,
           "single",
           "none"
          ],
          [
           "nuts",
           "B-",
           10,
           "urban",
           "nigeria",
           "2005-06-23 00:00:00",
           "none",
           "GEANINE SHAWNDA",
           "Female",
           "No",
           "Yes",
           244,
           "single",
           "underweight"
          ],
          [
           "flowers",
           "AB-",
           5,
           "rural",
           "nigeria",
           "2005-07-20 00:00:00",
           "atherosclerosis",
           "GELISA SHAWNTIA",
           "Female",
           "No",
           "No",
           209,
           "single",
           "mental issue"
          ],
          [
           "dust",
           "AB+",
           2,
           "urban",
           "nigeria",
           "1996-05-14 00:00:00",
           "none",
           "AGUSTINA NEVILLE",
           "Female",
           "Yes",
           "Yes",
           199,
           "single",
           "none"
          ],
          [
           "dust",
           "AB+",
           3,
           "urban",
           "nigeria",
           "1997-08-13 00:00:00",
           "none",
           "GEM SHAYA",
           "Female",
           "No",
           "Yes",
           235,
           "widowed",
           "mental issue"
          ]
         ],
         "hovertemplate": "gender=%{customdata[8]}<br>weight=%{x}<br>allergies=%{customdata[0]}<br>blood_type=%{customdata[1]}<br>closest_hospital=%{customdata[2]}<br>community=%{customdata[3]}<br>country=%{customdata[4]}<br>date_of_birth=%{customdata[5]}<br>disabilities=%{customdata[6]}<br>name=%{customdata[7]}<br>has_children=%{customdata[9]}<br>has_dependent=%{customdata[10]}<br>height=%{customdata[11]}<br>marital_status=%{customdata[12]}<br>medical_problems=%{customdata[13]}<extra></extra>",
         "legendgroup": "Female",
         "marker": {
          "color": "#EF553B"
         },
         "name": "Female",
         "notched": true,
         "offsetgroup": "Female",
         "showlegend": false,
         "type": "box",
         "x": [
          79,
          86,
          91,
          76,
          91,
          73,
          86,
          102,
          88,
          67,
          89,
          77,
          101,
          81,
          96,
          99,
          78,
          83,
          101,
          83,
          94
         ],
         "xaxis": "x2",
         "yaxis": "y2"
        }
       ],
       "layout": {
        "barmode": "relative",
        "legend": {
         "title": {
          "text": "gender"
         },
         "tracegroupgap": 0
        },
        "margin": {
         "t": 60
        },
        "template": {
         "data": {
          "bar": [
           {
            "error_x": {
             "color": "#2a3f5f"
            },
            "error_y": {
             "color": "#2a3f5f"
            },
            "marker": {
             "line": {
              "color": "#E5ECF6",
              "width": 0.5
             },
             "pattern": {
              "fillmode": "overlay",
              "size": 10,
              "solidity": 0.2
             }
            },
            "type": "bar"
           }
          ],
          "barpolar": [
           {
            "marker": {
             "line": {
              "color": "#E5ECF6",
              "width": 0.5
             },
             "pattern": {
              "fillmode": "overlay",
              "size": 10,
              "solidity": 0.2
             }
            },
            "type": "barpolar"
           }
          ],
          "carpet": [
           {
            "aaxis": {
             "endlinecolor": "#2a3f5f",
             "gridcolor": "white",
             "linecolor": "white",
             "minorgridcolor": "white",
             "startlinecolor": "#2a3f5f"
            },
            "baxis": {
             "endlinecolor": "#2a3f5f",
             "gridcolor": "white",
             "linecolor": "white",
             "minorgridcolor": "white",
             "startlinecolor": "#2a3f5f"
            },
            "type": "carpet"
           }
          ],
          "choropleth": [
           {
            "colorbar": {
             "outlinewidth": 0,
             "ticks": ""
            },
            "type": "choropleth"
           }
          ],
          "contour": [
           {
            "colorbar": {
             "outlinewidth": 0,
             "ticks": ""
            },
            "colorscale": [
             [
              0,
              "#0d0887"
             ],
             [
              0.1111111111111111,
              "#46039f"
             ],
             [
              0.2222222222222222,
              "#7201a8"
             ],
             [
              0.3333333333333333,
              "#9c179e"
             ],
             [
              0.4444444444444444,
              "#bd3786"
             ],
             [
              0.5555555555555556,
              "#d8576b"
             ],
             [
              0.6666666666666666,
              "#ed7953"
             ],
             [
              0.7777777777777778,
              "#fb9f3a"
             ],
             [
              0.8888888888888888,
              "#fdca26"
             ],
             [
              1,
              "#f0f921"
             ]
            ],
            "type": "contour"
           }
          ],
          "contourcarpet": [
           {
            "colorbar": {
             "outlinewidth": 0,
             "ticks": ""
            },
            "type": "contourcarpet"
           }
          ],
          "heatmap": [
           {
            "colorbar": {
             "outlinewidth": 0,
             "ticks": ""
            },
            "colorscale": [
             [
              0,
              "#0d0887"
             ],
             [
              0.1111111111111111,
              "#46039f"
             ],
             [
              0.2222222222222222,
              "#7201a8"
             ],
             [
              0.3333333333333333,
              "#9c179e"
             ],
             [
              0.4444444444444444,
              "#bd3786"
             ],
             [
              0.5555555555555556,
              "#d8576b"
             ],
             [
              0.6666666666666666,
              "#ed7953"
             ],
             [
              0.7777777777777778,
              "#fb9f3a"
             ],
             [
              0.8888888888888888,
              "#fdca26"
             ],
             [
              1,
              "#f0f921"
             ]
            ],
            "type": "heatmap"
           }
          ],
          "heatmapgl": [
           {
            "colorbar": {
             "outlinewidth": 0,
             "ticks": ""
            },
            "colorscale": [
             [
              0,
              "#0d0887"
             ],
             [
              0.1111111111111111,
              "#46039f"
             ],
             [
              0.2222222222222222,
              "#7201a8"
             ],
             [
              0.3333333333333333,
              "#9c179e"
             ],
             [
              0.4444444444444444,
              "#bd3786"
             ],
             [
              0.5555555555555556,
              "#d8576b"
             ],
             [
              0.6666666666666666,
              "#ed7953"
             ],
             [
              0.7777777777777778,
              "#fb9f3a"
             ],
             [
              0.8888888888888888,
              "#fdca26"
             ],
             [
              1,
              "#f0f921"
             ]
            ],
            "type": "heatmapgl"
           }
          ],
          "histogram": [
           {
            "marker": {
             "pattern": {
              "fillmode": "overlay",
              "size": 10,
              "solidity": 0.2
             }
            },
            "type": "histogram"
           }
          ],
          "histogram2d": [
           {
            "colorbar": {
             "outlinewidth": 0,
             "ticks": ""
            },
            "colorscale": [
             [
              0,
              "#0d0887"
             ],
             [
              0.1111111111111111,
              "#46039f"
             ],
             [
              0.2222222222222222,
              "#7201a8"
             ],
             [
              0.3333333333333333,
              "#9c179e"
             ],
             [
              0.4444444444444444,
              "#bd3786"
             ],
             [
              0.5555555555555556,
              "#d8576b"
             ],
             [
              0.6666666666666666,
              "#ed7953"
             ],
             [
              0.7777777777777778,
              "#fb9f3a"
             ],
             [
              0.8888888888888888,
              "#fdca26"
             ],
             [
              1,
              "#f0f921"
             ]
            ],
            "type": "histogram2d"
           }
          ],
          "histogram2dcontour": [
           {
            "colorbar": {
             "outlinewidth": 0,
             "ticks": ""
            },
            "colorscale": [
             [
              0,
              "#0d0887"
             ],
             [
              0.1111111111111111,
              "#46039f"
             ],
             [
              0.2222222222222222,
              "#7201a8"
             ],
             [
              0.3333333333333333,
              "#9c179e"
             ],
             [
              0.4444444444444444,
              "#bd3786"
             ],
             [
              0.5555555555555556,
              "#d8576b"
             ],
             [
              0.6666666666666666,
              "#ed7953"
             ],
             [
              0.7777777777777778,
              "#fb9f3a"
             ],
             [
              0.8888888888888888,
              "#fdca26"
             ],
             [
              1,
              "#f0f921"
             ]
            ],
            "type": "histogram2dcontour"
           }
          ],
          "mesh3d": [
           {
            "colorbar": {
             "outlinewidth": 0,
             "ticks": ""
            },
            "type": "mesh3d"
           }
          ],
          "parcoords": [
           {
            "line": {
             "colorbar": {
              "outlinewidth": 0,
              "ticks": ""
             }
            },
            "type": "parcoords"
           }
          ],
          "pie": [
           {
            "automargin": true,
            "type": "pie"
           }
          ],
          "scatter": [
           {
            "fillpattern": {
             "fillmode": "overlay",
             "size": 10,
             "solidity": 0.2
            },
            "type": "scatter"
           }
          ],
          "scatter3d": [
           {
            "line": {
             "colorbar": {
              "outlinewidth": 0,
              "ticks": ""
             }
            },
            "marker": {
             "colorbar": {
              "outlinewidth": 0,
              "ticks": ""
             }
            },
            "type": "scatter3d"
           }
          ],
          "scattercarpet": [
           {
            "marker": {
             "colorbar": {
              "outlinewidth": 0,
              "ticks": ""
             }
            },
            "type": "scattercarpet"
           }
          ],
          "scattergeo": [
           {
            "marker": {
             "colorbar": {
              "outlinewidth": 0,
              "ticks": ""
             }
            },
            "type": "scattergeo"
           }
          ],
          "scattergl": [
           {
            "marker": {
             "colorbar": {
              "outlinewidth": 0,
              "ticks": ""
             }
            },
            "type": "scattergl"
           }
          ],
          "scattermapbox": [
           {
            "marker": {
             "colorbar": {
              "outlinewidth": 0,
              "ticks": ""
             }
            },
            "type": "scattermapbox"
           }
          ],
          "scatterpolar": [
           {
            "marker": {
             "colorbar": {
              "outlinewidth": 0,
              "ticks": ""
             }
            },
            "type": "scatterpolar"
           }
          ],
          "scatterpolargl": [
           {
            "marker": {
             "colorbar": {
              "outlinewidth": 0,
              "ticks": ""
             }
            },
            "type": "scatterpolargl"
           }
          ],
          "scatterternary": [
           {
            "marker": {
             "colorbar": {
              "outlinewidth": 0,
              "ticks": ""
             }
            },
            "type": "scatterternary"
           }
          ],
          "surface": [
           {
            "colorbar": {
             "outlinewidth": 0,
             "ticks": ""
            },
            "colorscale": [
             [
              0,
              "#0d0887"
             ],
             [
              0.1111111111111111,
              "#46039f"
             ],
             [
              0.2222222222222222,
              "#7201a8"
             ],
             [
              0.3333333333333333,
              "#9c179e"
             ],
             [
              0.4444444444444444,
              "#bd3786"
             ],
             [
              0.5555555555555556,
              "#d8576b"
             ],
             [
              0.6666666666666666,
              "#ed7953"
             ],
             [
              0.7777777777777778,
              "#fb9f3a"
             ],
             [
              0.8888888888888888,
              "#fdca26"
             ],
             [
              1,
              "#f0f921"
             ]
            ],
            "type": "surface"
           }
          ],
          "table": [
           {
            "cells": {
             "fill": {
              "color": "#EBF0F8"
             },
             "line": {
              "color": "white"
             }
            },
            "header": {
             "fill": {
              "color": "#C8D4E3"
             },
             "line": {
              "color": "white"
             }
            },
            "type": "table"
           }
          ]
         },
         "layout": {
          "annotationdefaults": {
           "arrowcolor": "#2a3f5f",
           "arrowhead": 0,
           "arrowwidth": 1
          },
          "autotypenumbers": "strict",
          "coloraxis": {
           "colorbar": {
            "outlinewidth": 0,
            "ticks": ""
           }
          },
          "colorscale": {
           "diverging": [
            [
             0,
             "#8e0152"
            ],
            [
             0.1,
             "#c51b7d"
            ],
            [
             0.2,
             "#de77ae"
            ],
            [
             0.3,
             "#f1b6da"
            ],
            [
             0.4,
             "#fde0ef"
            ],
            [
             0.5,
             "#f7f7f7"
            ],
            [
             0.6,
             "#e6f5d0"
            ],
            [
             0.7,
             "#b8e186"
            ],
            [
             0.8,
             "#7fbc41"
            ],
            [
             0.9,
             "#4d9221"
            ],
            [
             1,
             "#276419"
            ]
           ],
           "sequential": [
            [
             0,
             "#0d0887"
            ],
            [
             0.1111111111111111,
             "#46039f"
            ],
            [
             0.2222222222222222,
             "#7201a8"
            ],
            [
             0.3333333333333333,
             "#9c179e"
            ],
            [
             0.4444444444444444,
             "#bd3786"
            ],
            [
             0.5555555555555556,
             "#d8576b"
            ],
            [
             0.6666666666666666,
             "#ed7953"
            ],
            [
             0.7777777777777778,
             "#fb9f3a"
            ],
            [
             0.8888888888888888,
             "#fdca26"
            ],
            [
             1,
             "#f0f921"
            ]
           ],
           "sequentialminus": [
            [
             0,
             "#0d0887"
            ],
            [
             0.1111111111111111,
             "#46039f"
            ],
            [
             0.2222222222222222,
             "#7201a8"
            ],
            [
             0.3333333333333333,
             "#9c179e"
            ],
            [
             0.4444444444444444,
             "#bd3786"
            ],
            [
             0.5555555555555556,
             "#d8576b"
            ],
            [
             0.6666666666666666,
             "#ed7953"
            ],
            [
             0.7777777777777778,
             "#fb9f3a"
            ],
            [
             0.8888888888888888,
             "#fdca26"
            ],
            [
             1,
             "#f0f921"
            ]
           ]
          },
          "colorway": [
           "#636efa",
           "#EF553B",
           "#00cc96",
           "#ab63fa",
           "#FFA15A",
           "#19d3f3",
           "#FF6692",
           "#B6E880",
           "#FF97FF",
           "#FECB52"
          ],
          "font": {
           "color": "#2a3f5f"
          },
          "geo": {
           "bgcolor": "white",
           "lakecolor": "white",
           "landcolor": "#E5ECF6",
           "showlakes": true,
           "showland": true,
           "subunitcolor": "white"
          },
          "hoverlabel": {
           "align": "left"
          },
          "hovermode": "closest",
          "mapbox": {
           "style": "light"
          },
          "paper_bgcolor": "white",
          "plot_bgcolor": "#E5ECF6",
          "polar": {
           "angularaxis": {
            "gridcolor": "white",
            "linecolor": "white",
            "ticks": ""
           },
           "bgcolor": "#E5ECF6",
           "radialaxis": {
            "gridcolor": "white",
            "linecolor": "white",
            "ticks": ""
           }
          },
          "scene": {
           "xaxis": {
            "backgroundcolor": "#E5ECF6",
            "gridcolor": "white",
            "gridwidth": 2,
            "linecolor": "white",
            "showbackground": true,
            "ticks": "",
            "zerolinecolor": "white"
           },
           "yaxis": {
            "backgroundcolor": "#E5ECF6",
            "gridcolor": "white",
            "gridwidth": 2,
            "linecolor": "white",
            "showbackground": true,
            "ticks": "",
            "zerolinecolor": "white"
           },
           "zaxis": {
            "backgroundcolor": "#E5ECF6",
            "gridcolor": "white",
            "gridwidth": 2,
            "linecolor": "white",
            "showbackground": true,
            "ticks": "",
            "zerolinecolor": "white"
           }
          },
          "shapedefaults": {
           "line": {
            "color": "#2a3f5f"
           }
          },
          "ternary": {
           "aaxis": {
            "gridcolor": "white",
            "linecolor": "white",
            "ticks": ""
           },
           "baxis": {
            "gridcolor": "white",
            "linecolor": "white",
            "ticks": ""
           },
           "bgcolor": "#E5ECF6",
           "caxis": {
            "gridcolor": "white",
            "linecolor": "white",
            "ticks": ""
           }
          },
          "title": {
           "x": 0.05
          },
          "xaxis": {
           "automargin": true,
           "gridcolor": "white",
           "linecolor": "white",
           "ticks": "",
           "title": {
            "standoff": 15
           },
           "zerolinecolor": "white",
           "zerolinewidth": 2
          },
          "yaxis": {
           "automargin": true,
           "gridcolor": "white",
           "linecolor": "white",
           "ticks": "",
           "title": {
            "standoff": 15
           },
           "zerolinecolor": "white",
           "zerolinewidth": 2
          }
         }
        },
        "xaxis": {
         "anchor": "y",
         "domain": [
          0,
          1
         ],
         "title": {
          "text": "weight"
         }
        },
        "xaxis2": {
         "anchor": "y2",
         "domain": [
          0,
          1
         ],
         "matches": "x",
         "showgrid": true,
         "showticklabels": false
        },
        "yaxis": {
         "anchor": "x",
         "domain": [
          0,
          0.7326
         ],
         "title": {
          "text": "count"
         }
        },
        "yaxis2": {
         "anchor": "x2",
         "domain": [
          0.7426,
          1
         ],
         "matches": "y2",
         "showgrid": false,
         "showline": false,
         "showticklabels": false,
         "ticks": ""
        }
       }
      }
     },
     "metadata": {},
     "output_type": "display_data"
    }
   ],
   "source": [
    "px.histogram(patient_df, x=\"weight\", color=\"gender\", marginal=\"box\", hover_data=patient_df.columns)"
   ]
  },
  {
   "attachments": {},
   "cell_type": "markdown",
   "metadata": {},
   "source": [
    "### Scatter matrix of \"closest_hospital\", \"height\" and \"weight\" by medical_problems"
   ]
  },
  {
   "cell_type": "code",
   "execution_count": 87,
   "metadata": {},
   "outputs": [
    {
     "data": {
      "application/vnd.plotly.v1+json": {
       "config": {
        "plotlyServerURL": "https://plot.ly"
       },
       "data": [
        {
         "dimensions": [
          {
           "axis": {
            "matches": true
           },
           "label": "closest_hospital",
           "values": [
            12,
            2,
            5,
            15,
            10,
            3
           ]
          },
          {
           "axis": {
            "matches": true
           },
           "label": "height",
           "values": [
            169,
            190,
            218,
            240,
            249,
            260
           ]
          },
          {
           "axis": {
            "matches": true
           },
           "label": "weight",
           "values": [
            63,
            76,
            79,
            77,
            101,
            60
           ]
          }
         ],
         "hovertemplate": "medical_problems=overweight<br>%{xaxis.title.text}=%{x}<br>%{yaxis.title.text}=%{y}<extra></extra>",
         "legendgroup": "overweight",
         "marker": {
          "color": "#636efa",
          "symbol": "circle"
         },
         "name": "overweight",
         "showlegend": true,
         "type": "splom"
        },
        {
         "dimensions": [
          {
           "axis": {
            "matches": true
           },
           "label": "closest_hospital",
           "values": [
            10,
            5,
            8,
            10,
            5,
            10
           ]
          },
          {
           "axis": {
            "matches": true
           },
           "label": "height",
           "values": [
            167,
            151,
            170,
            239,
            147,
            244
           ]
          },
          {
           "axis": {
            "matches": true
           },
           "label": "weight",
           "values": [
            79,
            86,
            91,
            77,
            73,
            83
           ]
          }
         ],
         "hovertemplate": "medical_problems=underweight<br>%{xaxis.title.text}=%{x}<br>%{yaxis.title.text}=%{y}<extra></extra>",
         "legendgroup": "underweight",
         "marker": {
          "color": "#EF553B",
          "symbol": "circle"
         },
         "name": "underweight",
         "showlegend": true,
         "type": "splom"
        },
        {
         "dimensions": [
          {
           "axis": {
            "matches": true
           },
           "label": "closest_hospital",
           "values": [
            5,
            3,
            8,
            10,
            1,
            10
           ]
          },
          {
           "axis": {
            "matches": true
           },
           "label": "height",
           "values": [
            147,
            181,
            259,
            258,
            237,
            193
           ]
          },
          {
           "axis": {
            "matches": true
           },
           "label": "weight",
           "values": [
            69,
            87,
            87,
            61,
            92,
            63
           ]
          }
         ],
         "hovertemplate": "medical_problems=drug addiction<br>%{xaxis.title.text}=%{x}<br>%{yaxis.title.text}=%{y}<extra></extra>",
         "legendgroup": "drug addiction",
         "marker": {
          "color": "#00cc96",
          "symbol": "circle"
         },
         "name": "drug addiction",
         "showlegend": true,
         "type": "splom"
        },
        {
         "dimensions": [
          {
           "axis": {
            "matches": true
           },
           "label": "closest_hospital",
           "values": [
            15,
            5,
            2,
            5,
            2,
            8,
            2,
            1,
            5,
            10,
            12,
            5,
            3,
            1,
            2,
            2
           ]
          },
          {
           "axis": {
            "matches": true
           },
           "label": "height",
           "values": [
            207,
            164,
            175,
            223,
            189,
            159,
            220,
            184,
            145,
            223,
            254,
            239,
            190,
            212,
            232,
            199
           ]
          },
          {
           "axis": {
            "matches": true
           },
           "label": "weight",
           "values": [
            91,
            76,
            83,
            77,
            86,
            88,
            67,
            89,
            77,
            81,
            96,
            98,
            78,
            84,
            99,
            83
           ]
          }
         ],
         "hovertemplate": "medical_problems=none<br>%{xaxis.title.text}=%{x}<br>%{yaxis.title.text}=%{y}<extra></extra>",
         "legendgroup": "none",
         "marker": {
          "color": "#ab63fa",
          "symbol": "circle"
         },
         "name": "none",
         "showlegend": true,
         "type": "splom"
        },
        {
         "dimensions": [
          {
           "axis": {
            "matches": true
           },
           "label": "closest_hospital",
           "values": [
            15,
            15,
            8,
            2,
            5,
            3,
            12
           ]
          },
          {
           "axis": {
            "matches": true
           },
           "label": "height",
           "values": [
            181,
            178,
            133,
            200,
            209,
            235,
            252
           ]
          },
          {
           "axis": {
            "matches": true
           },
           "label": "weight",
           "values": [
            87,
            73,
            102,
            85,
            101,
            94,
            101
           ]
          }
         ],
         "hovertemplate": "medical_problems=mental issue<br>%{xaxis.title.text}=%{x}<br>%{yaxis.title.text}=%{y}<extra></extra>",
         "legendgroup": "mental issue",
         "marker": {
          "color": "#FFA15A",
          "symbol": "circle"
         },
         "name": "mental issue",
         "showlegend": true,
         "type": "splom"
        },
        {
         "dimensions": [
          {
           "axis": {
            "matches": true
           },
           "label": "closest_hospital",
           "values": [
            3,
            2,
            1
           ]
          },
          {
           "axis": {
            "matches": true
           },
           "label": "height",
           "values": [
            162,
            225,
            252
           ]
          },
          {
           "axis": {
            "matches": true
           },
           "label": "weight",
           "values": [
            84,
            79,
            99
           ]
          }
         ],
         "hovertemplate": "medical_problems=not immunized<br>%{xaxis.title.text}=%{x}<br>%{yaxis.title.text}=%{y}<extra></extra>",
         "legendgroup": "not immunized",
         "marker": {
          "color": "#19d3f3",
          "symbol": "circle"
         },
         "name": "not immunized",
         "showlegend": true,
         "type": "splom"
        },
        {
         "dimensions": [
          {
           "axis": {
            "matches": true
           },
           "label": "closest_hospital",
           "values": [
            10,
            8,
            3
           ]
          },
          {
           "axis": {
            "matches": true
           },
           "label": "height",
           "values": [
            228,
            192,
            150
           ]
          },
          {
           "axis": {
            "matches": true
           },
           "label": "weight",
           "values": [
            73,
            89,
            77
           ]
          }
         ],
         "hovertemplate": "medical_problems=physical injury<br>%{xaxis.title.text}=%{x}<br>%{yaxis.title.text}=%{y}<extra></extra>",
         "legendgroup": "physical injury",
         "marker": {
          "color": "#FF6692",
          "symbol": "circle"
         },
         "name": "physical injury",
         "showlegend": true,
         "type": "splom"
        }
       ],
       "layout": {
        "dragmode": "select",
        "legend": {
         "title": {
          "text": "medical_problems"
         },
         "tracegroupgap": 0
        },
        "margin": {
         "t": 60
        },
        "template": {
         "data": {
          "bar": [
           {
            "error_x": {
             "color": "#2a3f5f"
            },
            "error_y": {
             "color": "#2a3f5f"
            },
            "marker": {
             "line": {
              "color": "#E5ECF6",
              "width": 0.5
             },
             "pattern": {
              "fillmode": "overlay",
              "size": 10,
              "solidity": 0.2
             }
            },
            "type": "bar"
           }
          ],
          "barpolar": [
           {
            "marker": {
             "line": {
              "color": "#E5ECF6",
              "width": 0.5
             },
             "pattern": {
              "fillmode": "overlay",
              "size": 10,
              "solidity": 0.2
             }
            },
            "type": "barpolar"
           }
          ],
          "carpet": [
           {
            "aaxis": {
             "endlinecolor": "#2a3f5f",
             "gridcolor": "white",
             "linecolor": "white",
             "minorgridcolor": "white",
             "startlinecolor": "#2a3f5f"
            },
            "baxis": {
             "endlinecolor": "#2a3f5f",
             "gridcolor": "white",
             "linecolor": "white",
             "minorgridcolor": "white",
             "startlinecolor": "#2a3f5f"
            },
            "type": "carpet"
           }
          ],
          "choropleth": [
           {
            "colorbar": {
             "outlinewidth": 0,
             "ticks": ""
            },
            "type": "choropleth"
           }
          ],
          "contour": [
           {
            "colorbar": {
             "outlinewidth": 0,
             "ticks": ""
            },
            "colorscale": [
             [
              0,
              "#0d0887"
             ],
             [
              0.1111111111111111,
              "#46039f"
             ],
             [
              0.2222222222222222,
              "#7201a8"
             ],
             [
              0.3333333333333333,
              "#9c179e"
             ],
             [
              0.4444444444444444,
              "#bd3786"
             ],
             [
              0.5555555555555556,
              "#d8576b"
             ],
             [
              0.6666666666666666,
              "#ed7953"
             ],
             [
              0.7777777777777778,
              "#fb9f3a"
             ],
             [
              0.8888888888888888,
              "#fdca26"
             ],
             [
              1,
              "#f0f921"
             ]
            ],
            "type": "contour"
           }
          ],
          "contourcarpet": [
           {
            "colorbar": {
             "outlinewidth": 0,
             "ticks": ""
            },
            "type": "contourcarpet"
           }
          ],
          "heatmap": [
           {
            "colorbar": {
             "outlinewidth": 0,
             "ticks": ""
            },
            "colorscale": [
             [
              0,
              "#0d0887"
             ],
             [
              0.1111111111111111,
              "#46039f"
             ],
             [
              0.2222222222222222,
              "#7201a8"
             ],
             [
              0.3333333333333333,
              "#9c179e"
             ],
             [
              0.4444444444444444,
              "#bd3786"
             ],
             [
              0.5555555555555556,
              "#d8576b"
             ],
             [
              0.6666666666666666,
              "#ed7953"
             ],
             [
              0.7777777777777778,
              "#fb9f3a"
             ],
             [
              0.8888888888888888,
              "#fdca26"
             ],
             [
              1,
              "#f0f921"
             ]
            ],
            "type": "heatmap"
           }
          ],
          "heatmapgl": [
           {
            "colorbar": {
             "outlinewidth": 0,
             "ticks": ""
            },
            "colorscale": [
             [
              0,
              "#0d0887"
             ],
             [
              0.1111111111111111,
              "#46039f"
             ],
             [
              0.2222222222222222,
              "#7201a8"
             ],
             [
              0.3333333333333333,
              "#9c179e"
             ],
             [
              0.4444444444444444,
              "#bd3786"
             ],
             [
              0.5555555555555556,
              "#d8576b"
             ],
             [
              0.6666666666666666,
              "#ed7953"
             ],
             [
              0.7777777777777778,
              "#fb9f3a"
             ],
             [
              0.8888888888888888,
              "#fdca26"
             ],
             [
              1,
              "#f0f921"
             ]
            ],
            "type": "heatmapgl"
           }
          ],
          "histogram": [
           {
            "marker": {
             "pattern": {
              "fillmode": "overlay",
              "size": 10,
              "solidity": 0.2
             }
            },
            "type": "histogram"
           }
          ],
          "histogram2d": [
           {
            "colorbar": {
             "outlinewidth": 0,
             "ticks": ""
            },
            "colorscale": [
             [
              0,
              "#0d0887"
             ],
             [
              0.1111111111111111,
              "#46039f"
             ],
             [
              0.2222222222222222,
              "#7201a8"
             ],
             [
              0.3333333333333333,
              "#9c179e"
             ],
             [
              0.4444444444444444,
              "#bd3786"
             ],
             [
              0.5555555555555556,
              "#d8576b"
             ],
             [
              0.6666666666666666,
              "#ed7953"
             ],
             [
              0.7777777777777778,
              "#fb9f3a"
             ],
             [
              0.8888888888888888,
              "#fdca26"
             ],
             [
              1,
              "#f0f921"
             ]
            ],
            "type": "histogram2d"
           }
          ],
          "histogram2dcontour": [
           {
            "colorbar": {
             "outlinewidth": 0,
             "ticks": ""
            },
            "colorscale": [
             [
              0,
              "#0d0887"
             ],
             [
              0.1111111111111111,
              "#46039f"
             ],
             [
              0.2222222222222222,
              "#7201a8"
             ],
             [
              0.3333333333333333,
              "#9c179e"
             ],
             [
              0.4444444444444444,
              "#bd3786"
             ],
             [
              0.5555555555555556,
              "#d8576b"
             ],
             [
              0.6666666666666666,
              "#ed7953"
             ],
             [
              0.7777777777777778,
              "#fb9f3a"
             ],
             [
              0.8888888888888888,
              "#fdca26"
             ],
             [
              1,
              "#f0f921"
             ]
            ],
            "type": "histogram2dcontour"
           }
          ],
          "mesh3d": [
           {
            "colorbar": {
             "outlinewidth": 0,
             "ticks": ""
            },
            "type": "mesh3d"
           }
          ],
          "parcoords": [
           {
            "line": {
             "colorbar": {
              "outlinewidth": 0,
              "ticks": ""
             }
            },
            "type": "parcoords"
           }
          ],
          "pie": [
           {
            "automargin": true,
            "type": "pie"
           }
          ],
          "scatter": [
           {
            "fillpattern": {
             "fillmode": "overlay",
             "size": 10,
             "solidity": 0.2
            },
            "type": "scatter"
           }
          ],
          "scatter3d": [
           {
            "line": {
             "colorbar": {
              "outlinewidth": 0,
              "ticks": ""
             }
            },
            "marker": {
             "colorbar": {
              "outlinewidth": 0,
              "ticks": ""
             }
            },
            "type": "scatter3d"
           }
          ],
          "scattercarpet": [
           {
            "marker": {
             "colorbar": {
              "outlinewidth": 0,
              "ticks": ""
             }
            },
            "type": "scattercarpet"
           }
          ],
          "scattergeo": [
           {
            "marker": {
             "colorbar": {
              "outlinewidth": 0,
              "ticks": ""
             }
            },
            "type": "scattergeo"
           }
          ],
          "scattergl": [
           {
            "marker": {
             "colorbar": {
              "outlinewidth": 0,
              "ticks": ""
             }
            },
            "type": "scattergl"
           }
          ],
          "scattermapbox": [
           {
            "marker": {
             "colorbar": {
              "outlinewidth": 0,
              "ticks": ""
             }
            },
            "type": "scattermapbox"
           }
          ],
          "scatterpolar": [
           {
            "marker": {
             "colorbar": {
              "outlinewidth": 0,
              "ticks": ""
             }
            },
            "type": "scatterpolar"
           }
          ],
          "scatterpolargl": [
           {
            "marker": {
             "colorbar": {
              "outlinewidth": 0,
              "ticks": ""
             }
            },
            "type": "scatterpolargl"
           }
          ],
          "scatterternary": [
           {
            "marker": {
             "colorbar": {
              "outlinewidth": 0,
              "ticks": ""
             }
            },
            "type": "scatterternary"
           }
          ],
          "surface": [
           {
            "colorbar": {
             "outlinewidth": 0,
             "ticks": ""
            },
            "colorscale": [
             [
              0,
              "#0d0887"
             ],
             [
              0.1111111111111111,
              "#46039f"
             ],
             [
              0.2222222222222222,
              "#7201a8"
             ],
             [
              0.3333333333333333,
              "#9c179e"
             ],
             [
              0.4444444444444444,
              "#bd3786"
             ],
             [
              0.5555555555555556,
              "#d8576b"
             ],
             [
              0.6666666666666666,
              "#ed7953"
             ],
             [
              0.7777777777777778,
              "#fb9f3a"
             ],
             [
              0.8888888888888888,
              "#fdca26"
             ],
             [
              1,
              "#f0f921"
             ]
            ],
            "type": "surface"
           }
          ],
          "table": [
           {
            "cells": {
             "fill": {
              "color": "#EBF0F8"
             },
             "line": {
              "color": "white"
             }
            },
            "header": {
             "fill": {
              "color": "#C8D4E3"
             },
             "line": {
              "color": "white"
             }
            },
            "type": "table"
           }
          ]
         },
         "layout": {
          "annotationdefaults": {
           "arrowcolor": "#2a3f5f",
           "arrowhead": 0,
           "arrowwidth": 1
          },
          "autotypenumbers": "strict",
          "coloraxis": {
           "colorbar": {
            "outlinewidth": 0,
            "ticks": ""
           }
          },
          "colorscale": {
           "diverging": [
            [
             0,
             "#8e0152"
            ],
            [
             0.1,
             "#c51b7d"
            ],
            [
             0.2,
             "#de77ae"
            ],
            [
             0.3,
             "#f1b6da"
            ],
            [
             0.4,
             "#fde0ef"
            ],
            [
             0.5,
             "#f7f7f7"
            ],
            [
             0.6,
             "#e6f5d0"
            ],
            [
             0.7,
             "#b8e186"
            ],
            [
             0.8,
             "#7fbc41"
            ],
            [
             0.9,
             "#4d9221"
            ],
            [
             1,
             "#276419"
            ]
           ],
           "sequential": [
            [
             0,
             "#0d0887"
            ],
            [
             0.1111111111111111,
             "#46039f"
            ],
            [
             0.2222222222222222,
             "#7201a8"
            ],
            [
             0.3333333333333333,
             "#9c179e"
            ],
            [
             0.4444444444444444,
             "#bd3786"
            ],
            [
             0.5555555555555556,
             "#d8576b"
            ],
            [
             0.6666666666666666,
             "#ed7953"
            ],
            [
             0.7777777777777778,
             "#fb9f3a"
            ],
            [
             0.8888888888888888,
             "#fdca26"
            ],
            [
             1,
             "#f0f921"
            ]
           ],
           "sequentialminus": [
            [
             0,
             "#0d0887"
            ],
            [
             0.1111111111111111,
             "#46039f"
            ],
            [
             0.2222222222222222,
             "#7201a8"
            ],
            [
             0.3333333333333333,
             "#9c179e"
            ],
            [
             0.4444444444444444,
             "#bd3786"
            ],
            [
             0.5555555555555556,
             "#d8576b"
            ],
            [
             0.6666666666666666,
             "#ed7953"
            ],
            [
             0.7777777777777778,
             "#fb9f3a"
            ],
            [
             0.8888888888888888,
             "#fdca26"
            ],
            [
             1,
             "#f0f921"
            ]
           ]
          },
          "colorway": [
           "#636efa",
           "#EF553B",
           "#00cc96",
           "#ab63fa",
           "#FFA15A",
           "#19d3f3",
           "#FF6692",
           "#B6E880",
           "#FF97FF",
           "#FECB52"
          ],
          "font": {
           "color": "#2a3f5f"
          },
          "geo": {
           "bgcolor": "white",
           "lakecolor": "white",
           "landcolor": "#E5ECF6",
           "showlakes": true,
           "showland": true,
           "subunitcolor": "white"
          },
          "hoverlabel": {
           "align": "left"
          },
          "hovermode": "closest",
          "mapbox": {
           "style": "light"
          },
          "paper_bgcolor": "white",
          "plot_bgcolor": "#E5ECF6",
          "polar": {
           "angularaxis": {
            "gridcolor": "white",
            "linecolor": "white",
            "ticks": ""
           },
           "bgcolor": "#E5ECF6",
           "radialaxis": {
            "gridcolor": "white",
            "linecolor": "white",
            "ticks": ""
           }
          },
          "scene": {
           "xaxis": {
            "backgroundcolor": "#E5ECF6",
            "gridcolor": "white",
            "gridwidth": 2,
            "linecolor": "white",
            "showbackground": true,
            "ticks": "",
            "zerolinecolor": "white"
           },
           "yaxis": {
            "backgroundcolor": "#E5ECF6",
            "gridcolor": "white",
            "gridwidth": 2,
            "linecolor": "white",
            "showbackground": true,
            "ticks": "",
            "zerolinecolor": "white"
           },
           "zaxis": {
            "backgroundcolor": "#E5ECF6",
            "gridcolor": "white",
            "gridwidth": 2,
            "linecolor": "white",
            "showbackground": true,
            "ticks": "",
            "zerolinecolor": "white"
           }
          },
          "shapedefaults": {
           "line": {
            "color": "#2a3f5f"
           }
          },
          "ternary": {
           "aaxis": {
            "gridcolor": "white",
            "linecolor": "white",
            "ticks": ""
           },
           "baxis": {
            "gridcolor": "white",
            "linecolor": "white",
            "ticks": ""
           },
           "bgcolor": "#E5ECF6",
           "caxis": {
            "gridcolor": "white",
            "linecolor": "white",
            "ticks": ""
           }
          },
          "title": {
           "x": 0.05
          },
          "xaxis": {
           "automargin": true,
           "gridcolor": "white",
           "linecolor": "white",
           "ticks": "",
           "title": {
            "standoff": 15
           },
           "zerolinecolor": "white",
           "zerolinewidth": 2
          },
          "yaxis": {
           "automargin": true,
           "gridcolor": "white",
           "linecolor": "white",
           "ticks": "",
           "title": {
            "standoff": 15
           },
           "zerolinecolor": "white",
           "zerolinewidth": 2
          }
         }
        }
       }
      }
     },
     "metadata": {},
     "output_type": "display_data"
    }
   ],
   "source": [
    "fig = px.scatter_matrix(patient_df,\n",
    "    dimensions=[\"closest_hospital\", \"height\", \"weight\"],\n",
    "    color=\"medical_problems\")\n",
    "fig.show()"
   ]
  },
  {
   "attachments": {},
   "cell_type": "markdown",
   "metadata": {},
   "source": [
    "### Histogram of \"closest_hospital\" by medical_problems"
   ]
  },
  {
   "cell_type": "code",
   "execution_count": 88,
   "metadata": {},
   "outputs": [
    {
     "data": {
      "application/vnd.plotly.v1+json": {
       "config": {
        "plotlyServerURL": "https://plot.ly"
       },
       "data": [
        {
         "alignmentgroup": "True",
         "bingroup": "x",
         "histfunc": "sum",
         "hovertemplate": "medical_problems=overweight<br>closest_hospital=%{x}<br>sum of height=%{y}<extra></extra>",
         "legendgroup": "overweight",
         "marker": {
          "color": "#636efa",
          "pattern": {
           "shape": ""
          }
         },
         "name": "overweight",
         "offsetgroup": "overweight",
         "orientation": "v",
         "showlegend": true,
         "type": "histogram",
         "x": [
          12,
          2,
          5,
          15,
          10,
          3
         ],
         "xaxis": "x",
         "y": [
          169,
          190,
          218,
          240,
          249,
          260
         ],
         "yaxis": "y"
        },
        {
         "alignmentgroup": "True",
         "customdata": [
          [
           "pollen",
           "A-",
           "rural",
           "nigeria",
           "2006-06-15 00:00:00",
           "delirium",
           "GARBO SHARRON",
           "Male",
           "Yes",
           "Yes",
           "single",
           "overweight",
           63
          ],
          [
           "flowers",
           "B-",
           "urban",
           "nigeria",
           "1988-04-11 00:00:00",
           "ruptured discs",
           "ADREAN NEKO",
           "Female",
           "Yes",
           "No",
           "single",
           "overweight",
           76
          ],
          [
           "dust",
           "A-",
           "urban",
           "nigeria",
           "2007-12-16 00:00:00",
           "alzheimer's",
           "ANNE-SOPHIE HERO",
           "Male",
           "Yes",
           "Yes",
           "single",
           "overweight",
           79
          ],
          [
           "nuts",
           "A+",
           "suburban",
           "nigeria",
           "1983-09-19 00:00:00",
           "scoliosis",
           "ANNISIA HERU",
           "Male",
           "No",
           "No",
           "married",
           "overweight",
           77
          ],
          [
           "dust",
           "A-",
           "urban",
           "nigeria",
           "1988-02-15 00:00:00",
           "none",
           "GAYLORD SHAVON",
           "Female",
           "No",
           "Yes",
           "single",
           "overweight",
           101
          ],
          [
           "flowers",
           "O-",
           "urban",
           "nigeria",
           "1994-02-11 00:00:00",
           "amnesia",
           "GEETHA SHAWNTA",
           "Male",
           "Yes",
           "No",
           "single",
           "overweight",
           60
          ]
         ],
         "hovertemplate": "medical_problems=%{customdata[11]}<br>closest_hospital=%{x}<br>allergies=%{customdata[0]}<br>blood_type=%{customdata[1]}<br>community=%{customdata[2]}<br>country=%{customdata[3]}<br>date_of_birth=%{customdata[4]}<br>disabilities=%{customdata[5]}<br>name=%{customdata[6]}<br>gender=%{customdata[7]}<br>has_children=%{customdata[8]}<br>has_dependent=%{customdata[9]}<br>marital_status=%{customdata[10]}<br>weight=%{customdata[12]}<extra></extra>",
         "legendgroup": "overweight",
         "marker": {
          "color": "#636efa"
         },
         "name": "overweight",
         "notched": true,
         "offsetgroup": "overweight",
         "showlegend": false,
         "type": "box",
         "x": [
          12,
          2,
          5,
          15,
          10,
          3
         ],
         "xaxis": "x2",
         "yaxis": "y2"
        },
        {
         "alignmentgroup": "True",
         "bingroup": "x",
         "histfunc": "sum",
         "hovertemplate": "medical_problems=underweight<br>closest_hospital=%{x}<br>sum of height=%{y}<extra></extra>",
         "legendgroup": "underweight",
         "marker": {
          "color": "#EF553B",
          "pattern": {
           "shape": ""
          }
         },
         "name": "underweight",
         "offsetgroup": "underweight",
         "orientation": "v",
         "showlegend": true,
         "type": "histogram",
         "x": [
          10,
          5,
          8,
          10,
          5,
          10
         ],
         "xaxis": "x",
         "y": [
          167,
          151,
          170,
          239,
          147,
          244
         ],
         "yaxis": "y"
        },
        {
         "alignmentgroup": "True",
         "customdata": [
          [
           "nuts",
           "B-",
           "urban",
           "nigeria",
           "2010-03-21 00:00:00",
           "alzheimer's",
           "ANKUR HENDRY",
           "Female",
           "No",
           "Yes",
           "single",
           "underweight",
           79
          ],
          [
           "pollen",
           "AB-",
           "rural",
           "nigeria",
           "1996-08-11 00:00:00",
           "ruptured discs",
           "ANNABELLA HENNESSEY",
           "Female",
           "No",
           "Yes",
           "widowed",
           "underweight",
           86
          ],
          [
           "flowers",
           "A+",
           "urban",
           "nigeria",
           "1998-07-24 00:00:00",
           "none",
           "ANNA-LISA HENRIQUE",
           "Female",
           "Yes",
           "No",
           "single",
           "underweight",
           91
          ],
          [
           "flowers",
           "AB+",
           "rural",
           "nigeria",
           "1989-02-25 00:00:00",
           "fibromas",
           "AEISHA NENA",
           "Male",
           "No",
           "Yes",
           "single",
           "underweight",
           77
          ],
          [
           "pollen",
           "A-",
           "urban",
           "nigeria",
           "1990-01-15 00:00:00",
           "fibromas",
           "GAURAV SHAUNTA",
           "Male",
           "No",
           "Yes",
           "single",
           "underweight",
           73
          ],
          [
           "nuts",
           "B-",
           "urban",
           "nigeria",
           "2005-06-23 00:00:00",
           "none",
           "GEANINE SHAWNDA",
           "Female",
           "No",
           "Yes",
           "single",
           "underweight",
           83
          ]
         ],
         "hovertemplate": "medical_problems=%{customdata[11]}<br>closest_hospital=%{x}<br>allergies=%{customdata[0]}<br>blood_type=%{customdata[1]}<br>community=%{customdata[2]}<br>country=%{customdata[3]}<br>date_of_birth=%{customdata[4]}<br>disabilities=%{customdata[5]}<br>name=%{customdata[6]}<br>gender=%{customdata[7]}<br>has_children=%{customdata[8]}<br>has_dependent=%{customdata[9]}<br>marital_status=%{customdata[10]}<br>weight=%{customdata[12]}<extra></extra>",
         "legendgroup": "underweight",
         "marker": {
          "color": "#EF553B"
         },
         "name": "underweight",
         "notched": true,
         "offsetgroup": "underweight",
         "showlegend": false,
         "type": "box",
         "x": [
          10,
          5,
          8,
          10,
          5,
          10
         ],
         "xaxis": "x2",
         "yaxis": "y2"
        },
        {
         "alignmentgroup": "True",
         "bingroup": "x",
         "histfunc": "sum",
         "hovertemplate": "medical_problems=drug addiction<br>closest_hospital=%{x}<br>sum of height=%{y}<extra></extra>",
         "legendgroup": "drug addiction",
         "marker": {
          "color": "#00cc96",
          "pattern": {
           "shape": ""
          }
         },
         "name": "drug addiction",
         "offsetgroup": "drug addiction",
         "orientation": "v",
         "showlegend": true,
         "type": "histogram",
         "x": [
          5,
          3,
          8,
          10,
          1,
          10
         ],
         "xaxis": "x",
         "y": [
          147,
          181,
          259,
          258,
          237,
          193
         ],
         "yaxis": "y"
        },
        {
         "alignmentgroup": "True",
         "customdata": [
          [
           "nuts",
           "A+",
           "urban",
           "nigeria",
           "2012-08-24 00:00:00",
           "arthritis",
           "ADONIJAH NEKA",
           "Male",
           "No",
           "No",
           "divorced",
           "drug addiction",
           69
          ],
          [
           "pollen",
           "O-",
           "rural",
           "nigeria",
           "1988-03-15 00:00:00",
           "atherosclerosis",
           "ADY NEMA",
           "Male",
           "No",
           "Yes",
           "married",
           "drug addiction",
           87
          ],
          [
           "pollen",
           "AB+",
           "suburban",
           "nigeria",
           "2004-10-15 00:00:00",
           "arthritis",
           "AFONSO NEREYDA",
           "Male",
           "No",
           "Yes",
           "divorced",
           "drug addiction",
           87
          ],
          [
           "pollen",
           "AB-",
           "urban",
           "nigeria",
           "1993-07-09 00:00:00",
           "none",
           "GEENA SHAWNETTE",
           "Male",
           "Yes",
           "No",
           "single",
           "drug addiction",
           61
          ],
          [
           "pollen",
           "B-",
           "suburban",
           "nigeria",
           "2004-04-25 00:00:00",
           "none",
           "ANSIL HIJIRI",
           "Male",
           "No",
           "Yes",
           "widowed",
           "drug addiction",
           92
          ],
          [
           "dust",
           "A+",
           "rural",
           "nigeria",
           "2011-11-16 00:00:00",
           "alzheimer's",
           "AGRON NEVENA",
           "Male",
           "Yes",
           "Yes",
           "divorced",
           "drug addiction",
           63
          ]
         ],
         "hovertemplate": "medical_problems=%{customdata[11]}<br>closest_hospital=%{x}<br>allergies=%{customdata[0]}<br>blood_type=%{customdata[1]}<br>community=%{customdata[2]}<br>country=%{customdata[3]}<br>date_of_birth=%{customdata[4]}<br>disabilities=%{customdata[5]}<br>name=%{customdata[6]}<br>gender=%{customdata[7]}<br>has_children=%{customdata[8]}<br>has_dependent=%{customdata[9]}<br>marital_status=%{customdata[10]}<br>weight=%{customdata[12]}<extra></extra>",
         "legendgroup": "drug addiction",
         "marker": {
          "color": "#00cc96"
         },
         "name": "drug addiction",
         "notched": true,
         "offsetgroup": "drug addiction",
         "showlegend": false,
         "type": "box",
         "x": [
          5,
          3,
          8,
          10,
          1,
          10
         ],
         "xaxis": "x2",
         "yaxis": "y2"
        },
        {
         "alignmentgroup": "True",
         "bingroup": "x",
         "histfunc": "sum",
         "hovertemplate": "medical_problems=none<br>closest_hospital=%{x}<br>sum of height=%{y}<extra></extra>",
         "legendgroup": "none",
         "marker": {
          "color": "#ab63fa",
          "pattern": {
           "shape": ""
          }
         },
         "name": "none",
         "offsetgroup": "none",
         "orientation": "v",
         "showlegend": true,
         "type": "histogram",
         "x": [
          15,
          5,
          2,
          5,
          2,
          8,
          2,
          1,
          5,
          10,
          12,
          5,
          3,
          1,
          2,
          2
         ],
         "xaxis": "x",
         "y": [
          207,
          164,
          175,
          223,
          189,
          159,
          220,
          184,
          145,
          223,
          254,
          239,
          190,
          212,
          232,
          199
         ],
         "yaxis": "y"
        },
        {
         "alignmentgroup": "True",
         "customdata": [
          [
           "pollen",
           "B+",
           "urban",
           "nigeria",
           "1996-01-13 00:00:00",
           "ruptured discs",
           "GARETH SHASHWAT",
           "Female",
           "No",
           "Yes",
           "divorced",
           "none",
           91
          ],
          [
           "pollen",
           "AB-",
           "suburban",
           "nigeria",
           "1987-09-08 00:00:00",
           "fibromas",
           "ADRIANNA NELINI",
           "Male",
           "Yes",
           "No",
           "single",
           "none",
           76
          ],
          [
           "pollen",
           "B-",
           "rural",
           "nigeria",
           "2010-01-16 00:00:00",
           "cyclothimic disorder",
           "GARRETH SHATIK",
           "Male",
           "No",
           "No",
           "single",
           "none",
           83
          ],
          [
           "pollen",
           "AB-",
           "rural",
           "nigeria",
           "1988-10-27 00:00:00",
           "alzheimer's",
           "ADRION NELSI",
           "Male",
           "No",
           "No",
           "single",
           "none",
           77
          ],
          [
           "flowers",
           "AB+",
           "urban",
           "nigeria",
           "1995-09-13 00:00:00",
           "cyclothimic disorder",
           "ADUNNI NELSY",
           "Female",
           "Yes",
           "Yes",
           "married",
           "none",
           86
          ],
          [
           "dust",
           "AB-",
           "rural",
           "nigeria",
           "1984-11-15 00:00:00",
           "amnesia",
           "AESHA NENETTE",
           "Female",
           "Yes",
           "Yes",
           "widowed",
           "none",
           88
          ],
          [
           "pollen",
           "AB-",
           "rural",
           "nigeria",
           "2010-07-10 00:00:00",
           "fibromas",
           "AFEISHA NEO",
           "Female",
           "No",
           "No",
           "single",
           "none",
           67
          ],
          [
           "pollen",
           "B-",
           "urban",
           "nigeria",
           "1989-06-04 00:00:00",
           "cyclothimic disorder",
           "ANNICA HERSHEL",
           "Female",
           "No",
           "No",
           "single",
           "none",
           89
          ],
          [
           "dust",
           "O-",
           "urban",
           "nigeria",
           "2007-10-24 00:00:00",
           "amnesia",
           "GAY SHAVA",
           "Female",
           "No",
           "No",
           "single",
           "none",
           77
          ],
          [
           "dust",
           "A+",
           "urban",
           "nigeria",
           "2009-08-26 00:00:00",
           "amnesia",
           "AFSHIN NESHA",
           "Female",
           "Yes",
           "Yes",
           "single",
           "none",
           81
          ],
          [
           "dust",
           "B-",
           "urban",
           "nigeria",
           "1997-04-13 00:00:00",
           "cyclothimic disorder",
           "ANOOP HESKY",
           "Female",
           "No",
           "Yes",
           "single",
           "none",
           96
          ],
          [
           "dust",
           "AB-",
           "rural",
           "nigeria",
           "2012-03-19 00:00:00",
           "none",
           "AGAM NESSIE",
           "Male",
           "Yes",
           "Yes",
           "widowed",
           "none",
           98
          ],
          [
           "dust",
           "B-",
           "suburban",
           "nigeria",
           "1994-10-05 00:00:00",
           "arthritis",
           "ANOWAR HIBA",
           "Female",
           "No",
           "No",
           "single",
           "none",
           78
          ],
          [
           "pollen",
           "B+",
           "suburban",
           "nigeria",
           "1991-05-07 00:00:00",
           "cyclothimic disorder",
           "AGNE NEUMAN",
           "Male",
           "Yes",
           "Yes",
           "single",
           "none",
           84
          ],
          [
           "dust",
           "AB+",
           "rural",
           "nigeria",
           "2006-12-01 00:00:00",
           "cyclothimic disorder",
           "AGNÃˆS NEVA",
           "Male",
           "Yes",
           "Yes",
           "single",
           "none",
           99
          ],
          [
           "dust",
           "AB+",
           "urban",
           "nigeria",
           "1996-05-14 00:00:00",
           "none",
           "AGUSTINA NEVILLE",
           "Female",
           "Yes",
           "Yes",
           "single",
           "none",
           83
          ]
         ],
         "hovertemplate": "medical_problems=%{customdata[11]}<br>closest_hospital=%{x}<br>allergies=%{customdata[0]}<br>blood_type=%{customdata[1]}<br>community=%{customdata[2]}<br>country=%{customdata[3]}<br>date_of_birth=%{customdata[4]}<br>disabilities=%{customdata[5]}<br>name=%{customdata[6]}<br>gender=%{customdata[7]}<br>has_children=%{customdata[8]}<br>has_dependent=%{customdata[9]}<br>marital_status=%{customdata[10]}<br>weight=%{customdata[12]}<extra></extra>",
         "legendgroup": "none",
         "marker": {
          "color": "#ab63fa"
         },
         "name": "none",
         "notched": true,
         "offsetgroup": "none",
         "showlegend": false,
         "type": "box",
         "x": [
          15,
          5,
          2,
          5,
          2,
          8,
          2,
          1,
          5,
          10,
          12,
          5,
          3,
          1,
          2,
          2
         ],
         "xaxis": "x2",
         "yaxis": "y2"
        },
        {
         "alignmentgroup": "True",
         "bingroup": "x",
         "histfunc": "sum",
         "hovertemplate": "medical_problems=mental issue<br>closest_hospital=%{x}<br>sum of height=%{y}<extra></extra>",
         "legendgroup": "mental issue",
         "marker": {
          "color": "#FFA15A",
          "pattern": {
           "shape": ""
          }
         },
         "name": "mental issue",
         "offsetgroup": "mental issue",
         "orientation": "v",
         "showlegend": true,
         "type": "histogram",
         "x": [
          15,
          15,
          8,
          2,
          5,
          3,
          12
         ],
         "xaxis": "x",
         "y": [
          181,
          178,
          133,
          200,
          209,
          235,
          252
         ],
         "yaxis": "y"
        },
        {
         "alignmentgroup": "True",
         "customdata": [
          [
           "dust",
           "B+",
           "rural",
           "nigeria",
           "2011-04-02 00:00:00",
           "alzheimer's",
           "ADRIANA NELI",
           "Male",
           "No",
           "Yes",
           "single",
           "mental issue",
           87
          ],
          [
           "flowers",
           "O+",
           "urban",
           "nigeria",
           "1988-10-15 00:00:00",
           "amnesia",
           "GARNETTE SHATERA",
           "Male",
           "No",
           "Yes",
           "divorced",
           "mental issue",
           73
          ],
          [
           "flowers",
           "AB+",
           "suburban",
           "nigeria",
           "2012-08-02 00:00:00",
           "none",
           "ANNELISE HERMES",
           "Female",
           "Yes",
           "Yes",
           "single",
           "mental issue",
           102
          ],
          [
           "flowers",
           "B+",
           "suburban",
           "nigeria",
           "2000-10-22 00:00:00",
           "ruptured discs",
           "ANNEMARIE HERMINIO",
           "Male",
           "No",
           "No",
           "married",
           "mental issue",
           85
          ],
          [
           "flowers",
           "AB-",
           "rural",
           "nigeria",
           "2005-07-20 00:00:00",
           "atherosclerosis",
           "GELISA SHAWNTIA",
           "Female",
           "No",
           "No",
           "single",
           "mental issue",
           101
          ],
          [
           "dust",
           "AB+",
           "urban",
           "nigeria",
           "1997-08-13 00:00:00",
           "none",
           "GEM SHAYA",
           "Female",
           "No",
           "Yes",
           "widowed",
           "mental issue",
           94
          ],
          [
           "nuts",
           "O+",
           "rural",
           "nigeria",
           "2007-01-23 00:00:00",
           "atherosclerosis",
           "ANTHE HILDY",
           "Male",
           "Yes",
           "Yes",
           "single",
           "mental issue",
           101
          ]
         ],
         "hovertemplate": "medical_problems=%{customdata[11]}<br>closest_hospital=%{x}<br>allergies=%{customdata[0]}<br>blood_type=%{customdata[1]}<br>community=%{customdata[2]}<br>country=%{customdata[3]}<br>date_of_birth=%{customdata[4]}<br>disabilities=%{customdata[5]}<br>name=%{customdata[6]}<br>gender=%{customdata[7]}<br>has_children=%{customdata[8]}<br>has_dependent=%{customdata[9]}<br>marital_status=%{customdata[10]}<br>weight=%{customdata[12]}<extra></extra>",
         "legendgroup": "mental issue",
         "marker": {
          "color": "#FFA15A"
         },
         "name": "mental issue",
         "notched": true,
         "offsetgroup": "mental issue",
         "showlegend": false,
         "type": "box",
         "x": [
          15,
          15,
          8,
          2,
          5,
          3,
          12
         ],
         "xaxis": "x2",
         "yaxis": "y2"
        },
        {
         "alignmentgroup": "True",
         "bingroup": "x",
         "histfunc": "sum",
         "hovertemplate": "medical_problems=not immunized<br>closest_hospital=%{x}<br>sum of height=%{y}<extra></extra>",
         "legendgroup": "not immunized",
         "marker": {
          "color": "#19d3f3",
          "pattern": {
           "shape": ""
          }
         },
         "name": "not immunized",
         "offsetgroup": "not immunized",
         "orientation": "v",
         "showlegend": true,
         "type": "histogram",
         "x": [
          3,
          2,
          1
         ],
         "xaxis": "x",
         "y": [
          162,
          225,
          252
         ],
         "yaxis": "y"
        },
        {
         "alignmentgroup": "True",
         "customdata": [
          [
           "dust",
           "B+",
           "urban",
           "nigeria",
           "1998-11-30 00:00:00",
           "scoliosis",
           "ADRIELLE NELLI",
           "Male",
           "Yes",
           "Yes",
           "single",
           "not immunized",
           84
          ],
          [
           "flowers",
           "A-",
           "suburban",
           "nigeria",
           "1987-10-10 00:00:00",
           "delirium",
           "ANNIKA HERSON",
           "Male",
           "No",
           "No",
           "single",
           "not immunized",
           79
          ],
          [
           "nuts",
           "O-",
           "urban",
           "nigeria",
           "1993-04-17 00:00:00",
           "fibromas",
           "AFZAL NESRIN",
           "Female",
           "Yes",
           "No",
           "single",
           "not immunized",
           99
          ]
         ],
         "hovertemplate": "medical_problems=%{customdata[11]}<br>closest_hospital=%{x}<br>allergies=%{customdata[0]}<br>blood_type=%{customdata[1]}<br>community=%{customdata[2]}<br>country=%{customdata[3]}<br>date_of_birth=%{customdata[4]}<br>disabilities=%{customdata[5]}<br>name=%{customdata[6]}<br>gender=%{customdata[7]}<br>has_children=%{customdata[8]}<br>has_dependent=%{customdata[9]}<br>marital_status=%{customdata[10]}<br>weight=%{customdata[12]}<extra></extra>",
         "legendgroup": "not immunized",
         "marker": {
          "color": "#19d3f3"
         },
         "name": "not immunized",
         "notched": true,
         "offsetgroup": "not immunized",
         "showlegend": false,
         "type": "box",
         "x": [
          3,
          2,
          1
         ],
         "xaxis": "x2",
         "yaxis": "y2"
        },
        {
         "alignmentgroup": "True",
         "bingroup": "x",
         "histfunc": "sum",
         "hovertemplate": "medical_problems=physical injury<br>closest_hospital=%{x}<br>sum of height=%{y}<extra></extra>",
         "legendgroup": "physical injury",
         "marker": {
          "color": "#FF6692",
          "pattern": {
           "shape": ""
          }
         },
         "name": "physical injury",
         "offsetgroup": "physical injury",
         "orientation": "v",
         "showlegend": true,
         "type": "histogram",
         "x": [
          10,
          8,
          3
         ],
         "xaxis": "x",
         "y": [
          228,
          192,
          150
         ],
         "yaxis": "y"
        },
        {
         "alignmentgroup": "True",
         "customdata": [
          [
           "dust",
           "A-",
           "rural",
           "nigeria",
           "1986-04-03 00:00:00",
           "atherosclerosis",
           "GARRY SHAUGHN",
           "Female",
           "Yes",
           "No",
           "widowed",
           "physical injury",
           73
          ],
          [
           "flowers",
           "B-",
           "suburban",
           "nigeria",
           "2008-06-24 00:00:00",
           "none",
           "GARY SHAUNDA",
           "Male",
           "Yes",
           "Yes",
           "single",
           "physical injury",
           89
          ],
          [
           "pollen",
           "A+",
           "suburban",
           "nigeria",
           "2007-08-11 00:00:00",
           "fibromas",
           "GAYATRI SHAVAUGHN",
           "Male",
           "Yes",
           "Yes",
           "married",
           "physical injury",
           77
          ]
         ],
         "hovertemplate": "medical_problems=%{customdata[11]}<br>closest_hospital=%{x}<br>allergies=%{customdata[0]}<br>blood_type=%{customdata[1]}<br>community=%{customdata[2]}<br>country=%{customdata[3]}<br>date_of_birth=%{customdata[4]}<br>disabilities=%{customdata[5]}<br>name=%{customdata[6]}<br>gender=%{customdata[7]}<br>has_children=%{customdata[8]}<br>has_dependent=%{customdata[9]}<br>marital_status=%{customdata[10]}<br>weight=%{customdata[12]}<extra></extra>",
         "legendgroup": "physical injury",
         "marker": {
          "color": "#FF6692"
         },
         "name": "physical injury",
         "notched": true,
         "offsetgroup": "physical injury",
         "showlegend": false,
         "type": "box",
         "x": [
          10,
          8,
          3
         ],
         "xaxis": "x2",
         "yaxis": "y2"
        }
       ],
       "layout": {
        "barmode": "relative",
        "legend": {
         "title": {
          "text": "medical_problems"
         },
         "tracegroupgap": 0
        },
        "margin": {
         "t": 60
        },
        "template": {
         "data": {
          "bar": [
           {
            "error_x": {
             "color": "#2a3f5f"
            },
            "error_y": {
             "color": "#2a3f5f"
            },
            "marker": {
             "line": {
              "color": "#E5ECF6",
              "width": 0.5
             },
             "pattern": {
              "fillmode": "overlay",
              "size": 10,
              "solidity": 0.2
             }
            },
            "type": "bar"
           }
          ],
          "barpolar": [
           {
            "marker": {
             "line": {
              "color": "#E5ECF6",
              "width": 0.5
             },
             "pattern": {
              "fillmode": "overlay",
              "size": 10,
              "solidity": 0.2
             }
            },
            "type": "barpolar"
           }
          ],
          "carpet": [
           {
            "aaxis": {
             "endlinecolor": "#2a3f5f",
             "gridcolor": "white",
             "linecolor": "white",
             "minorgridcolor": "white",
             "startlinecolor": "#2a3f5f"
            },
            "baxis": {
             "endlinecolor": "#2a3f5f",
             "gridcolor": "white",
             "linecolor": "white",
             "minorgridcolor": "white",
             "startlinecolor": "#2a3f5f"
            },
            "type": "carpet"
           }
          ],
          "choropleth": [
           {
            "colorbar": {
             "outlinewidth": 0,
             "ticks": ""
            },
            "type": "choropleth"
           }
          ],
          "contour": [
           {
            "colorbar": {
             "outlinewidth": 0,
             "ticks": ""
            },
            "colorscale": [
             [
              0,
              "#0d0887"
             ],
             [
              0.1111111111111111,
              "#46039f"
             ],
             [
              0.2222222222222222,
              "#7201a8"
             ],
             [
              0.3333333333333333,
              "#9c179e"
             ],
             [
              0.4444444444444444,
              "#bd3786"
             ],
             [
              0.5555555555555556,
              "#d8576b"
             ],
             [
              0.6666666666666666,
              "#ed7953"
             ],
             [
              0.7777777777777778,
              "#fb9f3a"
             ],
             [
              0.8888888888888888,
              "#fdca26"
             ],
             [
              1,
              "#f0f921"
             ]
            ],
            "type": "contour"
           }
          ],
          "contourcarpet": [
           {
            "colorbar": {
             "outlinewidth": 0,
             "ticks": ""
            },
            "type": "contourcarpet"
           }
          ],
          "heatmap": [
           {
            "colorbar": {
             "outlinewidth": 0,
             "ticks": ""
            },
            "colorscale": [
             [
              0,
              "#0d0887"
             ],
             [
              0.1111111111111111,
              "#46039f"
             ],
             [
              0.2222222222222222,
              "#7201a8"
             ],
             [
              0.3333333333333333,
              "#9c179e"
             ],
             [
              0.4444444444444444,
              "#bd3786"
             ],
             [
              0.5555555555555556,
              "#d8576b"
             ],
             [
              0.6666666666666666,
              "#ed7953"
             ],
             [
              0.7777777777777778,
              "#fb9f3a"
             ],
             [
              0.8888888888888888,
              "#fdca26"
             ],
             [
              1,
              "#f0f921"
             ]
            ],
            "type": "heatmap"
           }
          ],
          "heatmapgl": [
           {
            "colorbar": {
             "outlinewidth": 0,
             "ticks": ""
            },
            "colorscale": [
             [
              0,
              "#0d0887"
             ],
             [
              0.1111111111111111,
              "#46039f"
             ],
             [
              0.2222222222222222,
              "#7201a8"
             ],
             [
              0.3333333333333333,
              "#9c179e"
             ],
             [
              0.4444444444444444,
              "#bd3786"
             ],
             [
              0.5555555555555556,
              "#d8576b"
             ],
             [
              0.6666666666666666,
              "#ed7953"
             ],
             [
              0.7777777777777778,
              "#fb9f3a"
             ],
             [
              0.8888888888888888,
              "#fdca26"
             ],
             [
              1,
              "#f0f921"
             ]
            ],
            "type": "heatmapgl"
           }
          ],
          "histogram": [
           {
            "marker": {
             "pattern": {
              "fillmode": "overlay",
              "size": 10,
              "solidity": 0.2
             }
            },
            "type": "histogram"
           }
          ],
          "histogram2d": [
           {
            "colorbar": {
             "outlinewidth": 0,
             "ticks": ""
            },
            "colorscale": [
             [
              0,
              "#0d0887"
             ],
             [
              0.1111111111111111,
              "#46039f"
             ],
             [
              0.2222222222222222,
              "#7201a8"
             ],
             [
              0.3333333333333333,
              "#9c179e"
             ],
             [
              0.4444444444444444,
              "#bd3786"
             ],
             [
              0.5555555555555556,
              "#d8576b"
             ],
             [
              0.6666666666666666,
              "#ed7953"
             ],
             [
              0.7777777777777778,
              "#fb9f3a"
             ],
             [
              0.8888888888888888,
              "#fdca26"
             ],
             [
              1,
              "#f0f921"
             ]
            ],
            "type": "histogram2d"
           }
          ],
          "histogram2dcontour": [
           {
            "colorbar": {
             "outlinewidth": 0,
             "ticks": ""
            },
            "colorscale": [
             [
              0,
              "#0d0887"
             ],
             [
              0.1111111111111111,
              "#46039f"
             ],
             [
              0.2222222222222222,
              "#7201a8"
             ],
             [
              0.3333333333333333,
              "#9c179e"
             ],
             [
              0.4444444444444444,
              "#bd3786"
             ],
             [
              0.5555555555555556,
              "#d8576b"
             ],
             [
              0.6666666666666666,
              "#ed7953"
             ],
             [
              0.7777777777777778,
              "#fb9f3a"
             ],
             [
              0.8888888888888888,
              "#fdca26"
             ],
             [
              1,
              "#f0f921"
             ]
            ],
            "type": "histogram2dcontour"
           }
          ],
          "mesh3d": [
           {
            "colorbar": {
             "outlinewidth": 0,
             "ticks": ""
            },
            "type": "mesh3d"
           }
          ],
          "parcoords": [
           {
            "line": {
             "colorbar": {
              "outlinewidth": 0,
              "ticks": ""
             }
            },
            "type": "parcoords"
           }
          ],
          "pie": [
           {
            "automargin": true,
            "type": "pie"
           }
          ],
          "scatter": [
           {
            "fillpattern": {
             "fillmode": "overlay",
             "size": 10,
             "solidity": 0.2
            },
            "type": "scatter"
           }
          ],
          "scatter3d": [
           {
            "line": {
             "colorbar": {
              "outlinewidth": 0,
              "ticks": ""
             }
            },
            "marker": {
             "colorbar": {
              "outlinewidth": 0,
              "ticks": ""
             }
            },
            "type": "scatter3d"
           }
          ],
          "scattercarpet": [
           {
            "marker": {
             "colorbar": {
              "outlinewidth": 0,
              "ticks": ""
             }
            },
            "type": "scattercarpet"
           }
          ],
          "scattergeo": [
           {
            "marker": {
             "colorbar": {
              "outlinewidth": 0,
              "ticks": ""
             }
            },
            "type": "scattergeo"
           }
          ],
          "scattergl": [
           {
            "marker": {
             "colorbar": {
              "outlinewidth": 0,
              "ticks": ""
             }
            },
            "type": "scattergl"
           }
          ],
          "scattermapbox": [
           {
            "marker": {
             "colorbar": {
              "outlinewidth": 0,
              "ticks": ""
             }
            },
            "type": "scattermapbox"
           }
          ],
          "scatterpolar": [
           {
            "marker": {
             "colorbar": {
              "outlinewidth": 0,
              "ticks": ""
             }
            },
            "type": "scatterpolar"
           }
          ],
          "scatterpolargl": [
           {
            "marker": {
             "colorbar": {
              "outlinewidth": 0,
              "ticks": ""
             }
            },
            "type": "scatterpolargl"
           }
          ],
          "scatterternary": [
           {
            "marker": {
             "colorbar": {
              "outlinewidth": 0,
              "ticks": ""
             }
            },
            "type": "scatterternary"
           }
          ],
          "surface": [
           {
            "colorbar": {
             "outlinewidth": 0,
             "ticks": ""
            },
            "colorscale": [
             [
              0,
              "#0d0887"
             ],
             [
              0.1111111111111111,
              "#46039f"
             ],
             [
              0.2222222222222222,
              "#7201a8"
             ],
             [
              0.3333333333333333,
              "#9c179e"
             ],
             [
              0.4444444444444444,
              "#bd3786"
             ],
             [
              0.5555555555555556,
              "#d8576b"
             ],
             [
              0.6666666666666666,
              "#ed7953"
             ],
             [
              0.7777777777777778,
              "#fb9f3a"
             ],
             [
              0.8888888888888888,
              "#fdca26"
             ],
             [
              1,
              "#f0f921"
             ]
            ],
            "type": "surface"
           }
          ],
          "table": [
           {
            "cells": {
             "fill": {
              "color": "#EBF0F8"
             },
             "line": {
              "color": "white"
             }
            },
            "header": {
             "fill": {
              "color": "#C8D4E3"
             },
             "line": {
              "color": "white"
             }
            },
            "type": "table"
           }
          ]
         },
         "layout": {
          "annotationdefaults": {
           "arrowcolor": "#2a3f5f",
           "arrowhead": 0,
           "arrowwidth": 1
          },
          "autotypenumbers": "strict",
          "coloraxis": {
           "colorbar": {
            "outlinewidth": 0,
            "ticks": ""
           }
          },
          "colorscale": {
           "diverging": [
            [
             0,
             "#8e0152"
            ],
            [
             0.1,
             "#c51b7d"
            ],
            [
             0.2,
             "#de77ae"
            ],
            [
             0.3,
             "#f1b6da"
            ],
            [
             0.4,
             "#fde0ef"
            ],
            [
             0.5,
             "#f7f7f7"
            ],
            [
             0.6,
             "#e6f5d0"
            ],
            [
             0.7,
             "#b8e186"
            ],
            [
             0.8,
             "#7fbc41"
            ],
            [
             0.9,
             "#4d9221"
            ],
            [
             1,
             "#276419"
            ]
           ],
           "sequential": [
            [
             0,
             "#0d0887"
            ],
            [
             0.1111111111111111,
             "#46039f"
            ],
            [
             0.2222222222222222,
             "#7201a8"
            ],
            [
             0.3333333333333333,
             "#9c179e"
            ],
            [
             0.4444444444444444,
             "#bd3786"
            ],
            [
             0.5555555555555556,
             "#d8576b"
            ],
            [
             0.6666666666666666,
             "#ed7953"
            ],
            [
             0.7777777777777778,
             "#fb9f3a"
            ],
            [
             0.8888888888888888,
             "#fdca26"
            ],
            [
             1,
             "#f0f921"
            ]
           ],
           "sequentialminus": [
            [
             0,
             "#0d0887"
            ],
            [
             0.1111111111111111,
             "#46039f"
            ],
            [
             0.2222222222222222,
             "#7201a8"
            ],
            [
             0.3333333333333333,
             "#9c179e"
            ],
            [
             0.4444444444444444,
             "#bd3786"
            ],
            [
             0.5555555555555556,
             "#d8576b"
            ],
            [
             0.6666666666666666,
             "#ed7953"
            ],
            [
             0.7777777777777778,
             "#fb9f3a"
            ],
            [
             0.8888888888888888,
             "#fdca26"
            ],
            [
             1,
             "#f0f921"
            ]
           ]
          },
          "colorway": [
           "#636efa",
           "#EF553B",
           "#00cc96",
           "#ab63fa",
           "#FFA15A",
           "#19d3f3",
           "#FF6692",
           "#B6E880",
           "#FF97FF",
           "#FECB52"
          ],
          "font": {
           "color": "#2a3f5f"
          },
          "geo": {
           "bgcolor": "white",
           "lakecolor": "white",
           "landcolor": "#E5ECF6",
           "showlakes": true,
           "showland": true,
           "subunitcolor": "white"
          },
          "hoverlabel": {
           "align": "left"
          },
          "hovermode": "closest",
          "mapbox": {
           "style": "light"
          },
          "paper_bgcolor": "white",
          "plot_bgcolor": "#E5ECF6",
          "polar": {
           "angularaxis": {
            "gridcolor": "white",
            "linecolor": "white",
            "ticks": ""
           },
           "bgcolor": "#E5ECF6",
           "radialaxis": {
            "gridcolor": "white",
            "linecolor": "white",
            "ticks": ""
           }
          },
          "scene": {
           "xaxis": {
            "backgroundcolor": "#E5ECF6",
            "gridcolor": "white",
            "gridwidth": 2,
            "linecolor": "white",
            "showbackground": true,
            "ticks": "",
            "zerolinecolor": "white"
           },
           "yaxis": {
            "backgroundcolor": "#E5ECF6",
            "gridcolor": "white",
            "gridwidth": 2,
            "linecolor": "white",
            "showbackground": true,
            "ticks": "",
            "zerolinecolor": "white"
           },
           "zaxis": {
            "backgroundcolor": "#E5ECF6",
            "gridcolor": "white",
            "gridwidth": 2,
            "linecolor": "white",
            "showbackground": true,
            "ticks": "",
            "zerolinecolor": "white"
           }
          },
          "shapedefaults": {
           "line": {
            "color": "#2a3f5f"
           }
          },
          "ternary": {
           "aaxis": {
            "gridcolor": "white",
            "linecolor": "white",
            "ticks": ""
           },
           "baxis": {
            "gridcolor": "white",
            "linecolor": "white",
            "ticks": ""
           },
           "bgcolor": "#E5ECF6",
           "caxis": {
            "gridcolor": "white",
            "linecolor": "white",
            "ticks": ""
           }
          },
          "title": {
           "x": 0.05
          },
          "xaxis": {
           "automargin": true,
           "gridcolor": "white",
           "linecolor": "white",
           "ticks": "",
           "title": {
            "standoff": 15
           },
           "zerolinecolor": "white",
           "zerolinewidth": 2
          },
          "yaxis": {
           "automargin": true,
           "gridcolor": "white",
           "linecolor": "white",
           "ticks": "",
           "title": {
            "standoff": 15
           },
           "zerolinecolor": "white",
           "zerolinewidth": 2
          }
         }
        },
        "xaxis": {
         "anchor": "y",
         "domain": [
          0,
          1
         ],
         "title": {
          "text": "closest_hospital"
         }
        },
        "xaxis2": {
         "anchor": "y2",
         "domain": [
          0,
          1
         ],
         "matches": "x",
         "showgrid": true,
         "showticklabels": false
        },
        "yaxis": {
         "anchor": "x",
         "domain": [
          0,
          0.7326
         ],
         "title": {
          "text": "sum of height"
         }
        },
        "yaxis2": {
         "anchor": "x2",
         "domain": [
          0.7426,
          1
         ],
         "matches": "y2",
         "showgrid": false,
         "showline": false,
         "showticklabels": false,
         "ticks": ""
        }
       }
      }
     },
     "metadata": {},
     "output_type": "display_data"
    }
   ],
   "source": [
    "px.histogram(patient_df, x=\"closest_hospital\", y=\"height\", color=\"medical_problems\", marginal=\"box\", hover_data=patient_df.columns)"
   ]
  },
  {
   "attachments": {},
   "cell_type": "markdown",
   "metadata": {},
   "source": [
    "### Histogram of \"height\" by medical_problems"
   ]
  },
  {
   "cell_type": "code",
   "execution_count": 89,
   "metadata": {},
   "outputs": [
    {
     "data": {
      "application/vnd.plotly.v1+json": {
       "config": {
        "plotlyServerURL": "https://plot.ly"
       },
       "data": [
        {
         "alignmentgroup": "True",
         "bingroup": "x",
         "histfunc": "sum",
         "hovertemplate": "medical_problems=overweight<br>closest_hospital=%{x}<br>sum of weight=%{y}<extra></extra>",
         "legendgroup": "overweight",
         "marker": {
          "color": "#636efa",
          "pattern": {
           "shape": ""
          }
         },
         "name": "overweight",
         "offsetgroup": "overweight",
         "orientation": "v",
         "showlegend": true,
         "type": "histogram",
         "x": [
          12,
          2,
          5,
          15,
          10,
          3
         ],
         "xaxis": "x",
         "y": [
          63,
          76,
          79,
          77,
          101,
          60
         ],
         "yaxis": "y"
        },
        {
         "alignmentgroup": "True",
         "customdata": [
          [
           "pollen",
           "A-",
           "rural",
           "nigeria",
           "2006-06-15 00:00:00",
           "delirium",
           "GARBO SHARRON",
           "Male",
           "Yes",
           "Yes",
           169,
           "single",
           "overweight"
          ],
          [
           "flowers",
           "B-",
           "urban",
           "nigeria",
           "1988-04-11 00:00:00",
           "ruptured discs",
           "ADREAN NEKO",
           "Female",
           "Yes",
           "No",
           190,
           "single",
           "overweight"
          ],
          [
           "dust",
           "A-",
           "urban",
           "nigeria",
           "2007-12-16 00:00:00",
           "alzheimer's",
           "ANNE-SOPHIE HERO",
           "Male",
           "Yes",
           "Yes",
           218,
           "single",
           "overweight"
          ],
          [
           "nuts",
           "A+",
           "suburban",
           "nigeria",
           "1983-09-19 00:00:00",
           "scoliosis",
           "ANNISIA HERU",
           "Male",
           "No",
           "No",
           240,
           "married",
           "overweight"
          ],
          [
           "dust",
           "A-",
           "urban",
           "nigeria",
           "1988-02-15 00:00:00",
           "none",
           "GAYLORD SHAVON",
           "Female",
           "No",
           "Yes",
           249,
           "single",
           "overweight"
          ],
          [
           "flowers",
           "O-",
           "urban",
           "nigeria",
           "1994-02-11 00:00:00",
           "amnesia",
           "GEETHA SHAWNTA",
           "Male",
           "Yes",
           "No",
           260,
           "single",
           "overweight"
          ]
         ],
         "hovertemplate": "medical_problems=%{customdata[12]}<br>closest_hospital=%{x}<br>allergies=%{customdata[0]}<br>blood_type=%{customdata[1]}<br>community=%{customdata[2]}<br>country=%{customdata[3]}<br>date_of_birth=%{customdata[4]}<br>disabilities=%{customdata[5]}<br>name=%{customdata[6]}<br>gender=%{customdata[7]}<br>has_children=%{customdata[8]}<br>has_dependent=%{customdata[9]}<br>height=%{customdata[10]}<br>marital_status=%{customdata[11]}<extra></extra>",
         "legendgroup": "overweight",
         "marker": {
          "color": "#636efa"
         },
         "name": "overweight",
         "notched": true,
         "offsetgroup": "overweight",
         "showlegend": false,
         "type": "box",
         "x": [
          12,
          2,
          5,
          15,
          10,
          3
         ],
         "xaxis": "x2",
         "yaxis": "y2"
        },
        {
         "alignmentgroup": "True",
         "bingroup": "x",
         "histfunc": "sum",
         "hovertemplate": "medical_problems=underweight<br>closest_hospital=%{x}<br>sum of weight=%{y}<extra></extra>",
         "legendgroup": "underweight",
         "marker": {
          "color": "#EF553B",
          "pattern": {
           "shape": ""
          }
         },
         "name": "underweight",
         "offsetgroup": "underweight",
         "orientation": "v",
         "showlegend": true,
         "type": "histogram",
         "x": [
          10,
          5,
          8,
          10,
          5,
          10
         ],
         "xaxis": "x",
         "y": [
          79,
          86,
          91,
          77,
          73,
          83
         ],
         "yaxis": "y"
        },
        {
         "alignmentgroup": "True",
         "customdata": [
          [
           "nuts",
           "B-",
           "urban",
           "nigeria",
           "2010-03-21 00:00:00",
           "alzheimer's",
           "ANKUR HENDRY",
           "Female",
           "No",
           "Yes",
           167,
           "single",
           "underweight"
          ],
          [
           "pollen",
           "AB-",
           "rural",
           "nigeria",
           "1996-08-11 00:00:00",
           "ruptured discs",
           "ANNABELLA HENNESSEY",
           "Female",
           "No",
           "Yes",
           151,
           "widowed",
           "underweight"
          ],
          [
           "flowers",
           "A+",
           "urban",
           "nigeria",
           "1998-07-24 00:00:00",
           "none",
           "ANNA-LISA HENRIQUE",
           "Female",
           "Yes",
           "No",
           170,
           "single",
           "underweight"
          ],
          [
           "flowers",
           "AB+",
           "rural",
           "nigeria",
           "1989-02-25 00:00:00",
           "fibromas",
           "AEISHA NENA",
           "Male",
           "No",
           "Yes",
           239,
           "single",
           "underweight"
          ],
          [
           "pollen",
           "A-",
           "urban",
           "nigeria",
           "1990-01-15 00:00:00",
           "fibromas",
           "GAURAV SHAUNTA",
           "Male",
           "No",
           "Yes",
           147,
           "single",
           "underweight"
          ],
          [
           "nuts",
           "B-",
           "urban",
           "nigeria",
           "2005-06-23 00:00:00",
           "none",
           "GEANINE SHAWNDA",
           "Female",
           "No",
           "Yes",
           244,
           "single",
           "underweight"
          ]
         ],
         "hovertemplate": "medical_problems=%{customdata[12]}<br>closest_hospital=%{x}<br>allergies=%{customdata[0]}<br>blood_type=%{customdata[1]}<br>community=%{customdata[2]}<br>country=%{customdata[3]}<br>date_of_birth=%{customdata[4]}<br>disabilities=%{customdata[5]}<br>name=%{customdata[6]}<br>gender=%{customdata[7]}<br>has_children=%{customdata[8]}<br>has_dependent=%{customdata[9]}<br>height=%{customdata[10]}<br>marital_status=%{customdata[11]}<extra></extra>",
         "legendgroup": "underweight",
         "marker": {
          "color": "#EF553B"
         },
         "name": "underweight",
         "notched": true,
         "offsetgroup": "underweight",
         "showlegend": false,
         "type": "box",
         "x": [
          10,
          5,
          8,
          10,
          5,
          10
         ],
         "xaxis": "x2",
         "yaxis": "y2"
        },
        {
         "alignmentgroup": "True",
         "bingroup": "x",
         "histfunc": "sum",
         "hovertemplate": "medical_problems=drug addiction<br>closest_hospital=%{x}<br>sum of weight=%{y}<extra></extra>",
         "legendgroup": "drug addiction",
         "marker": {
          "color": "#00cc96",
          "pattern": {
           "shape": ""
          }
         },
         "name": "drug addiction",
         "offsetgroup": "drug addiction",
         "orientation": "v",
         "showlegend": true,
         "type": "histogram",
         "x": [
          5,
          3,
          8,
          10,
          1,
          10
         ],
         "xaxis": "x",
         "y": [
          69,
          87,
          87,
          61,
          92,
          63
         ],
         "yaxis": "y"
        },
        {
         "alignmentgroup": "True",
         "customdata": [
          [
           "nuts",
           "A+",
           "urban",
           "nigeria",
           "2012-08-24 00:00:00",
           "arthritis",
           "ADONIJAH NEKA",
           "Male",
           "No",
           "No",
           147,
           "divorced",
           "drug addiction"
          ],
          [
           "pollen",
           "O-",
           "rural",
           "nigeria",
           "1988-03-15 00:00:00",
           "atherosclerosis",
           "ADY NEMA",
           "Male",
           "No",
           "Yes",
           181,
           "married",
           "drug addiction"
          ],
          [
           "pollen",
           "AB+",
           "suburban",
           "nigeria",
           "2004-10-15 00:00:00",
           "arthritis",
           "AFONSO NEREYDA",
           "Male",
           "No",
           "Yes",
           259,
           "divorced",
           "drug addiction"
          ],
          [
           "pollen",
           "AB-",
           "urban",
           "nigeria",
           "1993-07-09 00:00:00",
           "none",
           "GEENA SHAWNETTE",
           "Male",
           "Yes",
           "No",
           258,
           "single",
           "drug addiction"
          ],
          [
           "pollen",
           "B-",
           "suburban",
           "nigeria",
           "2004-04-25 00:00:00",
           "none",
           "ANSIL HIJIRI",
           "Male",
           "No",
           "Yes",
           237,
           "widowed",
           "drug addiction"
          ],
          [
           "dust",
           "A+",
           "rural",
           "nigeria",
           "2011-11-16 00:00:00",
           "alzheimer's",
           "AGRON NEVENA",
           "Male",
           "Yes",
           "Yes",
           193,
           "divorced",
           "drug addiction"
          ]
         ],
         "hovertemplate": "medical_problems=%{customdata[12]}<br>closest_hospital=%{x}<br>allergies=%{customdata[0]}<br>blood_type=%{customdata[1]}<br>community=%{customdata[2]}<br>country=%{customdata[3]}<br>date_of_birth=%{customdata[4]}<br>disabilities=%{customdata[5]}<br>name=%{customdata[6]}<br>gender=%{customdata[7]}<br>has_children=%{customdata[8]}<br>has_dependent=%{customdata[9]}<br>height=%{customdata[10]}<br>marital_status=%{customdata[11]}<extra></extra>",
         "legendgroup": "drug addiction",
         "marker": {
          "color": "#00cc96"
         },
         "name": "drug addiction",
         "notched": true,
         "offsetgroup": "drug addiction",
         "showlegend": false,
         "type": "box",
         "x": [
          5,
          3,
          8,
          10,
          1,
          10
         ],
         "xaxis": "x2",
         "yaxis": "y2"
        },
        {
         "alignmentgroup": "True",
         "bingroup": "x",
         "histfunc": "sum",
         "hovertemplate": "medical_problems=none<br>closest_hospital=%{x}<br>sum of weight=%{y}<extra></extra>",
         "legendgroup": "none",
         "marker": {
          "color": "#ab63fa",
          "pattern": {
           "shape": ""
          }
         },
         "name": "none",
         "offsetgroup": "none",
         "orientation": "v",
         "showlegend": true,
         "type": "histogram",
         "x": [
          15,
          5,
          2,
          5,
          2,
          8,
          2,
          1,
          5,
          10,
          12,
          5,
          3,
          1,
          2,
          2
         ],
         "xaxis": "x",
         "y": [
          91,
          76,
          83,
          77,
          86,
          88,
          67,
          89,
          77,
          81,
          96,
          98,
          78,
          84,
          99,
          83
         ],
         "yaxis": "y"
        },
        {
         "alignmentgroup": "True",
         "customdata": [
          [
           "pollen",
           "B+",
           "urban",
           "nigeria",
           "1996-01-13 00:00:00",
           "ruptured discs",
           "GARETH SHASHWAT",
           "Female",
           "No",
           "Yes",
           207,
           "divorced",
           "none"
          ],
          [
           "pollen",
           "AB-",
           "suburban",
           "nigeria",
           "1987-09-08 00:00:00",
           "fibromas",
           "ADRIANNA NELINI",
           "Male",
           "Yes",
           "No",
           164,
           "single",
           "none"
          ],
          [
           "pollen",
           "B-",
           "rural",
           "nigeria",
           "2010-01-16 00:00:00",
           "cyclothimic disorder",
           "GARRETH SHATIK",
           "Male",
           "No",
           "No",
           175,
           "single",
           "none"
          ],
          [
           "pollen",
           "AB-",
           "rural",
           "nigeria",
           "1988-10-27 00:00:00",
           "alzheimer's",
           "ADRION NELSI",
           "Male",
           "No",
           "No",
           223,
           "single",
           "none"
          ],
          [
           "flowers",
           "AB+",
           "urban",
           "nigeria",
           "1995-09-13 00:00:00",
           "cyclothimic disorder",
           "ADUNNI NELSY",
           "Female",
           "Yes",
           "Yes",
           189,
           "married",
           "none"
          ],
          [
           "dust",
           "AB-",
           "rural",
           "nigeria",
           "1984-11-15 00:00:00",
           "amnesia",
           "AESHA NENETTE",
           "Female",
           "Yes",
           "Yes",
           159,
           "widowed",
           "none"
          ],
          [
           "pollen",
           "AB-",
           "rural",
           "nigeria",
           "2010-07-10 00:00:00",
           "fibromas",
           "AFEISHA NEO",
           "Female",
           "No",
           "No",
           220,
           "single",
           "none"
          ],
          [
           "pollen",
           "B-",
           "urban",
           "nigeria",
           "1989-06-04 00:00:00",
           "cyclothimic disorder",
           "ANNICA HERSHEL",
           "Female",
           "No",
           "No",
           184,
           "single",
           "none"
          ],
          [
           "dust",
           "O-",
           "urban",
           "nigeria",
           "2007-10-24 00:00:00",
           "amnesia",
           "GAY SHAVA",
           "Female",
           "No",
           "No",
           145,
           "single",
           "none"
          ],
          [
           "dust",
           "A+",
           "urban",
           "nigeria",
           "2009-08-26 00:00:00",
           "amnesia",
           "AFSHIN NESHA",
           "Female",
           "Yes",
           "Yes",
           223,
           "single",
           "none"
          ],
          [
           "dust",
           "B-",
           "urban",
           "nigeria",
           "1997-04-13 00:00:00",
           "cyclothimic disorder",
           "ANOOP HESKY",
           "Female",
           "No",
           "Yes",
           254,
           "single",
           "none"
          ],
          [
           "dust",
           "AB-",
           "rural",
           "nigeria",
           "2012-03-19 00:00:00",
           "none",
           "AGAM NESSIE",
           "Male",
           "Yes",
           "Yes",
           239,
           "widowed",
           "none"
          ],
          [
           "dust",
           "B-",
           "suburban",
           "nigeria",
           "1994-10-05 00:00:00",
           "arthritis",
           "ANOWAR HIBA",
           "Female",
           "No",
           "No",
           190,
           "single",
           "none"
          ],
          [
           "pollen",
           "B+",
           "suburban",
           "nigeria",
           "1991-05-07 00:00:00",
           "cyclothimic disorder",
           "AGNE NEUMAN",
           "Male",
           "Yes",
           "Yes",
           212,
           "single",
           "none"
          ],
          [
           "dust",
           "AB+",
           "rural",
           "nigeria",
           "2006-12-01 00:00:00",
           "cyclothimic disorder",
           "AGNÃˆS NEVA",
           "Male",
           "Yes",
           "Yes",
           232,
           "single",
           "none"
          ],
          [
           "dust",
           "AB+",
           "urban",
           "nigeria",
           "1996-05-14 00:00:00",
           "none",
           "AGUSTINA NEVILLE",
           "Female",
           "Yes",
           "Yes",
           199,
           "single",
           "none"
          ]
         ],
         "hovertemplate": "medical_problems=%{customdata[12]}<br>closest_hospital=%{x}<br>allergies=%{customdata[0]}<br>blood_type=%{customdata[1]}<br>community=%{customdata[2]}<br>country=%{customdata[3]}<br>date_of_birth=%{customdata[4]}<br>disabilities=%{customdata[5]}<br>name=%{customdata[6]}<br>gender=%{customdata[7]}<br>has_children=%{customdata[8]}<br>has_dependent=%{customdata[9]}<br>height=%{customdata[10]}<br>marital_status=%{customdata[11]}<extra></extra>",
         "legendgroup": "none",
         "marker": {
          "color": "#ab63fa"
         },
         "name": "none",
         "notched": true,
         "offsetgroup": "none",
         "showlegend": false,
         "type": "box",
         "x": [
          15,
          5,
          2,
          5,
          2,
          8,
          2,
          1,
          5,
          10,
          12,
          5,
          3,
          1,
          2,
          2
         ],
         "xaxis": "x2",
         "yaxis": "y2"
        },
        {
         "alignmentgroup": "True",
         "bingroup": "x",
         "histfunc": "sum",
         "hovertemplate": "medical_problems=mental issue<br>closest_hospital=%{x}<br>sum of weight=%{y}<extra></extra>",
         "legendgroup": "mental issue",
         "marker": {
          "color": "#FFA15A",
          "pattern": {
           "shape": ""
          }
         },
         "name": "mental issue",
         "offsetgroup": "mental issue",
         "orientation": "v",
         "showlegend": true,
         "type": "histogram",
         "x": [
          15,
          15,
          8,
          2,
          5,
          3,
          12
         ],
         "xaxis": "x",
         "y": [
          87,
          73,
          102,
          85,
          101,
          94,
          101
         ],
         "yaxis": "y"
        },
        {
         "alignmentgroup": "True",
         "customdata": [
          [
           "dust",
           "B+",
           "rural",
           "nigeria",
           "2011-04-02 00:00:00",
           "alzheimer's",
           "ADRIANA NELI",
           "Male",
           "No",
           "Yes",
           181,
           "single",
           "mental issue"
          ],
          [
           "flowers",
           "O+",
           "urban",
           "nigeria",
           "1988-10-15 00:00:00",
           "amnesia",
           "GARNETTE SHATERA",
           "Male",
           "No",
           "Yes",
           178,
           "divorced",
           "mental issue"
          ],
          [
           "flowers",
           "AB+",
           "suburban",
           "nigeria",
           "2012-08-02 00:00:00",
           "none",
           "ANNELISE HERMES",
           "Female",
           "Yes",
           "Yes",
           133,
           "single",
           "mental issue"
          ],
          [
           "flowers",
           "B+",
           "suburban",
           "nigeria",
           "2000-10-22 00:00:00",
           "ruptured discs",
           "ANNEMARIE HERMINIO",
           "Male",
           "No",
           "No",
           200,
           "married",
           "mental issue"
          ],
          [
           "flowers",
           "AB-",
           "rural",
           "nigeria",
           "2005-07-20 00:00:00",
           "atherosclerosis",
           "GELISA SHAWNTIA",
           "Female",
           "No",
           "No",
           209,
           "single",
           "mental issue"
          ],
          [
           "dust",
           "AB+",
           "urban",
           "nigeria",
           "1997-08-13 00:00:00",
           "none",
           "GEM SHAYA",
           "Female",
           "No",
           "Yes",
           235,
           "widowed",
           "mental issue"
          ],
          [
           "nuts",
           "O+",
           "rural",
           "nigeria",
           "2007-01-23 00:00:00",
           "atherosclerosis",
           "ANTHE HILDY",
           "Male",
           "Yes",
           "Yes",
           252,
           "single",
           "mental issue"
          ]
         ],
         "hovertemplate": "medical_problems=%{customdata[12]}<br>closest_hospital=%{x}<br>allergies=%{customdata[0]}<br>blood_type=%{customdata[1]}<br>community=%{customdata[2]}<br>country=%{customdata[3]}<br>date_of_birth=%{customdata[4]}<br>disabilities=%{customdata[5]}<br>name=%{customdata[6]}<br>gender=%{customdata[7]}<br>has_children=%{customdata[8]}<br>has_dependent=%{customdata[9]}<br>height=%{customdata[10]}<br>marital_status=%{customdata[11]}<extra></extra>",
         "legendgroup": "mental issue",
         "marker": {
          "color": "#FFA15A"
         },
         "name": "mental issue",
         "notched": true,
         "offsetgroup": "mental issue",
         "showlegend": false,
         "type": "box",
         "x": [
          15,
          15,
          8,
          2,
          5,
          3,
          12
         ],
         "xaxis": "x2",
         "yaxis": "y2"
        },
        {
         "alignmentgroup": "True",
         "bingroup": "x",
         "histfunc": "sum",
         "hovertemplate": "medical_problems=not immunized<br>closest_hospital=%{x}<br>sum of weight=%{y}<extra></extra>",
         "legendgroup": "not immunized",
         "marker": {
          "color": "#19d3f3",
          "pattern": {
           "shape": ""
          }
         },
         "name": "not immunized",
         "offsetgroup": "not immunized",
         "orientation": "v",
         "showlegend": true,
         "type": "histogram",
         "x": [
          3,
          2,
          1
         ],
         "xaxis": "x",
         "y": [
          84,
          79,
          99
         ],
         "yaxis": "y"
        },
        {
         "alignmentgroup": "True",
         "customdata": [
          [
           "dust",
           "B+",
           "urban",
           "nigeria",
           "1998-11-30 00:00:00",
           "scoliosis",
           "ADRIELLE NELLI",
           "Male",
           "Yes",
           "Yes",
           162,
           "single",
           "not immunized"
          ],
          [
           "flowers",
           "A-",
           "suburban",
           "nigeria",
           "1987-10-10 00:00:00",
           "delirium",
           "ANNIKA HERSON",
           "Male",
           "No",
           "No",
           225,
           "single",
           "not immunized"
          ],
          [
           "nuts",
           "O-",
           "urban",
           "nigeria",
           "1993-04-17 00:00:00",
           "fibromas",
           "AFZAL NESRIN",
           "Female",
           "Yes",
           "No",
           252,
           "single",
           "not immunized"
          ]
         ],
         "hovertemplate": "medical_problems=%{customdata[12]}<br>closest_hospital=%{x}<br>allergies=%{customdata[0]}<br>blood_type=%{customdata[1]}<br>community=%{customdata[2]}<br>country=%{customdata[3]}<br>date_of_birth=%{customdata[4]}<br>disabilities=%{customdata[5]}<br>name=%{customdata[6]}<br>gender=%{customdata[7]}<br>has_children=%{customdata[8]}<br>has_dependent=%{customdata[9]}<br>height=%{customdata[10]}<br>marital_status=%{customdata[11]}<extra></extra>",
         "legendgroup": "not immunized",
         "marker": {
          "color": "#19d3f3"
         },
         "name": "not immunized",
         "notched": true,
         "offsetgroup": "not immunized",
         "showlegend": false,
         "type": "box",
         "x": [
          3,
          2,
          1
         ],
         "xaxis": "x2",
         "yaxis": "y2"
        },
        {
         "alignmentgroup": "True",
         "bingroup": "x",
         "histfunc": "sum",
         "hovertemplate": "medical_problems=physical injury<br>closest_hospital=%{x}<br>sum of weight=%{y}<extra></extra>",
         "legendgroup": "physical injury",
         "marker": {
          "color": "#FF6692",
          "pattern": {
           "shape": ""
          }
         },
         "name": "physical injury",
         "offsetgroup": "physical injury",
         "orientation": "v",
         "showlegend": true,
         "type": "histogram",
         "x": [
          10,
          8,
          3
         ],
         "xaxis": "x",
         "y": [
          73,
          89,
          77
         ],
         "yaxis": "y"
        },
        {
         "alignmentgroup": "True",
         "customdata": [
          [
           "dust",
           "A-",
           "rural",
           "nigeria",
           "1986-04-03 00:00:00",
           "atherosclerosis",
           "GARRY SHAUGHN",
           "Female",
           "Yes",
           "No",
           228,
           "widowed",
           "physical injury"
          ],
          [
           "flowers",
           "B-",
           "suburban",
           "nigeria",
           "2008-06-24 00:00:00",
           "none",
           "GARY SHAUNDA",
           "Male",
           "Yes",
           "Yes",
           192,
           "single",
           "physical injury"
          ],
          [
           "pollen",
           "A+",
           "suburban",
           "nigeria",
           "2007-08-11 00:00:00",
           "fibromas",
           "GAYATRI SHAVAUGHN",
           "Male",
           "Yes",
           "Yes",
           150,
           "married",
           "physical injury"
          ]
         ],
         "hovertemplate": "medical_problems=%{customdata[12]}<br>closest_hospital=%{x}<br>allergies=%{customdata[0]}<br>blood_type=%{customdata[1]}<br>community=%{customdata[2]}<br>country=%{customdata[3]}<br>date_of_birth=%{customdata[4]}<br>disabilities=%{customdata[5]}<br>name=%{customdata[6]}<br>gender=%{customdata[7]}<br>has_children=%{customdata[8]}<br>has_dependent=%{customdata[9]}<br>height=%{customdata[10]}<br>marital_status=%{customdata[11]}<extra></extra>",
         "legendgroup": "physical injury",
         "marker": {
          "color": "#FF6692"
         },
         "name": "physical injury",
         "notched": true,
         "offsetgroup": "physical injury",
         "showlegend": false,
         "type": "box",
         "x": [
          10,
          8,
          3
         ],
         "xaxis": "x2",
         "yaxis": "y2"
        }
       ],
       "layout": {
        "barmode": "relative",
        "legend": {
         "title": {
          "text": "medical_problems"
         },
         "tracegroupgap": 0
        },
        "margin": {
         "t": 60
        },
        "template": {
         "data": {
          "bar": [
           {
            "error_x": {
             "color": "#2a3f5f"
            },
            "error_y": {
             "color": "#2a3f5f"
            },
            "marker": {
             "line": {
              "color": "#E5ECF6",
              "width": 0.5
             },
             "pattern": {
              "fillmode": "overlay",
              "size": 10,
              "solidity": 0.2
             }
            },
            "type": "bar"
           }
          ],
          "barpolar": [
           {
            "marker": {
             "line": {
              "color": "#E5ECF6",
              "width": 0.5
             },
             "pattern": {
              "fillmode": "overlay",
              "size": 10,
              "solidity": 0.2
             }
            },
            "type": "barpolar"
           }
          ],
          "carpet": [
           {
            "aaxis": {
             "endlinecolor": "#2a3f5f",
             "gridcolor": "white",
             "linecolor": "white",
             "minorgridcolor": "white",
             "startlinecolor": "#2a3f5f"
            },
            "baxis": {
             "endlinecolor": "#2a3f5f",
             "gridcolor": "white",
             "linecolor": "white",
             "minorgridcolor": "white",
             "startlinecolor": "#2a3f5f"
            },
            "type": "carpet"
           }
          ],
          "choropleth": [
           {
            "colorbar": {
             "outlinewidth": 0,
             "ticks": ""
            },
            "type": "choropleth"
           }
          ],
          "contour": [
           {
            "colorbar": {
             "outlinewidth": 0,
             "ticks": ""
            },
            "colorscale": [
             [
              0,
              "#0d0887"
             ],
             [
              0.1111111111111111,
              "#46039f"
             ],
             [
              0.2222222222222222,
              "#7201a8"
             ],
             [
              0.3333333333333333,
              "#9c179e"
             ],
             [
              0.4444444444444444,
              "#bd3786"
             ],
             [
              0.5555555555555556,
              "#d8576b"
             ],
             [
              0.6666666666666666,
              "#ed7953"
             ],
             [
              0.7777777777777778,
              "#fb9f3a"
             ],
             [
              0.8888888888888888,
              "#fdca26"
             ],
             [
              1,
              "#f0f921"
             ]
            ],
            "type": "contour"
           }
          ],
          "contourcarpet": [
           {
            "colorbar": {
             "outlinewidth": 0,
             "ticks": ""
            },
            "type": "contourcarpet"
           }
          ],
          "heatmap": [
           {
            "colorbar": {
             "outlinewidth": 0,
             "ticks": ""
            },
            "colorscale": [
             [
              0,
              "#0d0887"
             ],
             [
              0.1111111111111111,
              "#46039f"
             ],
             [
              0.2222222222222222,
              "#7201a8"
             ],
             [
              0.3333333333333333,
              "#9c179e"
             ],
             [
              0.4444444444444444,
              "#bd3786"
             ],
             [
              0.5555555555555556,
              "#d8576b"
             ],
             [
              0.6666666666666666,
              "#ed7953"
             ],
             [
              0.7777777777777778,
              "#fb9f3a"
             ],
             [
              0.8888888888888888,
              "#fdca26"
             ],
             [
              1,
              "#f0f921"
             ]
            ],
            "type": "heatmap"
           }
          ],
          "heatmapgl": [
           {
            "colorbar": {
             "outlinewidth": 0,
             "ticks": ""
            },
            "colorscale": [
             [
              0,
              "#0d0887"
             ],
             [
              0.1111111111111111,
              "#46039f"
             ],
             [
              0.2222222222222222,
              "#7201a8"
             ],
             [
              0.3333333333333333,
              "#9c179e"
             ],
             [
              0.4444444444444444,
              "#bd3786"
             ],
             [
              0.5555555555555556,
              "#d8576b"
             ],
             [
              0.6666666666666666,
              "#ed7953"
             ],
             [
              0.7777777777777778,
              "#fb9f3a"
             ],
             [
              0.8888888888888888,
              "#fdca26"
             ],
             [
              1,
              "#f0f921"
             ]
            ],
            "type": "heatmapgl"
           }
          ],
          "histogram": [
           {
            "marker": {
             "pattern": {
              "fillmode": "overlay",
              "size": 10,
              "solidity": 0.2
             }
            },
            "type": "histogram"
           }
          ],
          "histogram2d": [
           {
            "colorbar": {
             "outlinewidth": 0,
             "ticks": ""
            },
            "colorscale": [
             [
              0,
              "#0d0887"
             ],
             [
              0.1111111111111111,
              "#46039f"
             ],
             [
              0.2222222222222222,
              "#7201a8"
             ],
             [
              0.3333333333333333,
              "#9c179e"
             ],
             [
              0.4444444444444444,
              "#bd3786"
             ],
             [
              0.5555555555555556,
              "#d8576b"
             ],
             [
              0.6666666666666666,
              "#ed7953"
             ],
             [
              0.7777777777777778,
              "#fb9f3a"
             ],
             [
              0.8888888888888888,
              "#fdca26"
             ],
             [
              1,
              "#f0f921"
             ]
            ],
            "type": "histogram2d"
           }
          ],
          "histogram2dcontour": [
           {
            "colorbar": {
             "outlinewidth": 0,
             "ticks": ""
            },
            "colorscale": [
             [
              0,
              "#0d0887"
             ],
             [
              0.1111111111111111,
              "#46039f"
             ],
             [
              0.2222222222222222,
              "#7201a8"
             ],
             [
              0.3333333333333333,
              "#9c179e"
             ],
             [
              0.4444444444444444,
              "#bd3786"
             ],
             [
              0.5555555555555556,
              "#d8576b"
             ],
             [
              0.6666666666666666,
              "#ed7953"
             ],
             [
              0.7777777777777778,
              "#fb9f3a"
             ],
             [
              0.8888888888888888,
              "#fdca26"
             ],
             [
              1,
              "#f0f921"
             ]
            ],
            "type": "histogram2dcontour"
           }
          ],
          "mesh3d": [
           {
            "colorbar": {
             "outlinewidth": 0,
             "ticks": ""
            },
            "type": "mesh3d"
           }
          ],
          "parcoords": [
           {
            "line": {
             "colorbar": {
              "outlinewidth": 0,
              "ticks": ""
             }
            },
            "type": "parcoords"
           }
          ],
          "pie": [
           {
            "automargin": true,
            "type": "pie"
           }
          ],
          "scatter": [
           {
            "fillpattern": {
             "fillmode": "overlay",
             "size": 10,
             "solidity": 0.2
            },
            "type": "scatter"
           }
          ],
          "scatter3d": [
           {
            "line": {
             "colorbar": {
              "outlinewidth": 0,
              "ticks": ""
             }
            },
            "marker": {
             "colorbar": {
              "outlinewidth": 0,
              "ticks": ""
             }
            },
            "type": "scatter3d"
           }
          ],
          "scattercarpet": [
           {
            "marker": {
             "colorbar": {
              "outlinewidth": 0,
              "ticks": ""
             }
            },
            "type": "scattercarpet"
           }
          ],
          "scattergeo": [
           {
            "marker": {
             "colorbar": {
              "outlinewidth": 0,
              "ticks": ""
             }
            },
            "type": "scattergeo"
           }
          ],
          "scattergl": [
           {
            "marker": {
             "colorbar": {
              "outlinewidth": 0,
              "ticks": ""
             }
            },
            "type": "scattergl"
           }
          ],
          "scattermapbox": [
           {
            "marker": {
             "colorbar": {
              "outlinewidth": 0,
              "ticks": ""
             }
            },
            "type": "scattermapbox"
           }
          ],
          "scatterpolar": [
           {
            "marker": {
             "colorbar": {
              "outlinewidth": 0,
              "ticks": ""
             }
            },
            "type": "scatterpolar"
           }
          ],
          "scatterpolargl": [
           {
            "marker": {
             "colorbar": {
              "outlinewidth": 0,
              "ticks": ""
             }
            },
            "type": "scatterpolargl"
           }
          ],
          "scatterternary": [
           {
            "marker": {
             "colorbar": {
              "outlinewidth": 0,
              "ticks": ""
             }
            },
            "type": "scatterternary"
           }
          ],
          "surface": [
           {
            "colorbar": {
             "outlinewidth": 0,
             "ticks": ""
            },
            "colorscale": [
             [
              0,
              "#0d0887"
             ],
             [
              0.1111111111111111,
              "#46039f"
             ],
             [
              0.2222222222222222,
              "#7201a8"
             ],
             [
              0.3333333333333333,
              "#9c179e"
             ],
             [
              0.4444444444444444,
              "#bd3786"
             ],
             [
              0.5555555555555556,
              "#d8576b"
             ],
             [
              0.6666666666666666,
              "#ed7953"
             ],
             [
              0.7777777777777778,
              "#fb9f3a"
             ],
             [
              0.8888888888888888,
              "#fdca26"
             ],
             [
              1,
              "#f0f921"
             ]
            ],
            "type": "surface"
           }
          ],
          "table": [
           {
            "cells": {
             "fill": {
              "color": "#EBF0F8"
             },
             "line": {
              "color": "white"
             }
            },
            "header": {
             "fill": {
              "color": "#C8D4E3"
             },
             "line": {
              "color": "white"
             }
            },
            "type": "table"
           }
          ]
         },
         "layout": {
          "annotationdefaults": {
           "arrowcolor": "#2a3f5f",
           "arrowhead": 0,
           "arrowwidth": 1
          },
          "autotypenumbers": "strict",
          "coloraxis": {
           "colorbar": {
            "outlinewidth": 0,
            "ticks": ""
           }
          },
          "colorscale": {
           "diverging": [
            [
             0,
             "#8e0152"
            ],
            [
             0.1,
             "#c51b7d"
            ],
            [
             0.2,
             "#de77ae"
            ],
            [
             0.3,
             "#f1b6da"
            ],
            [
             0.4,
             "#fde0ef"
            ],
            [
             0.5,
             "#f7f7f7"
            ],
            [
             0.6,
             "#e6f5d0"
            ],
            [
             0.7,
             "#b8e186"
            ],
            [
             0.8,
             "#7fbc41"
            ],
            [
             0.9,
             "#4d9221"
            ],
            [
             1,
             "#276419"
            ]
           ],
           "sequential": [
            [
             0,
             "#0d0887"
            ],
            [
             0.1111111111111111,
             "#46039f"
            ],
            [
             0.2222222222222222,
             "#7201a8"
            ],
            [
             0.3333333333333333,
             "#9c179e"
            ],
            [
             0.4444444444444444,
             "#bd3786"
            ],
            [
             0.5555555555555556,
             "#d8576b"
            ],
            [
             0.6666666666666666,
             "#ed7953"
            ],
            [
             0.7777777777777778,
             "#fb9f3a"
            ],
            [
             0.8888888888888888,
             "#fdca26"
            ],
            [
             1,
             "#f0f921"
            ]
           ],
           "sequentialminus": [
            [
             0,
             "#0d0887"
            ],
            [
             0.1111111111111111,
             "#46039f"
            ],
            [
             0.2222222222222222,
             "#7201a8"
            ],
            [
             0.3333333333333333,
             "#9c179e"
            ],
            [
             0.4444444444444444,
             "#bd3786"
            ],
            [
             0.5555555555555556,
             "#d8576b"
            ],
            [
             0.6666666666666666,
             "#ed7953"
            ],
            [
             0.7777777777777778,
             "#fb9f3a"
            ],
            [
             0.8888888888888888,
             "#fdca26"
            ],
            [
             1,
             "#f0f921"
            ]
           ]
          },
          "colorway": [
           "#636efa",
           "#EF553B",
           "#00cc96",
           "#ab63fa",
           "#FFA15A",
           "#19d3f3",
           "#FF6692",
           "#B6E880",
           "#FF97FF",
           "#FECB52"
          ],
          "font": {
           "color": "#2a3f5f"
          },
          "geo": {
           "bgcolor": "white",
           "lakecolor": "white",
           "landcolor": "#E5ECF6",
           "showlakes": true,
           "showland": true,
           "subunitcolor": "white"
          },
          "hoverlabel": {
           "align": "left"
          },
          "hovermode": "closest",
          "mapbox": {
           "style": "light"
          },
          "paper_bgcolor": "white",
          "plot_bgcolor": "#E5ECF6",
          "polar": {
           "angularaxis": {
            "gridcolor": "white",
            "linecolor": "white",
            "ticks": ""
           },
           "bgcolor": "#E5ECF6",
           "radialaxis": {
            "gridcolor": "white",
            "linecolor": "white",
            "ticks": ""
           }
          },
          "scene": {
           "xaxis": {
            "backgroundcolor": "#E5ECF6",
            "gridcolor": "white",
            "gridwidth": 2,
            "linecolor": "white",
            "showbackground": true,
            "ticks": "",
            "zerolinecolor": "white"
           },
           "yaxis": {
            "backgroundcolor": "#E5ECF6",
            "gridcolor": "white",
            "gridwidth": 2,
            "linecolor": "white",
            "showbackground": true,
            "ticks": "",
            "zerolinecolor": "white"
           },
           "zaxis": {
            "backgroundcolor": "#E5ECF6",
            "gridcolor": "white",
            "gridwidth": 2,
            "linecolor": "white",
            "showbackground": true,
            "ticks": "",
            "zerolinecolor": "white"
           }
          },
          "shapedefaults": {
           "line": {
            "color": "#2a3f5f"
           }
          },
          "ternary": {
           "aaxis": {
            "gridcolor": "white",
            "linecolor": "white",
            "ticks": ""
           },
           "baxis": {
            "gridcolor": "white",
            "linecolor": "white",
            "ticks": ""
           },
           "bgcolor": "#E5ECF6",
           "caxis": {
            "gridcolor": "white",
            "linecolor": "white",
            "ticks": ""
           }
          },
          "title": {
           "x": 0.05
          },
          "xaxis": {
           "automargin": true,
           "gridcolor": "white",
           "linecolor": "white",
           "ticks": "",
           "title": {
            "standoff": 15
           },
           "zerolinecolor": "white",
           "zerolinewidth": 2
          },
          "yaxis": {
           "automargin": true,
           "gridcolor": "white",
           "linecolor": "white",
           "ticks": "",
           "title": {
            "standoff": 15
           },
           "zerolinecolor": "white",
           "zerolinewidth": 2
          }
         }
        },
        "xaxis": {
         "anchor": "y",
         "domain": [
          0,
          1
         ],
         "title": {
          "text": "closest_hospital"
         }
        },
        "xaxis2": {
         "anchor": "y2",
         "domain": [
          0,
          1
         ],
         "matches": "x",
         "showgrid": true,
         "showticklabels": false
        },
        "yaxis": {
         "anchor": "x",
         "domain": [
          0,
          0.7326
         ],
         "title": {
          "text": "sum of weight"
         }
        },
        "yaxis2": {
         "anchor": "x2",
         "domain": [
          0.7426,
          1
         ],
         "matches": "y2",
         "showgrid": false,
         "showline": false,
         "showticklabels": false,
         "ticks": ""
        }
       }
      }
     },
     "metadata": {},
     "output_type": "display_data"
    }
   ],
   "source": [
    "px.histogram(patient_df, x=\"closest_hospital\", y=\"weight\", color=\"medical_problems\", marginal=\"box\", hover_data=patient_df.columns)"
   ]
  },
  {
   "attachments": {},
   "cell_type": "markdown",
   "metadata": {},
   "source": [
    "### Histogram of \"weight\" by medical_problems"
   ]
  },
  {
   "cell_type": "code",
   "execution_count": 90,
   "metadata": {},
   "outputs": [
    {
     "data": {
      "application/vnd.plotly.v1+json": {
       "config": {
        "plotlyServerURL": "https://plot.ly"
       },
       "data": [
        {
         "alignmentgroup": "True",
         "bingroup": "x",
         "histfunc": "sum",
         "hovertemplate": "medical_problems=overweight<br>height=%{x}<br>sum of weight=%{y}<extra></extra>",
         "legendgroup": "overweight",
         "marker": {
          "color": "#636efa",
          "pattern": {
           "shape": ""
          }
         },
         "name": "overweight",
         "offsetgroup": "overweight",
         "orientation": "v",
         "showlegend": true,
         "type": "histogram",
         "x": [
          169,
          190,
          218,
          240,
          249,
          260
         ],
         "xaxis": "x",
         "y": [
          63,
          76,
          79,
          77,
          101,
          60
         ],
         "yaxis": "y"
        },
        {
         "alignmentgroup": "True",
         "customdata": [
          [
           "pollen",
           "A-",
           12,
           "rural",
           "nigeria",
           "2006-06-15 00:00:00",
           "delirium",
           "GARBO SHARRON",
           "Male",
           "Yes",
           "Yes",
           "single",
           "overweight"
          ],
          [
           "flowers",
           "B-",
           2,
           "urban",
           "nigeria",
           "1988-04-11 00:00:00",
           "ruptured discs",
           "ADREAN NEKO",
           "Female",
           "Yes",
           "No",
           "single",
           "overweight"
          ],
          [
           "dust",
           "A-",
           5,
           "urban",
           "nigeria",
           "2007-12-16 00:00:00",
           "alzheimer's",
           "ANNE-SOPHIE HERO",
           "Male",
           "Yes",
           "Yes",
           "single",
           "overweight"
          ],
          [
           "nuts",
           "A+",
           15,
           "suburban",
           "nigeria",
           "1983-09-19 00:00:00",
           "scoliosis",
           "ANNISIA HERU",
           "Male",
           "No",
           "No",
           "married",
           "overweight"
          ],
          [
           "dust",
           "A-",
           10,
           "urban",
           "nigeria",
           "1988-02-15 00:00:00",
           "none",
           "GAYLORD SHAVON",
           "Female",
           "No",
           "Yes",
           "single",
           "overweight"
          ],
          [
           "flowers",
           "O-",
           3,
           "urban",
           "nigeria",
           "1994-02-11 00:00:00",
           "amnesia",
           "GEETHA SHAWNTA",
           "Male",
           "Yes",
           "No",
           "single",
           "overweight"
          ]
         ],
         "hovertemplate": "medical_problems=%{customdata[12]}<br>height=%{x}<br>allergies=%{customdata[0]}<br>blood_type=%{customdata[1]}<br>closest_hospital=%{customdata[2]}<br>community=%{customdata[3]}<br>country=%{customdata[4]}<br>date_of_birth=%{customdata[5]}<br>disabilities=%{customdata[6]}<br>name=%{customdata[7]}<br>gender=%{customdata[8]}<br>has_children=%{customdata[9]}<br>has_dependent=%{customdata[10]}<br>marital_status=%{customdata[11]}<extra></extra>",
         "legendgroup": "overweight",
         "marker": {
          "color": "#636efa"
         },
         "name": "overweight",
         "notched": true,
         "offsetgroup": "overweight",
         "showlegend": false,
         "type": "box",
         "x": [
          169,
          190,
          218,
          240,
          249,
          260
         ],
         "xaxis": "x2",
         "yaxis": "y2"
        },
        {
         "alignmentgroup": "True",
         "bingroup": "x",
         "histfunc": "sum",
         "hovertemplate": "medical_problems=underweight<br>height=%{x}<br>sum of weight=%{y}<extra></extra>",
         "legendgroup": "underweight",
         "marker": {
          "color": "#EF553B",
          "pattern": {
           "shape": ""
          }
         },
         "name": "underweight",
         "offsetgroup": "underweight",
         "orientation": "v",
         "showlegend": true,
         "type": "histogram",
         "x": [
          167,
          151,
          170,
          239,
          147,
          244
         ],
         "xaxis": "x",
         "y": [
          79,
          86,
          91,
          77,
          73,
          83
         ],
         "yaxis": "y"
        },
        {
         "alignmentgroup": "True",
         "customdata": [
          [
           "nuts",
           "B-",
           10,
           "urban",
           "nigeria",
           "2010-03-21 00:00:00",
           "alzheimer's",
           "ANKUR HENDRY",
           "Female",
           "No",
           "Yes",
           "single",
           "underweight"
          ],
          [
           "pollen",
           "AB-",
           5,
           "rural",
           "nigeria",
           "1996-08-11 00:00:00",
           "ruptured discs",
           "ANNABELLA HENNESSEY",
           "Female",
           "No",
           "Yes",
           "widowed",
           "underweight"
          ],
          [
           "flowers",
           "A+",
           8,
           "urban",
           "nigeria",
           "1998-07-24 00:00:00",
           "none",
           "ANNA-LISA HENRIQUE",
           "Female",
           "Yes",
           "No",
           "single",
           "underweight"
          ],
          [
           "flowers",
           "AB+",
           10,
           "rural",
           "nigeria",
           "1989-02-25 00:00:00",
           "fibromas",
           "AEISHA NENA",
           "Male",
           "No",
           "Yes",
           "single",
           "underweight"
          ],
          [
           "pollen",
           "A-",
           5,
           "urban",
           "nigeria",
           "1990-01-15 00:00:00",
           "fibromas",
           "GAURAV SHAUNTA",
           "Male",
           "No",
           "Yes",
           "single",
           "underweight"
          ],
          [
           "nuts",
           "B-",
           10,
           "urban",
           "nigeria",
           "2005-06-23 00:00:00",
           "none",
           "GEANINE SHAWNDA",
           "Female",
           "No",
           "Yes",
           "single",
           "underweight"
          ]
         ],
         "hovertemplate": "medical_problems=%{customdata[12]}<br>height=%{x}<br>allergies=%{customdata[0]}<br>blood_type=%{customdata[1]}<br>closest_hospital=%{customdata[2]}<br>community=%{customdata[3]}<br>country=%{customdata[4]}<br>date_of_birth=%{customdata[5]}<br>disabilities=%{customdata[6]}<br>name=%{customdata[7]}<br>gender=%{customdata[8]}<br>has_children=%{customdata[9]}<br>has_dependent=%{customdata[10]}<br>marital_status=%{customdata[11]}<extra></extra>",
         "legendgroup": "underweight",
         "marker": {
          "color": "#EF553B"
         },
         "name": "underweight",
         "notched": true,
         "offsetgroup": "underweight",
         "showlegend": false,
         "type": "box",
         "x": [
          167,
          151,
          170,
          239,
          147,
          244
         ],
         "xaxis": "x2",
         "yaxis": "y2"
        },
        {
         "alignmentgroup": "True",
         "bingroup": "x",
         "histfunc": "sum",
         "hovertemplate": "medical_problems=drug addiction<br>height=%{x}<br>sum of weight=%{y}<extra></extra>",
         "legendgroup": "drug addiction",
         "marker": {
          "color": "#00cc96",
          "pattern": {
           "shape": ""
          }
         },
         "name": "drug addiction",
         "offsetgroup": "drug addiction",
         "orientation": "v",
         "showlegend": true,
         "type": "histogram",
         "x": [
          147,
          181,
          259,
          258,
          237,
          193
         ],
         "xaxis": "x",
         "y": [
          69,
          87,
          87,
          61,
          92,
          63
         ],
         "yaxis": "y"
        },
        {
         "alignmentgroup": "True",
         "customdata": [
          [
           "nuts",
           "A+",
           5,
           "urban",
           "nigeria",
           "2012-08-24 00:00:00",
           "arthritis",
           "ADONIJAH NEKA",
           "Male",
           "No",
           "No",
           "divorced",
           "drug addiction"
          ],
          [
           "pollen",
           "O-",
           3,
           "rural",
           "nigeria",
           "1988-03-15 00:00:00",
           "atherosclerosis",
           "ADY NEMA",
           "Male",
           "No",
           "Yes",
           "married",
           "drug addiction"
          ],
          [
           "pollen",
           "AB+",
           8,
           "suburban",
           "nigeria",
           "2004-10-15 00:00:00",
           "arthritis",
           "AFONSO NEREYDA",
           "Male",
           "No",
           "Yes",
           "divorced",
           "drug addiction"
          ],
          [
           "pollen",
           "AB-",
           10,
           "urban",
           "nigeria",
           "1993-07-09 00:00:00",
           "none",
           "GEENA SHAWNETTE",
           "Male",
           "Yes",
           "No",
           "single",
           "drug addiction"
          ],
          [
           "pollen",
           "B-",
           1,
           "suburban",
           "nigeria",
           "2004-04-25 00:00:00",
           "none",
           "ANSIL HIJIRI",
           "Male",
           "No",
           "Yes",
           "widowed",
           "drug addiction"
          ],
          [
           "dust",
           "A+",
           10,
           "rural",
           "nigeria",
           "2011-11-16 00:00:00",
           "alzheimer's",
           "AGRON NEVENA",
           "Male",
           "Yes",
           "Yes",
           "divorced",
           "drug addiction"
          ]
         ],
         "hovertemplate": "medical_problems=%{customdata[12]}<br>height=%{x}<br>allergies=%{customdata[0]}<br>blood_type=%{customdata[1]}<br>closest_hospital=%{customdata[2]}<br>community=%{customdata[3]}<br>country=%{customdata[4]}<br>date_of_birth=%{customdata[5]}<br>disabilities=%{customdata[6]}<br>name=%{customdata[7]}<br>gender=%{customdata[8]}<br>has_children=%{customdata[9]}<br>has_dependent=%{customdata[10]}<br>marital_status=%{customdata[11]}<extra></extra>",
         "legendgroup": "drug addiction",
         "marker": {
          "color": "#00cc96"
         },
         "name": "drug addiction",
         "notched": true,
         "offsetgroup": "drug addiction",
         "showlegend": false,
         "type": "box",
         "x": [
          147,
          181,
          259,
          258,
          237,
          193
         ],
         "xaxis": "x2",
         "yaxis": "y2"
        },
        {
         "alignmentgroup": "True",
         "bingroup": "x",
         "histfunc": "sum",
         "hovertemplate": "medical_problems=none<br>height=%{x}<br>sum of weight=%{y}<extra></extra>",
         "legendgroup": "none",
         "marker": {
          "color": "#ab63fa",
          "pattern": {
           "shape": ""
          }
         },
         "name": "none",
         "offsetgroup": "none",
         "orientation": "v",
         "showlegend": true,
         "type": "histogram",
         "x": [
          207,
          164,
          175,
          223,
          189,
          159,
          220,
          184,
          145,
          223,
          254,
          239,
          190,
          212,
          232,
          199
         ],
         "xaxis": "x",
         "y": [
          91,
          76,
          83,
          77,
          86,
          88,
          67,
          89,
          77,
          81,
          96,
          98,
          78,
          84,
          99,
          83
         ],
         "yaxis": "y"
        },
        {
         "alignmentgroup": "True",
         "customdata": [
          [
           "pollen",
           "B+",
           15,
           "urban",
           "nigeria",
           "1996-01-13 00:00:00",
           "ruptured discs",
           "GARETH SHASHWAT",
           "Female",
           "No",
           "Yes",
           "divorced",
           "none"
          ],
          [
           "pollen",
           "AB-",
           5,
           "suburban",
           "nigeria",
           "1987-09-08 00:00:00",
           "fibromas",
           "ADRIANNA NELINI",
           "Male",
           "Yes",
           "No",
           "single",
           "none"
          ],
          [
           "pollen",
           "B-",
           2,
           "rural",
           "nigeria",
           "2010-01-16 00:00:00",
           "cyclothimic disorder",
           "GARRETH SHATIK",
           "Male",
           "No",
           "No",
           "single",
           "none"
          ],
          [
           "pollen",
           "AB-",
           5,
           "rural",
           "nigeria",
           "1988-10-27 00:00:00",
           "alzheimer's",
           "ADRION NELSI",
           "Male",
           "No",
           "No",
           "single",
           "none"
          ],
          [
           "flowers",
           "AB+",
           2,
           "urban",
           "nigeria",
           "1995-09-13 00:00:00",
           "cyclothimic disorder",
           "ADUNNI NELSY",
           "Female",
           "Yes",
           "Yes",
           "married",
           "none"
          ],
          [
           "dust",
           "AB-",
           8,
           "rural",
           "nigeria",
           "1984-11-15 00:00:00",
           "amnesia",
           "AESHA NENETTE",
           "Female",
           "Yes",
           "Yes",
           "widowed",
           "none"
          ],
          [
           "pollen",
           "AB-",
           2,
           "rural",
           "nigeria",
           "2010-07-10 00:00:00",
           "fibromas",
           "AFEISHA NEO",
           "Female",
           "No",
           "No",
           "single",
           "none"
          ],
          [
           "pollen",
           "B-",
           1,
           "urban",
           "nigeria",
           "1989-06-04 00:00:00",
           "cyclothimic disorder",
           "ANNICA HERSHEL",
           "Female",
           "No",
           "No",
           "single",
           "none"
          ],
          [
           "dust",
           "O-",
           5,
           "urban",
           "nigeria",
           "2007-10-24 00:00:00",
           "amnesia",
           "GAY SHAVA",
           "Female",
           "No",
           "No",
           "single",
           "none"
          ],
          [
           "dust",
           "A+",
           10,
           "urban",
           "nigeria",
           "2009-08-26 00:00:00",
           "amnesia",
           "AFSHIN NESHA",
           "Female",
           "Yes",
           "Yes",
           "single",
           "none"
          ],
          [
           "dust",
           "B-",
           12,
           "urban",
           "nigeria",
           "1997-04-13 00:00:00",
           "cyclothimic disorder",
           "ANOOP HESKY",
           "Female",
           "No",
           "Yes",
           "single",
           "none"
          ],
          [
           "dust",
           "AB-",
           5,
           "rural",
           "nigeria",
           "2012-03-19 00:00:00",
           "none",
           "AGAM NESSIE",
           "Male",
           "Yes",
           "Yes",
           "widowed",
           "none"
          ],
          [
           "dust",
           "B-",
           3,
           "suburban",
           "nigeria",
           "1994-10-05 00:00:00",
           "arthritis",
           "ANOWAR HIBA",
           "Female",
           "No",
           "No",
           "single",
           "none"
          ],
          [
           "pollen",
           "B+",
           1,
           "suburban",
           "nigeria",
           "1991-05-07 00:00:00",
           "cyclothimic disorder",
           "AGNE NEUMAN",
           "Male",
           "Yes",
           "Yes",
           "single",
           "none"
          ],
          [
           "dust",
           "AB+",
           2,
           "rural",
           "nigeria",
           "2006-12-01 00:00:00",
           "cyclothimic disorder",
           "AGNÃˆS NEVA",
           "Male",
           "Yes",
           "Yes",
           "single",
           "none"
          ],
          [
           "dust",
           "AB+",
           2,
           "urban",
           "nigeria",
           "1996-05-14 00:00:00",
           "none",
           "AGUSTINA NEVILLE",
           "Female",
           "Yes",
           "Yes",
           "single",
           "none"
          ]
         ],
         "hovertemplate": "medical_problems=%{customdata[12]}<br>height=%{x}<br>allergies=%{customdata[0]}<br>blood_type=%{customdata[1]}<br>closest_hospital=%{customdata[2]}<br>community=%{customdata[3]}<br>country=%{customdata[4]}<br>date_of_birth=%{customdata[5]}<br>disabilities=%{customdata[6]}<br>name=%{customdata[7]}<br>gender=%{customdata[8]}<br>has_children=%{customdata[9]}<br>has_dependent=%{customdata[10]}<br>marital_status=%{customdata[11]}<extra></extra>",
         "legendgroup": "none",
         "marker": {
          "color": "#ab63fa"
         },
         "name": "none",
         "notched": true,
         "offsetgroup": "none",
         "showlegend": false,
         "type": "box",
         "x": [
          207,
          164,
          175,
          223,
          189,
          159,
          220,
          184,
          145,
          223,
          254,
          239,
          190,
          212,
          232,
          199
         ],
         "xaxis": "x2",
         "yaxis": "y2"
        },
        {
         "alignmentgroup": "True",
         "bingroup": "x",
         "histfunc": "sum",
         "hovertemplate": "medical_problems=mental issue<br>height=%{x}<br>sum of weight=%{y}<extra></extra>",
         "legendgroup": "mental issue",
         "marker": {
          "color": "#FFA15A",
          "pattern": {
           "shape": ""
          }
         },
         "name": "mental issue",
         "offsetgroup": "mental issue",
         "orientation": "v",
         "showlegend": true,
         "type": "histogram",
         "x": [
          181,
          178,
          133,
          200,
          209,
          235,
          252
         ],
         "xaxis": "x",
         "y": [
          87,
          73,
          102,
          85,
          101,
          94,
          101
         ],
         "yaxis": "y"
        },
        {
         "alignmentgroup": "True",
         "customdata": [
          [
           "dust",
           "B+",
           15,
           "rural",
           "nigeria",
           "2011-04-02 00:00:00",
           "alzheimer's",
           "ADRIANA NELI",
           "Male",
           "No",
           "Yes",
           "single",
           "mental issue"
          ],
          [
           "flowers",
           "O+",
           15,
           "urban",
           "nigeria",
           "1988-10-15 00:00:00",
           "amnesia",
           "GARNETTE SHATERA",
           "Male",
           "No",
           "Yes",
           "divorced",
           "mental issue"
          ],
          [
           "flowers",
           "AB+",
           8,
           "suburban",
           "nigeria",
           "2012-08-02 00:00:00",
           "none",
           "ANNELISE HERMES",
           "Female",
           "Yes",
           "Yes",
           "single",
           "mental issue"
          ],
          [
           "flowers",
           "B+",
           2,
           "suburban",
           "nigeria",
           "2000-10-22 00:00:00",
           "ruptured discs",
           "ANNEMARIE HERMINIO",
           "Male",
           "No",
           "No",
           "married",
           "mental issue"
          ],
          [
           "flowers",
           "AB-",
           5,
           "rural",
           "nigeria",
           "2005-07-20 00:00:00",
           "atherosclerosis",
           "GELISA SHAWNTIA",
           "Female",
           "No",
           "No",
           "single",
           "mental issue"
          ],
          [
           "dust",
           "AB+",
           3,
           "urban",
           "nigeria",
           "1997-08-13 00:00:00",
           "none",
           "GEM SHAYA",
           "Female",
           "No",
           "Yes",
           "widowed",
           "mental issue"
          ],
          [
           "nuts",
           "O+",
           12,
           "rural",
           "nigeria",
           "2007-01-23 00:00:00",
           "atherosclerosis",
           "ANTHE HILDY",
           "Male",
           "Yes",
           "Yes",
           "single",
           "mental issue"
          ]
         ],
         "hovertemplate": "medical_problems=%{customdata[12]}<br>height=%{x}<br>allergies=%{customdata[0]}<br>blood_type=%{customdata[1]}<br>closest_hospital=%{customdata[2]}<br>community=%{customdata[3]}<br>country=%{customdata[4]}<br>date_of_birth=%{customdata[5]}<br>disabilities=%{customdata[6]}<br>name=%{customdata[7]}<br>gender=%{customdata[8]}<br>has_children=%{customdata[9]}<br>has_dependent=%{customdata[10]}<br>marital_status=%{customdata[11]}<extra></extra>",
         "legendgroup": "mental issue",
         "marker": {
          "color": "#FFA15A"
         },
         "name": "mental issue",
         "notched": true,
         "offsetgroup": "mental issue",
         "showlegend": false,
         "type": "box",
         "x": [
          181,
          178,
          133,
          200,
          209,
          235,
          252
         ],
         "xaxis": "x2",
         "yaxis": "y2"
        },
        {
         "alignmentgroup": "True",
         "bingroup": "x",
         "histfunc": "sum",
         "hovertemplate": "medical_problems=not immunized<br>height=%{x}<br>sum of weight=%{y}<extra></extra>",
         "legendgroup": "not immunized",
         "marker": {
          "color": "#19d3f3",
          "pattern": {
           "shape": ""
          }
         },
         "name": "not immunized",
         "offsetgroup": "not immunized",
         "orientation": "v",
         "showlegend": true,
         "type": "histogram",
         "x": [
          162,
          225,
          252
         ],
         "xaxis": "x",
         "y": [
          84,
          79,
          99
         ],
         "yaxis": "y"
        },
        {
         "alignmentgroup": "True",
         "customdata": [
          [
           "dust",
           "B+",
           3,
           "urban",
           "nigeria",
           "1998-11-30 00:00:00",
           "scoliosis",
           "ADRIELLE NELLI",
           "Male",
           "Yes",
           "Yes",
           "single",
           "not immunized"
          ],
          [
           "flowers",
           "A-",
           2,
           "suburban",
           "nigeria",
           "1987-10-10 00:00:00",
           "delirium",
           "ANNIKA HERSON",
           "Male",
           "No",
           "No",
           "single",
           "not immunized"
          ],
          [
           "nuts",
           "O-",
           1,
           "urban",
           "nigeria",
           "1993-04-17 00:00:00",
           "fibromas",
           "AFZAL NESRIN",
           "Female",
           "Yes",
           "No",
           "single",
           "not immunized"
          ]
         ],
         "hovertemplate": "medical_problems=%{customdata[12]}<br>height=%{x}<br>allergies=%{customdata[0]}<br>blood_type=%{customdata[1]}<br>closest_hospital=%{customdata[2]}<br>community=%{customdata[3]}<br>country=%{customdata[4]}<br>date_of_birth=%{customdata[5]}<br>disabilities=%{customdata[6]}<br>name=%{customdata[7]}<br>gender=%{customdata[8]}<br>has_children=%{customdata[9]}<br>has_dependent=%{customdata[10]}<br>marital_status=%{customdata[11]}<extra></extra>",
         "legendgroup": "not immunized",
         "marker": {
          "color": "#19d3f3"
         },
         "name": "not immunized",
         "notched": true,
         "offsetgroup": "not immunized",
         "showlegend": false,
         "type": "box",
         "x": [
          162,
          225,
          252
         ],
         "xaxis": "x2",
         "yaxis": "y2"
        },
        {
         "alignmentgroup": "True",
         "bingroup": "x",
         "histfunc": "sum",
         "hovertemplate": "medical_problems=physical injury<br>height=%{x}<br>sum of weight=%{y}<extra></extra>",
         "legendgroup": "physical injury",
         "marker": {
          "color": "#FF6692",
          "pattern": {
           "shape": ""
          }
         },
         "name": "physical injury",
         "offsetgroup": "physical injury",
         "orientation": "v",
         "showlegend": true,
         "type": "histogram",
         "x": [
          228,
          192,
          150
         ],
         "xaxis": "x",
         "y": [
          73,
          89,
          77
         ],
         "yaxis": "y"
        },
        {
         "alignmentgroup": "True",
         "customdata": [
          [
           "dust",
           "A-",
           10,
           "rural",
           "nigeria",
           "1986-04-03 00:00:00",
           "atherosclerosis",
           "GARRY SHAUGHN",
           "Female",
           "Yes",
           "No",
           "widowed",
           "physical injury"
          ],
          [
           "flowers",
           "B-",
           8,
           "suburban",
           "nigeria",
           "2008-06-24 00:00:00",
           "none",
           "GARY SHAUNDA",
           "Male",
           "Yes",
           "Yes",
           "single",
           "physical injury"
          ],
          [
           "pollen",
           "A+",
           3,
           "suburban",
           "nigeria",
           "2007-08-11 00:00:00",
           "fibromas",
           "GAYATRI SHAVAUGHN",
           "Male",
           "Yes",
           "Yes",
           "married",
           "physical injury"
          ]
         ],
         "hovertemplate": "medical_problems=%{customdata[12]}<br>height=%{x}<br>allergies=%{customdata[0]}<br>blood_type=%{customdata[1]}<br>closest_hospital=%{customdata[2]}<br>community=%{customdata[3]}<br>country=%{customdata[4]}<br>date_of_birth=%{customdata[5]}<br>disabilities=%{customdata[6]}<br>name=%{customdata[7]}<br>gender=%{customdata[8]}<br>has_children=%{customdata[9]}<br>has_dependent=%{customdata[10]}<br>marital_status=%{customdata[11]}<extra></extra>",
         "legendgroup": "physical injury",
         "marker": {
          "color": "#FF6692"
         },
         "name": "physical injury",
         "notched": true,
         "offsetgroup": "physical injury",
         "showlegend": false,
         "type": "box",
         "x": [
          228,
          192,
          150
         ],
         "xaxis": "x2",
         "yaxis": "y2"
        }
       ],
       "layout": {
        "barmode": "relative",
        "legend": {
         "title": {
          "text": "medical_problems"
         },
         "tracegroupgap": 0
        },
        "margin": {
         "t": 60
        },
        "template": {
         "data": {
          "bar": [
           {
            "error_x": {
             "color": "#2a3f5f"
            },
            "error_y": {
             "color": "#2a3f5f"
            },
            "marker": {
             "line": {
              "color": "#E5ECF6",
              "width": 0.5
             },
             "pattern": {
              "fillmode": "overlay",
              "size": 10,
              "solidity": 0.2
             }
            },
            "type": "bar"
           }
          ],
          "barpolar": [
           {
            "marker": {
             "line": {
              "color": "#E5ECF6",
              "width": 0.5
             },
             "pattern": {
              "fillmode": "overlay",
              "size": 10,
              "solidity": 0.2
             }
            },
            "type": "barpolar"
           }
          ],
          "carpet": [
           {
            "aaxis": {
             "endlinecolor": "#2a3f5f",
             "gridcolor": "white",
             "linecolor": "white",
             "minorgridcolor": "white",
             "startlinecolor": "#2a3f5f"
            },
            "baxis": {
             "endlinecolor": "#2a3f5f",
             "gridcolor": "white",
             "linecolor": "white",
             "minorgridcolor": "white",
             "startlinecolor": "#2a3f5f"
            },
            "type": "carpet"
           }
          ],
          "choropleth": [
           {
            "colorbar": {
             "outlinewidth": 0,
             "ticks": ""
            },
            "type": "choropleth"
           }
          ],
          "contour": [
           {
            "colorbar": {
             "outlinewidth": 0,
             "ticks": ""
            },
            "colorscale": [
             [
              0,
              "#0d0887"
             ],
             [
              0.1111111111111111,
              "#46039f"
             ],
             [
              0.2222222222222222,
              "#7201a8"
             ],
             [
              0.3333333333333333,
              "#9c179e"
             ],
             [
              0.4444444444444444,
              "#bd3786"
             ],
             [
              0.5555555555555556,
              "#d8576b"
             ],
             [
              0.6666666666666666,
              "#ed7953"
             ],
             [
              0.7777777777777778,
              "#fb9f3a"
             ],
             [
              0.8888888888888888,
              "#fdca26"
             ],
             [
              1,
              "#f0f921"
             ]
            ],
            "type": "contour"
           }
          ],
          "contourcarpet": [
           {
            "colorbar": {
             "outlinewidth": 0,
             "ticks": ""
            },
            "type": "contourcarpet"
           }
          ],
          "heatmap": [
           {
            "colorbar": {
             "outlinewidth": 0,
             "ticks": ""
            },
            "colorscale": [
             [
              0,
              "#0d0887"
             ],
             [
              0.1111111111111111,
              "#46039f"
             ],
             [
              0.2222222222222222,
              "#7201a8"
             ],
             [
              0.3333333333333333,
              "#9c179e"
             ],
             [
              0.4444444444444444,
              "#bd3786"
             ],
             [
              0.5555555555555556,
              "#d8576b"
             ],
             [
              0.6666666666666666,
              "#ed7953"
             ],
             [
              0.7777777777777778,
              "#fb9f3a"
             ],
             [
              0.8888888888888888,
              "#fdca26"
             ],
             [
              1,
              "#f0f921"
             ]
            ],
            "type": "heatmap"
           }
          ],
          "heatmapgl": [
           {
            "colorbar": {
             "outlinewidth": 0,
             "ticks": ""
            },
            "colorscale": [
             [
              0,
              "#0d0887"
             ],
             [
              0.1111111111111111,
              "#46039f"
             ],
             [
              0.2222222222222222,
              "#7201a8"
             ],
             [
              0.3333333333333333,
              "#9c179e"
             ],
             [
              0.4444444444444444,
              "#bd3786"
             ],
             [
              0.5555555555555556,
              "#d8576b"
             ],
             [
              0.6666666666666666,
              "#ed7953"
             ],
             [
              0.7777777777777778,
              "#fb9f3a"
             ],
             [
              0.8888888888888888,
              "#fdca26"
             ],
             [
              1,
              "#f0f921"
             ]
            ],
            "type": "heatmapgl"
           }
          ],
          "histogram": [
           {
            "marker": {
             "pattern": {
              "fillmode": "overlay",
              "size": 10,
              "solidity": 0.2
             }
            },
            "type": "histogram"
           }
          ],
          "histogram2d": [
           {
            "colorbar": {
             "outlinewidth": 0,
             "ticks": ""
            },
            "colorscale": [
             [
              0,
              "#0d0887"
             ],
             [
              0.1111111111111111,
              "#46039f"
             ],
             [
              0.2222222222222222,
              "#7201a8"
             ],
             [
              0.3333333333333333,
              "#9c179e"
             ],
             [
              0.4444444444444444,
              "#bd3786"
             ],
             [
              0.5555555555555556,
              "#d8576b"
             ],
             [
              0.6666666666666666,
              "#ed7953"
             ],
             [
              0.7777777777777778,
              "#fb9f3a"
             ],
             [
              0.8888888888888888,
              "#fdca26"
             ],
             [
              1,
              "#f0f921"
             ]
            ],
            "type": "histogram2d"
           }
          ],
          "histogram2dcontour": [
           {
            "colorbar": {
             "outlinewidth": 0,
             "ticks": ""
            },
            "colorscale": [
             [
              0,
              "#0d0887"
             ],
             [
              0.1111111111111111,
              "#46039f"
             ],
             [
              0.2222222222222222,
              "#7201a8"
             ],
             [
              0.3333333333333333,
              "#9c179e"
             ],
             [
              0.4444444444444444,
              "#bd3786"
             ],
             [
              0.5555555555555556,
              "#d8576b"
             ],
             [
              0.6666666666666666,
              "#ed7953"
             ],
             [
              0.7777777777777778,
              "#fb9f3a"
             ],
             [
              0.8888888888888888,
              "#fdca26"
             ],
             [
              1,
              "#f0f921"
             ]
            ],
            "type": "histogram2dcontour"
           }
          ],
          "mesh3d": [
           {
            "colorbar": {
             "outlinewidth": 0,
             "ticks": ""
            },
            "type": "mesh3d"
           }
          ],
          "parcoords": [
           {
            "line": {
             "colorbar": {
              "outlinewidth": 0,
              "ticks": ""
             }
            },
            "type": "parcoords"
           }
          ],
          "pie": [
           {
            "automargin": true,
            "type": "pie"
           }
          ],
          "scatter": [
           {
            "fillpattern": {
             "fillmode": "overlay",
             "size": 10,
             "solidity": 0.2
            },
            "type": "scatter"
           }
          ],
          "scatter3d": [
           {
            "line": {
             "colorbar": {
              "outlinewidth": 0,
              "ticks": ""
             }
            },
            "marker": {
             "colorbar": {
              "outlinewidth": 0,
              "ticks": ""
             }
            },
            "type": "scatter3d"
           }
          ],
          "scattercarpet": [
           {
            "marker": {
             "colorbar": {
              "outlinewidth": 0,
              "ticks": ""
             }
            },
            "type": "scattercarpet"
           }
          ],
          "scattergeo": [
           {
            "marker": {
             "colorbar": {
              "outlinewidth": 0,
              "ticks": ""
             }
            },
            "type": "scattergeo"
           }
          ],
          "scattergl": [
           {
            "marker": {
             "colorbar": {
              "outlinewidth": 0,
              "ticks": ""
             }
            },
            "type": "scattergl"
           }
          ],
          "scattermapbox": [
           {
            "marker": {
             "colorbar": {
              "outlinewidth": 0,
              "ticks": ""
             }
            },
            "type": "scattermapbox"
           }
          ],
          "scatterpolar": [
           {
            "marker": {
             "colorbar": {
              "outlinewidth": 0,
              "ticks": ""
             }
            },
            "type": "scatterpolar"
           }
          ],
          "scatterpolargl": [
           {
            "marker": {
             "colorbar": {
              "outlinewidth": 0,
              "ticks": ""
             }
            },
            "type": "scatterpolargl"
           }
          ],
          "scatterternary": [
           {
            "marker": {
             "colorbar": {
              "outlinewidth": 0,
              "ticks": ""
             }
            },
            "type": "scatterternary"
           }
          ],
          "surface": [
           {
            "colorbar": {
             "outlinewidth": 0,
             "ticks": ""
            },
            "colorscale": [
             [
              0,
              "#0d0887"
             ],
             [
              0.1111111111111111,
              "#46039f"
             ],
             [
              0.2222222222222222,
              "#7201a8"
             ],
             [
              0.3333333333333333,
              "#9c179e"
             ],
             [
              0.4444444444444444,
              "#bd3786"
             ],
             [
              0.5555555555555556,
              "#d8576b"
             ],
             [
              0.6666666666666666,
              "#ed7953"
             ],
             [
              0.7777777777777778,
              "#fb9f3a"
             ],
             [
              0.8888888888888888,
              "#fdca26"
             ],
             [
              1,
              "#f0f921"
             ]
            ],
            "type": "surface"
           }
          ],
          "table": [
           {
            "cells": {
             "fill": {
              "color": "#EBF0F8"
             },
             "line": {
              "color": "white"
             }
            },
            "header": {
             "fill": {
              "color": "#C8D4E3"
             },
             "line": {
              "color": "white"
             }
            },
            "type": "table"
           }
          ]
         },
         "layout": {
          "annotationdefaults": {
           "arrowcolor": "#2a3f5f",
           "arrowhead": 0,
           "arrowwidth": 1
          },
          "autotypenumbers": "strict",
          "coloraxis": {
           "colorbar": {
            "outlinewidth": 0,
            "ticks": ""
           }
          },
          "colorscale": {
           "diverging": [
            [
             0,
             "#8e0152"
            ],
            [
             0.1,
             "#c51b7d"
            ],
            [
             0.2,
             "#de77ae"
            ],
            [
             0.3,
             "#f1b6da"
            ],
            [
             0.4,
             "#fde0ef"
            ],
            [
             0.5,
             "#f7f7f7"
            ],
            [
             0.6,
             "#e6f5d0"
            ],
            [
             0.7,
             "#b8e186"
            ],
            [
             0.8,
             "#7fbc41"
            ],
            [
             0.9,
             "#4d9221"
            ],
            [
             1,
             "#276419"
            ]
           ],
           "sequential": [
            [
             0,
             "#0d0887"
            ],
            [
             0.1111111111111111,
             "#46039f"
            ],
            [
             0.2222222222222222,
             "#7201a8"
            ],
            [
             0.3333333333333333,
             "#9c179e"
            ],
            [
             0.4444444444444444,
             "#bd3786"
            ],
            [
             0.5555555555555556,
             "#d8576b"
            ],
            [
             0.6666666666666666,
             "#ed7953"
            ],
            [
             0.7777777777777778,
             "#fb9f3a"
            ],
            [
             0.8888888888888888,
             "#fdca26"
            ],
            [
             1,
             "#f0f921"
            ]
           ],
           "sequentialminus": [
            [
             0,
             "#0d0887"
            ],
            [
             0.1111111111111111,
             "#46039f"
            ],
            [
             0.2222222222222222,
             "#7201a8"
            ],
            [
             0.3333333333333333,
             "#9c179e"
            ],
            [
             0.4444444444444444,
             "#bd3786"
            ],
            [
             0.5555555555555556,
             "#d8576b"
            ],
            [
             0.6666666666666666,
             "#ed7953"
            ],
            [
             0.7777777777777778,
             "#fb9f3a"
            ],
            [
             0.8888888888888888,
             "#fdca26"
            ],
            [
             1,
             "#f0f921"
            ]
           ]
          },
          "colorway": [
           "#636efa",
           "#EF553B",
           "#00cc96",
           "#ab63fa",
           "#FFA15A",
           "#19d3f3",
           "#FF6692",
           "#B6E880",
           "#FF97FF",
           "#FECB52"
          ],
          "font": {
           "color": "#2a3f5f"
          },
          "geo": {
           "bgcolor": "white",
           "lakecolor": "white",
           "landcolor": "#E5ECF6",
           "showlakes": true,
           "showland": true,
           "subunitcolor": "white"
          },
          "hoverlabel": {
           "align": "left"
          },
          "hovermode": "closest",
          "mapbox": {
           "style": "light"
          },
          "paper_bgcolor": "white",
          "plot_bgcolor": "#E5ECF6",
          "polar": {
           "angularaxis": {
            "gridcolor": "white",
            "linecolor": "white",
            "ticks": ""
           },
           "bgcolor": "#E5ECF6",
           "radialaxis": {
            "gridcolor": "white",
            "linecolor": "white",
            "ticks": ""
           }
          },
          "scene": {
           "xaxis": {
            "backgroundcolor": "#E5ECF6",
            "gridcolor": "white",
            "gridwidth": 2,
            "linecolor": "white",
            "showbackground": true,
            "ticks": "",
            "zerolinecolor": "white"
           },
           "yaxis": {
            "backgroundcolor": "#E5ECF6",
            "gridcolor": "white",
            "gridwidth": 2,
            "linecolor": "white",
            "showbackground": true,
            "ticks": "",
            "zerolinecolor": "white"
           },
           "zaxis": {
            "backgroundcolor": "#E5ECF6",
            "gridcolor": "white",
            "gridwidth": 2,
            "linecolor": "white",
            "showbackground": true,
            "ticks": "",
            "zerolinecolor": "white"
           }
          },
          "shapedefaults": {
           "line": {
            "color": "#2a3f5f"
           }
          },
          "ternary": {
           "aaxis": {
            "gridcolor": "white",
            "linecolor": "white",
            "ticks": ""
           },
           "baxis": {
            "gridcolor": "white",
            "linecolor": "white",
            "ticks": ""
           },
           "bgcolor": "#E5ECF6",
           "caxis": {
            "gridcolor": "white",
            "linecolor": "white",
            "ticks": ""
           }
          },
          "title": {
           "x": 0.05
          },
          "xaxis": {
           "automargin": true,
           "gridcolor": "white",
           "linecolor": "white",
           "ticks": "",
           "title": {
            "standoff": 15
           },
           "zerolinecolor": "white",
           "zerolinewidth": 2
          },
          "yaxis": {
           "automargin": true,
           "gridcolor": "white",
           "linecolor": "white",
           "ticks": "",
           "title": {
            "standoff": 15
           },
           "zerolinecolor": "white",
           "zerolinewidth": 2
          }
         }
        },
        "xaxis": {
         "anchor": "y",
         "domain": [
          0,
          1
         ],
         "title": {
          "text": "height"
         }
        },
        "xaxis2": {
         "anchor": "y2",
         "domain": [
          0,
          1
         ],
         "matches": "x",
         "showgrid": true,
         "showticklabels": false
        },
        "yaxis": {
         "anchor": "x",
         "domain": [
          0,
          0.7326
         ],
         "title": {
          "text": "sum of weight"
         }
        },
        "yaxis2": {
         "anchor": "x2",
         "domain": [
          0.7426,
          1
         ],
         "matches": "y2",
         "showgrid": false,
         "showline": false,
         "showticklabels": false,
         "ticks": ""
        }
       }
      }
     },
     "metadata": {},
     "output_type": "display_data"
    }
   ],
   "source": [
    "px.histogram(patient_df, x=\"height\", y=\"weight\", color=\"medical_problems\", marginal=\"box\", hover_data=patient_df.columns)"
   ]
  },
  {
   "attachments": {},
   "cell_type": "markdown",
   "metadata": {},
   "source": [
    "### Distplot and Box plot for checking outlier "
   ]
  },
  {
   "attachments": {},
   "cell_type": "markdown",
   "metadata": {},
   "source": [
    "#### closest_hospital"
   ]
  },
  {
   "cell_type": "code",
   "execution_count": 91,
   "metadata": {},
   "outputs": [
    {
     "data": {
      "application/vnd.plotly.v1+json": {
       "config": {
        "plotlyServerURL": "https://plot.ly"
       },
       "data": [
        {
         "autobinx": false,
         "histnorm": "probability density",
         "legendgroup": "closest_hospital",
         "marker": {
          "color": "green"
         },
         "name": "closest_hospital",
         "opacity": 0.7,
         "type": "histogram",
         "x": [
          12,
          10,
          5,
          5,
          15,
          2,
          15,
          8,
          15,
          5,
          2,
          3,
          10,
          5,
          8,
          2,
          3,
          8,
          10,
          2,
          8,
          5,
          2,
          5,
          8,
          1,
          5,
          2,
          3,
          15,
          10,
          10,
          12,
          1,
          5,
          3,
          10,
          10,
          1,
          3,
          2,
          1,
          10,
          5,
          2,
          3,
          12
         ],
         "xaxis": "x",
         "xbins": {
          "end": 15,
          "size": 2,
          "start": 1
         },
         "yaxis": "y"
        },
        {
         "legendgroup": "closest_hospital",
         "marker": {
          "color": "green"
         },
         "mode": "lines",
         "name": "closest_hospital",
         "showlegend": false,
         "type": "scatter",
         "x": [
          1,
          1.028,
          1.056,
          1.084,
          1.112,
          1.1400000000000001,
          1.168,
          1.196,
          1.224,
          1.252,
          1.28,
          1.308,
          1.336,
          1.3639999999999999,
          1.392,
          1.42,
          1.448,
          1.476,
          1.504,
          1.532,
          1.56,
          1.588,
          1.616,
          1.6440000000000001,
          1.6720000000000002,
          1.7,
          1.728,
          1.756,
          1.784,
          1.812,
          1.8399999999999999,
          1.8679999999999999,
          1.896,
          1.924,
          1.952,
          1.98,
          2.008,
          2.036,
          2.064,
          2.092,
          2.12,
          2.1479999999999997,
          2.176,
          2.2039999999999997,
          2.232,
          2.26,
          2.2880000000000003,
          2.316,
          2.3440000000000003,
          2.372,
          2.4,
          2.428,
          2.456,
          2.484,
          2.512,
          2.54,
          2.568,
          2.596,
          2.624,
          2.652,
          2.6799999999999997,
          2.708,
          2.7359999999999998,
          2.7640000000000002,
          2.792,
          2.8200000000000003,
          2.848,
          2.876,
          2.904,
          2.932,
          2.96,
          2.988,
          3.016,
          3.044,
          3.072,
          3.1,
          3.128,
          3.156,
          3.184,
          3.212,
          3.24,
          3.268,
          3.296,
          3.324,
          3.352,
          3.38,
          3.408,
          3.436,
          3.464,
          3.492,
          3.52,
          3.548,
          3.576,
          3.604,
          3.632,
          3.66,
          3.688,
          3.716,
          3.744,
          3.772,
          3.8,
          3.828,
          3.856,
          3.884,
          3.912,
          3.94,
          3.968,
          3.996,
          4.024,
          4.052,
          4.08,
          4.1080000000000005,
          4.136,
          4.164,
          4.192,
          4.220000000000001,
          4.248,
          4.276,
          4.304,
          4.332,
          4.359999999999999,
          4.388,
          4.416,
          4.444,
          4.4719999999999995,
          4.5,
          4.5280000000000005,
          4.556,
          4.584,
          4.612,
          4.640000000000001,
          4.668,
          4.696,
          4.724,
          4.752,
          4.779999999999999,
          4.808,
          4.836,
          4.864,
          4.8919999999999995,
          4.92,
          4.948,
          4.976,
          5.004,
          5.032,
          5.06,
          5.088,
          5.116,
          5.144,
          5.172,
          5.2,
          5.228,
          5.256,
          5.284,
          5.312,
          5.34,
          5.368,
          5.396,
          5.424,
          5.452,
          5.48,
          5.508,
          5.536,
          5.564,
          5.592,
          5.62,
          5.648,
          5.676,
          5.704,
          5.732,
          5.76,
          5.788,
          5.816,
          5.844,
          5.872,
          5.9,
          5.928,
          5.956,
          5.984,
          6.012,
          6.04,
          6.068,
          6.096,
          6.124,
          6.152,
          6.18,
          6.208,
          6.236,
          6.264,
          6.292,
          6.32,
          6.348,
          6.376,
          6.404,
          6.432,
          6.46,
          6.488,
          6.516,
          6.544,
          6.572,
          6.6,
          6.628,
          6.656,
          6.684,
          6.712,
          6.74,
          6.768,
          6.796,
          6.824,
          6.852,
          6.88,
          6.908,
          6.936,
          6.964,
          6.992,
          7.02,
          7.048,
          7.076,
          7.104,
          7.132,
          7.16,
          7.188,
          7.216,
          7.244,
          7.272,
          7.3,
          7.328,
          7.356,
          7.384,
          7.412,
          7.44,
          7.468,
          7.496,
          7.524,
          7.552,
          7.58,
          7.608,
          7.636,
          7.664,
          7.692,
          7.72,
          7.748,
          7.776,
          7.804,
          7.832,
          7.86,
          7.888,
          7.916,
          7.944,
          7.972,
          8,
          8.027999999999999,
          8.056000000000001,
          8.084,
          8.112,
          8.14,
          8.168,
          8.196,
          8.224,
          8.251999999999999,
          8.280000000000001,
          8.308,
          8.336,
          8.364,
          8.392,
          8.42,
          8.448,
          8.475999999999999,
          8.504,
          8.532,
          8.559999999999999,
          8.588000000000001,
          8.616,
          8.644,
          8.672,
          8.7,
          8.728,
          8.756,
          8.783999999999999,
          8.812000000000001,
          8.84,
          8.868,
          8.896,
          8.924,
          8.952,
          8.98,
          9.008,
          9.036,
          9.064,
          9.092,
          9.12,
          9.148,
          9.176,
          9.204,
          9.232,
          9.26,
          9.288,
          9.316,
          9.344,
          9.372,
          9.4,
          9.428,
          9.456,
          9.484,
          9.512,
          9.54,
          9.568,
          9.596,
          9.624,
          9.652,
          9.68,
          9.708,
          9.736,
          9.764,
          9.792,
          9.82,
          9.848,
          9.876,
          9.904,
          9.932,
          9.96,
          9.988,
          10.016,
          10.044,
          10.072,
          10.1,
          10.128,
          10.156,
          10.184,
          10.212,
          10.24,
          10.268,
          10.296,
          10.324,
          10.352,
          10.38,
          10.408,
          10.436,
          10.464,
          10.492,
          10.52,
          10.548,
          10.576,
          10.604,
          10.632,
          10.66,
          10.688,
          10.716,
          10.744,
          10.772,
          10.8,
          10.828,
          10.856,
          10.884,
          10.912,
          10.94,
          10.968,
          10.996,
          11.024,
          11.052,
          11.08,
          11.108,
          11.136,
          11.164,
          11.192,
          11.22,
          11.248,
          11.276,
          11.304,
          11.332,
          11.36,
          11.388,
          11.416,
          11.444,
          11.472,
          11.5,
          11.528,
          11.556,
          11.584,
          11.612,
          11.64,
          11.668,
          11.696,
          11.724,
          11.752,
          11.78,
          11.808,
          11.836,
          11.864,
          11.892,
          11.92,
          11.948,
          11.976,
          12.004,
          12.032,
          12.06,
          12.088,
          12.116,
          12.144,
          12.172,
          12.2,
          12.228,
          12.256,
          12.284,
          12.312,
          12.34,
          12.368,
          12.396,
          12.424,
          12.452,
          12.48,
          12.508,
          12.536,
          12.564,
          12.592,
          12.62,
          12.648,
          12.676,
          12.704,
          12.732,
          12.76,
          12.788,
          12.816,
          12.844,
          12.872,
          12.9,
          12.928,
          12.956,
          12.984,
          13.012,
          13.04,
          13.068,
          13.096,
          13.124,
          13.152,
          13.18,
          13.208,
          13.236,
          13.264,
          13.292,
          13.32,
          13.348,
          13.376,
          13.404,
          13.432,
          13.46,
          13.488,
          13.516,
          13.544,
          13.572,
          13.6,
          13.628,
          13.656,
          13.684,
          13.712,
          13.74,
          13.768,
          13.796,
          13.824,
          13.852,
          13.88,
          13.908,
          13.936,
          13.964,
          13.992,
          14.02,
          14.048,
          14.076,
          14.104,
          14.132,
          14.16,
          14.188,
          14.216,
          14.244,
          14.272,
          14.3,
          14.328,
          14.356,
          14.384,
          14.412,
          14.44,
          14.468,
          14.496,
          14.524,
          14.552,
          14.58,
          14.608,
          14.636,
          14.664,
          14.692,
          14.72,
          14.748,
          14.776,
          14.804,
          14.832,
          14.86,
          14.888,
          14.916,
          14.944,
          14.972
         ],
         "xaxis": "x",
         "y": [
          0.06751288131086676,
          0.0680804747281204,
          0.0686433546126184,
          0.06920136064295605,
          0.06975433440573028,
          0.07030211949492964,
          0.07084456160957905,
          0.07138150864953603,
          0.07191281080933921,
          0.0724383206700132,
          0.07295789328873482,
          0.07347138628627117,
          0.07397865993210138,
          0.07447957722713779,
          0.07497400398396638,
          0.07546180890452893,
          0.07594286365517372,
          0.07641704293900527,
          0.07688422456546742,
          0.07734428951709912,
          0.07779712201340397,
          0.07824260957178211,
          0.07868064306547516,
          0.07911111677847937,
          0.07953392845738805,
          0.07994897936012714,
          0.08035617430155378,
          0.08075542169589138,
          0.08114663359597976,
          0.08152972572932339,
          0.08190461753092604,
          0.08227123217290362,
          0.08262949659087251,
          0.08297934150711578,
          0.08332070145053291,
          0.08365351477338426,
          0.0839777236648461,
          0.08429327416139581,
          0.08460011615405175,
          0.08489820339249686,
          0.0851874934861187,
          0.08546794790200347,
          0.08573953195992504,
          0.08600221482437478,
          0.08625596949368067,
          0.08650077278626951,
          0.08673660532412823,
          0.08696345151352455,
          0.0871812995230505,
          0.08739014125905521,
          0.08758997233853726,
          0.08778079205956843,
          0.08796260336932483,
          0.08813541282980276,
          0.08829923058130025,
          0.08845407030374619,
          0.08859994917596187,
          0.08873688783294122,
          0.08886491032123779,
          0.08898404405254816,
          0.08909431975558203,
          0.08919577142631141,
          0.08928843627669138,
          0.08937235468194545,
          0.08944757012651015,
          0.08951412914873241,
          0.08957208128441395,
          0.08962147900929743,
          0.08966237768058732,
          0.08969483547759975,
          0.08971891334163293,
          0.0897346749151512,
          0.08974218648037205,
          0.0897415168973469,
          0.08973273754162252,
          0.08971592224157061,
          0.08969114721546964,
          0.08965849100842163,
          0.08961803442918558,
          0.08956986048700488,
          0.08951405432850565,
          0.08945070317473959,
          0.08937989625844213,
          0.08930172476157426,
          0.08921628175321392,
          0.0891236621278586,
          0.08902396254419939,
          0.08891728136442237,
          0.0888037185940902,
          0.08868337582265366,
          0.08855635616463992,
          0.08842276420156024,
          0.08828270592457556,
          0.0881362886779577,
          0.08798362110337708,
          0.08782481308504633,
          0.08765997569574498,
          0.08748922114374709,
          0.08731266272066947,
          0.08713041475025553,
          0.08694259253810578,
          0.08674931232236212,
          0.08655069122535106,
          0.08634684720618499,
          0.08613789901432123,
          0.08592396614407095,
          0.08570516879005023,
          0.08548162780356128,
          0.08525346464988752,
          0.08502080136648703,
          0.08478376052206066,
          0.08454246517647424,
          0.08429703884150741,
          0.0840476054424009,
          0.08379428928017234,
          0.08353721499466754,
          0.08327650752831203,
          0.08301229209052714,
          0.08274469412277151,
          0.08247383926416905,
          0.08219985331768077,
          0.08192286221677995,
          0.08164299199258485,
          0.08136036874140629,
          0.08107511859266404,
          0.08078736767712653,
          0.08049724209542722,
          0.08020486788681182,
          0.0799103709980696,
          0.0796138772526023,
          0.07931551231958435,
          0.0790154016831692,
          0.0787136706116958,
          0.07841044412685155,
          0.07810584697274807,
          0.07780000358486648,
          0.07749303805883236,
          0.07718507411897915,
          0.0768762350866623,
          0.07656664384828694,
          0.07625642282301429,
          0.07594569393011344,
          0.07563457855592712,
          0.07532319752042253,
          0.07501167104330055,
          0.0747001187096382,
          0.07438865943504262,
          0.07407741143029666,
          0.07376649216547881,
          0.0734560183335437,
          0.07314610581335036,
          0.07283686963212994,
          0.07252842392738676,
          0.07222088190822884,
          0.07191435581612786,
          0.07160895688511122,
          0.07130479530139068,
          0.07100198016243738,
          0.07070061943551309,
          0.0704008199156731,
          0.07010268718325705,
          0.06980632556088834,
          0.06951183807000488,
          0.06921932638694699,
          0.06892889079863079,
          0.068640630157839,
          0.06835464183816288,
          0.06807102168863116,
          0.067789863988067,
          0.06751126139921265,
          0.06723530492266727,
          0.06696208385068361,
          0.06669168572087232,
          0.06642419626986426,
          0.06615969938698413,
          0.06589827706798931,
          0.06564000936893043,
          0.0653849743601917,
          0.06513324808077044,
          0.06488490449285697,
          0.06464001543677614,
          0.06439865058635531,
          0.06416087740478126,
          0.06392676110101268,
          0.0636963645868135,
          0.06346974843447355,
          0.0632469708352832,
          0.06302808755882978,
          0.06281315191318304,
          0.06260221470603596,
          0.062395324206870224,
          0.06219252611021072,
          0.06199386350003832,
          0.06179937681542439,
          0.06160910381745447,
          0.061423079557503917,
          0.06124133634693024,
          0.06106390372824382,
          0.06089080844781783,
          0.06072207443019869,
          0.06055772275407357,
          0.06039777162995262,
          0.06024223637962074,
          0.06009112941741247,
          0.05994446023336021,
          0.0598022353782657,
          0.05966445845074244,
          0.05953113008627172,
          0.05940224794831737,
          0.05927780672153742,
          0.05915779810713066,
          0.05904221082035377,
          0.05893103059024037,
          0.058824240161552604,
          0.058721819298990986,
          0.05862374479368784,
          0.05852999047200466,
          0.05844052720665206,
          0.05835532293014712,
          0.05827434265062133,
          0.05819754846998778,
          0.058124899604474464,
          0.05805635240752594,
          0.05799186039507547,
          0.0579313742731823,
          0.057874841968030846,
          0.057822208658280486,
          0.05777341680975595,
          0.057728406212461614,
          0.057687114019903216,
          0.057649474790695,
          0.05761542053242848,
          0.05758488074777679,
          0.057557782482803965,
          0.057534050377447014,
          0.05751360671813593,
          0.057496371492512625,
          0.057482262446209124,
          0.05747119514164125,
          0.057463083018771476,
          0.05745783745779399,
          0.05745536784368929,
          0.05745558163259738,
          0.057458384419952276,
          0.057463680010321525,
          0.057471370488890734,
          0.057481356294530966,
          0.05749353629438687,
          0.05750780785991764,
          0.057524066944326296,
          0.05754220816130639,
          0.057562124865036285,
          0.05758370923134985,
          0.05760685234000835,
          0.05763144425800092,
          0.05765737412379627,
          0.05768453023246933,
          0.0577128001216244,
          0.05774207065803642,
          0.05777222812493006,
          0.057803158309816374,
          0.05783474659280618,
          0.05786687803531804,
          0.05789943746909892,
          0.05793230958547583,
          0.05796537902475407,
          0.05799853046568175,
          0.05803164871489531,
          0.05806461879626473,
          0.05809732604005534,
          0.05812965617182374,
          0.058161495400965324,
          0.05819273050883269,
          0.05822324893634226,
          0.05825293887098961,
          0.05828168933319298,
          0.05830939026188534,
          0.05833593259927767,
          0.0583612083747139,
          0.05838511078754344,
          0.05840753428893348,
          0.0584283746625481,
          0.058447529104020124,
          0.0584648962991446,
          0.05848037650072218,
          0.058493871603984546,
          0.05850528522053303,
          0.05851452275072483,
          0.05852149145444201,
          0.05852610052018042,
          0.05852826113239739,
          0.05852788653705854,
          0.058524892105326354,
          0.05851919539533388,
          0.05851071621199138,
          0.058499376664772174,
          0.058485101223428926,
          0.058467816771591866,
          0.05844745265820423,
          0.058423940746749635,
          0.058397215462231346,
          0.05836721383586363,
          0.05833387554743765,
          0.05829714296532809,
          0.058256961184106844,
          0.05821327805973465,
          0.058166044242301464,
          0.05811521320629131,
          0.058060741278347434,
          0.05800258766251728,
          0.0579407144629589,
          0.057875086704092554,
          0.05780567234818371,
          0.05773244231034682,
          0.05765537047096043,
          0.05757443368548723,
          0.05748961179169576,
          0.0574008876142813,
          0.05730824696688736,
          0.057211678651531025,
          0.05711117445543762,
          0.057006729145292846,
          0.056898340458922676,
          0.056786009094414454,
          0.05666973869669305,
          0.05654953584157122,
          0.05642541001729256,
          0.05629737360358965,
          0.05616544184828208,
          0.05602963284144026,
          0.055889967487144504,
          0.05574646947286934,
          0.05559916523652759,
          0.0554480839312078,
          0.05529325738764409,
          0.05513472007445577,
          0.05497250905619992,
          0.05480666394927899,
          0.05463722687574926,
          0.05446424241507705,
          0.054287757553891265,
          0.054107821633783776,
          0.053924486297209244,
          0.05373780543153909,
          0.053547835111324965,
          0.053354633538829306,
          0.05315826098288164,
          0.05295877971612113,
          0.05275625395068701,
          0.052550749772419886,
          0.05234233507363883,
          0.052131079484558834,
          0.05191705430341652,
          0.051700332425371615,
          0.051480988270252784,
          0.051259097709218354,
          0.05103473799040239,
          0.0508079876636182,
          0.050578926504191504,
          0.05034763543599628,
          0.05011419645376826,
          0.0498786925447691,
          0.04964120760987709,
          0.04940182638418005,
          0.049160634357145606,
          0.04891771769244504,
          0.04867316314750799,
          0.04842705799288329,
          0.048179489931483424,
          0.047930547017789094,
          0.0476803175770904,
          0.04742889012484116,
          0.04717635328620298,
          0.046922795715854636,
          0.04666830601814315,
          0.04641297266765111,
          0.046156883930256014,
          0.045900127784755364,
          0.045642791845130995,
          0.04538496328352676,
          0.045126728754010643,
          0.04486817431719369,
          0.04460938536577554,
          0.04435044655108718,
          0.04409144171069856,
          0.04383245379715951,
          0.04357356480793935,
          0.0433148557166314,
          0.04305640640548572,
          0.04279829559933236,
          0.04254060080095715,
          0.042283398227988864,
          0.042026762751356236,
          0.04177076783537176,
          0.041515485479496336,
          0.04126098616183919,
          0.041007338784443265,
          0.040754610620406986,
          0.04050286726288934,
          0.04025217257604456,
          0.04000258864793051,
          0.03975417574543233,
          0.03950699227124182,
          0.03926109472292952,
          0.03901653765414644,
          0.038773373637987524,
          0.03853165323254917,
          0.0382914249487095,
          0.03805273522015799,
          0.03781562837569892,
          0.03758014661385114,
          0.037346329979763226,
          0.03711421634446155,
          0.03688384138644638,
          0.03665523857564806,
          0.03642843915975321,
          0.0362034721529085,
          0.03598036432680718,
          0.035759140204159955,
          0.03553982205455114,
          0.03532242989267647,
          0.03510698147895813,
          0.034893492322528655,
          0.034681975686574,
          0.03447244259602226,
          0.03426490184756356,
          0.03405936002198219,
          0.0338558214987818,
          0.0336542884730796,
          0.03345476097474518,
          0.033257236889755494,
          0.03306171198373605,
          0.03286817992765553,
          0.032676632325639283,
          0.03248705874486338,
          0.0322994467474905,
          0.03211378192460529,
          0.03193004793210507,
          0.031748226528499554,
          0.0315682976145711,
          0.03139023927484505,
          0.031214027820817506,
          0.031039637835885852,
          0.030867042221925867,
          0.03069621224745677,
          0.03052711759733452,
          0.030359726423910972,
          0.03019400539959618,
          0.030029919770758154,
          0.029867433412893857,
          0.029706508887003557,
          0.029547107497099146,
          0.029389189348775817,
          0.029232713408775528,
          0.029077637565469532,
          0.02892391869018595,
          0.028771512699307895,
          0.02862037461706668,
          0.028470458638953637,
          0.028321718195674136,
          0.028174106017566033,
          0.028027574199405235,
          0.02788207426551953,
          0.02773755723513341,
          0.027593973687864547,
          0.027451273829293896,
          0.027309407556530725,
          0.027168324523695123,
          0.027027974207238962,
          0.026888305971028634,
          0.026749269131112533,
          0.0266108130200961,
          0.026472887051049863,
          0.02633544078087441,
          0.026198423973049143,
          0.026061786659691347,
          0.02592547920285392,
          0.025789452354990704,
          0.025653657318520564,
          0.02551804580442163,
          0.02538257008978966,
          0.025247183074295007,
          0.025111838335475558,
          0.024976490182803648,
          0.024841093710467138,
          0.024705604848807468,
          0.024569980414358043,
          0.02443417815842999,
          0.024298156814193037,
          0.024161876142202703,
          0.024025296974326087,
          0.023888381256021878,
          0.023751092086932192,
          0.023613393759746,
          0.023475251797296846,
          0.02333663298786023,
          0.023197505418617658,
          0.02305783850725858,
          0.02291760303169237,
          0.022776771157846556
         ],
         "yaxis": "y"
        },
        {
         "legendgroup": "closest_hospital",
         "marker": {
          "color": "green",
          "symbol": "line-ns-open"
         },
         "mode": "markers",
         "name": "closest_hospital",
         "showlegend": false,
         "type": "scatter",
         "x": [
          12,
          10,
          5,
          5,
          15,
          2,
          15,
          8,
          15,
          5,
          2,
          3,
          10,
          5,
          8,
          2,
          3,
          8,
          10,
          2,
          8,
          5,
          2,
          5,
          8,
          1,
          5,
          2,
          3,
          15,
          10,
          10,
          12,
          1,
          5,
          3,
          10,
          10,
          1,
          3,
          2,
          1,
          10,
          5,
          2,
          3,
          12
         ],
         "xaxis": "x",
         "y": [
          "closest_hospital",
          "closest_hospital",
          "closest_hospital",
          "closest_hospital",
          "closest_hospital",
          "closest_hospital",
          "closest_hospital",
          "closest_hospital",
          "closest_hospital",
          "closest_hospital",
          "closest_hospital",
          "closest_hospital",
          "closest_hospital",
          "closest_hospital",
          "closest_hospital",
          "closest_hospital",
          "closest_hospital",
          "closest_hospital",
          "closest_hospital",
          "closest_hospital",
          "closest_hospital",
          "closest_hospital",
          "closest_hospital",
          "closest_hospital",
          "closest_hospital",
          "closest_hospital",
          "closest_hospital",
          "closest_hospital",
          "closest_hospital",
          "closest_hospital",
          "closest_hospital",
          "closest_hospital",
          "closest_hospital",
          "closest_hospital",
          "closest_hospital",
          "closest_hospital",
          "closest_hospital",
          "closest_hospital",
          "closest_hospital",
          "closest_hospital",
          "closest_hospital",
          "closest_hospital",
          "closest_hospital",
          "closest_hospital",
          "closest_hospital",
          "closest_hospital",
          "closest_hospital"
         ],
         "yaxis": "y2"
        }
       ],
       "layout": {
        "barmode": "overlay",
        "hovermode": "closest",
        "legend": {
         "traceorder": "reversed"
        },
        "template": {
         "data": {
          "bar": [
           {
            "error_x": {
             "color": "#2a3f5f"
            },
            "error_y": {
             "color": "#2a3f5f"
            },
            "marker": {
             "line": {
              "color": "#E5ECF6",
              "width": 0.5
             },
             "pattern": {
              "fillmode": "overlay",
              "size": 10,
              "solidity": 0.2
             }
            },
            "type": "bar"
           }
          ],
          "barpolar": [
           {
            "marker": {
             "line": {
              "color": "#E5ECF6",
              "width": 0.5
             },
             "pattern": {
              "fillmode": "overlay",
              "size": 10,
              "solidity": 0.2
             }
            },
            "type": "barpolar"
           }
          ],
          "carpet": [
           {
            "aaxis": {
             "endlinecolor": "#2a3f5f",
             "gridcolor": "white",
             "linecolor": "white",
             "minorgridcolor": "white",
             "startlinecolor": "#2a3f5f"
            },
            "baxis": {
             "endlinecolor": "#2a3f5f",
             "gridcolor": "white",
             "linecolor": "white",
             "minorgridcolor": "white",
             "startlinecolor": "#2a3f5f"
            },
            "type": "carpet"
           }
          ],
          "choropleth": [
           {
            "colorbar": {
             "outlinewidth": 0,
             "ticks": ""
            },
            "type": "choropleth"
           }
          ],
          "contour": [
           {
            "colorbar": {
             "outlinewidth": 0,
             "ticks": ""
            },
            "colorscale": [
             [
              0,
              "#0d0887"
             ],
             [
              0.1111111111111111,
              "#46039f"
             ],
             [
              0.2222222222222222,
              "#7201a8"
             ],
             [
              0.3333333333333333,
              "#9c179e"
             ],
             [
              0.4444444444444444,
              "#bd3786"
             ],
             [
              0.5555555555555556,
              "#d8576b"
             ],
             [
              0.6666666666666666,
              "#ed7953"
             ],
             [
              0.7777777777777778,
              "#fb9f3a"
             ],
             [
              0.8888888888888888,
              "#fdca26"
             ],
             [
              1,
              "#f0f921"
             ]
            ],
            "type": "contour"
           }
          ],
          "contourcarpet": [
           {
            "colorbar": {
             "outlinewidth": 0,
             "ticks": ""
            },
            "type": "contourcarpet"
           }
          ],
          "heatmap": [
           {
            "colorbar": {
             "outlinewidth": 0,
             "ticks": ""
            },
            "colorscale": [
             [
              0,
              "#0d0887"
             ],
             [
              0.1111111111111111,
              "#46039f"
             ],
             [
              0.2222222222222222,
              "#7201a8"
             ],
             [
              0.3333333333333333,
              "#9c179e"
             ],
             [
              0.4444444444444444,
              "#bd3786"
             ],
             [
              0.5555555555555556,
              "#d8576b"
             ],
             [
              0.6666666666666666,
              "#ed7953"
             ],
             [
              0.7777777777777778,
              "#fb9f3a"
             ],
             [
              0.8888888888888888,
              "#fdca26"
             ],
             [
              1,
              "#f0f921"
             ]
            ],
            "type": "heatmap"
           }
          ],
          "heatmapgl": [
           {
            "colorbar": {
             "outlinewidth": 0,
             "ticks": ""
            },
            "colorscale": [
             [
              0,
              "#0d0887"
             ],
             [
              0.1111111111111111,
              "#46039f"
             ],
             [
              0.2222222222222222,
              "#7201a8"
             ],
             [
              0.3333333333333333,
              "#9c179e"
             ],
             [
              0.4444444444444444,
              "#bd3786"
             ],
             [
              0.5555555555555556,
              "#d8576b"
             ],
             [
              0.6666666666666666,
              "#ed7953"
             ],
             [
              0.7777777777777778,
              "#fb9f3a"
             ],
             [
              0.8888888888888888,
              "#fdca26"
             ],
             [
              1,
              "#f0f921"
             ]
            ],
            "type": "heatmapgl"
           }
          ],
          "histogram": [
           {
            "marker": {
             "pattern": {
              "fillmode": "overlay",
              "size": 10,
              "solidity": 0.2
             }
            },
            "type": "histogram"
           }
          ],
          "histogram2d": [
           {
            "colorbar": {
             "outlinewidth": 0,
             "ticks": ""
            },
            "colorscale": [
             [
              0,
              "#0d0887"
             ],
             [
              0.1111111111111111,
              "#46039f"
             ],
             [
              0.2222222222222222,
              "#7201a8"
             ],
             [
              0.3333333333333333,
              "#9c179e"
             ],
             [
              0.4444444444444444,
              "#bd3786"
             ],
             [
              0.5555555555555556,
              "#d8576b"
             ],
             [
              0.6666666666666666,
              "#ed7953"
             ],
             [
              0.7777777777777778,
              "#fb9f3a"
             ],
             [
              0.8888888888888888,
              "#fdca26"
             ],
             [
              1,
              "#f0f921"
             ]
            ],
            "type": "histogram2d"
           }
          ],
          "histogram2dcontour": [
           {
            "colorbar": {
             "outlinewidth": 0,
             "ticks": ""
            },
            "colorscale": [
             [
              0,
              "#0d0887"
             ],
             [
              0.1111111111111111,
              "#46039f"
             ],
             [
              0.2222222222222222,
              "#7201a8"
             ],
             [
              0.3333333333333333,
              "#9c179e"
             ],
             [
              0.4444444444444444,
              "#bd3786"
             ],
             [
              0.5555555555555556,
              "#d8576b"
             ],
             [
              0.6666666666666666,
              "#ed7953"
             ],
             [
              0.7777777777777778,
              "#fb9f3a"
             ],
             [
              0.8888888888888888,
              "#fdca26"
             ],
             [
              1,
              "#f0f921"
             ]
            ],
            "type": "histogram2dcontour"
           }
          ],
          "mesh3d": [
           {
            "colorbar": {
             "outlinewidth": 0,
             "ticks": ""
            },
            "type": "mesh3d"
           }
          ],
          "parcoords": [
           {
            "line": {
             "colorbar": {
              "outlinewidth": 0,
              "ticks": ""
             }
            },
            "type": "parcoords"
           }
          ],
          "pie": [
           {
            "automargin": true,
            "type": "pie"
           }
          ],
          "scatter": [
           {
            "fillpattern": {
             "fillmode": "overlay",
             "size": 10,
             "solidity": 0.2
            },
            "type": "scatter"
           }
          ],
          "scatter3d": [
           {
            "line": {
             "colorbar": {
              "outlinewidth": 0,
              "ticks": ""
             }
            },
            "marker": {
             "colorbar": {
              "outlinewidth": 0,
              "ticks": ""
             }
            },
            "type": "scatter3d"
           }
          ],
          "scattercarpet": [
           {
            "marker": {
             "colorbar": {
              "outlinewidth": 0,
              "ticks": ""
             }
            },
            "type": "scattercarpet"
           }
          ],
          "scattergeo": [
           {
            "marker": {
             "colorbar": {
              "outlinewidth": 0,
              "ticks": ""
             }
            },
            "type": "scattergeo"
           }
          ],
          "scattergl": [
           {
            "marker": {
             "colorbar": {
              "outlinewidth": 0,
              "ticks": ""
             }
            },
            "type": "scattergl"
           }
          ],
          "scattermapbox": [
           {
            "marker": {
             "colorbar": {
              "outlinewidth": 0,
              "ticks": ""
             }
            },
            "type": "scattermapbox"
           }
          ],
          "scatterpolar": [
           {
            "marker": {
             "colorbar": {
              "outlinewidth": 0,
              "ticks": ""
             }
            },
            "type": "scatterpolar"
           }
          ],
          "scatterpolargl": [
           {
            "marker": {
             "colorbar": {
              "outlinewidth": 0,
              "ticks": ""
             }
            },
            "type": "scatterpolargl"
           }
          ],
          "scatterternary": [
           {
            "marker": {
             "colorbar": {
              "outlinewidth": 0,
              "ticks": ""
             }
            },
            "type": "scatterternary"
           }
          ],
          "surface": [
           {
            "colorbar": {
             "outlinewidth": 0,
             "ticks": ""
            },
            "colorscale": [
             [
              0,
              "#0d0887"
             ],
             [
              0.1111111111111111,
              "#46039f"
             ],
             [
              0.2222222222222222,
              "#7201a8"
             ],
             [
              0.3333333333333333,
              "#9c179e"
             ],
             [
              0.4444444444444444,
              "#bd3786"
             ],
             [
              0.5555555555555556,
              "#d8576b"
             ],
             [
              0.6666666666666666,
              "#ed7953"
             ],
             [
              0.7777777777777778,
              "#fb9f3a"
             ],
             [
              0.8888888888888888,
              "#fdca26"
             ],
             [
              1,
              "#f0f921"
             ]
            ],
            "type": "surface"
           }
          ],
          "table": [
           {
            "cells": {
             "fill": {
              "color": "#EBF0F8"
             },
             "line": {
              "color": "white"
             }
            },
            "header": {
             "fill": {
              "color": "#C8D4E3"
             },
             "line": {
              "color": "white"
             }
            },
            "type": "table"
           }
          ]
         },
         "layout": {
          "annotationdefaults": {
           "arrowcolor": "#2a3f5f",
           "arrowhead": 0,
           "arrowwidth": 1
          },
          "autotypenumbers": "strict",
          "coloraxis": {
           "colorbar": {
            "outlinewidth": 0,
            "ticks": ""
           }
          },
          "colorscale": {
           "diverging": [
            [
             0,
             "#8e0152"
            ],
            [
             0.1,
             "#c51b7d"
            ],
            [
             0.2,
             "#de77ae"
            ],
            [
             0.3,
             "#f1b6da"
            ],
            [
             0.4,
             "#fde0ef"
            ],
            [
             0.5,
             "#f7f7f7"
            ],
            [
             0.6,
             "#e6f5d0"
            ],
            [
             0.7,
             "#b8e186"
            ],
            [
             0.8,
             "#7fbc41"
            ],
            [
             0.9,
             "#4d9221"
            ],
            [
             1,
             "#276419"
            ]
           ],
           "sequential": [
            [
             0,
             "#0d0887"
            ],
            [
             0.1111111111111111,
             "#46039f"
            ],
            [
             0.2222222222222222,
             "#7201a8"
            ],
            [
             0.3333333333333333,
             "#9c179e"
            ],
            [
             0.4444444444444444,
             "#bd3786"
            ],
            [
             0.5555555555555556,
             "#d8576b"
            ],
            [
             0.6666666666666666,
             "#ed7953"
            ],
            [
             0.7777777777777778,
             "#fb9f3a"
            ],
            [
             0.8888888888888888,
             "#fdca26"
            ],
            [
             1,
             "#f0f921"
            ]
           ],
           "sequentialminus": [
            [
             0,
             "#0d0887"
            ],
            [
             0.1111111111111111,
             "#46039f"
            ],
            [
             0.2222222222222222,
             "#7201a8"
            ],
            [
             0.3333333333333333,
             "#9c179e"
            ],
            [
             0.4444444444444444,
             "#bd3786"
            ],
            [
             0.5555555555555556,
             "#d8576b"
            ],
            [
             0.6666666666666666,
             "#ed7953"
            ],
            [
             0.7777777777777778,
             "#fb9f3a"
            ],
            [
             0.8888888888888888,
             "#fdca26"
            ],
            [
             1,
             "#f0f921"
            ]
           ]
          },
          "colorway": [
           "#636efa",
           "#EF553B",
           "#00cc96",
           "#ab63fa",
           "#FFA15A",
           "#19d3f3",
           "#FF6692",
           "#B6E880",
           "#FF97FF",
           "#FECB52"
          ],
          "font": {
           "color": "#2a3f5f"
          },
          "geo": {
           "bgcolor": "white",
           "lakecolor": "white",
           "landcolor": "#E5ECF6",
           "showlakes": true,
           "showland": true,
           "subunitcolor": "white"
          },
          "hoverlabel": {
           "align": "left"
          },
          "hovermode": "closest",
          "mapbox": {
           "style": "light"
          },
          "paper_bgcolor": "white",
          "plot_bgcolor": "#E5ECF6",
          "polar": {
           "angularaxis": {
            "gridcolor": "white",
            "linecolor": "white",
            "ticks": ""
           },
           "bgcolor": "#E5ECF6",
           "radialaxis": {
            "gridcolor": "white",
            "linecolor": "white",
            "ticks": ""
           }
          },
          "scene": {
           "xaxis": {
            "backgroundcolor": "#E5ECF6",
            "gridcolor": "white",
            "gridwidth": 2,
            "linecolor": "white",
            "showbackground": true,
            "ticks": "",
            "zerolinecolor": "white"
           },
           "yaxis": {
            "backgroundcolor": "#E5ECF6",
            "gridcolor": "white",
            "gridwidth": 2,
            "linecolor": "white",
            "showbackground": true,
            "ticks": "",
            "zerolinecolor": "white"
           },
           "zaxis": {
            "backgroundcolor": "#E5ECF6",
            "gridcolor": "white",
            "gridwidth": 2,
            "linecolor": "white",
            "showbackground": true,
            "ticks": "",
            "zerolinecolor": "white"
           }
          },
          "shapedefaults": {
           "line": {
            "color": "#2a3f5f"
           }
          },
          "ternary": {
           "aaxis": {
            "gridcolor": "white",
            "linecolor": "white",
            "ticks": ""
           },
           "baxis": {
            "gridcolor": "white",
            "linecolor": "white",
            "ticks": ""
           },
           "bgcolor": "#E5ECF6",
           "caxis": {
            "gridcolor": "white",
            "linecolor": "white",
            "ticks": ""
           }
          },
          "title": {
           "x": 0.05
          },
          "xaxis": {
           "automargin": true,
           "gridcolor": "white",
           "linecolor": "white",
           "ticks": "",
           "title": {
            "standoff": 15
           },
           "zerolinecolor": "white",
           "zerolinewidth": 2
          },
          "yaxis": {
           "automargin": true,
           "gridcolor": "white",
           "linecolor": "white",
           "ticks": "",
           "title": {
            "standoff": 15
           },
           "zerolinecolor": "white",
           "zerolinewidth": 2
          }
         }
        },
        "title": {
         "text": "Histogram and Kernel Probability Density Function Plot of closest_hospital"
        },
        "xaxis": {
         "anchor": "y2",
         "domain": [
          0,
          1
         ],
         "zeroline": false
        },
        "yaxis": {
         "anchor": "free",
         "domain": [
          0.35,
          1
         ],
         "position": 0
        },
        "yaxis2": {
         "anchor": "x",
         "domain": [
          0,
          0.25
         ],
         "dtick": 1,
         "showticklabels": false
        }
       }
      }
     },
     "metadata": {},
     "output_type": "display_data"
    }
   ],
   "source": [
    "# Histogram data\n",
    "hist_data = [patient_df[\"closest_hospital\"]]\n",
    "\n",
    "# Group data\n",
    "group_labels = [\"closest_hospital\"]\n",
    "colors = ['green']\n",
    "\n",
    "# Distplot \n",
    "fig = ff.create_distplot(hist_data, group_labels, bin_size=2,\n",
    "                         #curve_type=\"normal\", \n",
    "                         colors=colors)\n",
    "\n",
    "# Title\n",
    "fig.update_layout(title_text=\"Histogram and Kernel Probability Density Function Plot of closest_hospital\")\n",
    "fig.show()"
   ]
  },
  {
   "cell_type": "code",
   "execution_count": 92,
   "metadata": {},
   "outputs": [
    {
     "data": {
      "application/vnd.plotly.v1+json": {
       "config": {
        "plotlyServerURL": "https://plot.ly"
       },
       "data": [
        {
         "alignmentgroup": "True",
         "hovertemplate": "closest_hospital=%{y}<extra></extra>",
         "legendgroup": "",
         "marker": {
          "color": "#636efa"
         },
         "name": "",
         "notched": false,
         "offsetgroup": "",
         "orientation": "v",
         "showlegend": false,
         "type": "box",
         "x0": " ",
         "xaxis": "x",
         "y": [
          12,
          10,
          5,
          5,
          15,
          2,
          15,
          8,
          15,
          5,
          2,
          3,
          10,
          5,
          8,
          2,
          3,
          8,
          10,
          2,
          8,
          5,
          2,
          5,
          8,
          1,
          5,
          2,
          3,
          15,
          10,
          10,
          12,
          1,
          5,
          3,
          10,
          10,
          1,
          3,
          2,
          1,
          10,
          5,
          2,
          3,
          12
         ],
         "y0": " ",
         "yaxis": "y"
        }
       ],
       "layout": {
        "boxmode": "group",
        "legend": {
         "tracegroupgap": 0
        },
        "margin": {
         "t": 60
        },
        "template": {
         "data": {
          "bar": [
           {
            "error_x": {
             "color": "#2a3f5f"
            },
            "error_y": {
             "color": "#2a3f5f"
            },
            "marker": {
             "line": {
              "color": "#E5ECF6",
              "width": 0.5
             },
             "pattern": {
              "fillmode": "overlay",
              "size": 10,
              "solidity": 0.2
             }
            },
            "type": "bar"
           }
          ],
          "barpolar": [
           {
            "marker": {
             "line": {
              "color": "#E5ECF6",
              "width": 0.5
             },
             "pattern": {
              "fillmode": "overlay",
              "size": 10,
              "solidity": 0.2
             }
            },
            "type": "barpolar"
           }
          ],
          "carpet": [
           {
            "aaxis": {
             "endlinecolor": "#2a3f5f",
             "gridcolor": "white",
             "linecolor": "white",
             "minorgridcolor": "white",
             "startlinecolor": "#2a3f5f"
            },
            "baxis": {
             "endlinecolor": "#2a3f5f",
             "gridcolor": "white",
             "linecolor": "white",
             "minorgridcolor": "white",
             "startlinecolor": "#2a3f5f"
            },
            "type": "carpet"
           }
          ],
          "choropleth": [
           {
            "colorbar": {
             "outlinewidth": 0,
             "ticks": ""
            },
            "type": "choropleth"
           }
          ],
          "contour": [
           {
            "colorbar": {
             "outlinewidth": 0,
             "ticks": ""
            },
            "colorscale": [
             [
              0,
              "#0d0887"
             ],
             [
              0.1111111111111111,
              "#46039f"
             ],
             [
              0.2222222222222222,
              "#7201a8"
             ],
             [
              0.3333333333333333,
              "#9c179e"
             ],
             [
              0.4444444444444444,
              "#bd3786"
             ],
             [
              0.5555555555555556,
              "#d8576b"
             ],
             [
              0.6666666666666666,
              "#ed7953"
             ],
             [
              0.7777777777777778,
              "#fb9f3a"
             ],
             [
              0.8888888888888888,
              "#fdca26"
             ],
             [
              1,
              "#f0f921"
             ]
            ],
            "type": "contour"
           }
          ],
          "contourcarpet": [
           {
            "colorbar": {
             "outlinewidth": 0,
             "ticks": ""
            },
            "type": "contourcarpet"
           }
          ],
          "heatmap": [
           {
            "colorbar": {
             "outlinewidth": 0,
             "ticks": ""
            },
            "colorscale": [
             [
              0,
              "#0d0887"
             ],
             [
              0.1111111111111111,
              "#46039f"
             ],
             [
              0.2222222222222222,
              "#7201a8"
             ],
             [
              0.3333333333333333,
              "#9c179e"
             ],
             [
              0.4444444444444444,
              "#bd3786"
             ],
             [
              0.5555555555555556,
              "#d8576b"
             ],
             [
              0.6666666666666666,
              "#ed7953"
             ],
             [
              0.7777777777777778,
              "#fb9f3a"
             ],
             [
              0.8888888888888888,
              "#fdca26"
             ],
             [
              1,
              "#f0f921"
             ]
            ],
            "type": "heatmap"
           }
          ],
          "heatmapgl": [
           {
            "colorbar": {
             "outlinewidth": 0,
             "ticks": ""
            },
            "colorscale": [
             [
              0,
              "#0d0887"
             ],
             [
              0.1111111111111111,
              "#46039f"
             ],
             [
              0.2222222222222222,
              "#7201a8"
             ],
             [
              0.3333333333333333,
              "#9c179e"
             ],
             [
              0.4444444444444444,
              "#bd3786"
             ],
             [
              0.5555555555555556,
              "#d8576b"
             ],
             [
              0.6666666666666666,
              "#ed7953"
             ],
             [
              0.7777777777777778,
              "#fb9f3a"
             ],
             [
              0.8888888888888888,
              "#fdca26"
             ],
             [
              1,
              "#f0f921"
             ]
            ],
            "type": "heatmapgl"
           }
          ],
          "histogram": [
           {
            "marker": {
             "pattern": {
              "fillmode": "overlay",
              "size": 10,
              "solidity": 0.2
             }
            },
            "type": "histogram"
           }
          ],
          "histogram2d": [
           {
            "colorbar": {
             "outlinewidth": 0,
             "ticks": ""
            },
            "colorscale": [
             [
              0,
              "#0d0887"
             ],
             [
              0.1111111111111111,
              "#46039f"
             ],
             [
              0.2222222222222222,
              "#7201a8"
             ],
             [
              0.3333333333333333,
              "#9c179e"
             ],
             [
              0.4444444444444444,
              "#bd3786"
             ],
             [
              0.5555555555555556,
              "#d8576b"
             ],
             [
              0.6666666666666666,
              "#ed7953"
             ],
             [
              0.7777777777777778,
              "#fb9f3a"
             ],
             [
              0.8888888888888888,
              "#fdca26"
             ],
             [
              1,
              "#f0f921"
             ]
            ],
            "type": "histogram2d"
           }
          ],
          "histogram2dcontour": [
           {
            "colorbar": {
             "outlinewidth": 0,
             "ticks": ""
            },
            "colorscale": [
             [
              0,
              "#0d0887"
             ],
             [
              0.1111111111111111,
              "#46039f"
             ],
             [
              0.2222222222222222,
              "#7201a8"
             ],
             [
              0.3333333333333333,
              "#9c179e"
             ],
             [
              0.4444444444444444,
              "#bd3786"
             ],
             [
              0.5555555555555556,
              "#d8576b"
             ],
             [
              0.6666666666666666,
              "#ed7953"
             ],
             [
              0.7777777777777778,
              "#fb9f3a"
             ],
             [
              0.8888888888888888,
              "#fdca26"
             ],
             [
              1,
              "#f0f921"
             ]
            ],
            "type": "histogram2dcontour"
           }
          ],
          "mesh3d": [
           {
            "colorbar": {
             "outlinewidth": 0,
             "ticks": ""
            },
            "type": "mesh3d"
           }
          ],
          "parcoords": [
           {
            "line": {
             "colorbar": {
              "outlinewidth": 0,
              "ticks": ""
             }
            },
            "type": "parcoords"
           }
          ],
          "pie": [
           {
            "automargin": true,
            "type": "pie"
           }
          ],
          "scatter": [
           {
            "fillpattern": {
             "fillmode": "overlay",
             "size": 10,
             "solidity": 0.2
            },
            "type": "scatter"
           }
          ],
          "scatter3d": [
           {
            "line": {
             "colorbar": {
              "outlinewidth": 0,
              "ticks": ""
             }
            },
            "marker": {
             "colorbar": {
              "outlinewidth": 0,
              "ticks": ""
             }
            },
            "type": "scatter3d"
           }
          ],
          "scattercarpet": [
           {
            "marker": {
             "colorbar": {
              "outlinewidth": 0,
              "ticks": ""
             }
            },
            "type": "scattercarpet"
           }
          ],
          "scattergeo": [
           {
            "marker": {
             "colorbar": {
              "outlinewidth": 0,
              "ticks": ""
             }
            },
            "type": "scattergeo"
           }
          ],
          "scattergl": [
           {
            "marker": {
             "colorbar": {
              "outlinewidth": 0,
              "ticks": ""
             }
            },
            "type": "scattergl"
           }
          ],
          "scattermapbox": [
           {
            "marker": {
             "colorbar": {
              "outlinewidth": 0,
              "ticks": ""
             }
            },
            "type": "scattermapbox"
           }
          ],
          "scatterpolar": [
           {
            "marker": {
             "colorbar": {
              "outlinewidth": 0,
              "ticks": ""
             }
            },
            "type": "scatterpolar"
           }
          ],
          "scatterpolargl": [
           {
            "marker": {
             "colorbar": {
              "outlinewidth": 0,
              "ticks": ""
             }
            },
            "type": "scatterpolargl"
           }
          ],
          "scatterternary": [
           {
            "marker": {
             "colorbar": {
              "outlinewidth": 0,
              "ticks": ""
             }
            },
            "type": "scatterternary"
           }
          ],
          "surface": [
           {
            "colorbar": {
             "outlinewidth": 0,
             "ticks": ""
            },
            "colorscale": [
             [
              0,
              "#0d0887"
             ],
             [
              0.1111111111111111,
              "#46039f"
             ],
             [
              0.2222222222222222,
              "#7201a8"
             ],
             [
              0.3333333333333333,
              "#9c179e"
             ],
             [
              0.4444444444444444,
              "#bd3786"
             ],
             [
              0.5555555555555556,
              "#d8576b"
             ],
             [
              0.6666666666666666,
              "#ed7953"
             ],
             [
              0.7777777777777778,
              "#fb9f3a"
             ],
             [
              0.8888888888888888,
              "#fdca26"
             ],
             [
              1,
              "#f0f921"
             ]
            ],
            "type": "surface"
           }
          ],
          "table": [
           {
            "cells": {
             "fill": {
              "color": "#EBF0F8"
             },
             "line": {
              "color": "white"
             }
            },
            "header": {
             "fill": {
              "color": "#C8D4E3"
             },
             "line": {
              "color": "white"
             }
            },
            "type": "table"
           }
          ]
         },
         "layout": {
          "annotationdefaults": {
           "arrowcolor": "#2a3f5f",
           "arrowhead": 0,
           "arrowwidth": 1
          },
          "autotypenumbers": "strict",
          "coloraxis": {
           "colorbar": {
            "outlinewidth": 0,
            "ticks": ""
           }
          },
          "colorscale": {
           "diverging": [
            [
             0,
             "#8e0152"
            ],
            [
             0.1,
             "#c51b7d"
            ],
            [
             0.2,
             "#de77ae"
            ],
            [
             0.3,
             "#f1b6da"
            ],
            [
             0.4,
             "#fde0ef"
            ],
            [
             0.5,
             "#f7f7f7"
            ],
            [
             0.6,
             "#e6f5d0"
            ],
            [
             0.7,
             "#b8e186"
            ],
            [
             0.8,
             "#7fbc41"
            ],
            [
             0.9,
             "#4d9221"
            ],
            [
             1,
             "#276419"
            ]
           ],
           "sequential": [
            [
             0,
             "#0d0887"
            ],
            [
             0.1111111111111111,
             "#46039f"
            ],
            [
             0.2222222222222222,
             "#7201a8"
            ],
            [
             0.3333333333333333,
             "#9c179e"
            ],
            [
             0.4444444444444444,
             "#bd3786"
            ],
            [
             0.5555555555555556,
             "#d8576b"
            ],
            [
             0.6666666666666666,
             "#ed7953"
            ],
            [
             0.7777777777777778,
             "#fb9f3a"
            ],
            [
             0.8888888888888888,
             "#fdca26"
            ],
            [
             1,
             "#f0f921"
            ]
           ],
           "sequentialminus": [
            [
             0,
             "#0d0887"
            ],
            [
             0.1111111111111111,
             "#46039f"
            ],
            [
             0.2222222222222222,
             "#7201a8"
            ],
            [
             0.3333333333333333,
             "#9c179e"
            ],
            [
             0.4444444444444444,
             "#bd3786"
            ],
            [
             0.5555555555555556,
             "#d8576b"
            ],
            [
             0.6666666666666666,
             "#ed7953"
            ],
            [
             0.7777777777777778,
             "#fb9f3a"
            ],
            [
             0.8888888888888888,
             "#fdca26"
            ],
            [
             1,
             "#f0f921"
            ]
           ]
          },
          "colorway": [
           "#636efa",
           "#EF553B",
           "#00cc96",
           "#ab63fa",
           "#FFA15A",
           "#19d3f3",
           "#FF6692",
           "#B6E880",
           "#FF97FF",
           "#FECB52"
          ],
          "font": {
           "color": "#2a3f5f"
          },
          "geo": {
           "bgcolor": "white",
           "lakecolor": "white",
           "landcolor": "#E5ECF6",
           "showlakes": true,
           "showland": true,
           "subunitcolor": "white"
          },
          "hoverlabel": {
           "align": "left"
          },
          "hovermode": "closest",
          "mapbox": {
           "style": "light"
          },
          "paper_bgcolor": "white",
          "plot_bgcolor": "#E5ECF6",
          "polar": {
           "angularaxis": {
            "gridcolor": "white",
            "linecolor": "white",
            "ticks": ""
           },
           "bgcolor": "#E5ECF6",
           "radialaxis": {
            "gridcolor": "white",
            "linecolor": "white",
            "ticks": ""
           }
          },
          "scene": {
           "xaxis": {
            "backgroundcolor": "#E5ECF6",
            "gridcolor": "white",
            "gridwidth": 2,
            "linecolor": "white",
            "showbackground": true,
            "ticks": "",
            "zerolinecolor": "white"
           },
           "yaxis": {
            "backgroundcolor": "#E5ECF6",
            "gridcolor": "white",
            "gridwidth": 2,
            "linecolor": "white",
            "showbackground": true,
            "ticks": "",
            "zerolinecolor": "white"
           },
           "zaxis": {
            "backgroundcolor": "#E5ECF6",
            "gridcolor": "white",
            "gridwidth": 2,
            "linecolor": "white",
            "showbackground": true,
            "ticks": "",
            "zerolinecolor": "white"
           }
          },
          "shapedefaults": {
           "line": {
            "color": "#2a3f5f"
           }
          },
          "ternary": {
           "aaxis": {
            "gridcolor": "white",
            "linecolor": "white",
            "ticks": ""
           },
           "baxis": {
            "gridcolor": "white",
            "linecolor": "white",
            "ticks": ""
           },
           "bgcolor": "#E5ECF6",
           "caxis": {
            "gridcolor": "white",
            "linecolor": "white",
            "ticks": ""
           }
          },
          "title": {
           "x": 0.05
          },
          "xaxis": {
           "automargin": true,
           "gridcolor": "white",
           "linecolor": "white",
           "ticks": "",
           "title": {
            "standoff": 15
           },
           "zerolinecolor": "white",
           "zerolinewidth": 2
          },
          "yaxis": {
           "automargin": true,
           "gridcolor": "white",
           "linecolor": "white",
           "ticks": "",
           "title": {
            "standoff": 15
           },
           "zerolinecolor": "white",
           "zerolinewidth": 2
          }
         }
        },
        "xaxis": {
         "anchor": "y",
         "domain": [
          0,
          1
         ]
        },
        "yaxis": {
         "anchor": "x",
         "domain": [
          0,
          1
         ],
         "title": {
          "text": "closest_hospital"
         }
        }
       }
      }
     },
     "metadata": {},
     "output_type": "display_data"
    }
   ],
   "source": [
    "fig = px.box(patient_df[\"closest_hospital\"], y=\"closest_hospital\")\n",
    "fig.show()"
   ]
  },
  {
   "attachments": {},
   "cell_type": "markdown",
   "metadata": {},
   "source": [
    "#### height"
   ]
  },
  {
   "cell_type": "code",
   "execution_count": 93,
   "metadata": {},
   "outputs": [
    {
     "data": {
      "application/vnd.plotly.v1+json": {
       "config": {
        "plotlyServerURL": "https://plot.ly"
       },
       "data": [
        {
         "autobinx": false,
         "histnorm": "probability density",
         "legendgroup": "height",
         "marker": {
          "color": "green"
         },
         "name": "height",
         "opacity": 0.7,
         "type": "histogram",
         "x": [
          169,
          167,
          147,
          151,
          207,
          190,
          181,
          170,
          178,
          164,
          175,
          162,
          228,
          223,
          192,
          189,
          181,
          133,
          239,
          200,
          159,
          147,
          220,
          218,
          259,
          184,
          145,
          225,
          150,
          240,
          249,
          223,
          254,
          252,
          239,
          190,
          244,
          258,
          212,
          260,
          232,
          237,
          193,
          209,
          199,
          235,
          252
         ],
         "xaxis": "x",
         "xbins": {
          "end": 260,
          "size": 20,
          "start": 133
         },
         "yaxis": "y"
        },
        {
         "legendgroup": "height",
         "marker": {
          "color": "green"
         },
         "mode": "lines",
         "name": "height",
         "showlegend": false,
         "type": "scatter",
         "x": [
          133,
          133.254,
          133.508,
          133.762,
          134.016,
          134.27,
          134.524,
          134.778,
          135.032,
          135.286,
          135.54,
          135.794,
          136.048,
          136.302,
          136.556,
          136.81,
          137.064,
          137.318,
          137.572,
          137.826,
          138.08,
          138.334,
          138.588,
          138.842,
          139.096,
          139.35,
          139.604,
          139.858,
          140.112,
          140.36599999999999,
          140.62,
          140.874,
          141.128,
          141.382,
          141.636,
          141.89,
          142.144,
          142.398,
          142.652,
          142.906,
          143.16,
          143.414,
          143.668,
          143.922,
          144.176,
          144.43,
          144.684,
          144.938,
          145.192,
          145.446,
          145.7,
          145.954,
          146.208,
          146.462,
          146.716,
          146.97,
          147.224,
          147.478,
          147.732,
          147.986,
          148.24,
          148.494,
          148.748,
          149.002,
          149.256,
          149.51,
          149.764,
          150.018,
          150.272,
          150.526,
          150.78,
          151.034,
          151.288,
          151.542,
          151.796,
          152.05,
          152.304,
          152.558,
          152.812,
          153.066,
          153.32,
          153.574,
          153.828,
          154.082,
          154.336,
          154.59,
          154.844,
          155.098,
          155.352,
          155.606,
          155.86,
          156.114,
          156.368,
          156.622,
          156.876,
          157.13,
          157.38400000000001,
          157.638,
          157.892,
          158.14600000000002,
          158.4,
          158.654,
          158.90800000000002,
          159.162,
          159.416,
          159.67000000000002,
          159.924,
          160.178,
          160.432,
          160.686,
          160.94,
          161.194,
          161.448,
          161.702,
          161.956,
          162.21,
          162.464,
          162.718,
          162.972,
          163.226,
          163.48,
          163.734,
          163.988,
          164.242,
          164.496,
          164.75,
          165.004,
          165.258,
          165.512,
          165.766,
          166.02,
          166.274,
          166.528,
          166.78199999999998,
          167.036,
          167.29,
          167.54399999999998,
          167.798,
          168.052,
          168.30599999999998,
          168.56,
          168.814,
          169.06799999999998,
          169.322,
          169.576,
          169.82999999999998,
          170.084,
          170.338,
          170.59199999999998,
          170.846,
          171.1,
          171.35399999999998,
          171.608,
          171.862,
          172.11599999999999,
          172.37,
          172.624,
          172.878,
          173.132,
          173.386,
          173.64,
          173.894,
          174.148,
          174.402,
          174.656,
          174.91,
          175.164,
          175.418,
          175.672,
          175.926,
          176.18,
          176.434,
          176.688,
          176.942,
          177.196,
          177.45,
          177.704,
          177.958,
          178.212,
          178.466,
          178.72,
          178.974,
          179.228,
          179.482,
          179.736,
          179.99,
          180.244,
          180.498,
          180.752,
          181.006,
          181.26,
          181.514,
          181.768,
          182.022,
          182.276,
          182.53,
          182.784,
          183.038,
          183.292,
          183.546,
          183.8,
          184.054,
          184.308,
          184.562,
          184.816,
          185.07,
          185.324,
          185.578,
          185.832,
          186.086,
          186.34,
          186.594,
          186.848,
          187.102,
          187.356,
          187.61,
          187.864,
          188.118,
          188.372,
          188.626,
          188.88,
          189.13400000000001,
          189.388,
          189.642,
          189.89600000000002,
          190.15,
          190.404,
          190.65800000000002,
          190.912,
          191.166,
          191.42000000000002,
          191.674,
          191.928,
          192.18200000000002,
          192.436,
          192.69,
          192.94400000000002,
          193.198,
          193.452,
          193.70600000000002,
          193.96,
          194.214,
          194.46800000000002,
          194.722,
          194.976,
          195.23,
          195.484,
          195.738,
          195.992,
          196.246,
          196.5,
          196.754,
          197.00799999999998,
          197.262,
          197.51600000000002,
          197.76999999999998,
          198.024,
          198.27800000000002,
          198.53199999999998,
          198.786,
          199.04000000000002,
          199.29399999999998,
          199.548,
          199.80200000000002,
          200.05599999999998,
          200.31,
          200.564,
          200.81799999999998,
          201.072,
          201.326,
          201.57999999999998,
          201.834,
          202.088,
          202.34199999999998,
          202.596,
          202.85,
          203.10399999999998,
          203.358,
          203.612,
          203.86599999999999,
          204.12,
          204.374,
          204.628,
          204.882,
          205.136,
          205.39,
          205.644,
          205.898,
          206.152,
          206.406,
          206.66,
          206.914,
          207.168,
          207.422,
          207.676,
          207.93,
          208.184,
          208.438,
          208.692,
          208.946,
          209.2,
          209.454,
          209.708,
          209.962,
          210.216,
          210.47,
          210.724,
          210.978,
          211.232,
          211.486,
          211.74,
          211.994,
          212.248,
          212.502,
          212.756,
          213.01,
          213.264,
          213.518,
          213.772,
          214.026,
          214.28,
          214.534,
          214.788,
          215.042,
          215.296,
          215.55,
          215.804,
          216.058,
          216.312,
          216.566,
          216.82,
          217.074,
          217.328,
          217.582,
          217.836,
          218.09,
          218.344,
          218.598,
          218.852,
          219.106,
          219.36,
          219.614,
          219.868,
          220.122,
          220.376,
          220.63,
          220.88400000000001,
          221.138,
          221.392,
          221.64600000000002,
          221.9,
          222.154,
          222.40800000000002,
          222.662,
          222.916,
          223.17000000000002,
          223.424,
          223.678,
          223.93200000000002,
          224.186,
          224.44,
          224.69400000000002,
          224.94799999999998,
          225.202,
          225.45600000000002,
          225.70999999999998,
          225.964,
          226.21800000000002,
          226.47199999999998,
          226.726,
          226.98000000000002,
          227.23399999999998,
          227.488,
          227.74200000000002,
          227.99599999999998,
          228.25,
          228.50400000000002,
          228.75799999999998,
          229.012,
          229.26600000000002,
          229.51999999999998,
          229.774,
          230.02800000000002,
          230.28199999999998,
          230.536,
          230.79000000000002,
          231.04399999999998,
          231.298,
          231.55200000000002,
          231.80599999999998,
          232.06,
          232.314,
          232.56799999999998,
          232.822,
          233.076,
          233.32999999999998,
          233.584,
          233.838,
          234.09199999999998,
          234.346,
          234.6,
          234.85399999999998,
          235.108,
          235.362,
          235.61599999999999,
          235.87,
          236.124,
          236.378,
          236.632,
          236.886,
          237.14,
          237.394,
          237.648,
          237.902,
          238.156,
          238.41,
          238.664,
          238.918,
          239.172,
          239.426,
          239.68,
          239.934,
          240.188,
          240.442,
          240.696,
          240.95,
          241.204,
          241.458,
          241.712,
          241.966,
          242.22,
          242.474,
          242.728,
          242.982,
          243.236,
          243.49,
          243.744,
          243.998,
          244.252,
          244.506,
          244.76,
          245.014,
          245.268,
          245.522,
          245.776,
          246.03,
          246.284,
          246.538,
          246.792,
          247.046,
          247.3,
          247.554,
          247.808,
          248.062,
          248.316,
          248.57,
          248.824,
          249.078,
          249.332,
          249.586,
          249.84,
          250.094,
          250.348,
          250.602,
          250.856,
          251.11,
          251.364,
          251.618,
          251.872,
          252.126,
          252.38,
          252.63400000000001,
          252.888,
          253.142,
          253.39600000000002,
          253.65,
          253.904,
          254.15800000000002,
          254.412,
          254.666,
          254.92000000000002,
          255.174,
          255.428,
          255.68200000000002,
          255.936,
          256.19,
          256.444,
          256.698,
          256.952,
          257.206,
          257.46,
          257.714,
          257.968,
          258.222,
          258.476,
          258.73,
          258.984,
          259.238,
          259.492,
          259.746
         ],
         "xaxis": "x",
         "y": [
          0.0027951208306412493,
          0.0028342586907436533,
          0.002873567642616564,
          0.002913041279355641,
          0.002952673124302313,
          0.002992456635095814,
          0.0030323852077933765,
          0.003072452181054074,
          0.003112650840381397,
          0.003152974422419795,
          0.0031934161193002252,
          0.003233969083029487,
          0.0032746264299182946,
          0.003315381245042705,
          0.003356226586733589,
          0.0033971554910886704,
          0.0034381609765016777,
          0.0034792360482029734,
          0.003520373702806092,
          0.003561566932854558,
          0.0036028087313632337,
          0.0036440920963485206,
          0.0036854100353417444,
          0.0037267555698799145,
          0.0037681217399682136,
          0.0038095016085085056,
          0.003850888265688169,
          0.003892274833323644,
          0.003933654469153106,
          0.003975020371072713,
          0.004016365781310986,
          0.004057683990535914,
          0.0040989683418894635,
          0.0041402122349443295,
          0.0041814091295777,
          0.0042225525497572095,
          0.004263636087234048,
          0.0043046534051385,
          0.004345598241473429,
          0.004386464412501077,
          0.004427245816018916,
          0.004467936434520525,
          0.004508530338237335,
          0.0045490216880575635,
          0.004589404738318672,
          0.00462967383946998,
          0.004669823440602093,
          0.004709848091840298,
          0.0047497424465989275,
          0.004789501263694238,
          0.004829119409313383,
          0.004868591858837251,
          0.004907913698515362,
          0.004947080126991091,
          0.004986086456675697,
          0.005024928114970024,
          0.005063600645332841,
          0.0051020997081951515,
          0.005140421081719846,
          0.005178560662406647,
          0.005216514465542184,
          0.005254278625495465,
          0.005291849395859393,
          0.005329223149438843,
          0.005366396378086412,
          0.005403365692387103,
          0.00544012782119331,
          0.005476679611011821,
          0.005513018025244922,
          0.005549140143287574,
          0.005585043159483199,
          0.005620724381940715,
          0.005656181231215561,
          0.005691411238857903,
          0.005726412045831211,
          0.005761181400804764,
          0.005795717158323666,
          0.005830017276860383,
          0.0058640798167517395,
          0.005897902938025698,
          0.005931484898122311,
          0.00596482404951345,
          0.005997918837225961,
          0.006030767796273326,
          0.006063369549000639,
          0.006095722802348267,
          0.00612782634503932,
          0.0061596790446964466,
          0.006191279844893457,
          0.006222627762147346,
          0.006253721882856434,
          0.006284561360190479,
          0.006315145410938462,
          0.006345473312320174,
          0.006375544398767329,
          0.006405358058680451,
          0.006434913731167391,
          0.006464210902769647,
          0.006493249104182498,
          0.006522027906975105,
          0.006550546920316549,
          0.006578805787713991,
          0.006606804183768887,
          0.006634541810957248,
          0.006662018396440021,
          0.006689233688909322,
          0.0067161874554764545,
          0.006742879478607509,
          0.006769309553112094,
          0.006795477483190909,
          0.006821383079547578,
          0.0068470261565702056,
          0.006872406529587809,
          0.0068975240122068765,
          0.006922378413733016,
          0.006946969536682521,
          0.006971297174388722,
          0.006995361108707495,
          0.007019161107826508,
          0.007042696924182338,
          0.007065968292489592,
          0.007088974927885823,
          0.007111716524196056,
          0.00713419275232033,
          0.007156403258747597,
          0.007178347664199049,
          0.007200025562403821,
          0.007221436519009661,
          0.007242580070631081,
          0.007263455724037207,
          0.007284062955481329,
          0.007304401210173912,
          0.007324469901900639,
          0.007344268412786802,
          0.0073637960932090235,
          0.007383052261855263,
          0.007402036205933576,
          0.007420747181530033,
          0.007439184414115878,
          0.007457347099203739,
          0.007475234403152532,
          0.007492845464120379,
          0.00751017939316464,
          0.00752723527548795,
          0.0075440121718288265,
          0.007560509119995201,
          0.007576725136539059,
          0.0075926592185699485,
          0.007608310345705125,
          0.0076236774821536145,
          0.0076387595789313735,
          0.00765355557620456,
          0.007668064405757458,
          0.007682284993581641,
          0.0076962162625826116,
          0.007709857135399876,
          0.007723206537336329,
          0.0077362633993925374,
          0.007749026661401348,
          0.00776149527525798,
          0.00777366820824067,
          0.007785544446416693,
          0.007797122998128349,
          0.007808402897553509,
          0.007819383208334935,
          0.007830063027272606,
          0.007840441488072997,
          0.00785051776514927,
          0.007860291077465987,
          0.007869760692422125,
          0.007878925929765709,
          0.007887786165533608,
          0.00789634083600968,
          0.007904589441694553,
          0.007912531551280104,
          0.007920166805621739,
          0.00792749492170147,
          0.007934515696574709,
          0.007941229011293764,
          0.00794763483480087,
          0.007953733227783647,
          0.007959524346485872,
          0.007965008446466422,
          0.007970185886299311,
          0.007975057131207691,
          0.00797962275662488,
          0.007983883451675292,
          0.007987840022568509,
          0.007991493395899482,
          0.007994844621848246,
          0.007997894877272387,
          0.008000645468685749,
          0.008003097835116919,
          0.008005253550841198,
          0.008007114327979915,
          0.00800868201896099,
          0.008009958618835016,
          0.008010946267441069,
          0.00801164725141684,
          0.008012064006047755,
          0.008012199116949958,
          0.008012055321582402,
          0.008011635510583209,
          0.008010942728926064,
          0.00800998017689236,
          0.008008751210855144,
          0.008007259343871332,
          0.00800550824607861,
          0.00800350174489408,
          0.008001243825011611,
          0.007998738628195534,
          0.007995990452868272,
          0.007993003753490002,
          0.007989783139728696,
          0.007986333375419178,
          0.00798265937731015,
          0.007978766213598536,
          0.00797465910225065,
          0.007970343409110214,
          0.007965824645793436,
          0.007961108467371743,
          0.007956200669843093,
          0.007951107187393077,
          0.00794583408944746,
          0.007940387577517962,
          0.007934773981843612,
          0.007928999757830167,
          0.007923071482290487,
          0.007916995849489085,
          0.007910779666994385,
          0.007904429851342439,
          0.007897953423516357,
          0.007891357504245787,
          0.007884649309131256,
          0.007877836143598355,
          0.007870925397687092,
          0.007863924540681997,
          0.007856841115588861,
          0.007849682733464161,
          0.007842457067603574,
          0.007835171847596197,
          0.007827834853251227,
          0.007820453908404263,
          0.007813036874610366,
          0.007805591644731422,
          0.007798126136425428,
          0.007790648285545458,
          0.0077831660394563525,
          0.007775687350277209,
          0.0077682201680579375,
          0.00776077243389824,
          0.007753352073017537,
          0.007745966987784332,
          0.0077386250507137586,
          0.007731334097441969,
          0.007724101919686135,
          0.007716936258198872,
          0.007709844795725934,
          0.0077028351499759465,
          0.007695914866611048,
          0.007689091412267217,
          0.007682372167613071,
          0.007675764420455794,
          0.0076692753589028655,
          0.007662912064588163,
          0.00765668150597088,
          0.007650590531715596,
          0.007644645864161792,
          0.007638854092890833,
          0.00763322166839843,
          0.007627754895880288,
          0.007622459929138662,
          0.007617342764617099,
          0.007612409235570706,
          0.007607665006378872,
          0.007603115567007315,
          0.00759876622762591,
          0.007594622113388677,
          0.007590688159381977,
          0.007586969105746723,
          0.007583469492980077,
          0.007580193657421964,
          0.007577145726931319,
          0.007574329616756745,
          0.007571749025605936,
          0.007569407431918004,
          0.007567308090342364,
          0.007565454028427704,
          0.007563848043524107,
          0.0075624926999011835,
          0.007561390326084646,
          0.007560543012413461,
          0.007559952608819509,
          0.007559620722831092,
          0.007559548717801574,
          0.00755973771136396,
          0.0075601885741119,
          0.007560901928507329,
          0.007561878148014588,
          0.00756311735646062,
          0.0075646194276203435,
          0.0075663839850263,
          0.0075684104020010134,
          0.007570697801910481,
          0.007573245058636715,
          0.007576050797267169,
          0.007579113394998317,
          0.0075824309822507775,
          0.007586001443992619,
          0.007589822421267691,
          0.007593891312925248,
          0.007598205277547046,
          0.0076027612355678365,
          0.00760755587158491,
          0.007612585636852214,
          0.007617846751954283,
          0.0076233352096551025,
          0.007629046777916803,
          0.007634977003082903,
          0.007641121213220764,
          0.007647474521617613,
          0.0076540318304245195,
          0.007660787834442472,
          0.007667737025044678,
          0.007674873694229075,
          0.007682191938794949,
          0.007689685664637523,
          0.0076973485911542945,
          0.007705174255756889,
          0.007713156018482076,
          0.007721287066695728,
          0.00772956041988335,
          0.007737968934520857,
          0.007746505309019371,
          0.0077551620887377215,
          0.007763931671056408,
          0.0077728063105069025,
          0.007781778123950198,
          0.0077908390957984255,
          0.007799981083273788,
          0.007809195821698815,
          0.007818474929812178,
          0.00782780991510455,
          0.00783719217916883,
          0.00784661302305948,
          0.007856063652655627,
          0.007865535184022901,
          0.007875018648769026,
          0.007884504999388408,
          0.007893985114591065,
          0.007903449804611521,
          0.007912889816493351,
          0.007922295839345346,
          0.007931658509565379,
          0.00794096841602834,
          0.007950216105234597,
          0.007959392086415693,
          0.007968486836594282,
          0.007977490805595329,
          0.007986394421005912,
          0.007995188093081258,
          0.00800386221959466,
          0.008012407190629246,
          0.00802081339330983,
          0.008029071216473165,
          0.008037171055275147,
          0.008045103315733845,
          0.008052858419207236,
          0.008060426806804912,
          0.00806779894373306,
          0.008074965323572365,
          0.008081916472488494,
          0.00808864295337517,
          0.0080951353699299,
          0.00810138437066268,
          0.008107380652838066,
          0.008113114966351276,
          0.008118578117538995,
          0.008123760972925893,
          0.008128654462907775,
          0.00813324958537258,
          0.008137537409260544,
          0.008141509078064832,
          0.008145155813274229,
          0.008148468917759444,
          0.008151439779104668,
          0.008154059872886223,
          0.008156320765900067,
          0.00815821411934004,
          0.008159731691928813,
          0.008160865343003471,
          0.008161607035557747,
          0.00816194883924293,
          0.008161882933329452,
          0.008161401609631184,
          0.008160497275394488,
          0.00815916245615398,
          0.008157389798556987,
          0.008155172073158648,
          0.008152502177189502,
          0.008149373137297408,
          0.008145778112265587,
          0.008141710395708397,
          0.008137163418746507,
          0.008132130752662954,
          0.008126606111541508,
          0.008120583354888605,
          0.008114056490240114,
          0.008107019675753925,
          0.008099467222789357,
          0.008091393598474156,
          0.008082793428259771,
          0.008073661498465409,
          0.008063992758811235,
          0.008053782324940953,
          0.008043025480933805,
          0.00803171768180585,
          0.008019854556000275,
          0.008007431907866328,
          0.007994445720126106,
          0.007980892156328594,
          0.00796676756328983,
          0.007952068473518141,
          0.007936791607623046,
          0.007920933876706423,
          0.007904492384734146,
          0.00788746443088646,
          0.00786984751188498,
          0.007851639324294137,
          0.007832837766794781,
          0.007813440942427296,
          0.007793447160801617,
          0.007772854940271346,
          0.007751663010068845,
          0.007729870312398311,
          0.007707476004483448,
          0.007684479460566407,
          0.007660880273854392,
          0.0076366782584103305,
          0.007611873450983802,
          0.007586466112778393,
          0.007560456731151479,
          0.0075338460212424204,
          0.00750663492752501,
          0.007478824625280021,
          0.007450416521983565,
          0.007421412258607018,
          0.00739181371082412,
          0.007361622990120956,
          0.00733084244480439,
          0.007299474660904637,
          0.007267522462967563,
          0.007234988914732369,
          0.007201877319690397,
          0.00716819122152073,
          0.007133934404398377,
          0.007099110893170933,
          0.007063724953399613,
          0.0070277810912606755,
          0.006991284053303357,
          0.006954238826060602,
          0.006916650635508837,
          0.006878524946373413,
          0.006839867461276289,
          0.006800684119722725,
          0.006760981096924035,
          0.006720764802453524,
          0.006680041878732878,
          0.0066388191993466475,
          0.0065971038671825445,
          0.00655490321239542,
          0.0065122247901932846,
          0.00646907637844366,
          0.006425465975098983,
          0.006381401795439993,
          0.006336892269136284,
          0.006291946037123395,
          0.006246571948296247,
          0.006200779056018889,
          0.006154576614450692,
          0.006107974074689777,
          0.0060609810807343055,
          0.006013607465262818,
          0.005965863245235113,
          0.0059177586173152965,
          0.0058693039531190205,
          0.005820509794287247,
          0.005771386847389162,
          0.0057219459786569836,
          0.0056721982085561375,
          0.005622154706193935,
          0.0055718267835707805,
          0.005521225889677911,
          0.005470363604445893,
          0.005419251632548537,
          0.005367901797067274,
          0.005316326033020859,
          0.005264536380765957,
          0.005212544979274368,
          0.005160364059292544
         ],
         "yaxis": "y"
        },
        {
         "legendgroup": "height",
         "marker": {
          "color": "green",
          "symbol": "line-ns-open"
         },
         "mode": "markers",
         "name": "height",
         "showlegend": false,
         "type": "scatter",
         "x": [
          169,
          167,
          147,
          151,
          207,
          190,
          181,
          170,
          178,
          164,
          175,
          162,
          228,
          223,
          192,
          189,
          181,
          133,
          239,
          200,
          159,
          147,
          220,
          218,
          259,
          184,
          145,
          225,
          150,
          240,
          249,
          223,
          254,
          252,
          239,
          190,
          244,
          258,
          212,
          260,
          232,
          237,
          193,
          209,
          199,
          235,
          252
         ],
         "xaxis": "x",
         "y": [
          "height",
          "height",
          "height",
          "height",
          "height",
          "height",
          "height",
          "height",
          "height",
          "height",
          "height",
          "height",
          "height",
          "height",
          "height",
          "height",
          "height",
          "height",
          "height",
          "height",
          "height",
          "height",
          "height",
          "height",
          "height",
          "height",
          "height",
          "height",
          "height",
          "height",
          "height",
          "height",
          "height",
          "height",
          "height",
          "height",
          "height",
          "height",
          "height",
          "height",
          "height",
          "height",
          "height",
          "height",
          "height",
          "height",
          "height"
         ],
         "yaxis": "y2"
        }
       ],
       "layout": {
        "barmode": "overlay",
        "hovermode": "closest",
        "legend": {
         "traceorder": "reversed"
        },
        "template": {
         "data": {
          "bar": [
           {
            "error_x": {
             "color": "#2a3f5f"
            },
            "error_y": {
             "color": "#2a3f5f"
            },
            "marker": {
             "line": {
              "color": "#E5ECF6",
              "width": 0.5
             },
             "pattern": {
              "fillmode": "overlay",
              "size": 10,
              "solidity": 0.2
             }
            },
            "type": "bar"
           }
          ],
          "barpolar": [
           {
            "marker": {
             "line": {
              "color": "#E5ECF6",
              "width": 0.5
             },
             "pattern": {
              "fillmode": "overlay",
              "size": 10,
              "solidity": 0.2
             }
            },
            "type": "barpolar"
           }
          ],
          "carpet": [
           {
            "aaxis": {
             "endlinecolor": "#2a3f5f",
             "gridcolor": "white",
             "linecolor": "white",
             "minorgridcolor": "white",
             "startlinecolor": "#2a3f5f"
            },
            "baxis": {
             "endlinecolor": "#2a3f5f",
             "gridcolor": "white",
             "linecolor": "white",
             "minorgridcolor": "white",
             "startlinecolor": "#2a3f5f"
            },
            "type": "carpet"
           }
          ],
          "choropleth": [
           {
            "colorbar": {
             "outlinewidth": 0,
             "ticks": ""
            },
            "type": "choropleth"
           }
          ],
          "contour": [
           {
            "colorbar": {
             "outlinewidth": 0,
             "ticks": ""
            },
            "colorscale": [
             [
              0,
              "#0d0887"
             ],
             [
              0.1111111111111111,
              "#46039f"
             ],
             [
              0.2222222222222222,
              "#7201a8"
             ],
             [
              0.3333333333333333,
              "#9c179e"
             ],
             [
              0.4444444444444444,
              "#bd3786"
             ],
             [
              0.5555555555555556,
              "#d8576b"
             ],
             [
              0.6666666666666666,
              "#ed7953"
             ],
             [
              0.7777777777777778,
              "#fb9f3a"
             ],
             [
              0.8888888888888888,
              "#fdca26"
             ],
             [
              1,
              "#f0f921"
             ]
            ],
            "type": "contour"
           }
          ],
          "contourcarpet": [
           {
            "colorbar": {
             "outlinewidth": 0,
             "ticks": ""
            },
            "type": "contourcarpet"
           }
          ],
          "heatmap": [
           {
            "colorbar": {
             "outlinewidth": 0,
             "ticks": ""
            },
            "colorscale": [
             [
              0,
              "#0d0887"
             ],
             [
              0.1111111111111111,
              "#46039f"
             ],
             [
              0.2222222222222222,
              "#7201a8"
             ],
             [
              0.3333333333333333,
              "#9c179e"
             ],
             [
              0.4444444444444444,
              "#bd3786"
             ],
             [
              0.5555555555555556,
              "#d8576b"
             ],
             [
              0.6666666666666666,
              "#ed7953"
             ],
             [
              0.7777777777777778,
              "#fb9f3a"
             ],
             [
              0.8888888888888888,
              "#fdca26"
             ],
             [
              1,
              "#f0f921"
             ]
            ],
            "type": "heatmap"
           }
          ],
          "heatmapgl": [
           {
            "colorbar": {
             "outlinewidth": 0,
             "ticks": ""
            },
            "colorscale": [
             [
              0,
              "#0d0887"
             ],
             [
              0.1111111111111111,
              "#46039f"
             ],
             [
              0.2222222222222222,
              "#7201a8"
             ],
             [
              0.3333333333333333,
              "#9c179e"
             ],
             [
              0.4444444444444444,
              "#bd3786"
             ],
             [
              0.5555555555555556,
              "#d8576b"
             ],
             [
              0.6666666666666666,
              "#ed7953"
             ],
             [
              0.7777777777777778,
              "#fb9f3a"
             ],
             [
              0.8888888888888888,
              "#fdca26"
             ],
             [
              1,
              "#f0f921"
             ]
            ],
            "type": "heatmapgl"
           }
          ],
          "histogram": [
           {
            "marker": {
             "pattern": {
              "fillmode": "overlay",
              "size": 10,
              "solidity": 0.2
             }
            },
            "type": "histogram"
           }
          ],
          "histogram2d": [
           {
            "colorbar": {
             "outlinewidth": 0,
             "ticks": ""
            },
            "colorscale": [
             [
              0,
              "#0d0887"
             ],
             [
              0.1111111111111111,
              "#46039f"
             ],
             [
              0.2222222222222222,
              "#7201a8"
             ],
             [
              0.3333333333333333,
              "#9c179e"
             ],
             [
              0.4444444444444444,
              "#bd3786"
             ],
             [
              0.5555555555555556,
              "#d8576b"
             ],
             [
              0.6666666666666666,
              "#ed7953"
             ],
             [
              0.7777777777777778,
              "#fb9f3a"
             ],
             [
              0.8888888888888888,
              "#fdca26"
             ],
             [
              1,
              "#f0f921"
             ]
            ],
            "type": "histogram2d"
           }
          ],
          "histogram2dcontour": [
           {
            "colorbar": {
             "outlinewidth": 0,
             "ticks": ""
            },
            "colorscale": [
             [
              0,
              "#0d0887"
             ],
             [
              0.1111111111111111,
              "#46039f"
             ],
             [
              0.2222222222222222,
              "#7201a8"
             ],
             [
              0.3333333333333333,
              "#9c179e"
             ],
             [
              0.4444444444444444,
              "#bd3786"
             ],
             [
              0.5555555555555556,
              "#d8576b"
             ],
             [
              0.6666666666666666,
              "#ed7953"
             ],
             [
              0.7777777777777778,
              "#fb9f3a"
             ],
             [
              0.8888888888888888,
              "#fdca26"
             ],
             [
              1,
              "#f0f921"
             ]
            ],
            "type": "histogram2dcontour"
           }
          ],
          "mesh3d": [
           {
            "colorbar": {
             "outlinewidth": 0,
             "ticks": ""
            },
            "type": "mesh3d"
           }
          ],
          "parcoords": [
           {
            "line": {
             "colorbar": {
              "outlinewidth": 0,
              "ticks": ""
             }
            },
            "type": "parcoords"
           }
          ],
          "pie": [
           {
            "automargin": true,
            "type": "pie"
           }
          ],
          "scatter": [
           {
            "fillpattern": {
             "fillmode": "overlay",
             "size": 10,
             "solidity": 0.2
            },
            "type": "scatter"
           }
          ],
          "scatter3d": [
           {
            "line": {
             "colorbar": {
              "outlinewidth": 0,
              "ticks": ""
             }
            },
            "marker": {
             "colorbar": {
              "outlinewidth": 0,
              "ticks": ""
             }
            },
            "type": "scatter3d"
           }
          ],
          "scattercarpet": [
           {
            "marker": {
             "colorbar": {
              "outlinewidth": 0,
              "ticks": ""
             }
            },
            "type": "scattercarpet"
           }
          ],
          "scattergeo": [
           {
            "marker": {
             "colorbar": {
              "outlinewidth": 0,
              "ticks": ""
             }
            },
            "type": "scattergeo"
           }
          ],
          "scattergl": [
           {
            "marker": {
             "colorbar": {
              "outlinewidth": 0,
              "ticks": ""
             }
            },
            "type": "scattergl"
           }
          ],
          "scattermapbox": [
           {
            "marker": {
             "colorbar": {
              "outlinewidth": 0,
              "ticks": ""
             }
            },
            "type": "scattermapbox"
           }
          ],
          "scatterpolar": [
           {
            "marker": {
             "colorbar": {
              "outlinewidth": 0,
              "ticks": ""
             }
            },
            "type": "scatterpolar"
           }
          ],
          "scatterpolargl": [
           {
            "marker": {
             "colorbar": {
              "outlinewidth": 0,
              "ticks": ""
             }
            },
            "type": "scatterpolargl"
           }
          ],
          "scatterternary": [
           {
            "marker": {
             "colorbar": {
              "outlinewidth": 0,
              "ticks": ""
             }
            },
            "type": "scatterternary"
           }
          ],
          "surface": [
           {
            "colorbar": {
             "outlinewidth": 0,
             "ticks": ""
            },
            "colorscale": [
             [
              0,
              "#0d0887"
             ],
             [
              0.1111111111111111,
              "#46039f"
             ],
             [
              0.2222222222222222,
              "#7201a8"
             ],
             [
              0.3333333333333333,
              "#9c179e"
             ],
             [
              0.4444444444444444,
              "#bd3786"
             ],
             [
              0.5555555555555556,
              "#d8576b"
             ],
             [
              0.6666666666666666,
              "#ed7953"
             ],
             [
              0.7777777777777778,
              "#fb9f3a"
             ],
             [
              0.8888888888888888,
              "#fdca26"
             ],
             [
              1,
              "#f0f921"
             ]
            ],
            "type": "surface"
           }
          ],
          "table": [
           {
            "cells": {
             "fill": {
              "color": "#EBF0F8"
             },
             "line": {
              "color": "white"
             }
            },
            "header": {
             "fill": {
              "color": "#C8D4E3"
             },
             "line": {
              "color": "white"
             }
            },
            "type": "table"
           }
          ]
         },
         "layout": {
          "annotationdefaults": {
           "arrowcolor": "#2a3f5f",
           "arrowhead": 0,
           "arrowwidth": 1
          },
          "autotypenumbers": "strict",
          "coloraxis": {
           "colorbar": {
            "outlinewidth": 0,
            "ticks": ""
           }
          },
          "colorscale": {
           "diverging": [
            [
             0,
             "#8e0152"
            ],
            [
             0.1,
             "#c51b7d"
            ],
            [
             0.2,
             "#de77ae"
            ],
            [
             0.3,
             "#f1b6da"
            ],
            [
             0.4,
             "#fde0ef"
            ],
            [
             0.5,
             "#f7f7f7"
            ],
            [
             0.6,
             "#e6f5d0"
            ],
            [
             0.7,
             "#b8e186"
            ],
            [
             0.8,
             "#7fbc41"
            ],
            [
             0.9,
             "#4d9221"
            ],
            [
             1,
             "#276419"
            ]
           ],
           "sequential": [
            [
             0,
             "#0d0887"
            ],
            [
             0.1111111111111111,
             "#46039f"
            ],
            [
             0.2222222222222222,
             "#7201a8"
            ],
            [
             0.3333333333333333,
             "#9c179e"
            ],
            [
             0.4444444444444444,
             "#bd3786"
            ],
            [
             0.5555555555555556,
             "#d8576b"
            ],
            [
             0.6666666666666666,
             "#ed7953"
            ],
            [
             0.7777777777777778,
             "#fb9f3a"
            ],
            [
             0.8888888888888888,
             "#fdca26"
            ],
            [
             1,
             "#f0f921"
            ]
           ],
           "sequentialminus": [
            [
             0,
             "#0d0887"
            ],
            [
             0.1111111111111111,
             "#46039f"
            ],
            [
             0.2222222222222222,
             "#7201a8"
            ],
            [
             0.3333333333333333,
             "#9c179e"
            ],
            [
             0.4444444444444444,
             "#bd3786"
            ],
            [
             0.5555555555555556,
             "#d8576b"
            ],
            [
             0.6666666666666666,
             "#ed7953"
            ],
            [
             0.7777777777777778,
             "#fb9f3a"
            ],
            [
             0.8888888888888888,
             "#fdca26"
            ],
            [
             1,
             "#f0f921"
            ]
           ]
          },
          "colorway": [
           "#636efa",
           "#EF553B",
           "#00cc96",
           "#ab63fa",
           "#FFA15A",
           "#19d3f3",
           "#FF6692",
           "#B6E880",
           "#FF97FF",
           "#FECB52"
          ],
          "font": {
           "color": "#2a3f5f"
          },
          "geo": {
           "bgcolor": "white",
           "lakecolor": "white",
           "landcolor": "#E5ECF6",
           "showlakes": true,
           "showland": true,
           "subunitcolor": "white"
          },
          "hoverlabel": {
           "align": "left"
          },
          "hovermode": "closest",
          "mapbox": {
           "style": "light"
          },
          "paper_bgcolor": "white",
          "plot_bgcolor": "#E5ECF6",
          "polar": {
           "angularaxis": {
            "gridcolor": "white",
            "linecolor": "white",
            "ticks": ""
           },
           "bgcolor": "#E5ECF6",
           "radialaxis": {
            "gridcolor": "white",
            "linecolor": "white",
            "ticks": ""
           }
          },
          "scene": {
           "xaxis": {
            "backgroundcolor": "#E5ECF6",
            "gridcolor": "white",
            "gridwidth": 2,
            "linecolor": "white",
            "showbackground": true,
            "ticks": "",
            "zerolinecolor": "white"
           },
           "yaxis": {
            "backgroundcolor": "#E5ECF6",
            "gridcolor": "white",
            "gridwidth": 2,
            "linecolor": "white",
            "showbackground": true,
            "ticks": "",
            "zerolinecolor": "white"
           },
           "zaxis": {
            "backgroundcolor": "#E5ECF6",
            "gridcolor": "white",
            "gridwidth": 2,
            "linecolor": "white",
            "showbackground": true,
            "ticks": "",
            "zerolinecolor": "white"
           }
          },
          "shapedefaults": {
           "line": {
            "color": "#2a3f5f"
           }
          },
          "ternary": {
           "aaxis": {
            "gridcolor": "white",
            "linecolor": "white",
            "ticks": ""
           },
           "baxis": {
            "gridcolor": "white",
            "linecolor": "white",
            "ticks": ""
           },
           "bgcolor": "#E5ECF6",
           "caxis": {
            "gridcolor": "white",
            "linecolor": "white",
            "ticks": ""
           }
          },
          "title": {
           "x": 0.05
          },
          "xaxis": {
           "automargin": true,
           "gridcolor": "white",
           "linecolor": "white",
           "ticks": "",
           "title": {
            "standoff": 15
           },
           "zerolinecolor": "white",
           "zerolinewidth": 2
          },
          "yaxis": {
           "automargin": true,
           "gridcolor": "white",
           "linecolor": "white",
           "ticks": "",
           "title": {
            "standoff": 15
           },
           "zerolinecolor": "white",
           "zerolinewidth": 2
          }
         }
        },
        "title": {
         "text": "Histogram and Kernel Probability Density Function Plot of height"
        },
        "xaxis": {
         "anchor": "y2",
         "domain": [
          0,
          1
         ],
         "zeroline": false
        },
        "yaxis": {
         "anchor": "free",
         "domain": [
          0.35,
          1
         ],
         "position": 0
        },
        "yaxis2": {
         "anchor": "x",
         "domain": [
          0,
          0.25
         ],
         "dtick": 1,
         "showticklabels": false
        }
       }
      }
     },
     "metadata": {},
     "output_type": "display_data"
    }
   ],
   "source": [
    "# Histogram data\n",
    "hist_data = [patient_df[\"height\"]]\n",
    "\n",
    "# Group data\n",
    "group_labels = [\"height\"]\n",
    "colors = ['green']\n",
    "\n",
    "# Distplot \n",
    "fig = ff.create_distplot(hist_data, group_labels, bin_size=20,\n",
    "                         #curve_type=\"normal\", \n",
    "                         colors=colors)\n",
    "\n",
    "# Title\n",
    "fig.update_layout(title_text=\"Histogram and Kernel Probability Density Function Plot of height\")\n",
    "fig.show()"
   ]
  },
  {
   "cell_type": "code",
   "execution_count": 94,
   "metadata": {},
   "outputs": [
    {
     "data": {
      "application/vnd.plotly.v1+json": {
       "config": {
        "plotlyServerURL": "https://plot.ly"
       },
       "data": [
        {
         "alignmentgroup": "True",
         "hovertemplate": "height=%{y}<extra></extra>",
         "legendgroup": "",
         "marker": {
          "color": "#636efa"
         },
         "name": "",
         "notched": false,
         "offsetgroup": "",
         "orientation": "v",
         "showlegend": false,
         "type": "box",
         "x0": " ",
         "xaxis": "x",
         "y": [
          169,
          167,
          147,
          151,
          207,
          190,
          181,
          170,
          178,
          164,
          175,
          162,
          228,
          223,
          192,
          189,
          181,
          133,
          239,
          200,
          159,
          147,
          220,
          218,
          259,
          184,
          145,
          225,
          150,
          240,
          249,
          223,
          254,
          252,
          239,
          190,
          244,
          258,
          212,
          260,
          232,
          237,
          193,
          209,
          199,
          235,
          252
         ],
         "y0": " ",
         "yaxis": "y"
        }
       ],
       "layout": {
        "boxmode": "group",
        "legend": {
         "tracegroupgap": 0
        },
        "margin": {
         "t": 60
        },
        "template": {
         "data": {
          "bar": [
           {
            "error_x": {
             "color": "#2a3f5f"
            },
            "error_y": {
             "color": "#2a3f5f"
            },
            "marker": {
             "line": {
              "color": "#E5ECF6",
              "width": 0.5
             },
             "pattern": {
              "fillmode": "overlay",
              "size": 10,
              "solidity": 0.2
             }
            },
            "type": "bar"
           }
          ],
          "barpolar": [
           {
            "marker": {
             "line": {
              "color": "#E5ECF6",
              "width": 0.5
             },
             "pattern": {
              "fillmode": "overlay",
              "size": 10,
              "solidity": 0.2
             }
            },
            "type": "barpolar"
           }
          ],
          "carpet": [
           {
            "aaxis": {
             "endlinecolor": "#2a3f5f",
             "gridcolor": "white",
             "linecolor": "white",
             "minorgridcolor": "white",
             "startlinecolor": "#2a3f5f"
            },
            "baxis": {
             "endlinecolor": "#2a3f5f",
             "gridcolor": "white",
             "linecolor": "white",
             "minorgridcolor": "white",
             "startlinecolor": "#2a3f5f"
            },
            "type": "carpet"
           }
          ],
          "choropleth": [
           {
            "colorbar": {
             "outlinewidth": 0,
             "ticks": ""
            },
            "type": "choropleth"
           }
          ],
          "contour": [
           {
            "colorbar": {
             "outlinewidth": 0,
             "ticks": ""
            },
            "colorscale": [
             [
              0,
              "#0d0887"
             ],
             [
              0.1111111111111111,
              "#46039f"
             ],
             [
              0.2222222222222222,
              "#7201a8"
             ],
             [
              0.3333333333333333,
              "#9c179e"
             ],
             [
              0.4444444444444444,
              "#bd3786"
             ],
             [
              0.5555555555555556,
              "#d8576b"
             ],
             [
              0.6666666666666666,
              "#ed7953"
             ],
             [
              0.7777777777777778,
              "#fb9f3a"
             ],
             [
              0.8888888888888888,
              "#fdca26"
             ],
             [
              1,
              "#f0f921"
             ]
            ],
            "type": "contour"
           }
          ],
          "contourcarpet": [
           {
            "colorbar": {
             "outlinewidth": 0,
             "ticks": ""
            },
            "type": "contourcarpet"
           }
          ],
          "heatmap": [
           {
            "colorbar": {
             "outlinewidth": 0,
             "ticks": ""
            },
            "colorscale": [
             [
              0,
              "#0d0887"
             ],
             [
              0.1111111111111111,
              "#46039f"
             ],
             [
              0.2222222222222222,
              "#7201a8"
             ],
             [
              0.3333333333333333,
              "#9c179e"
             ],
             [
              0.4444444444444444,
              "#bd3786"
             ],
             [
              0.5555555555555556,
              "#d8576b"
             ],
             [
              0.6666666666666666,
              "#ed7953"
             ],
             [
              0.7777777777777778,
              "#fb9f3a"
             ],
             [
              0.8888888888888888,
              "#fdca26"
             ],
             [
              1,
              "#f0f921"
             ]
            ],
            "type": "heatmap"
           }
          ],
          "heatmapgl": [
           {
            "colorbar": {
             "outlinewidth": 0,
             "ticks": ""
            },
            "colorscale": [
             [
              0,
              "#0d0887"
             ],
             [
              0.1111111111111111,
              "#46039f"
             ],
             [
              0.2222222222222222,
              "#7201a8"
             ],
             [
              0.3333333333333333,
              "#9c179e"
             ],
             [
              0.4444444444444444,
              "#bd3786"
             ],
             [
              0.5555555555555556,
              "#d8576b"
             ],
             [
              0.6666666666666666,
              "#ed7953"
             ],
             [
              0.7777777777777778,
              "#fb9f3a"
             ],
             [
              0.8888888888888888,
              "#fdca26"
             ],
             [
              1,
              "#f0f921"
             ]
            ],
            "type": "heatmapgl"
           }
          ],
          "histogram": [
           {
            "marker": {
             "pattern": {
              "fillmode": "overlay",
              "size": 10,
              "solidity": 0.2
             }
            },
            "type": "histogram"
           }
          ],
          "histogram2d": [
           {
            "colorbar": {
             "outlinewidth": 0,
             "ticks": ""
            },
            "colorscale": [
             [
              0,
              "#0d0887"
             ],
             [
              0.1111111111111111,
              "#46039f"
             ],
             [
              0.2222222222222222,
              "#7201a8"
             ],
             [
              0.3333333333333333,
              "#9c179e"
             ],
             [
              0.4444444444444444,
              "#bd3786"
             ],
             [
              0.5555555555555556,
              "#d8576b"
             ],
             [
              0.6666666666666666,
              "#ed7953"
             ],
             [
              0.7777777777777778,
              "#fb9f3a"
             ],
             [
              0.8888888888888888,
              "#fdca26"
             ],
             [
              1,
              "#f0f921"
             ]
            ],
            "type": "histogram2d"
           }
          ],
          "histogram2dcontour": [
           {
            "colorbar": {
             "outlinewidth": 0,
             "ticks": ""
            },
            "colorscale": [
             [
              0,
              "#0d0887"
             ],
             [
              0.1111111111111111,
              "#46039f"
             ],
             [
              0.2222222222222222,
              "#7201a8"
             ],
             [
              0.3333333333333333,
              "#9c179e"
             ],
             [
              0.4444444444444444,
              "#bd3786"
             ],
             [
              0.5555555555555556,
              "#d8576b"
             ],
             [
              0.6666666666666666,
              "#ed7953"
             ],
             [
              0.7777777777777778,
              "#fb9f3a"
             ],
             [
              0.8888888888888888,
              "#fdca26"
             ],
             [
              1,
              "#f0f921"
             ]
            ],
            "type": "histogram2dcontour"
           }
          ],
          "mesh3d": [
           {
            "colorbar": {
             "outlinewidth": 0,
             "ticks": ""
            },
            "type": "mesh3d"
           }
          ],
          "parcoords": [
           {
            "line": {
             "colorbar": {
              "outlinewidth": 0,
              "ticks": ""
             }
            },
            "type": "parcoords"
           }
          ],
          "pie": [
           {
            "automargin": true,
            "type": "pie"
           }
          ],
          "scatter": [
           {
            "fillpattern": {
             "fillmode": "overlay",
             "size": 10,
             "solidity": 0.2
            },
            "type": "scatter"
           }
          ],
          "scatter3d": [
           {
            "line": {
             "colorbar": {
              "outlinewidth": 0,
              "ticks": ""
             }
            },
            "marker": {
             "colorbar": {
              "outlinewidth": 0,
              "ticks": ""
             }
            },
            "type": "scatter3d"
           }
          ],
          "scattercarpet": [
           {
            "marker": {
             "colorbar": {
              "outlinewidth": 0,
              "ticks": ""
             }
            },
            "type": "scattercarpet"
           }
          ],
          "scattergeo": [
           {
            "marker": {
             "colorbar": {
              "outlinewidth": 0,
              "ticks": ""
             }
            },
            "type": "scattergeo"
           }
          ],
          "scattergl": [
           {
            "marker": {
             "colorbar": {
              "outlinewidth": 0,
              "ticks": ""
             }
            },
            "type": "scattergl"
           }
          ],
          "scattermapbox": [
           {
            "marker": {
             "colorbar": {
              "outlinewidth": 0,
              "ticks": ""
             }
            },
            "type": "scattermapbox"
           }
          ],
          "scatterpolar": [
           {
            "marker": {
             "colorbar": {
              "outlinewidth": 0,
              "ticks": ""
             }
            },
            "type": "scatterpolar"
           }
          ],
          "scatterpolargl": [
           {
            "marker": {
             "colorbar": {
              "outlinewidth": 0,
              "ticks": ""
             }
            },
            "type": "scatterpolargl"
           }
          ],
          "scatterternary": [
           {
            "marker": {
             "colorbar": {
              "outlinewidth": 0,
              "ticks": ""
             }
            },
            "type": "scatterternary"
           }
          ],
          "surface": [
           {
            "colorbar": {
             "outlinewidth": 0,
             "ticks": ""
            },
            "colorscale": [
             [
              0,
              "#0d0887"
             ],
             [
              0.1111111111111111,
              "#46039f"
             ],
             [
              0.2222222222222222,
              "#7201a8"
             ],
             [
              0.3333333333333333,
              "#9c179e"
             ],
             [
              0.4444444444444444,
              "#bd3786"
             ],
             [
              0.5555555555555556,
              "#d8576b"
             ],
             [
              0.6666666666666666,
              "#ed7953"
             ],
             [
              0.7777777777777778,
              "#fb9f3a"
             ],
             [
              0.8888888888888888,
              "#fdca26"
             ],
             [
              1,
              "#f0f921"
             ]
            ],
            "type": "surface"
           }
          ],
          "table": [
           {
            "cells": {
             "fill": {
              "color": "#EBF0F8"
             },
             "line": {
              "color": "white"
             }
            },
            "header": {
             "fill": {
              "color": "#C8D4E3"
             },
             "line": {
              "color": "white"
             }
            },
            "type": "table"
           }
          ]
         },
         "layout": {
          "annotationdefaults": {
           "arrowcolor": "#2a3f5f",
           "arrowhead": 0,
           "arrowwidth": 1
          },
          "autotypenumbers": "strict",
          "coloraxis": {
           "colorbar": {
            "outlinewidth": 0,
            "ticks": ""
           }
          },
          "colorscale": {
           "diverging": [
            [
             0,
             "#8e0152"
            ],
            [
             0.1,
             "#c51b7d"
            ],
            [
             0.2,
             "#de77ae"
            ],
            [
             0.3,
             "#f1b6da"
            ],
            [
             0.4,
             "#fde0ef"
            ],
            [
             0.5,
             "#f7f7f7"
            ],
            [
             0.6,
             "#e6f5d0"
            ],
            [
             0.7,
             "#b8e186"
            ],
            [
             0.8,
             "#7fbc41"
            ],
            [
             0.9,
             "#4d9221"
            ],
            [
             1,
             "#276419"
            ]
           ],
           "sequential": [
            [
             0,
             "#0d0887"
            ],
            [
             0.1111111111111111,
             "#46039f"
            ],
            [
             0.2222222222222222,
             "#7201a8"
            ],
            [
             0.3333333333333333,
             "#9c179e"
            ],
            [
             0.4444444444444444,
             "#bd3786"
            ],
            [
             0.5555555555555556,
             "#d8576b"
            ],
            [
             0.6666666666666666,
             "#ed7953"
            ],
            [
             0.7777777777777778,
             "#fb9f3a"
            ],
            [
             0.8888888888888888,
             "#fdca26"
            ],
            [
             1,
             "#f0f921"
            ]
           ],
           "sequentialminus": [
            [
             0,
             "#0d0887"
            ],
            [
             0.1111111111111111,
             "#46039f"
            ],
            [
             0.2222222222222222,
             "#7201a8"
            ],
            [
             0.3333333333333333,
             "#9c179e"
            ],
            [
             0.4444444444444444,
             "#bd3786"
            ],
            [
             0.5555555555555556,
             "#d8576b"
            ],
            [
             0.6666666666666666,
             "#ed7953"
            ],
            [
             0.7777777777777778,
             "#fb9f3a"
            ],
            [
             0.8888888888888888,
             "#fdca26"
            ],
            [
             1,
             "#f0f921"
            ]
           ]
          },
          "colorway": [
           "#636efa",
           "#EF553B",
           "#00cc96",
           "#ab63fa",
           "#FFA15A",
           "#19d3f3",
           "#FF6692",
           "#B6E880",
           "#FF97FF",
           "#FECB52"
          ],
          "font": {
           "color": "#2a3f5f"
          },
          "geo": {
           "bgcolor": "white",
           "lakecolor": "white",
           "landcolor": "#E5ECF6",
           "showlakes": true,
           "showland": true,
           "subunitcolor": "white"
          },
          "hoverlabel": {
           "align": "left"
          },
          "hovermode": "closest",
          "mapbox": {
           "style": "light"
          },
          "paper_bgcolor": "white",
          "plot_bgcolor": "#E5ECF6",
          "polar": {
           "angularaxis": {
            "gridcolor": "white",
            "linecolor": "white",
            "ticks": ""
           },
           "bgcolor": "#E5ECF6",
           "radialaxis": {
            "gridcolor": "white",
            "linecolor": "white",
            "ticks": ""
           }
          },
          "scene": {
           "xaxis": {
            "backgroundcolor": "#E5ECF6",
            "gridcolor": "white",
            "gridwidth": 2,
            "linecolor": "white",
            "showbackground": true,
            "ticks": "",
            "zerolinecolor": "white"
           },
           "yaxis": {
            "backgroundcolor": "#E5ECF6",
            "gridcolor": "white",
            "gridwidth": 2,
            "linecolor": "white",
            "showbackground": true,
            "ticks": "",
            "zerolinecolor": "white"
           },
           "zaxis": {
            "backgroundcolor": "#E5ECF6",
            "gridcolor": "white",
            "gridwidth": 2,
            "linecolor": "white",
            "showbackground": true,
            "ticks": "",
            "zerolinecolor": "white"
           }
          },
          "shapedefaults": {
           "line": {
            "color": "#2a3f5f"
           }
          },
          "ternary": {
           "aaxis": {
            "gridcolor": "white",
            "linecolor": "white",
            "ticks": ""
           },
           "baxis": {
            "gridcolor": "white",
            "linecolor": "white",
            "ticks": ""
           },
           "bgcolor": "#E5ECF6",
           "caxis": {
            "gridcolor": "white",
            "linecolor": "white",
            "ticks": ""
           }
          },
          "title": {
           "x": 0.05
          },
          "xaxis": {
           "automargin": true,
           "gridcolor": "white",
           "linecolor": "white",
           "ticks": "",
           "title": {
            "standoff": 15
           },
           "zerolinecolor": "white",
           "zerolinewidth": 2
          },
          "yaxis": {
           "automargin": true,
           "gridcolor": "white",
           "linecolor": "white",
           "ticks": "",
           "title": {
            "standoff": 15
           },
           "zerolinecolor": "white",
           "zerolinewidth": 2
          }
         }
        },
        "xaxis": {
         "anchor": "y",
         "domain": [
          0,
          1
         ]
        },
        "yaxis": {
         "anchor": "x",
         "domain": [
          0,
          1
         ],
         "title": {
          "text": "height"
         }
        }
       }
      }
     },
     "metadata": {},
     "output_type": "display_data"
    }
   ],
   "source": [
    "fig = px.box(patient_df[\"height\"], y=\"height\")\n",
    "fig.show()"
   ]
  },
  {
   "attachments": {},
   "cell_type": "markdown",
   "metadata": {},
   "source": [
    "#### weight"
   ]
  },
  {
   "cell_type": "code",
   "execution_count": 95,
   "metadata": {},
   "outputs": [
    {
     "data": {
      "application/vnd.plotly.v1+json": {
       "config": {
        "plotlyServerURL": "https://plot.ly"
       },
       "data": [
        {
         "autobinx": false,
         "histnorm": "probability density",
         "legendgroup": "weight",
         "marker": {
          "color": "green"
         },
         "name": "weight",
         "opacity": 0.7,
         "type": "histogram",
         "x": [
          63,
          79,
          69,
          86,
          91,
          76,
          87,
          91,
          73,
          76,
          83,
          84,
          73,
          77,
          89,
          86,
          87,
          102,
          77,
          85,
          88,
          73,
          67,
          79,
          87,
          89,
          77,
          79,
          77,
          77,
          101,
          81,
          96,
          99,
          98,
          78,
          83,
          61,
          84,
          60,
          99,
          92,
          63,
          101,
          83,
          94,
          101
         ],
         "xaxis": "x",
         "xbins": {
          "end": 102,
          "size": 5,
          "start": 60
         },
         "yaxis": "y"
        },
        {
         "legendgroup": "weight",
         "marker": {
          "color": "green"
         },
         "mode": "lines",
         "name": "weight",
         "showlegend": false,
         "type": "scatter",
         "x": [
          60,
          60.084,
          60.168,
          60.252,
          60.336,
          60.42,
          60.504,
          60.588,
          60.672,
          60.756,
          60.84,
          60.924,
          61.008,
          61.092,
          61.176,
          61.26,
          61.344,
          61.428,
          61.512,
          61.596000000000004,
          61.68,
          61.764,
          61.848,
          61.932,
          62.016,
          62.1,
          62.184,
          62.268,
          62.352,
          62.436,
          62.52,
          62.604,
          62.688,
          62.772,
          62.856,
          62.94,
          63.024,
          63.108,
          63.192,
          63.275999999999996,
          63.36,
          63.444,
          63.528,
          63.612,
          63.696,
          63.78,
          63.864,
          63.948,
          64.032,
          64.116,
          64.2,
          64.284,
          64.368,
          64.452,
          64.536,
          64.62,
          64.704,
          64.788,
          64.872,
          64.956,
          65.04,
          65.124,
          65.208,
          65.292,
          65.376,
          65.46,
          65.544,
          65.628,
          65.712,
          65.796,
          65.88,
          65.964,
          66.048,
          66.132,
          66.216,
          66.3,
          66.384,
          66.468,
          66.55199999999999,
          66.636,
          66.72,
          66.804,
          66.888,
          66.972,
          67.056,
          67.14,
          67.224,
          67.30799999999999,
          67.392,
          67.476,
          67.56,
          67.644,
          67.728,
          67.812,
          67.896,
          67.98,
          68.064,
          68.148,
          68.232,
          68.316,
          68.4,
          68.484,
          68.568,
          68.652,
          68.736,
          68.82,
          68.904,
          68.988,
          69.072,
          69.156,
          69.24,
          69.324,
          69.408,
          69.492,
          69.576,
          69.66,
          69.744,
          69.828,
          69.912,
          69.996,
          70.08,
          70.164,
          70.248,
          70.332,
          70.416,
          70.5,
          70.584,
          70.668,
          70.752,
          70.836,
          70.92,
          71.004,
          71.088,
          71.172,
          71.256,
          71.34,
          71.424,
          71.508,
          71.592,
          71.676,
          71.76,
          71.844,
          71.928,
          72.012,
          72.096,
          72.18,
          72.264,
          72.348,
          72.432,
          72.516,
          72.6,
          72.684,
          72.768,
          72.852,
          72.936,
          73.02,
          73.104,
          73.188,
          73.272,
          73.356,
          73.44,
          73.524,
          73.608,
          73.69200000000001,
          73.776,
          73.86,
          73.944,
          74.028,
          74.112,
          74.196,
          74.28,
          74.364,
          74.44800000000001,
          74.532,
          74.616,
          74.7,
          74.784,
          74.868,
          74.952,
          75.036,
          75.12,
          75.20400000000001,
          75.288,
          75.372,
          75.456,
          75.53999999999999,
          75.624,
          75.708,
          75.792,
          75.876,
          75.96000000000001,
          76.044,
          76.128,
          76.212,
          76.29599999999999,
          76.38,
          76.464,
          76.548,
          76.632,
          76.71600000000001,
          76.8,
          76.884,
          76.968,
          77.05199999999999,
          77.136,
          77.22,
          77.304,
          77.388,
          77.47200000000001,
          77.556,
          77.64,
          77.724,
          77.80799999999999,
          77.892,
          77.976,
          78.06,
          78.144,
          78.22800000000001,
          78.312,
          78.396,
          78.48,
          78.564,
          78.648,
          78.732,
          78.816,
          78.9,
          78.98400000000001,
          79.068,
          79.152,
          79.236,
          79.32,
          79.404,
          79.488,
          79.572,
          79.656,
          79.74,
          79.824,
          79.908,
          79.992,
          80.076,
          80.16,
          80.244,
          80.328,
          80.412,
          80.496,
          80.58,
          80.664,
          80.748,
          80.832,
          80.916,
          81,
          81.084,
          81.168,
          81.252,
          81.336,
          81.42,
          81.504,
          81.588,
          81.672,
          81.756,
          81.84,
          81.924,
          82.008,
          82.092,
          82.176,
          82.26,
          82.344,
          82.428,
          82.512,
          82.596,
          82.68,
          82.764,
          82.848,
          82.932,
          83.01599999999999,
          83.1,
          83.184,
          83.268,
          83.352,
          83.436,
          83.52,
          83.604,
          83.688,
          83.77199999999999,
          83.856,
          83.94,
          84.024,
          84.108,
          84.19200000000001,
          84.276,
          84.36,
          84.444,
          84.52799999999999,
          84.612,
          84.696,
          84.78,
          84.864,
          84.94800000000001,
          85.032,
          85.116,
          85.2,
          85.28399999999999,
          85.368,
          85.452,
          85.536,
          85.62,
          85.70400000000001,
          85.788,
          85.872,
          85.956,
          86.03999999999999,
          86.124,
          86.208,
          86.292,
          86.376,
          86.46000000000001,
          86.544,
          86.628,
          86.712,
          86.79599999999999,
          86.88,
          86.964,
          87.048,
          87.132,
          87.21600000000001,
          87.3,
          87.384,
          87.468,
          87.55199999999999,
          87.636,
          87.72,
          87.804,
          87.888,
          87.97200000000001,
          88.056,
          88.14,
          88.224,
          88.30799999999999,
          88.392,
          88.476,
          88.56,
          88.644,
          88.72800000000001,
          88.812,
          88.896,
          88.98,
          89.064,
          89.148,
          89.232,
          89.316,
          89.4,
          89.48400000000001,
          89.568,
          89.652,
          89.736,
          89.82,
          89.904,
          89.988,
          90.072,
          90.156,
          90.24,
          90.324,
          90.408,
          90.492,
          90.576,
          90.66,
          90.744,
          90.828,
          90.912,
          90.996,
          91.08,
          91.164,
          91.248,
          91.332,
          91.416,
          91.5,
          91.584,
          91.668,
          91.752,
          91.836,
          91.92,
          92.00399999999999,
          92.088,
          92.172,
          92.256,
          92.34,
          92.424,
          92.50800000000001,
          92.592,
          92.676,
          92.75999999999999,
          92.844,
          92.928,
          93.012,
          93.096,
          93.18,
          93.26400000000001,
          93.348,
          93.432,
          93.51599999999999,
          93.6,
          93.684,
          93.768,
          93.852,
          93.936,
          94.02000000000001,
          94.104,
          94.188,
          94.27199999999999,
          94.356,
          94.44,
          94.524,
          94.608,
          94.69200000000001,
          94.77600000000001,
          94.86,
          94.944,
          95.02799999999999,
          95.112,
          95.196,
          95.28,
          95.364,
          95.44800000000001,
          95.532,
          95.616,
          95.7,
          95.78399999999999,
          95.868,
          95.952,
          96.036,
          96.12,
          96.20400000000001,
          96.288,
          96.372,
          96.456,
          96.53999999999999,
          96.624,
          96.708,
          96.792,
          96.876,
          96.96000000000001,
          97.044,
          97.128,
          97.212,
          97.29599999999999,
          97.38,
          97.464,
          97.548,
          97.632,
          97.71600000000001,
          97.8,
          97.884,
          97.968,
          98.05199999999999,
          98.136,
          98.22,
          98.304,
          98.388,
          98.47200000000001,
          98.556,
          98.64,
          98.72399999999999,
          98.80799999999999,
          98.892,
          98.976,
          99.06,
          99.144,
          99.22800000000001,
          99.312,
          99.396,
          99.47999999999999,
          99.564,
          99.648,
          99.732,
          99.816,
          99.9,
          99.98400000000001,
          100.068,
          100.152,
          100.23599999999999,
          100.32,
          100.404,
          100.488,
          100.572,
          100.656,
          100.74000000000001,
          100.824,
          100.908,
          100.99199999999999,
          101.076,
          101.16,
          101.244,
          101.328,
          101.412,
          101.49600000000001,
          101.58,
          101.664,
          101.74799999999999,
          101.832,
          101.916
         ],
         "xaxis": "x",
         "y": [
          0.00734180091400575,
          0.007410181690607105,
          0.007478022219684174,
          0.007545312120331286,
          0.007612041946908178,
          0.007678203212266898,
          0.007743788409978903,
          0.007808791035521877,
          0.00787320560638703,
          0.007937027681069412,
          0.00800025387690448,
          0.008062881886716425,
          0.008124910494244944,
          0.008186339588318485,
          0.008247170175744351,
          0.008307404392887144,
          0.008367045515909041,
          0.008426097969647156,
          0.008484567335105253,
          0.008542460355538486,
          0.008599784941112371,
          0.008656550172118622,
          0.008712766300732698,
          0.00876844475129985,
          0.008823598119138402,
          0.008878240167851105,
          0.008932385825137288,
          0.008986051177100768,
          0.009039253461050306,
          0.009092011056791607,
          0.009144343476411694,
          0.00919627135255884,
          0.009247816425222844,
          0.009299001527022779,
          0.00934985056701124,
          0.009400388513005937,
          0.009450641372461698,
          0.00950063617189764,
          0.009550400934896333,
          0.00959996465869346,
          0.009649357289378708,
          0.009698609695729835,
          0.009747753641704274,
          0.009796821757613886,
          0.009845847510010438,
          0.009894865170310949,
          0.009943909782193736,
          0.009993017127797385,
          0.010042223692756676,
          0.010091566630110745,
          0.010141083723120338,
          0.010190813347032288,
          0.010240794429830863,
          0.010291066412016795,
          0.010341669205455904,
          0.010392643151340924,
          0.01044402897731068,
          0.010495867753772228,
          0.010548200849472552,
          0.010601069886367335,
          0.010654516693835325,
          0.010708583262287652,
          0.010763311696222458,
          0.010818744166775592,
          0.010874922863819466,
          0.01093188994766226,
          0.010989687500400767,
          0.011048357476980342,
          0.011107941656016395,
          0.011168481590432005,
          0.01123001855796684,
          0.011292593511612936,
          0.011356247030033222,
          0.011421019268018877,
          0.011486949907042155,
          0.01155407810596111,
          0.011622442451932911,
          0.011692080911592974,
          0.01176303078255638,
          0.011835328645298817,
          0.01190901031547373,
          0.011984110796722536,
          0.012060664234034462,
          0.012138703867712415,
          0.012218261988001248,
          0.012299369890433816,
          0.012382057831950937,
          0.012466354987849902,
          0.012552289409616425,
          0.01263988798369399,
          0.012729176391244393,
          0.012820179068952177,
          0.012912919170925418,
          0.013007418531744298,
          0.013103697630708174,
          0.013201775557331043,
          0.013301669978134445,
          0.013403397104785733,
          0.013506971663628372,
          0.013612406866650736,
          0.013719714383937404,
          0.013828904317646818,
          0.013939985177557287,
          0.014052963858222,
          0.01416784561777268,
          0.014284634058409258,
          0.014403331108612473,
          0.014523937007113085,
          0.014646450288651547,
          0.014770867771558638,
          0.01489718454718648,
          0.015025393971217379,
          0.015155487656875558,
          0.015287455470065393,
          0.015421285526456895,
          0.01555696419053797,
          0.01569447607664914,
          0.015833804052016082,
          0.015974929241791308,
          0.01611783103611441,
          0.016262487099198204,
          0.01640887338044453,
          0.01655696412759181,
          0.016706731901893253,
          0.016858147595321785,
          0.0170111804497952,
          0.017165798078412058,
          0.01732196648868618,
          0.017479650107764203,
          0.017638811809608128,
          0.01779941294412151,
          0.01796141336819541,
          0.018124771478646183,
          0.018289444247015497,
          0.018455387256198517,
          0.01862255473886427,
          0.01879089961762827,
          0.018960373546935194,
          0.019130926956605565,
          0.01930250909699785,
          0.019475068085734622,
          0.01964855095593758,
          0.01982290370591445,
          0.019998071350236707,
          0.02017399797214524,
          0.020350626777217842,
          0.020527900148229753,
          0.02070575970113588,
          0.020884146342100555,
          0.021063000325499157,
          0.0212422613128121,
          0.021421868432331004,
          0.02160176033959321,
          0.021781875278460386,
          0.021962151142753635,
          0.02214252553835659,
          0.02232293584569667,
          0.02250331928251155,
          0.02268361296680914,
          0.02286375397992581,
          0.023043679429588168,
          0.023223326512881864,
          0.023402632579031375,
          0.023581535191892877,
          0.02375997219206324,
          0.023937881758507595,
          0.024115202469607373,
          0.0242918733635326,
          0.024467833997841013,
          0.024643024508208423,
          0.024817385666194763,
          0.024990858935952338,
          0.025163386529783,
          0.025334911462453383,
          0.025505377604178453,
          0.02567472973218553,
          0.02584291358077373,
          0.026009875889784772,
          0.026175564451405415,
          0.02633992815522206,
          0.026502917031453563,
          0.026664482292289328,
          0.026824576371263797,
          0.026983152960602334,
          0.027140167046475545,
          0.027295574942104894,
          0.027449334318664698,
          0.027601404233930128,
          0.027751745158625656,
          0.02790031900043155,
          0.02804708912561176,
          0.028192020378229748,
          0.028335079096924693,
          0.02847623312922425,
          0.028615451843375914,
          0.02875270613768278,
          0.02888796844733535,
          0.02902121274873586,
          0.02915241456131628,
          0.02928155094685685,
          0.029408600506316433,
          0.029533543374191756,
          0.029656361210426904,
          0.029777037189900643,
          0.029895555989522753,
          0.030011903772976887,
          0.030126068173151287,
          0.030238038272304646,
          0.030347804580017984,
          0.03045535900898912,
          0.030560694848730304,
          0.030663806737233963,
          0.030764690630676432,
          0.030863343771233072,
          0.030959764653082165,
          0.031053952986679685,
          0.03114590966138957,
          0.031235636706558247,
          0.031323137251125815,
          0.03140841548186803,
          0.031491476600367815,
          0.031572326778816474,
          0.031650973114747585,
          0.03172742358480877,
          0.031801686997678526,
          0.031873772946236875,
          0.03194369175910018,
          0.03201145445163143,
          0.032077072676538684,
          0.0321405586741745,
          0.03220192522264995,
          0.03226118558787707,
          0.03231835347365271,
          0.0323734429718978,
          0.032426468513163616,
          0.03247744481751724,
          0.03252638684591648,
          0.03257330975218294,
          0.03261822883568088,
          0.032661159494807,
          0.03270211718139426,
          0.03274111735613041,
          0.032778175445089465,
          0.03281330679747084,
          0.03284652664463861,
          0.032877850060549114,
          0.03290729192365233,
          0.03293486688034827,
          0.03296058931007575,
          0.032984473292107165,
          0.03300653257411798,
          0.03302678054259592,
          0.033045230195149766,
          0.03306189411477306,
          0.03307678444611356,
          0.03308991287379388,
          0.0331012906028238,
          0.03311092834114004,
          0.0331188362843036,
          0.03312502410237979,
          0.03312950092902067,
          0.03313227535276455,
          0.03313335541056152,
          0.03313274858352877,
          0.03313046179493445,
          0.03312650141040286,
          0.033120873240329196,
          0.03311358254448609,
          0.033104634038800006,
          0.03309403190426923,
          0.033081779797991366,
          0.03306788086626235,
          0.033052337759705,
          0.033035152650379686,
          0.033016327250825796,
          0.03299586283497759,
          0.03297376026089456,
          0.03295001999524134,
          0.03292464213944903,
          0.032897626457485764,
          0.03286897240516053,
          0.03283867916088117,
          0.032806745657784034,
          0.0327731706171503,
          0.03273795258301982,
          0.03270108995791281,
          0.032662581039565444,
          0.03262242405858448,
          0.03258061721692334,
          0.032537158727081336,
          0.0324920468519251,
          0.03244527994503115,
          0.032396856491446926,
          0.03234677514876685,
          0.03229503478842004,
          0.03224163453706527,
          0.032186573817989395,
          0.03212985239240501,
          0.03207147040054438,
          0.032011428402446335,
          0.03194972741833437,
          0.03188636896848532,
          0.03182135511248862,
          0.03175468848779843,
          0.03168637234748233,
          0.03161641059707189,
          0.03154480783042315,
          0.0314715693644969,
          0.03139670127297104,
          0.03132021041860068,
          0.03124210448424348,
          0.031162392002471135,
          0.03108108238369174,
          0.03099818594270944,
          0.03091371392365281,
          0.03082767852320604,
          0.030740092912080793,
          0.030650971254670277,
          0.03056032872683158,
          0.030468181531745367,
          0.03037454691380605,
          0.030279443170501453,
          0.03018288966224196,
          0.03008490682010645,
          0.02998551615147501,
          0.029884740243522636,
          0.02978260276455311,
          0.02967912846315661,
          0.02957434316517807,
          0.029468273768488592,
          0.029360948235556694,
          0.029252395583819195,
          0.02914264587385744,
          0.029031730195388086,
          0.028919680651081695,
          0.028806530338227252,
          0.02869231332826438,
          0.028577064644209296,
          0.028460820236004266,
          0.02834361695382532,
          0.02822549251938517,
          0.028106485495273434,
          0.0279866352523797,
          0.027865981935447787,
          0.027744566426814266,
          0.027622430308386563,
          0.027499615821919912,
          0.02737616582765539,
          0.027252123761384372,
          0.027127533590007243,
          0.027002439765657624,
          0.026876887178465706,
          0.026750921108036316,
          0.026624587173720748,
          0.026497931283762637,
          0.02637099958340063,
          0.026243838402012606,
          0.026116494199388062,
          0.025989013511216092,
          0.02586144289387945,
          0.025733828868644747,
          0.025606217865341067,
          0.02547865616562032,
          0.02535118984589295,
          0.025223864720033577,
          0.025096726281951788,
          0.024969819648123833,
          0.024843189500180468,
          0.02471688002764735,
          0.024590934870933428,
          0.024465397064662497,
          0.024340308981444164,
          0.024215712276177512,
          0.02409164783098192,
          0.023968155700848485,
          0.02384527506010333,
          0.02372304414977421,
          0.02360150022595001,
          0.023480679509221163,
          0.023360617135287608,
          0.023241347106819868,
          0.023122902246655364,
          0.023005314152411617,
          0.022888613152595938,
          0.022772828264287292,
          0.022657987152465562,
          0.02254411609106033,
          0.022431239925788056,
          0.022319382038844864,
          0.022208564315518604,
          0.02209880711278155,
          0.021990129229921117,
          0.021882547881264543,
          0.02177607867104809,
          0.021670735570479997,
          0.02156653089704222,
          0.021463475296071958,
          0.021361577724661934,
          0.021260845437913085,
          0.021161283977571284,
          0.021062897163074627,
          0.020965687085035045,
          0.02086965410117365,
          0.02077479683472534,
          0.020681112175325016,
          0.020588595282382518,
          0.020497239590951,
          0.02040703682008801,
          0.020317976983705754,
          0.02023004840390222,
          0.02014323772676142,
          0.020057529940606333,
          0.0199729083966851,
          0.01988935483226609,
          0.0198068493961142,
          0.019725370676316634,
          0.01964489573042235,
          0.019565400117855892,
          0.019486857934562223,
          0.019409241849835886,
          0.01933252314528339,
          0.019256671755865193,
          0.019181656312959254,
          0.019107444189385012,
          0.01903400154632364,
          0.01896129338206654,
          0.018889283582521378,
          0.01881793497340188,
          0.01874720937402451,
          0.01867706765263229,
          0.018607469783163855,
          0.018538374903382608,
          0.018469741374278818,
          0.018401526840655255,
          0.018333688292804767,
          0.01826618212918587,
          0.018198964220001373,
          0.018131989971582677,
          0.018065214391481114,
          0.01799859215416666,
          0.017932077667232604,
          0.017865625138004344,
          0.01779918864044922,
          0.017732722182284052,
          0.017666179772176063,
          0.017599515486933216,
          0.01753268353857946,
          0.017465638341210434,
          0.01739833457752598,
          0.017330727264935498,
          0.017262771821133636,
          0.017194424129043758,
          0.017125640601028735,
          0.01705637824226855,
          0.016986594713206724,
          0.016916248390968454,
          0.0168452984296551,
          0.01677370481942218,
          0.016701428444249107,
          0.016628431138312368,
          0.016554675740874922,
          0.016480126149608487,
          0.016404747372267093,
          0.016328505576633734,
          0.01625136813866469,
          0.016173303688759372,
          0.01609428215608708,
          0.016014274810904706,
          0.01593325430480417,
          0.015851194708830618,
          0.015768071549417586,
          0.015683861842087997,
          0.015598544122874732,
          0.015512098477417685,
          0.01542450656769934,
          0.01533575165638408,
          0.01524581862873118,
          0.01515469401205605,
          0.015062365992717567,
          0.01496882443061494,
          0.014874060871180985,
          0.014778068554863596,
          0.014680842424091137,
          0.014582379127722672,
          0.014482677022987217,
          0.014381736174921448,
          0.014279558353319437,
          0.014176147027211617,
          0.014071507356895557,
          0.013965646183544138,
          0.013858572016421763,
          0.0137502950177423,
          0.013640826985207672,
          0.013530181332268468,
          0.01341837306615257,
          0.013305418763711557,
          0.013191336545137215,
          0.013076146045605055,
          0.012959868384904184,
          0.012842526135116458
         ],
         "yaxis": "y"
        },
        {
         "legendgroup": "weight",
         "marker": {
          "color": "green",
          "symbol": "line-ns-open"
         },
         "mode": "markers",
         "name": "weight",
         "showlegend": false,
         "type": "scatter",
         "x": [
          63,
          79,
          69,
          86,
          91,
          76,
          87,
          91,
          73,
          76,
          83,
          84,
          73,
          77,
          89,
          86,
          87,
          102,
          77,
          85,
          88,
          73,
          67,
          79,
          87,
          89,
          77,
          79,
          77,
          77,
          101,
          81,
          96,
          99,
          98,
          78,
          83,
          61,
          84,
          60,
          99,
          92,
          63,
          101,
          83,
          94,
          101
         ],
         "xaxis": "x",
         "y": [
          "weight",
          "weight",
          "weight",
          "weight",
          "weight",
          "weight",
          "weight",
          "weight",
          "weight",
          "weight",
          "weight",
          "weight",
          "weight",
          "weight",
          "weight",
          "weight",
          "weight",
          "weight",
          "weight",
          "weight",
          "weight",
          "weight",
          "weight",
          "weight",
          "weight",
          "weight",
          "weight",
          "weight",
          "weight",
          "weight",
          "weight",
          "weight",
          "weight",
          "weight",
          "weight",
          "weight",
          "weight",
          "weight",
          "weight",
          "weight",
          "weight",
          "weight",
          "weight",
          "weight",
          "weight",
          "weight",
          "weight"
         ],
         "yaxis": "y2"
        }
       ],
       "layout": {
        "barmode": "overlay",
        "hovermode": "closest",
        "legend": {
         "traceorder": "reversed"
        },
        "template": {
         "data": {
          "bar": [
           {
            "error_x": {
             "color": "#2a3f5f"
            },
            "error_y": {
             "color": "#2a3f5f"
            },
            "marker": {
             "line": {
              "color": "#E5ECF6",
              "width": 0.5
             },
             "pattern": {
              "fillmode": "overlay",
              "size": 10,
              "solidity": 0.2
             }
            },
            "type": "bar"
           }
          ],
          "barpolar": [
           {
            "marker": {
             "line": {
              "color": "#E5ECF6",
              "width": 0.5
             },
             "pattern": {
              "fillmode": "overlay",
              "size": 10,
              "solidity": 0.2
             }
            },
            "type": "barpolar"
           }
          ],
          "carpet": [
           {
            "aaxis": {
             "endlinecolor": "#2a3f5f",
             "gridcolor": "white",
             "linecolor": "white",
             "minorgridcolor": "white",
             "startlinecolor": "#2a3f5f"
            },
            "baxis": {
             "endlinecolor": "#2a3f5f",
             "gridcolor": "white",
             "linecolor": "white",
             "minorgridcolor": "white",
             "startlinecolor": "#2a3f5f"
            },
            "type": "carpet"
           }
          ],
          "choropleth": [
           {
            "colorbar": {
             "outlinewidth": 0,
             "ticks": ""
            },
            "type": "choropleth"
           }
          ],
          "contour": [
           {
            "colorbar": {
             "outlinewidth": 0,
             "ticks": ""
            },
            "colorscale": [
             [
              0,
              "#0d0887"
             ],
             [
              0.1111111111111111,
              "#46039f"
             ],
             [
              0.2222222222222222,
              "#7201a8"
             ],
             [
              0.3333333333333333,
              "#9c179e"
             ],
             [
              0.4444444444444444,
              "#bd3786"
             ],
             [
              0.5555555555555556,
              "#d8576b"
             ],
             [
              0.6666666666666666,
              "#ed7953"
             ],
             [
              0.7777777777777778,
              "#fb9f3a"
             ],
             [
              0.8888888888888888,
              "#fdca26"
             ],
             [
              1,
              "#f0f921"
             ]
            ],
            "type": "contour"
           }
          ],
          "contourcarpet": [
           {
            "colorbar": {
             "outlinewidth": 0,
             "ticks": ""
            },
            "type": "contourcarpet"
           }
          ],
          "heatmap": [
           {
            "colorbar": {
             "outlinewidth": 0,
             "ticks": ""
            },
            "colorscale": [
             [
              0,
              "#0d0887"
             ],
             [
              0.1111111111111111,
              "#46039f"
             ],
             [
              0.2222222222222222,
              "#7201a8"
             ],
             [
              0.3333333333333333,
              "#9c179e"
             ],
             [
              0.4444444444444444,
              "#bd3786"
             ],
             [
              0.5555555555555556,
              "#d8576b"
             ],
             [
              0.6666666666666666,
              "#ed7953"
             ],
             [
              0.7777777777777778,
              "#fb9f3a"
             ],
             [
              0.8888888888888888,
              "#fdca26"
             ],
             [
              1,
              "#f0f921"
             ]
            ],
            "type": "heatmap"
           }
          ],
          "heatmapgl": [
           {
            "colorbar": {
             "outlinewidth": 0,
             "ticks": ""
            },
            "colorscale": [
             [
              0,
              "#0d0887"
             ],
             [
              0.1111111111111111,
              "#46039f"
             ],
             [
              0.2222222222222222,
              "#7201a8"
             ],
             [
              0.3333333333333333,
              "#9c179e"
             ],
             [
              0.4444444444444444,
              "#bd3786"
             ],
             [
              0.5555555555555556,
              "#d8576b"
             ],
             [
              0.6666666666666666,
              "#ed7953"
             ],
             [
              0.7777777777777778,
              "#fb9f3a"
             ],
             [
              0.8888888888888888,
              "#fdca26"
             ],
             [
              1,
              "#f0f921"
             ]
            ],
            "type": "heatmapgl"
           }
          ],
          "histogram": [
           {
            "marker": {
             "pattern": {
              "fillmode": "overlay",
              "size": 10,
              "solidity": 0.2
             }
            },
            "type": "histogram"
           }
          ],
          "histogram2d": [
           {
            "colorbar": {
             "outlinewidth": 0,
             "ticks": ""
            },
            "colorscale": [
             [
              0,
              "#0d0887"
             ],
             [
              0.1111111111111111,
              "#46039f"
             ],
             [
              0.2222222222222222,
              "#7201a8"
             ],
             [
              0.3333333333333333,
              "#9c179e"
             ],
             [
              0.4444444444444444,
              "#bd3786"
             ],
             [
              0.5555555555555556,
              "#d8576b"
             ],
             [
              0.6666666666666666,
              "#ed7953"
             ],
             [
              0.7777777777777778,
              "#fb9f3a"
             ],
             [
              0.8888888888888888,
              "#fdca26"
             ],
             [
              1,
              "#f0f921"
             ]
            ],
            "type": "histogram2d"
           }
          ],
          "histogram2dcontour": [
           {
            "colorbar": {
             "outlinewidth": 0,
             "ticks": ""
            },
            "colorscale": [
             [
              0,
              "#0d0887"
             ],
             [
              0.1111111111111111,
              "#46039f"
             ],
             [
              0.2222222222222222,
              "#7201a8"
             ],
             [
              0.3333333333333333,
              "#9c179e"
             ],
             [
              0.4444444444444444,
              "#bd3786"
             ],
             [
              0.5555555555555556,
              "#d8576b"
             ],
             [
              0.6666666666666666,
              "#ed7953"
             ],
             [
              0.7777777777777778,
              "#fb9f3a"
             ],
             [
              0.8888888888888888,
              "#fdca26"
             ],
             [
              1,
              "#f0f921"
             ]
            ],
            "type": "histogram2dcontour"
           }
          ],
          "mesh3d": [
           {
            "colorbar": {
             "outlinewidth": 0,
             "ticks": ""
            },
            "type": "mesh3d"
           }
          ],
          "parcoords": [
           {
            "line": {
             "colorbar": {
              "outlinewidth": 0,
              "ticks": ""
             }
            },
            "type": "parcoords"
           }
          ],
          "pie": [
           {
            "automargin": true,
            "type": "pie"
           }
          ],
          "scatter": [
           {
            "fillpattern": {
             "fillmode": "overlay",
             "size": 10,
             "solidity": 0.2
            },
            "type": "scatter"
           }
          ],
          "scatter3d": [
           {
            "line": {
             "colorbar": {
              "outlinewidth": 0,
              "ticks": ""
             }
            },
            "marker": {
             "colorbar": {
              "outlinewidth": 0,
              "ticks": ""
             }
            },
            "type": "scatter3d"
           }
          ],
          "scattercarpet": [
           {
            "marker": {
             "colorbar": {
              "outlinewidth": 0,
              "ticks": ""
             }
            },
            "type": "scattercarpet"
           }
          ],
          "scattergeo": [
           {
            "marker": {
             "colorbar": {
              "outlinewidth": 0,
              "ticks": ""
             }
            },
            "type": "scattergeo"
           }
          ],
          "scattergl": [
           {
            "marker": {
             "colorbar": {
              "outlinewidth": 0,
              "ticks": ""
             }
            },
            "type": "scattergl"
           }
          ],
          "scattermapbox": [
           {
            "marker": {
             "colorbar": {
              "outlinewidth": 0,
              "ticks": ""
             }
            },
            "type": "scattermapbox"
           }
          ],
          "scatterpolar": [
           {
            "marker": {
             "colorbar": {
              "outlinewidth": 0,
              "ticks": ""
             }
            },
            "type": "scatterpolar"
           }
          ],
          "scatterpolargl": [
           {
            "marker": {
             "colorbar": {
              "outlinewidth": 0,
              "ticks": ""
             }
            },
            "type": "scatterpolargl"
           }
          ],
          "scatterternary": [
           {
            "marker": {
             "colorbar": {
              "outlinewidth": 0,
              "ticks": ""
             }
            },
            "type": "scatterternary"
           }
          ],
          "surface": [
           {
            "colorbar": {
             "outlinewidth": 0,
             "ticks": ""
            },
            "colorscale": [
             [
              0,
              "#0d0887"
             ],
             [
              0.1111111111111111,
              "#46039f"
             ],
             [
              0.2222222222222222,
              "#7201a8"
             ],
             [
              0.3333333333333333,
              "#9c179e"
             ],
             [
              0.4444444444444444,
              "#bd3786"
             ],
             [
              0.5555555555555556,
              "#d8576b"
             ],
             [
              0.6666666666666666,
              "#ed7953"
             ],
             [
              0.7777777777777778,
              "#fb9f3a"
             ],
             [
              0.8888888888888888,
              "#fdca26"
             ],
             [
              1,
              "#f0f921"
             ]
            ],
            "type": "surface"
           }
          ],
          "table": [
           {
            "cells": {
             "fill": {
              "color": "#EBF0F8"
             },
             "line": {
              "color": "white"
             }
            },
            "header": {
             "fill": {
              "color": "#C8D4E3"
             },
             "line": {
              "color": "white"
             }
            },
            "type": "table"
           }
          ]
         },
         "layout": {
          "annotationdefaults": {
           "arrowcolor": "#2a3f5f",
           "arrowhead": 0,
           "arrowwidth": 1
          },
          "autotypenumbers": "strict",
          "coloraxis": {
           "colorbar": {
            "outlinewidth": 0,
            "ticks": ""
           }
          },
          "colorscale": {
           "diverging": [
            [
             0,
             "#8e0152"
            ],
            [
             0.1,
             "#c51b7d"
            ],
            [
             0.2,
             "#de77ae"
            ],
            [
             0.3,
             "#f1b6da"
            ],
            [
             0.4,
             "#fde0ef"
            ],
            [
             0.5,
             "#f7f7f7"
            ],
            [
             0.6,
             "#e6f5d0"
            ],
            [
             0.7,
             "#b8e186"
            ],
            [
             0.8,
             "#7fbc41"
            ],
            [
             0.9,
             "#4d9221"
            ],
            [
             1,
             "#276419"
            ]
           ],
           "sequential": [
            [
             0,
             "#0d0887"
            ],
            [
             0.1111111111111111,
             "#46039f"
            ],
            [
             0.2222222222222222,
             "#7201a8"
            ],
            [
             0.3333333333333333,
             "#9c179e"
            ],
            [
             0.4444444444444444,
             "#bd3786"
            ],
            [
             0.5555555555555556,
             "#d8576b"
            ],
            [
             0.6666666666666666,
             "#ed7953"
            ],
            [
             0.7777777777777778,
             "#fb9f3a"
            ],
            [
             0.8888888888888888,
             "#fdca26"
            ],
            [
             1,
             "#f0f921"
            ]
           ],
           "sequentialminus": [
            [
             0,
             "#0d0887"
            ],
            [
             0.1111111111111111,
             "#46039f"
            ],
            [
             0.2222222222222222,
             "#7201a8"
            ],
            [
             0.3333333333333333,
             "#9c179e"
            ],
            [
             0.4444444444444444,
             "#bd3786"
            ],
            [
             0.5555555555555556,
             "#d8576b"
            ],
            [
             0.6666666666666666,
             "#ed7953"
            ],
            [
             0.7777777777777778,
             "#fb9f3a"
            ],
            [
             0.8888888888888888,
             "#fdca26"
            ],
            [
             1,
             "#f0f921"
            ]
           ]
          },
          "colorway": [
           "#636efa",
           "#EF553B",
           "#00cc96",
           "#ab63fa",
           "#FFA15A",
           "#19d3f3",
           "#FF6692",
           "#B6E880",
           "#FF97FF",
           "#FECB52"
          ],
          "font": {
           "color": "#2a3f5f"
          },
          "geo": {
           "bgcolor": "white",
           "lakecolor": "white",
           "landcolor": "#E5ECF6",
           "showlakes": true,
           "showland": true,
           "subunitcolor": "white"
          },
          "hoverlabel": {
           "align": "left"
          },
          "hovermode": "closest",
          "mapbox": {
           "style": "light"
          },
          "paper_bgcolor": "white",
          "plot_bgcolor": "#E5ECF6",
          "polar": {
           "angularaxis": {
            "gridcolor": "white",
            "linecolor": "white",
            "ticks": ""
           },
           "bgcolor": "#E5ECF6",
           "radialaxis": {
            "gridcolor": "white",
            "linecolor": "white",
            "ticks": ""
           }
          },
          "scene": {
           "xaxis": {
            "backgroundcolor": "#E5ECF6",
            "gridcolor": "white",
            "gridwidth": 2,
            "linecolor": "white",
            "showbackground": true,
            "ticks": "",
            "zerolinecolor": "white"
           },
           "yaxis": {
            "backgroundcolor": "#E5ECF6",
            "gridcolor": "white",
            "gridwidth": 2,
            "linecolor": "white",
            "showbackground": true,
            "ticks": "",
            "zerolinecolor": "white"
           },
           "zaxis": {
            "backgroundcolor": "#E5ECF6",
            "gridcolor": "white",
            "gridwidth": 2,
            "linecolor": "white",
            "showbackground": true,
            "ticks": "",
            "zerolinecolor": "white"
           }
          },
          "shapedefaults": {
           "line": {
            "color": "#2a3f5f"
           }
          },
          "ternary": {
           "aaxis": {
            "gridcolor": "white",
            "linecolor": "white",
            "ticks": ""
           },
           "baxis": {
            "gridcolor": "white",
            "linecolor": "white",
            "ticks": ""
           },
           "bgcolor": "#E5ECF6",
           "caxis": {
            "gridcolor": "white",
            "linecolor": "white",
            "ticks": ""
           }
          },
          "title": {
           "x": 0.05
          },
          "xaxis": {
           "automargin": true,
           "gridcolor": "white",
           "linecolor": "white",
           "ticks": "",
           "title": {
            "standoff": 15
           },
           "zerolinecolor": "white",
           "zerolinewidth": 2
          },
          "yaxis": {
           "automargin": true,
           "gridcolor": "white",
           "linecolor": "white",
           "ticks": "",
           "title": {
            "standoff": 15
           },
           "zerolinecolor": "white",
           "zerolinewidth": 2
          }
         }
        },
        "title": {
         "text": "Histogram and Kernel Probability Density Function Plot of weight"
        },
        "xaxis": {
         "anchor": "y2",
         "domain": [
          0,
          1
         ],
         "zeroline": false
        },
        "yaxis": {
         "anchor": "free",
         "domain": [
          0.35,
          1
         ],
         "position": 0
        },
        "yaxis2": {
         "anchor": "x",
         "domain": [
          0,
          0.25
         ],
         "dtick": 1,
         "showticklabels": false
        }
       }
      }
     },
     "metadata": {},
     "output_type": "display_data"
    }
   ],
   "source": [
    "# Histogram data\n",
    "hist_data = [patient_df[\"weight\"]]\n",
    "\n",
    "# Group data\n",
    "group_labels = [\"weight\"]\n",
    "colors = ['green']\n",
    "\n",
    "# Distplot \n",
    "fig = ff.create_distplot(hist_data, group_labels, bin_size=5,\n",
    "                         #curve_type=\"normal\", \n",
    "                         colors=colors)\n",
    "\n",
    "# Title\n",
    "fig.update_layout(title_text=\"Histogram and Kernel Probability Density Function Plot of weight\")\n",
    "fig.show()"
   ]
  },
  {
   "cell_type": "code",
   "execution_count": 96,
   "metadata": {},
   "outputs": [
    {
     "data": {
      "application/vnd.plotly.v1+json": {
       "config": {
        "plotlyServerURL": "https://plot.ly"
       },
       "data": [
        {
         "alignmentgroup": "True",
         "hovertemplate": "weight=%{y}<extra></extra>",
         "legendgroup": "",
         "marker": {
          "color": "#636efa"
         },
         "name": "",
         "notched": false,
         "offsetgroup": "",
         "orientation": "v",
         "showlegend": false,
         "type": "box",
         "x0": " ",
         "xaxis": "x",
         "y": [
          63,
          79,
          69,
          86,
          91,
          76,
          87,
          91,
          73,
          76,
          83,
          84,
          73,
          77,
          89,
          86,
          87,
          102,
          77,
          85,
          88,
          73,
          67,
          79,
          87,
          89,
          77,
          79,
          77,
          77,
          101,
          81,
          96,
          99,
          98,
          78,
          83,
          61,
          84,
          60,
          99,
          92,
          63,
          101,
          83,
          94,
          101
         ],
         "y0": " ",
         "yaxis": "y"
        }
       ],
       "layout": {
        "boxmode": "group",
        "legend": {
         "tracegroupgap": 0
        },
        "margin": {
         "t": 60
        },
        "template": {
         "data": {
          "bar": [
           {
            "error_x": {
             "color": "#2a3f5f"
            },
            "error_y": {
             "color": "#2a3f5f"
            },
            "marker": {
             "line": {
              "color": "#E5ECF6",
              "width": 0.5
             },
             "pattern": {
              "fillmode": "overlay",
              "size": 10,
              "solidity": 0.2
             }
            },
            "type": "bar"
           }
          ],
          "barpolar": [
           {
            "marker": {
             "line": {
              "color": "#E5ECF6",
              "width": 0.5
             },
             "pattern": {
              "fillmode": "overlay",
              "size": 10,
              "solidity": 0.2
             }
            },
            "type": "barpolar"
           }
          ],
          "carpet": [
           {
            "aaxis": {
             "endlinecolor": "#2a3f5f",
             "gridcolor": "white",
             "linecolor": "white",
             "minorgridcolor": "white",
             "startlinecolor": "#2a3f5f"
            },
            "baxis": {
             "endlinecolor": "#2a3f5f",
             "gridcolor": "white",
             "linecolor": "white",
             "minorgridcolor": "white",
             "startlinecolor": "#2a3f5f"
            },
            "type": "carpet"
           }
          ],
          "choropleth": [
           {
            "colorbar": {
             "outlinewidth": 0,
             "ticks": ""
            },
            "type": "choropleth"
           }
          ],
          "contour": [
           {
            "colorbar": {
             "outlinewidth": 0,
             "ticks": ""
            },
            "colorscale": [
             [
              0,
              "#0d0887"
             ],
             [
              0.1111111111111111,
              "#46039f"
             ],
             [
              0.2222222222222222,
              "#7201a8"
             ],
             [
              0.3333333333333333,
              "#9c179e"
             ],
             [
              0.4444444444444444,
              "#bd3786"
             ],
             [
              0.5555555555555556,
              "#d8576b"
             ],
             [
              0.6666666666666666,
              "#ed7953"
             ],
             [
              0.7777777777777778,
              "#fb9f3a"
             ],
             [
              0.8888888888888888,
              "#fdca26"
             ],
             [
              1,
              "#f0f921"
             ]
            ],
            "type": "contour"
           }
          ],
          "contourcarpet": [
           {
            "colorbar": {
             "outlinewidth": 0,
             "ticks": ""
            },
            "type": "contourcarpet"
           }
          ],
          "heatmap": [
           {
            "colorbar": {
             "outlinewidth": 0,
             "ticks": ""
            },
            "colorscale": [
             [
              0,
              "#0d0887"
             ],
             [
              0.1111111111111111,
              "#46039f"
             ],
             [
              0.2222222222222222,
              "#7201a8"
             ],
             [
              0.3333333333333333,
              "#9c179e"
             ],
             [
              0.4444444444444444,
              "#bd3786"
             ],
             [
              0.5555555555555556,
              "#d8576b"
             ],
             [
              0.6666666666666666,
              "#ed7953"
             ],
             [
              0.7777777777777778,
              "#fb9f3a"
             ],
             [
              0.8888888888888888,
              "#fdca26"
             ],
             [
              1,
              "#f0f921"
             ]
            ],
            "type": "heatmap"
           }
          ],
          "heatmapgl": [
           {
            "colorbar": {
             "outlinewidth": 0,
             "ticks": ""
            },
            "colorscale": [
             [
              0,
              "#0d0887"
             ],
             [
              0.1111111111111111,
              "#46039f"
             ],
             [
              0.2222222222222222,
              "#7201a8"
             ],
             [
              0.3333333333333333,
              "#9c179e"
             ],
             [
              0.4444444444444444,
              "#bd3786"
             ],
             [
              0.5555555555555556,
              "#d8576b"
             ],
             [
              0.6666666666666666,
              "#ed7953"
             ],
             [
              0.7777777777777778,
              "#fb9f3a"
             ],
             [
              0.8888888888888888,
              "#fdca26"
             ],
             [
              1,
              "#f0f921"
             ]
            ],
            "type": "heatmapgl"
           }
          ],
          "histogram": [
           {
            "marker": {
             "pattern": {
              "fillmode": "overlay",
              "size": 10,
              "solidity": 0.2
             }
            },
            "type": "histogram"
           }
          ],
          "histogram2d": [
           {
            "colorbar": {
             "outlinewidth": 0,
             "ticks": ""
            },
            "colorscale": [
             [
              0,
              "#0d0887"
             ],
             [
              0.1111111111111111,
              "#46039f"
             ],
             [
              0.2222222222222222,
              "#7201a8"
             ],
             [
              0.3333333333333333,
              "#9c179e"
             ],
             [
              0.4444444444444444,
              "#bd3786"
             ],
             [
              0.5555555555555556,
              "#d8576b"
             ],
             [
              0.6666666666666666,
              "#ed7953"
             ],
             [
              0.7777777777777778,
              "#fb9f3a"
             ],
             [
              0.8888888888888888,
              "#fdca26"
             ],
             [
              1,
              "#f0f921"
             ]
            ],
            "type": "histogram2d"
           }
          ],
          "histogram2dcontour": [
           {
            "colorbar": {
             "outlinewidth": 0,
             "ticks": ""
            },
            "colorscale": [
             [
              0,
              "#0d0887"
             ],
             [
              0.1111111111111111,
              "#46039f"
             ],
             [
              0.2222222222222222,
              "#7201a8"
             ],
             [
              0.3333333333333333,
              "#9c179e"
             ],
             [
              0.4444444444444444,
              "#bd3786"
             ],
             [
              0.5555555555555556,
              "#d8576b"
             ],
             [
              0.6666666666666666,
              "#ed7953"
             ],
             [
              0.7777777777777778,
              "#fb9f3a"
             ],
             [
              0.8888888888888888,
              "#fdca26"
             ],
             [
              1,
              "#f0f921"
             ]
            ],
            "type": "histogram2dcontour"
           }
          ],
          "mesh3d": [
           {
            "colorbar": {
             "outlinewidth": 0,
             "ticks": ""
            },
            "type": "mesh3d"
           }
          ],
          "parcoords": [
           {
            "line": {
             "colorbar": {
              "outlinewidth": 0,
              "ticks": ""
             }
            },
            "type": "parcoords"
           }
          ],
          "pie": [
           {
            "automargin": true,
            "type": "pie"
           }
          ],
          "scatter": [
           {
            "fillpattern": {
             "fillmode": "overlay",
             "size": 10,
             "solidity": 0.2
            },
            "type": "scatter"
           }
          ],
          "scatter3d": [
           {
            "line": {
             "colorbar": {
              "outlinewidth": 0,
              "ticks": ""
             }
            },
            "marker": {
             "colorbar": {
              "outlinewidth": 0,
              "ticks": ""
             }
            },
            "type": "scatter3d"
           }
          ],
          "scattercarpet": [
           {
            "marker": {
             "colorbar": {
              "outlinewidth": 0,
              "ticks": ""
             }
            },
            "type": "scattercarpet"
           }
          ],
          "scattergeo": [
           {
            "marker": {
             "colorbar": {
              "outlinewidth": 0,
              "ticks": ""
             }
            },
            "type": "scattergeo"
           }
          ],
          "scattergl": [
           {
            "marker": {
             "colorbar": {
              "outlinewidth": 0,
              "ticks": ""
             }
            },
            "type": "scattergl"
           }
          ],
          "scattermapbox": [
           {
            "marker": {
             "colorbar": {
              "outlinewidth": 0,
              "ticks": ""
             }
            },
            "type": "scattermapbox"
           }
          ],
          "scatterpolar": [
           {
            "marker": {
             "colorbar": {
              "outlinewidth": 0,
              "ticks": ""
             }
            },
            "type": "scatterpolar"
           }
          ],
          "scatterpolargl": [
           {
            "marker": {
             "colorbar": {
              "outlinewidth": 0,
              "ticks": ""
             }
            },
            "type": "scatterpolargl"
           }
          ],
          "scatterternary": [
           {
            "marker": {
             "colorbar": {
              "outlinewidth": 0,
              "ticks": ""
             }
            },
            "type": "scatterternary"
           }
          ],
          "surface": [
           {
            "colorbar": {
             "outlinewidth": 0,
             "ticks": ""
            },
            "colorscale": [
             [
              0,
              "#0d0887"
             ],
             [
              0.1111111111111111,
              "#46039f"
             ],
             [
              0.2222222222222222,
              "#7201a8"
             ],
             [
              0.3333333333333333,
              "#9c179e"
             ],
             [
              0.4444444444444444,
              "#bd3786"
             ],
             [
              0.5555555555555556,
              "#d8576b"
             ],
             [
              0.6666666666666666,
              "#ed7953"
             ],
             [
              0.7777777777777778,
              "#fb9f3a"
             ],
             [
              0.8888888888888888,
              "#fdca26"
             ],
             [
              1,
              "#f0f921"
             ]
            ],
            "type": "surface"
           }
          ],
          "table": [
           {
            "cells": {
             "fill": {
              "color": "#EBF0F8"
             },
             "line": {
              "color": "white"
             }
            },
            "header": {
             "fill": {
              "color": "#C8D4E3"
             },
             "line": {
              "color": "white"
             }
            },
            "type": "table"
           }
          ]
         },
         "layout": {
          "annotationdefaults": {
           "arrowcolor": "#2a3f5f",
           "arrowhead": 0,
           "arrowwidth": 1
          },
          "autotypenumbers": "strict",
          "coloraxis": {
           "colorbar": {
            "outlinewidth": 0,
            "ticks": ""
           }
          },
          "colorscale": {
           "diverging": [
            [
             0,
             "#8e0152"
            ],
            [
             0.1,
             "#c51b7d"
            ],
            [
             0.2,
             "#de77ae"
            ],
            [
             0.3,
             "#f1b6da"
            ],
            [
             0.4,
             "#fde0ef"
            ],
            [
             0.5,
             "#f7f7f7"
            ],
            [
             0.6,
             "#e6f5d0"
            ],
            [
             0.7,
             "#b8e186"
            ],
            [
             0.8,
             "#7fbc41"
            ],
            [
             0.9,
             "#4d9221"
            ],
            [
             1,
             "#276419"
            ]
           ],
           "sequential": [
            [
             0,
             "#0d0887"
            ],
            [
             0.1111111111111111,
             "#46039f"
            ],
            [
             0.2222222222222222,
             "#7201a8"
            ],
            [
             0.3333333333333333,
             "#9c179e"
            ],
            [
             0.4444444444444444,
             "#bd3786"
            ],
            [
             0.5555555555555556,
             "#d8576b"
            ],
            [
             0.6666666666666666,
             "#ed7953"
            ],
            [
             0.7777777777777778,
             "#fb9f3a"
            ],
            [
             0.8888888888888888,
             "#fdca26"
            ],
            [
             1,
             "#f0f921"
            ]
           ],
           "sequentialminus": [
            [
             0,
             "#0d0887"
            ],
            [
             0.1111111111111111,
             "#46039f"
            ],
            [
             0.2222222222222222,
             "#7201a8"
            ],
            [
             0.3333333333333333,
             "#9c179e"
            ],
            [
             0.4444444444444444,
             "#bd3786"
            ],
            [
             0.5555555555555556,
             "#d8576b"
            ],
            [
             0.6666666666666666,
             "#ed7953"
            ],
            [
             0.7777777777777778,
             "#fb9f3a"
            ],
            [
             0.8888888888888888,
             "#fdca26"
            ],
            [
             1,
             "#f0f921"
            ]
           ]
          },
          "colorway": [
           "#636efa",
           "#EF553B",
           "#00cc96",
           "#ab63fa",
           "#FFA15A",
           "#19d3f3",
           "#FF6692",
           "#B6E880",
           "#FF97FF",
           "#FECB52"
          ],
          "font": {
           "color": "#2a3f5f"
          },
          "geo": {
           "bgcolor": "white",
           "lakecolor": "white",
           "landcolor": "#E5ECF6",
           "showlakes": true,
           "showland": true,
           "subunitcolor": "white"
          },
          "hoverlabel": {
           "align": "left"
          },
          "hovermode": "closest",
          "mapbox": {
           "style": "light"
          },
          "paper_bgcolor": "white",
          "plot_bgcolor": "#E5ECF6",
          "polar": {
           "angularaxis": {
            "gridcolor": "white",
            "linecolor": "white",
            "ticks": ""
           },
           "bgcolor": "#E5ECF6",
           "radialaxis": {
            "gridcolor": "white",
            "linecolor": "white",
            "ticks": ""
           }
          },
          "scene": {
           "xaxis": {
            "backgroundcolor": "#E5ECF6",
            "gridcolor": "white",
            "gridwidth": 2,
            "linecolor": "white",
            "showbackground": true,
            "ticks": "",
            "zerolinecolor": "white"
           },
           "yaxis": {
            "backgroundcolor": "#E5ECF6",
            "gridcolor": "white",
            "gridwidth": 2,
            "linecolor": "white",
            "showbackground": true,
            "ticks": "",
            "zerolinecolor": "white"
           },
           "zaxis": {
            "backgroundcolor": "#E5ECF6",
            "gridcolor": "white",
            "gridwidth": 2,
            "linecolor": "white",
            "showbackground": true,
            "ticks": "",
            "zerolinecolor": "white"
           }
          },
          "shapedefaults": {
           "line": {
            "color": "#2a3f5f"
           }
          },
          "ternary": {
           "aaxis": {
            "gridcolor": "white",
            "linecolor": "white",
            "ticks": ""
           },
           "baxis": {
            "gridcolor": "white",
            "linecolor": "white",
            "ticks": ""
           },
           "bgcolor": "#E5ECF6",
           "caxis": {
            "gridcolor": "white",
            "linecolor": "white",
            "ticks": ""
           }
          },
          "title": {
           "x": 0.05
          },
          "xaxis": {
           "automargin": true,
           "gridcolor": "white",
           "linecolor": "white",
           "ticks": "",
           "title": {
            "standoff": 15
           },
           "zerolinecolor": "white",
           "zerolinewidth": 2
          },
          "yaxis": {
           "automargin": true,
           "gridcolor": "white",
           "linecolor": "white",
           "ticks": "",
           "title": {
            "standoff": 15
           },
           "zerolinecolor": "white",
           "zerolinewidth": 2
          }
         }
        },
        "xaxis": {
         "anchor": "y",
         "domain": [
          0,
          1
         ]
        },
        "yaxis": {
         "anchor": "x",
         "domain": [
          0,
          1
         ],
         "title": {
          "text": "weight"
         }
        }
       }
      }
     },
     "metadata": {},
     "output_type": "display_data"
    }
   ],
   "source": [
    "fig = px.box(patient_df[\"weight\"], y=\"weight\")\n",
    "fig.show()"
   ]
  },
  {
   "attachments": {},
   "cell_type": "markdown",
   "metadata": {},
   "source": [
    "# Data Analysis"
   ]
  },
  {
   "attachments": {},
   "cell_type": "markdown",
   "metadata": {},
   "source": [
    "## Correlation analysis "
   ]
  },
  {
   "attachments": {},
   "cell_type": "markdown",
   "metadata": {},
   "source": [
    "### Correlation matrix"
   ]
  },
  {
   "cell_type": "code",
   "execution_count": 97,
   "metadata": {},
   "outputs": [
    {
     "data": {
      "application/vnd.plotly.v1+json": {
       "config": {
        "plotlyServerURL": "https://plot.ly"
       },
       "data": [
        {
         "coloraxis": "coloraxis",
         "hovertemplate": "x: %{x}<br>y: %{y}<br>color: %{z}<extra></extra>",
         "name": "0",
         "texttemplate": "%{z}",
         "type": "heatmap",
         "x": [
          "closest_hospital",
          "height",
          "weight"
         ],
         "xaxis": "x",
         "y": [
          "closest_hospital",
          "height",
          "weight"
         ],
         "yaxis": "y",
         "z": [
          [
           1,
           0.10409006754430218,
           -0.06374072209278969
          ],
          [
           0.10409006754430218,
           1,
           0.14375703381743732
          ],
          [
           -0.06374072209278969,
           0.14375703381743732,
           1
          ]
         ]
        }
       ],
       "layout": {
        "coloraxis": {
         "colorscale": [
          [
           0,
           "#0d0887"
          ],
          [
           0.1111111111111111,
           "#46039f"
          ],
          [
           0.2222222222222222,
           "#7201a8"
          ],
          [
           0.3333333333333333,
           "#9c179e"
          ],
          [
           0.4444444444444444,
           "#bd3786"
          ],
          [
           0.5555555555555556,
           "#d8576b"
          ],
          [
           0.6666666666666666,
           "#ed7953"
          ],
          [
           0.7777777777777778,
           "#fb9f3a"
          ],
          [
           0.8888888888888888,
           "#fdca26"
          ],
          [
           1,
           "#f0f921"
          ]
         ]
        },
        "margin": {
         "t": 60
        },
        "template": {
         "data": {
          "bar": [
           {
            "error_x": {
             "color": "#2a3f5f"
            },
            "error_y": {
             "color": "#2a3f5f"
            },
            "marker": {
             "line": {
              "color": "#E5ECF6",
              "width": 0.5
             },
             "pattern": {
              "fillmode": "overlay",
              "size": 10,
              "solidity": 0.2
             }
            },
            "type": "bar"
           }
          ],
          "barpolar": [
           {
            "marker": {
             "line": {
              "color": "#E5ECF6",
              "width": 0.5
             },
             "pattern": {
              "fillmode": "overlay",
              "size": 10,
              "solidity": 0.2
             }
            },
            "type": "barpolar"
           }
          ],
          "carpet": [
           {
            "aaxis": {
             "endlinecolor": "#2a3f5f",
             "gridcolor": "white",
             "linecolor": "white",
             "minorgridcolor": "white",
             "startlinecolor": "#2a3f5f"
            },
            "baxis": {
             "endlinecolor": "#2a3f5f",
             "gridcolor": "white",
             "linecolor": "white",
             "minorgridcolor": "white",
             "startlinecolor": "#2a3f5f"
            },
            "type": "carpet"
           }
          ],
          "choropleth": [
           {
            "colorbar": {
             "outlinewidth": 0,
             "ticks": ""
            },
            "type": "choropleth"
           }
          ],
          "contour": [
           {
            "colorbar": {
             "outlinewidth": 0,
             "ticks": ""
            },
            "colorscale": [
             [
              0,
              "#0d0887"
             ],
             [
              0.1111111111111111,
              "#46039f"
             ],
             [
              0.2222222222222222,
              "#7201a8"
             ],
             [
              0.3333333333333333,
              "#9c179e"
             ],
             [
              0.4444444444444444,
              "#bd3786"
             ],
             [
              0.5555555555555556,
              "#d8576b"
             ],
             [
              0.6666666666666666,
              "#ed7953"
             ],
             [
              0.7777777777777778,
              "#fb9f3a"
             ],
             [
              0.8888888888888888,
              "#fdca26"
             ],
             [
              1,
              "#f0f921"
             ]
            ],
            "type": "contour"
           }
          ],
          "contourcarpet": [
           {
            "colorbar": {
             "outlinewidth": 0,
             "ticks": ""
            },
            "type": "contourcarpet"
           }
          ],
          "heatmap": [
           {
            "colorbar": {
             "outlinewidth": 0,
             "ticks": ""
            },
            "colorscale": [
             [
              0,
              "#0d0887"
             ],
             [
              0.1111111111111111,
              "#46039f"
             ],
             [
              0.2222222222222222,
              "#7201a8"
             ],
             [
              0.3333333333333333,
              "#9c179e"
             ],
             [
              0.4444444444444444,
              "#bd3786"
             ],
             [
              0.5555555555555556,
              "#d8576b"
             ],
             [
              0.6666666666666666,
              "#ed7953"
             ],
             [
              0.7777777777777778,
              "#fb9f3a"
             ],
             [
              0.8888888888888888,
              "#fdca26"
             ],
             [
              1,
              "#f0f921"
             ]
            ],
            "type": "heatmap"
           }
          ],
          "heatmapgl": [
           {
            "colorbar": {
             "outlinewidth": 0,
             "ticks": ""
            },
            "colorscale": [
             [
              0,
              "#0d0887"
             ],
             [
              0.1111111111111111,
              "#46039f"
             ],
             [
              0.2222222222222222,
              "#7201a8"
             ],
             [
              0.3333333333333333,
              "#9c179e"
             ],
             [
              0.4444444444444444,
              "#bd3786"
             ],
             [
              0.5555555555555556,
              "#d8576b"
             ],
             [
              0.6666666666666666,
              "#ed7953"
             ],
             [
              0.7777777777777778,
              "#fb9f3a"
             ],
             [
              0.8888888888888888,
              "#fdca26"
             ],
             [
              1,
              "#f0f921"
             ]
            ],
            "type": "heatmapgl"
           }
          ],
          "histogram": [
           {
            "marker": {
             "pattern": {
              "fillmode": "overlay",
              "size": 10,
              "solidity": 0.2
             }
            },
            "type": "histogram"
           }
          ],
          "histogram2d": [
           {
            "colorbar": {
             "outlinewidth": 0,
             "ticks": ""
            },
            "colorscale": [
             [
              0,
              "#0d0887"
             ],
             [
              0.1111111111111111,
              "#46039f"
             ],
             [
              0.2222222222222222,
              "#7201a8"
             ],
             [
              0.3333333333333333,
              "#9c179e"
             ],
             [
              0.4444444444444444,
              "#bd3786"
             ],
             [
              0.5555555555555556,
              "#d8576b"
             ],
             [
              0.6666666666666666,
              "#ed7953"
             ],
             [
              0.7777777777777778,
              "#fb9f3a"
             ],
             [
              0.8888888888888888,
              "#fdca26"
             ],
             [
              1,
              "#f0f921"
             ]
            ],
            "type": "histogram2d"
           }
          ],
          "histogram2dcontour": [
           {
            "colorbar": {
             "outlinewidth": 0,
             "ticks": ""
            },
            "colorscale": [
             [
              0,
              "#0d0887"
             ],
             [
              0.1111111111111111,
              "#46039f"
             ],
             [
              0.2222222222222222,
              "#7201a8"
             ],
             [
              0.3333333333333333,
              "#9c179e"
             ],
             [
              0.4444444444444444,
              "#bd3786"
             ],
             [
              0.5555555555555556,
              "#d8576b"
             ],
             [
              0.6666666666666666,
              "#ed7953"
             ],
             [
              0.7777777777777778,
              "#fb9f3a"
             ],
             [
              0.8888888888888888,
              "#fdca26"
             ],
             [
              1,
              "#f0f921"
             ]
            ],
            "type": "histogram2dcontour"
           }
          ],
          "mesh3d": [
           {
            "colorbar": {
             "outlinewidth": 0,
             "ticks": ""
            },
            "type": "mesh3d"
           }
          ],
          "parcoords": [
           {
            "line": {
             "colorbar": {
              "outlinewidth": 0,
              "ticks": ""
             }
            },
            "type": "parcoords"
           }
          ],
          "pie": [
           {
            "automargin": true,
            "type": "pie"
           }
          ],
          "scatter": [
           {
            "fillpattern": {
             "fillmode": "overlay",
             "size": 10,
             "solidity": 0.2
            },
            "type": "scatter"
           }
          ],
          "scatter3d": [
           {
            "line": {
             "colorbar": {
              "outlinewidth": 0,
              "ticks": ""
             }
            },
            "marker": {
             "colorbar": {
              "outlinewidth": 0,
              "ticks": ""
             }
            },
            "type": "scatter3d"
           }
          ],
          "scattercarpet": [
           {
            "marker": {
             "colorbar": {
              "outlinewidth": 0,
              "ticks": ""
             }
            },
            "type": "scattercarpet"
           }
          ],
          "scattergeo": [
           {
            "marker": {
             "colorbar": {
              "outlinewidth": 0,
              "ticks": ""
             }
            },
            "type": "scattergeo"
           }
          ],
          "scattergl": [
           {
            "marker": {
             "colorbar": {
              "outlinewidth": 0,
              "ticks": ""
             }
            },
            "type": "scattergl"
           }
          ],
          "scattermapbox": [
           {
            "marker": {
             "colorbar": {
              "outlinewidth": 0,
              "ticks": ""
             }
            },
            "type": "scattermapbox"
           }
          ],
          "scatterpolar": [
           {
            "marker": {
             "colorbar": {
              "outlinewidth": 0,
              "ticks": ""
             }
            },
            "type": "scatterpolar"
           }
          ],
          "scatterpolargl": [
           {
            "marker": {
             "colorbar": {
              "outlinewidth": 0,
              "ticks": ""
             }
            },
            "type": "scatterpolargl"
           }
          ],
          "scatterternary": [
           {
            "marker": {
             "colorbar": {
              "outlinewidth": 0,
              "ticks": ""
             }
            },
            "type": "scatterternary"
           }
          ],
          "surface": [
           {
            "colorbar": {
             "outlinewidth": 0,
             "ticks": ""
            },
            "colorscale": [
             [
              0,
              "#0d0887"
             ],
             [
              0.1111111111111111,
              "#46039f"
             ],
             [
              0.2222222222222222,
              "#7201a8"
             ],
             [
              0.3333333333333333,
              "#9c179e"
             ],
             [
              0.4444444444444444,
              "#bd3786"
             ],
             [
              0.5555555555555556,
              "#d8576b"
             ],
             [
              0.6666666666666666,
              "#ed7953"
             ],
             [
              0.7777777777777778,
              "#fb9f3a"
             ],
             [
              0.8888888888888888,
              "#fdca26"
             ],
             [
              1,
              "#f0f921"
             ]
            ],
            "type": "surface"
           }
          ],
          "table": [
           {
            "cells": {
             "fill": {
              "color": "#EBF0F8"
             },
             "line": {
              "color": "white"
             }
            },
            "header": {
             "fill": {
              "color": "#C8D4E3"
             },
             "line": {
              "color": "white"
             }
            },
            "type": "table"
           }
          ]
         },
         "layout": {
          "annotationdefaults": {
           "arrowcolor": "#2a3f5f",
           "arrowhead": 0,
           "arrowwidth": 1
          },
          "autotypenumbers": "strict",
          "coloraxis": {
           "colorbar": {
            "outlinewidth": 0,
            "ticks": ""
           }
          },
          "colorscale": {
           "diverging": [
            [
             0,
             "#8e0152"
            ],
            [
             0.1,
             "#c51b7d"
            ],
            [
             0.2,
             "#de77ae"
            ],
            [
             0.3,
             "#f1b6da"
            ],
            [
             0.4,
             "#fde0ef"
            ],
            [
             0.5,
             "#f7f7f7"
            ],
            [
             0.6,
             "#e6f5d0"
            ],
            [
             0.7,
             "#b8e186"
            ],
            [
             0.8,
             "#7fbc41"
            ],
            [
             0.9,
             "#4d9221"
            ],
            [
             1,
             "#276419"
            ]
           ],
           "sequential": [
            [
             0,
             "#0d0887"
            ],
            [
             0.1111111111111111,
             "#46039f"
            ],
            [
             0.2222222222222222,
             "#7201a8"
            ],
            [
             0.3333333333333333,
             "#9c179e"
            ],
            [
             0.4444444444444444,
             "#bd3786"
            ],
            [
             0.5555555555555556,
             "#d8576b"
            ],
            [
             0.6666666666666666,
             "#ed7953"
            ],
            [
             0.7777777777777778,
             "#fb9f3a"
            ],
            [
             0.8888888888888888,
             "#fdca26"
            ],
            [
             1,
             "#f0f921"
            ]
           ],
           "sequentialminus": [
            [
             0,
             "#0d0887"
            ],
            [
             0.1111111111111111,
             "#46039f"
            ],
            [
             0.2222222222222222,
             "#7201a8"
            ],
            [
             0.3333333333333333,
             "#9c179e"
            ],
            [
             0.4444444444444444,
             "#bd3786"
            ],
            [
             0.5555555555555556,
             "#d8576b"
            ],
            [
             0.6666666666666666,
             "#ed7953"
            ],
            [
             0.7777777777777778,
             "#fb9f3a"
            ],
            [
             0.8888888888888888,
             "#fdca26"
            ],
            [
             1,
             "#f0f921"
            ]
           ]
          },
          "colorway": [
           "#636efa",
           "#EF553B",
           "#00cc96",
           "#ab63fa",
           "#FFA15A",
           "#19d3f3",
           "#FF6692",
           "#B6E880",
           "#FF97FF",
           "#FECB52"
          ],
          "font": {
           "color": "#2a3f5f"
          },
          "geo": {
           "bgcolor": "white",
           "lakecolor": "white",
           "landcolor": "#E5ECF6",
           "showlakes": true,
           "showland": true,
           "subunitcolor": "white"
          },
          "hoverlabel": {
           "align": "left"
          },
          "hovermode": "closest",
          "mapbox": {
           "style": "light"
          },
          "paper_bgcolor": "white",
          "plot_bgcolor": "#E5ECF6",
          "polar": {
           "angularaxis": {
            "gridcolor": "white",
            "linecolor": "white",
            "ticks": ""
           },
           "bgcolor": "#E5ECF6",
           "radialaxis": {
            "gridcolor": "white",
            "linecolor": "white",
            "ticks": ""
           }
          },
          "scene": {
           "xaxis": {
            "backgroundcolor": "#E5ECF6",
            "gridcolor": "white",
            "gridwidth": 2,
            "linecolor": "white",
            "showbackground": true,
            "ticks": "",
            "zerolinecolor": "white"
           },
           "yaxis": {
            "backgroundcolor": "#E5ECF6",
            "gridcolor": "white",
            "gridwidth": 2,
            "linecolor": "white",
            "showbackground": true,
            "ticks": "",
            "zerolinecolor": "white"
           },
           "zaxis": {
            "backgroundcolor": "#E5ECF6",
            "gridcolor": "white",
            "gridwidth": 2,
            "linecolor": "white",
            "showbackground": true,
            "ticks": "",
            "zerolinecolor": "white"
           }
          },
          "shapedefaults": {
           "line": {
            "color": "#2a3f5f"
           }
          },
          "ternary": {
           "aaxis": {
            "gridcolor": "white",
            "linecolor": "white",
            "ticks": ""
           },
           "baxis": {
            "gridcolor": "white",
            "linecolor": "white",
            "ticks": ""
           },
           "bgcolor": "#E5ECF6",
           "caxis": {
            "gridcolor": "white",
            "linecolor": "white",
            "ticks": ""
           }
          },
          "title": {
           "x": 0.05
          },
          "xaxis": {
           "automargin": true,
           "gridcolor": "white",
           "linecolor": "white",
           "ticks": "",
           "title": {
            "standoff": 15
           },
           "zerolinecolor": "white",
           "zerolinewidth": 2
          },
          "yaxis": {
           "automargin": true,
           "gridcolor": "white",
           "linecolor": "white",
           "ticks": "",
           "title": {
            "standoff": 15
           },
           "zerolinecolor": "white",
           "zerolinewidth": 2
          }
         }
        },
        "xaxis": {
         "anchor": "y",
         "domain": [
          0,
          1
         ]
        },
        "yaxis": {
         "anchor": "x",
         "autorange": "reversed",
         "domain": [
          0,
          1
         ]
        }
       }
      }
     },
     "metadata": {},
     "output_type": "display_data"
    }
   ],
   "source": [
    "correlation = patient_df.corr()\n",
    "fig = px.imshow(correlation, text_auto=True, aspect=\"auto\")\n",
    "fig.show()"
   ]
  },
  {
   "attachments": {},
   "cell_type": "markdown",
   "metadata": {},
   "source": [
    "### Transformation of variables"
   ]
  },
  {
   "attachments": {},
   "cell_type": "markdown",
   "metadata": {},
   "source": [
    "    Transform the catagorical variables in the patient_df to dummy-variables format.\n"
   ]
  },
  {
   "cell_type": "code",
   "execution_count": 98,
   "metadata": {},
   "outputs": [
    {
     "name": "stdout",
     "output_type": "stream",
     "text": [
      "['rural' 'urban' 'suburban']\n",
      "['delirium' \"alzheimer's\" 'arthritis' 'ruptured discs' 'none' 'amnesia'\n",
      " 'fibromas' 'cyclothimic disorder' 'scoliosis' 'atherosclerosis']\n",
      "['Male' 'Female']\n",
      "['Yes' 'No']\n",
      "['Yes' 'No']\n",
      "['single' 'divorced' 'widowed' 'married']\n",
      "['overweight' 'underweight' 'drug addiction' 'none' 'mental issue'\n",
      " 'not immunized' 'physical injury']\n"
     ]
    }
   ],
   "source": [
    "print(patient_df['community'].unique())\n",
    "print(patient_df['disabilities'].unique())\n",
    "print(patient_df['gender'].unique())\n",
    "print(patient_df['has_children'].unique())\n",
    "print(patient_df['has_dependent'].unique())\n",
    "print(patient_df['marital_status'].unique())\n",
    "print(patient_df['medical_problems'].unique())"
   ]
  },
  {
   "cell_type": "code",
   "execution_count": 99,
   "metadata": {},
   "outputs": [
    {
     "data": {
      "text/plain": [
       "(47, 38)"
      ]
     },
     "execution_count": 99,
     "metadata": {},
     "output_type": "execute_result"
    }
   ],
   "source": [
    "patient_df = pd.concat([patient_df, pd.get_dummies(patient_df['community'], prefix='community')],axis=1)\n",
    "patient_df = pd.concat([patient_df, pd.get_dummies(patient_df['disabilities'], prefix='disabilities')],axis=1)\n",
    "patient_df = pd.concat([patient_df, pd.get_dummies(patient_df['gender'], prefix='gender')],axis=1)\n",
    "patient_df = pd.concat([patient_df, pd.get_dummies(patient_df['has_children'], prefix='has_children')],axis=1)\n",
    "patient_df = pd.concat([patient_df, pd.get_dummies(patient_df['has_dependent'], prefix='has_dependent')],axis=1)\n",
    "patient_df = pd.concat([patient_df, pd.get_dummies(patient_df['marital_status'], prefix='marital_status')],axis=1)\n",
    "patient_df = pd.concat([patient_df, pd.get_dummies(patient_df['medical_problems'], prefix='medical_problems')],axis=1)\n",
    "\n",
    "patient_df.drop(['community', 'disabilities', 'gender', 'has_children', 'has_dependent', 'marital_status', 'medical_problems'], axis=1, inplace=True)\n",
    "\n",
    "patient_df.shape"
   ]
  },
  {
   "cell_type": "code",
   "execution_count": 100,
   "metadata": {},
   "outputs": [
    {
     "data": {
      "text/html": [
       "<div>\n",
       "<style scoped>\n",
       "    .dataframe tbody tr th:only-of-type {\n",
       "        vertical-align: middle;\n",
       "    }\n",
       "\n",
       "    .dataframe tbody tr th {\n",
       "        vertical-align: top;\n",
       "    }\n",
       "\n",
       "    .dataframe thead th {\n",
       "        text-align: right;\n",
       "    }\n",
       "</style>\n",
       "<table border=\"1\" class=\"dataframe\">\n",
       "  <thead>\n",
       "    <tr style=\"text-align: right;\">\n",
       "      <th></th>\n",
       "      <th>allergies</th>\n",
       "      <th>blood_type</th>\n",
       "      <th>closest_hospital</th>\n",
       "      <th>country</th>\n",
       "      <th>date_of_birth</th>\n",
       "      <th>name</th>\n",
       "      <th>height</th>\n",
       "      <th>weight</th>\n",
       "      <th>community_rural</th>\n",
       "      <th>community_suburban</th>\n",
       "      <th>...</th>\n",
       "      <th>marital_status_married</th>\n",
       "      <th>marital_status_single</th>\n",
       "      <th>marital_status_widowed</th>\n",
       "      <th>medical_problems_drug addiction</th>\n",
       "      <th>medical_problems_mental issue</th>\n",
       "      <th>medical_problems_none</th>\n",
       "      <th>medical_problems_not immunized</th>\n",
       "      <th>medical_problems_overweight</th>\n",
       "      <th>medical_problems_physical injury</th>\n",
       "      <th>medical_problems_underweight</th>\n",
       "    </tr>\n",
       "    <tr>\n",
       "      <th>patient_id</th>\n",
       "      <th></th>\n",
       "      <th></th>\n",
       "      <th></th>\n",
       "      <th></th>\n",
       "      <th></th>\n",
       "      <th></th>\n",
       "      <th></th>\n",
       "      <th></th>\n",
       "      <th></th>\n",
       "      <th></th>\n",
       "      <th></th>\n",
       "      <th></th>\n",
       "      <th></th>\n",
       "      <th></th>\n",
       "      <th></th>\n",
       "      <th></th>\n",
       "      <th></th>\n",
       "      <th></th>\n",
       "      <th></th>\n",
       "      <th></th>\n",
       "      <th></th>\n",
       "    </tr>\n",
       "  </thead>\n",
       "  <tbody>\n",
       "    <tr>\n",
       "      <th>4</th>\n",
       "      <td>pollen</td>\n",
       "      <td>A-</td>\n",
       "      <td>12</td>\n",
       "      <td>nigeria</td>\n",
       "      <td>2006-06-15 00:00:00</td>\n",
       "      <td>GARBO SHARRON</td>\n",
       "      <td>169</td>\n",
       "      <td>63</td>\n",
       "      <td>1</td>\n",
       "      <td>0</td>\n",
       "      <td>...</td>\n",
       "      <td>0</td>\n",
       "      <td>1</td>\n",
       "      <td>0</td>\n",
       "      <td>0</td>\n",
       "      <td>0</td>\n",
       "      <td>0</td>\n",
       "      <td>0</td>\n",
       "      <td>1</td>\n",
       "      <td>0</td>\n",
       "      <td>0</td>\n",
       "    </tr>\n",
       "    <tr>\n",
       "      <th>6</th>\n",
       "      <td>nuts</td>\n",
       "      <td>B-</td>\n",
       "      <td>10</td>\n",
       "      <td>nigeria</td>\n",
       "      <td>2010-03-21 00:00:00</td>\n",
       "      <td>ANKUR HENDRY</td>\n",
       "      <td>167</td>\n",
       "      <td>79</td>\n",
       "      <td>0</td>\n",
       "      <td>0</td>\n",
       "      <td>...</td>\n",
       "      <td>0</td>\n",
       "      <td>1</td>\n",
       "      <td>0</td>\n",
       "      <td>0</td>\n",
       "      <td>0</td>\n",
       "      <td>0</td>\n",
       "      <td>0</td>\n",
       "      <td>0</td>\n",
       "      <td>0</td>\n",
       "      <td>1</td>\n",
       "    </tr>\n",
       "    <tr>\n",
       "      <th>8</th>\n",
       "      <td>nuts</td>\n",
       "      <td>A+</td>\n",
       "      <td>5</td>\n",
       "      <td>nigeria</td>\n",
       "      <td>2012-08-24 00:00:00</td>\n",
       "      <td>ADONIJAH NEKA</td>\n",
       "      <td>147</td>\n",
       "      <td>69</td>\n",
       "      <td>0</td>\n",
       "      <td>0</td>\n",
       "      <td>...</td>\n",
       "      <td>0</td>\n",
       "      <td>0</td>\n",
       "      <td>0</td>\n",
       "      <td>1</td>\n",
       "      <td>0</td>\n",
       "      <td>0</td>\n",
       "      <td>0</td>\n",
       "      <td>0</td>\n",
       "      <td>0</td>\n",
       "      <td>0</td>\n",
       "    </tr>\n",
       "    <tr>\n",
       "      <th>12</th>\n",
       "      <td>pollen</td>\n",
       "      <td>AB-</td>\n",
       "      <td>5</td>\n",
       "      <td>nigeria</td>\n",
       "      <td>1996-08-11 00:00:00</td>\n",
       "      <td>ANNABELLA HENNESSEY</td>\n",
       "      <td>151</td>\n",
       "      <td>86</td>\n",
       "      <td>1</td>\n",
       "      <td>0</td>\n",
       "      <td>...</td>\n",
       "      <td>0</td>\n",
       "      <td>0</td>\n",
       "      <td>1</td>\n",
       "      <td>0</td>\n",
       "      <td>0</td>\n",
       "      <td>0</td>\n",
       "      <td>0</td>\n",
       "      <td>0</td>\n",
       "      <td>0</td>\n",
       "      <td>1</td>\n",
       "    </tr>\n",
       "    <tr>\n",
       "      <th>13</th>\n",
       "      <td>pollen</td>\n",
       "      <td>B+</td>\n",
       "      <td>15</td>\n",
       "      <td>nigeria</td>\n",
       "      <td>1996-01-13 00:00:00</td>\n",
       "      <td>GARETH SHASHWAT</td>\n",
       "      <td>207</td>\n",
       "      <td>91</td>\n",
       "      <td>0</td>\n",
       "      <td>0</td>\n",
       "      <td>...</td>\n",
       "      <td>0</td>\n",
       "      <td>0</td>\n",
       "      <td>0</td>\n",
       "      <td>0</td>\n",
       "      <td>0</td>\n",
       "      <td>1</td>\n",
       "      <td>0</td>\n",
       "      <td>0</td>\n",
       "      <td>0</td>\n",
       "      <td>0</td>\n",
       "    </tr>\n",
       "  </tbody>\n",
       "</table>\n",
       "<p>5 rows × 38 columns</p>\n",
       "</div>"
      ],
      "text/plain": [
       "           allergies blood_type  closest_hospital  country  \\\n",
       "patient_id                                                   \n",
       "4             pollen         A-                12  nigeria   \n",
       "6               nuts         B-                10  nigeria   \n",
       "8               nuts         A+                 5  nigeria   \n",
       "12            pollen        AB-                 5  nigeria   \n",
       "13            pollen         B+                15  nigeria   \n",
       "\n",
       "                  date_of_birth                 name  height  weight  \\\n",
       "patient_id                                                             \n",
       "4           2006-06-15 00:00:00        GARBO SHARRON     169      63   \n",
       "6           2010-03-21 00:00:00         ANKUR HENDRY     167      79   \n",
       "8           2012-08-24 00:00:00        ADONIJAH NEKA     147      69   \n",
       "12          1996-08-11 00:00:00  ANNABELLA HENNESSEY     151      86   \n",
       "13          1996-01-13 00:00:00      GARETH SHASHWAT     207      91   \n",
       "\n",
       "            community_rural  community_suburban  ...  marital_status_married  \\\n",
       "patient_id                                       ...                           \n",
       "4                         1                   0  ...                       0   \n",
       "6                         0                   0  ...                       0   \n",
       "8                         0                   0  ...                       0   \n",
       "12                        1                   0  ...                       0   \n",
       "13                        0                   0  ...                       0   \n",
       "\n",
       "            marital_status_single  marital_status_widowed  \\\n",
       "patient_id                                                  \n",
       "4                               1                       0   \n",
       "6                               1                       0   \n",
       "8                               0                       0   \n",
       "12                              0                       1   \n",
       "13                              0                       0   \n",
       "\n",
       "            medical_problems_drug addiction  medical_problems_mental issue  \\\n",
       "patient_id                                                                   \n",
       "4                                         0                              0   \n",
       "6                                         0                              0   \n",
       "8                                         1                              0   \n",
       "12                                        0                              0   \n",
       "13                                        0                              0   \n",
       "\n",
       "            medical_problems_none  medical_problems_not immunized  \\\n",
       "patient_id                                                          \n",
       "4                               0                               0   \n",
       "6                               0                               0   \n",
       "8                               0                               0   \n",
       "12                              0                               0   \n",
       "13                              1                               0   \n",
       "\n",
       "            medical_problems_overweight  medical_problems_physical injury  \\\n",
       "patient_id                                                                  \n",
       "4                                     1                                 0   \n",
       "6                                     0                                 0   \n",
       "8                                     0                                 0   \n",
       "12                                    0                                 0   \n",
       "13                                    0                                 0   \n",
       "\n",
       "            medical_problems_underweight  \n",
       "patient_id                                \n",
       "4                                      0  \n",
       "6                                      1  \n",
       "8                                      0  \n",
       "12                                     1  \n",
       "13                                     0  \n",
       "\n",
       "[5 rows x 38 columns]"
      ]
     },
     "execution_count": 100,
     "metadata": {},
     "output_type": "execute_result"
    }
   ],
   "source": [
    "patient_df.head()"
   ]
  },
  {
   "attachments": {},
   "cell_type": "markdown",
   "metadata": {},
   "source": [
    "#### Check for more correlation using the transformed dummy variables"
   ]
  },
  {
   "cell_type": "code",
   "execution_count": 101,
   "metadata": {},
   "outputs": [
    {
     "data": {
      "application/vnd.plotly.v1+json": {
       "config": {
        "plotlyServerURL": "https://plot.ly"
       },
       "data": [
        {
         "coloraxis": "coloraxis",
         "hovertemplate": "x: %{x}<br>y: %{y}<br>color: %{z}<extra></extra>",
         "name": "0",
         "texttemplate": "%{z}",
         "type": "heatmap",
         "x": [
          "closest_hospital",
          "height",
          "weight",
          "community_rural",
          "community_suburban",
          "community_urban",
          "disabilities_alzheimer's",
          "disabilities_amnesia",
          "disabilities_arthritis",
          "disabilities_atherosclerosis",
          "disabilities_cyclothimic disorder",
          "disabilities_delirium",
          "disabilities_fibromas",
          "disabilities_none",
          "disabilities_ruptured discs",
          "disabilities_scoliosis",
          "gender_Female",
          "gender_Male",
          "has_children_No",
          "has_children_Yes",
          "has_dependent_No",
          "has_dependent_Yes",
          "marital_status_divorced",
          "marital_status_married",
          "marital_status_single",
          "marital_status_widowed",
          "medical_problems_drug addiction",
          "medical_problems_mental issue",
          "medical_problems_none",
          "medical_problems_not immunized",
          "medical_problems_overweight",
          "medical_problems_physical injury",
          "medical_problems_underweight"
         ],
         "xaxis": "x",
         "y": [
          "closest_hospital",
          "height",
          "weight",
          "community_rural",
          "community_suburban",
          "community_urban",
          "disabilities_alzheimer's",
          "disabilities_amnesia",
          "disabilities_arthritis",
          "disabilities_atherosclerosis",
          "disabilities_cyclothimic disorder",
          "disabilities_delirium",
          "disabilities_fibromas",
          "disabilities_none",
          "disabilities_ruptured discs",
          "disabilities_scoliosis",
          "gender_Female",
          "gender_Male",
          "has_children_No",
          "has_children_Yes",
          "has_dependent_No",
          "has_dependent_Yes",
          "marital_status_divorced",
          "marital_status_married",
          "marital_status_single",
          "marital_status_widowed",
          "medical_problems_drug addiction",
          "medical_problems_mental issue",
          "medical_problems_none",
          "medical_problems_not immunized",
          "medical_problems_overweight",
          "medical_problems_physical injury",
          "medical_problems_underweight"
         ],
         "yaxis": "y",
         "z": [
          [
           1,
           0.10409006754430218,
           -0.06374072209278969,
           0.11251649087878013,
           -0.1637563635612009,
           0.03396284556864216,
           0.2122083415010406,
           0.14786129601362827,
           -0.06259814239551671,
           0.08093380505004794,
           -0.2700665062652793,
           0.03136970283966316,
           -0.1808876365149177,
           0.01676072898145948,
           -0.02571728384767878,
           0.12966143840394098,
           -0.015920083860301023,
           0.015920083860300967,
           0.09897942291126402,
           -0.09897942291126392,
           -0.29090417614611125,
           0.29090417614611136,
           0.3409024324758653,
           -0.10952688593602097,
           -0.08596603087919717,
           -0.09170876676455617,
           -0.017393041972588227,
           0.2154943084508817,
           -0.22805496274688564,
           -0.26550246602236416,
           0.13123840761134775,
           0.038854019417906956,
           0.1461015525697413
          ],
          [
           0.10409006754430218,
           1,
           0.14375703381743732,
           0.011514635368189412,
           -0.039528202380205026,
           0.02286713914276865,
           -0.06048645144755108,
           -0.09268410281769995,
           -0.029530869094576827,
           0.12316151259009385,
           0.05123160266562749,
           -0.03348611054831331,
           -0.07826223023484676,
           0.18282136652322992,
           -0.13215595421814855,
           -0.010341298845802666,
           -0.07110055831822605,
           0.0711005583182262,
           0.02026889728306635,
           -0.020268897283066484,
           0.03583437414270159,
           -0.0358343741427017,
           -0.056698492462827904,
           -0.10215400027950844,
           0.0635854817983298,
           0.0564813526480791,
           0.10197918582932693,
           -0.051684831472552484,
           -0.03647315677586671,
           0.07319182701581847,
           0.1912249355310053,
           -0.09164226674272292,
           -0.17275772991897664
          ],
          [
           -0.06374072209278969,
           0.14375703381743732,
           1,
           0.020800168016469917,
           0.05954060136615102,
           -0.07020913803016804,
           -0.1886813890283614,
           -0.2264176668340338,
           -0.11899309232235998,
           0.20848484383583044,
           0.22662849299687893,
           -0.23057246598716724,
           -0.1685186229976793,
           0.3032470392703139,
           0.04169696876716604,
           -0.048035930413993226,
           0.3042395981307279,
           -0.3042395981307278,
           0.0505218755783163,
           -0.05052187557831635,
           -0.3031766837502703,
           0.30317668375027024,
           -0.20126014829691893,
           -0.018868138902836264,
           0.008184772544308754,
           0.19176257099735913,
           -0.2266284929968787,
           0.3376992773144508,
           0.10230965680385969,
           0.10312734667937848,
           -0.24406145399663878,
           -0.07932872821490662,
           -0.0522988829992798
          ],
          [
           0.11251649087878013,
           0.011514635368189412,
           0.020800168016469917,
           1,
           -0.3784562942621865,
           -0.6153094906067751,
           0.20788046015507494,
           -0.08819171036881968,
           -0.17877423548354854,
           0.4454768371117636,
           0.011640504929492975,
           0.08179128813519697,
           0.011640504929492998,
           -0.24440818390626845,
           -0.045243741269163515,
           -0.14433756729740643,
           -0.1562690769794985,
           0.15626907697949843,
           0.0019462473604038358,
           -0.001946247360403795,
           -0.06992173146661854,
           0.06992173146661856,
           -0.08819171036881972,
           -0.08819171036881966,
           -0.08607714094664379,
           0.2851923707725777,
           0.011640504929492994,
           0.09819805060619656,
           0.08607714094664387,
           -0.17877423548354857,
           -0.12513542799204938,
           0.007945521577046612,
           0.011640504929492953
          ],
          [
           -0.1637563635612009,
           -0.039528202380205026,
           0.05954060136615102,
           -0.3784562942621865,
           1,
           -0.49678453256404015,
           -0.1907240450904431,
           -0.1907240450904432,
           0.266805806216418,
           -0.1685935129529577,
           -0.06087492714194608,
           0.13242535961744334,
           0.08971041894602573,
           0.0809866134545183,
           0.011495012246792608,
           0.1324253596174434,
           -0.2946297877111407,
           0.2946297877111407,
           0.014999234752441895,
           -0.014999234752441911,
           0.08138022375333653,
           -0.08138022375333658,
           -0.027741679285882666,
           0.29822305232323826,
           -0.133126213763996,
           -0.06087492714194605,
           0.08971041894602579,
           0.05105312288608163,
           -0.07897317765660788,
           0.061234119459505784,
           -0.06087492714194604,
           0.26680580621641803,
           -0.21146027322991787
          ],
          [
           0.03396284556864216,
           0.02286713914276865,
           -0.07020913803016804,
           -0.6153094906067751,
           -0.49678453256404015,
           1,
           -0.032485287630506975,
           0.2451162612120072,
           -0.05959868750235654,
           -0.2741061257203566,
           0.04092864662041132,
           -0.1894661866862683,
           -0.08731444612354405,
           0.16018996741626998,
           0.03263168163337578,
           0.022555498415031936,
           0.39743589743589713,
           -0.39743589743589736,
           -0.014598637372036243,
           0.014598637372036243,
           -0.0037462643784331702,
           0.0037462643784331898,
           0.10631548679075005,
           -0.17128606205176403,
           0.1940815331201984,
           -0.21555753886749937,
           -0.08731444612354407,
           -0.13555031544317836,
           -0.013451195364766192,
           0.11547245703581582,
           0.1691717393643667,
           -0.23466983204052894,
           0.16917173936436666
          ],
          [
           0.2122083415010406,
           -0.06048645144755108,
           -0.1886813890283614,
           0.20788046015507494,
           -0.1907240450904431,
           -0.032485287630506975,
           1,
           -0.11904761904761903,
           -0.0900937462695559,
           -0.10523401123547818,
           -0.13199091933711365,
           -0.07273929674533078,
           -0.13199091933711363,
           -0.17937400083354377,
           -0.10523401123547825,
           -0.07273929674533078,
           -0.17128606205176405,
           0.17128606205176405,
           0.04707919090692003,
           -0.04707919090691997,
           -0.12987440075245102,
           0.12987440075245105,
           0.1047619047619047,
           -0.11904761904761896,
           0.10225003239326613,
           -0.13199091933711363,
           0.07479485429103107,
           0.04948716593053935,
           -0.1022500323932661,
           -0.0900937462695559,
           0.07479485429103108,
           -0.09009374626955591,
           0.074794854291031
          ],
          [
           0.14786129601362827,
           -0.09268410281769995,
           -0.2264176668340338,
           -0.08819171036881968,
           -0.1907240450904432,
           0.2451162612120072,
           -0.11904761904761903,
           1,
           -0.09009374626955591,
           -0.1052340112354782,
           -0.13199091933711365,
           -0.0727392967453308,
           -0.13199091933711368,
           -0.17937400083354377,
           -0.1052340112354782,
           -0.07273929674533078,
           0.10631548679075013,
           -0.10631548679075012,
           -0.09121593238215744,
           0.09121593238215744,
           0.01208133960487916,
           -0.012081339604879178,
           0.10476190476190479,
           -0.11904761904761905,
           -0.04337880162138559,
           0.07479485429103108,
           -0.13199091933711368,
           0.049487165930539305,
           0.1890076356360373,
           -0.09009374626955588,
           0.07479485429103107,
           -0.09009374626955592,
           -0.13199091933711368
          ],
          [
           -0.06259814239551671,
           -0.029530869094576827,
           -0.11899309232235998,
           -0.17877423548354854,
           0.266805806216418,
           -0.05959868750235654,
           -0.0900937462695559,
           -0.09009374626955591,
           1,
           -0.07963978098028485,
           -0.099889073731804,
           -0.05504818825631804,
           -0.09988907373180404,
           -0.13574799603500018,
           -0.07963978098028479,
           -0.05504818825631801,
           -0.059598687502356536,
           0.05959868750235655,
           0.2449489742783178,
           -0.2449489742783178,
           0.15238344029416484,
           -0.15238344029416478,
           0.4744937303529943,
           -0.09009374626955591,
           -0.17977530235070763,
           -0.09988907373180403,
           0.42175386686761696,
           -0.10923286218816287,
           -0.003908158746754498,
           -0.06818181818181819,
           -0.099889073731804,
           -0.0681818181818182,
           -0.09988907373180402
          ],
          [
           0.08093380505004794,
           0.12316151259009385,
           0.20848484383583044,
           0.4454768371117636,
           -0.1685935129529577,
           -0.2741061257203566,
           -0.10523401123547818,
           -0.1052340112354782,
           -0.07963978098028485,
           1,
           -0.11667544466342449,
           -0.06429904295605494,
           -0.11667544466342449,
           -0.15856046320018655,
           -0.0930232558139535,
           -0.06429904295605496,
           0.03263168163337585,
           -0.032631681633375785,
           -0.019507682662870663,
           0.01950768266287064,
           0.07342149205080006,
           -0.07342149205080004,
           -0.10523401123547821,
           0.14206591516789546,
           -0.10271081918714556,
           0.11181396780244843,
           0.11181396780244846,
           0.30074657933780174,
           -0.21911641426591064,
           -0.07963978098028482,
           -0.11667544466342446,
           0.23228269452583075,
           -0.11667544466342446
          ],
          [
           -0.2700665062652793,
           0.05123160266562749,
           0.22662849299687893,
           0.011640504929492975,
           -0.06087492714194608,
           0.04092864662041132,
           -0.13199091933711365,
           -0.13199091933711365,
           -0.099889073731804,
           -0.11667544466342449,
           1,
           -0.08064778385455118,
           -0.14634146341463408,
           -0.19887620991164334,
           -0.11667544466342449,
           -0.08064778385455118,
           0.04092864662041127,
           -0.040928646620411256,
           -0.024467726152216658,
           0.024467726152216655,
           -0.03906836447116112,
           0.0390683644711611,
           -0.13199091933711363,
           0.07479485429103105,
           0.14027739369084954,
           -0.14634146341463414,
           -0.14634146341463408,
           -0.1600304849007244,
           0.5324815352346535,
           -0.099889073731804,
           -0.14634146341463408,
           -0.099889073731804,
           -0.14634146341463408
          ],
          [
           0.03136970283966316,
           -0.03348611054831331,
           -0.23057246598716724,
           0.08179128813519697,
           0.13242535961744334,
           -0.1894661866862683,
           -0.07273929674533078,
           -0.0727392967453308,
           -0.05504818825631804,
           -0.06429904295605494,
           -0.08064778385455118,
           1,
           -0.08064778385455117,
           -0.10959932487023821,
           -0.06429904295605493,
           -0.04444444444444445,
           -0.1894661866862683,
           0.1894661866862683,
           -0.013483997249264825,
           0.013483997249264893,
           0.050750015466174435,
           -0.05075001546617447,
           -0.07273929674533079,
           -0.07273929674533076,
           0.15145648913255053,
           -0.08064778385455118,
           -0.08064778385455115,
           -0.08819171036881972,
           -0.15145648913255053,
           0.37616261975150633,
           0.23522270290910763,
           -0.055048188256318006,
           -0.08064778385455118
          ],
          [
           -0.1808876365149177,
           -0.07826223023484676,
           -0.1685186229976793,
           0.011640504929492998,
           0.08971041894602573,
           -0.08731444612354405,
           -0.13199091933711363,
           -0.13199091933711368,
           -0.09988907373180404,
           -0.11667544466342449,
           -0.14634146341463408,
           -0.08064778385455117,
           1,
           -0.19887620991164337,
           -0.11667544466342446,
           -0.08064778385455117,
           -0.08731444612354404,
           0.08731444612354408,
           -0.024467726152216658,
           0.02446772615221664,
           0.0920897162534512,
           -0.09208971625345123,
           -0.13199091933711363,
           0.07479485429103105,
           0.14027739369084946,
           -0.14634146341463408,
           -0.14634146341463408,
           -0.1600304849007244,
           -0.005725607905749035,
           0.16093239656790637,
           -0.14634146341463408,
           0.16093239656790642,
           0.2357723577235771
          ],
          [
           0.01676072898145948,
           0.18282136652322992,
           0.3032470392703139,
           -0.24440818390626845,
           0.0809866134545183,
           0.16018996741626998,
           -0.17937400083354377,
           -0.17937400083354377,
           -0.13574799603500018,
           -0.15856046320018655,
           -0.19887620991164334,
           -0.10959932487023821,
           -0.19887620991164337,
           1,
           -0.15856046320018652,
           -0.10959932487023816,
           0.16018996741627006,
           -0.16018996741627,
           -0.1374388405416566,
           0.13743884054165656,
           -0.19568716329813962,
           0.19568716329813965,
           -0.17937400083354377,
           -0.17937400083354374,
           0.04435186642969757,
           0.26848288338071846,
           0.11269651894993118,
           0.074564371920144,
           -0.1540643781242125,
           -0.13574799603500018,
           -0.04308984548085607,
           0.07692386441983345,
           0.11269651894993121
          ],
          [
           -0.02571728384767878,
           -0.13215595421814855,
           0.04169696876716604,
           -0.045243741269163515,
           0.011495012246792608,
           0.03263168163337578,
           -0.10523401123547825,
           -0.1052340112354782,
           -0.07963978098028479,
           -0.0930232558139535,
           -0.11667544466342449,
           -0.06429904295605493,
           -0.11667544466342446,
           -0.15856046320018652,
           1,
           -0.06429904295605496,
           0.18600058531024197,
           -0.18600058531024208,
           0.13330249819628281,
           -0.13330249819628281,
           0.07342149205080005,
           -0.07342149205080001,
           0.14206591516789557,
           0.14206591516789555,
           -0.26362443591367385,
           0.11181396780244848,
           -0.1166754446634244,
           0.086578560718458,
           -0.05820279753938252,
           -0.07963978098028482,
           0.11181396780244848,
           -0.07963978098028482,
           0.11181396780244841
          ],
          [
           0.12966143840394098,
           -0.010341298845802666,
           -0.048035930413993226,
           -0.14433756729740643,
           0.1324253596174434,
           0.022555498415031936,
           -0.07273929674533078,
           -0.07273929674533078,
           -0.05504818825631801,
           -0.06429904295605496,
           -0.08064778385455118,
           -0.04444444444444445,
           -0.08064778385455117,
           -0.10959932487023816,
           -0.06429904295605496,
           1,
           -0.18946618668626833,
           0.1894661866862683,
           -0.013483997249264856,
           0.013483997249264825,
           0.050750015466174456,
           -0.050750015466174435,
           -0.07273929674533083,
           0.26913539795772384,
           -0.07099522928088307,
           -0.08064778385455118,
           -0.08064778385455117,
           -0.08819171036881969,
           -0.1514564891325506,
           0.3761626197515063,
           0.23522270290910766,
           -0.055048188256318034,
           -0.08064778385455117
          ],
          [
           -0.015920083860301023,
           -0.07110055831822605,
           0.3042395981307279,
           -0.1562690769794985,
           -0.2946297877111407,
           0.39743589743589713,
           -0.17128606205176405,
           0.10631548679075013,
           -0.059598687502356536,
           0.03263168163337585,
           0.04092864662041127,
           -0.1894661866862683,
           -0.08731444612354404,
           0.16018996741627006,
           0.18600058531024197,
           -0.18946618668626833,
           1,
           -1,
           0.07116835718867658,
           -0.07116835718867666,
           0.084290948514747,
           -0.08429094851474699,
           -0.17128606205176414,
           -0.171286062051764,
           0.10376636424248227,
           0.16917173936436672,
           -0.34380063161145474,
           -0.015345318729416375,
           0.2574943112683819,
           -0.05959868750235655,
           -0.08731444612354407,
           -0.05959868750235655,
           0.16917173936436652
          ],
          [
           0.015920083860300967,
           0.0711005583182262,
           -0.3042395981307278,
           0.15626907697949843,
           0.2946297877111407,
           -0.39743589743589736,
           0.17128606205176405,
           -0.10631548679075012,
           0.05959868750235655,
           -0.032631681633375785,
           -0.040928646620411256,
           0.1894661866862683,
           0.08731444612354408,
           -0.16018996741627,
           -0.18600058531024208,
           0.1894661866862683,
           -1,
           1,
           -0.07116835718867669,
           0.0711683571886767,
           -0.08429094851474704,
           0.08429094851474699,
           0.17128606205176403,
           0.17128606205176392,
           -0.1037663642424823,
           -0.1691717393643666,
           0.34380063161145474,
           0.015345318729416422,
           -0.257494311268382,
           0.05959868750235656,
           0.08731444612354404,
           0.05959868750235655,
           -0.16917173936436664
          ],
          [
           0.09897942291126402,
           0.02026889728306635,
           0.0505218755783163,
           0.0019462473604038358,
           0.014999234752441895,
           -0.014598637372036243,
           0.04707919090692003,
           -0.09121593238215744,
           0.2449489742783178,
           -0.019507682662870663,
           -0.024467726152216658,
           -0.013483997249264825,
           -0.024467726152216658,
           -0.1374388405416566,
           0.13330249819628281,
           -0.013483997249264856,
           0.07116835718867658,
           -0.07116835718867669,
           1,
           -1,
           0.12504266078014087,
           -0.12504266078014087,
           0.18537431419599737,
           0.04707919090691994,
           -0.13402192668680957,
           -0.024467726152216672,
           0.10330817708713698,
           0.15289415743128762,
           -0.04595037486404906,
           -0.10391774666352876,
           -0.15224362939157035,
           -0.27835110713445216,
           0.23108408032649064
          ],
          [
           -0.09897942291126392,
           -0.020268897283066484,
           -0.05052187557831635,
           -0.001946247360403795,
           -0.014999234752441911,
           0.014598637372036243,
           -0.04707919090691997,
           0.09121593238215744,
           -0.2449489742783178,
           0.01950768266287064,
           0.024467726152216655,
           0.013483997249264893,
           0.02446772615221664,
           0.13743884054165656,
           -0.13330249819628281,
           0.013483997249264825,
           -0.07116835718867666,
           0.0711683571886767,
           -1,
           1,
           -0.1250426607801408,
           0.1250426607801408,
           -0.18537431419599731,
           -0.04707919090691998,
           0.13402192668680965,
           0.0244677261522166,
           -0.10330817708713697,
           -0.15289415743128767,
           0.04595037486404904,
           0.10391774666352871,
           0.15224362939157035,
           0.27835110713445205,
           -0.23108408032649058
          ],
          [
           -0.29090417614611125,
           0.03583437414270159,
           -0.3031766837502703,
           -0.06992173146661854,
           0.08138022375333653,
           -0.0037462643784331702,
           -0.12987440075245102,
           0.01208133960487916,
           0.15238344029416484,
           0.07342149205080006,
           -0.03906836447116112,
           0.050750015466174435,
           0.0920897162534512,
           -0.19568716329813962,
           0.07342149205080005,
           0.050750015466174456,
           0.084290948514747,
           -0.08429094851474704,
           0.12504266078014087,
           -0.1250426607801408,
           1,
           -1.0000000000000002,
           -0.129874400752451,
           0.012081339604879176,
           0.19652776276524092,
           -0.17022644519577348,
           -0.03906836447116111,
           -0.08370197607657925,
           0.0805763827337488,
           0.15238344029416478,
           0.0920897162534512,
           -0.026667102051478844,
           -0.1702264451957735
          ],
          [
           0.29090417614611136,
           -0.0358343741427017,
           0.30317668375027024,
           0.06992173146661856,
           -0.08138022375333658,
           0.0037462643784331898,
           0.12987440075245105,
           -0.012081339604879178,
           -0.15238344029416478,
           -0.07342149205080004,
           0.0390683644711611,
           -0.05075001546617447,
           -0.09208971625345123,
           0.19568716329813965,
           -0.07342149205080001,
           -0.050750015466174435,
           -0.08429094851474699,
           0.08429094851474699,
           -0.12504266078014087,
           0.1250426607801408,
           -1.0000000000000002,
           1,
           0.12987440075245105,
           -0.012081339604879173,
           -0.19652776276524092,
           0.17022644519577346,
           0.039068364471161104,
           0.0837019760765793,
           -0.0805763827337488,
           -0.1523834402941648,
           -0.09208971625345125,
           0.026667102051478864,
           0.17022644519577348
          ],
          [
           0.3409024324758653,
           -0.056698492462827904,
           -0.20126014829691893,
           -0.08819171036881972,
           -0.027741679285882666,
           0.10631548679075005,
           0.1047619047619047,
           0.10476190476190479,
           0.4744937303529943,
           -0.10523401123547821,
           -0.13199091933711363,
           -0.07273929674533079,
           -0.13199091933711363,
           -0.17937400083354377,
           0.14206591516789557,
           -0.07273929674533083,
           -0.17128606205176414,
           0.17128606205176403,
           0.18537431419599737,
           -0.18537431419599731,
           -0.129874400752451,
           0.12987440075245105,
           1,
           -0.11904761904761899,
           -0.48026530366534065,
           -0.13199091933711368,
           0.48836640154732064,
           0.04948716593053933,
           -0.10225003239326609,
           -0.09009374626955592,
           -0.1319909193371137,
           -0.0900937462695559,
           -0.1319909193371136
          ],
          [
           -0.10952688593602097,
           -0.10215400027950844,
           -0.018868138902836264,
           -0.08819171036881966,
           0.29822305232323826,
           -0.17128606205176403,
           -0.11904761904761896,
           -0.11904761904761905,
           -0.09009374626955591,
           0.14206591516789546,
           0.07479485429103105,
           -0.07273929674533076,
           0.07479485429103105,
           -0.17937400083354374,
           0.14206591516789555,
           0.26913539795772384,
           -0.171286062051764,
           0.17128606205176392,
           0.04707919090691994,
           -0.04707919090691998,
           0.012081339604879176,
           -0.012081339604879173,
           -0.11904761904761899,
           1,
           -0.4802653036653405,
           -0.13199091933711363,
           0.07479485429103103,
           0.04948716593053934,
           -0.10225003239326616,
           -0.09009374626955588,
           0.07479485429103105,
           0.1921999920417192,
           -0.1319909193371136
          ],
          [
           -0.08596603087919717,
           0.0635854817983298,
           0.008184772544308754,
           -0.08607714094664379,
           -0.133126213763996,
           0.1940815331201984,
           0.10225003239326613,
           -0.04337880162138559,
           -0.17977530235070763,
           -0.10271081918714556,
           0.14027739369084954,
           0.15145648913255053,
           0.14027739369084946,
           0.04435186642969757,
           -0.26362443591367385,
           -0.07099522928088307,
           0.10376636424248227,
           -0.1037663642424823,
           -0.13402192668680957,
           0.13402192668680965,
           0.19652776276524092,
           -0.19652776276524092,
           -0.48026530366534065,
           -0.4802653036653405,
           1,
           -0.5324815352346536,
           -0.39792974944955306,
           -0.07781765582182287,
           0.13709677419354835,
           0.18759161984421668,
           0.1402773936908495,
           -0.17977530235070763,
           0.14027739369084952
          ],
          [
           -0.09170876676455617,
           0.0564813526480791,
           0.19176257099735913,
           0.2851923707725777,
           -0.06087492714194605,
           -0.21555753886749937,
           -0.13199091933711363,
           0.07479485429103108,
           -0.09988907373180403,
           0.11181396780244843,
           -0.14634146341463414,
           -0.08064778385455118,
           -0.14634146341463408,
           0.26848288338071846,
           0.11181396780244848,
           -0.08064778385455118,
           0.16917173936436672,
           -0.1691717393643666,
           -0.024467726152216672,
           0.0244677261522166,
           -0.17022644519577348,
           0.17022644519577346,
           -0.13199091933711368,
           -0.13199091933711363,
           -0.5324815352346536,
           1,
           0.04471544715447154,
           0.01905124820246714,
           -0.0057256079057489565,
           -0.099889073731804,
           -0.14634146341463408,
           0.16093239656790645,
           0.0447154471544715
          ],
          [
           -0.017393041972588227,
           0.10197918582932693,
           -0.2266284929968787,
           0.011640504929492994,
           0.08971041894602579,
           -0.08731444612354407,
           0.07479485429103107,
           -0.13199091933711368,
           0.42175386686761696,
           0.11181396780244846,
           -0.14634146341463408,
           -0.08064778385455115,
           -0.14634146341463408,
           0.11269651894993118,
           -0.1166754446634244,
           -0.08064778385455117,
           -0.34380063161145474,
           0.34380063161145474,
           0.10330817708713698,
           -0.10330817708713697,
           -0.03906836447116111,
           0.039068364471161104,
           0.48836640154732064,
           0.07479485429103103,
           -0.39792974944955306,
           0.04471544715447154,
           1,
           -0.16003048490072438,
           -0.27482917947595015,
           -0.09988907373180404,
           -0.1463414634146341,
           -0.099889073731804,
           -0.14634146341463408
          ],
          [
           0.2154943084508817,
           -0.051684831472552484,
           0.3376992773144508,
           0.09819805060619656,
           0.05105312288608163,
           -0.13555031544317836,
           0.04948716593053935,
           0.049487165930539305,
           -0.10923286218816287,
           0.30074657933780174,
           -0.1600304849007244,
           -0.08819171036881972,
           -0.1600304849007244,
           0.074564371920144,
           0.086578560718458,
           -0.08819171036881969,
           -0.015345318729416375,
           0.015345318729416422,
           0.15289415743128762,
           -0.15289415743128767,
           -0.08370197607657925,
           0.0837019760765793,
           0.04948716593053933,
           0.04948716593053934,
           -0.07781765582182287,
           0.01905124820246714,
           -0.16003048490072438,
           1,
           -0.30053715351876426,
           -0.10923286218816286,
           -0.1600304849007244,
           -0.1092328621881629,
           -0.16003048490072447
          ],
          [
           -0.22805496274688564,
           -0.03647315677586671,
           0.10230965680385969,
           0.08607714094664387,
           -0.07897317765660788,
           -0.013451195364766192,
           -0.1022500323932661,
           0.1890076356360373,
           -0.003908158746754498,
           -0.21911641426591064,
           0.5324815352346535,
           -0.15145648913255053,
           -0.005725607905749035,
           -0.1540643781242125,
           -0.05820279753938252,
           -0.1514564891325506,
           0.2574943112683819,
           -0.257494311268382,
           -0.04595037486404906,
           0.04595037486404904,
           0.0805763827337488,
           -0.0805763827337488,
           -0.10225003239326609,
           -0.10225003239326616,
           0.13709677419354835,
           -0.0057256079057489565,
           -0.27482917947595015,
           -0.30053715351876426,
           1,
           -0.18759161984421674,
           -0.2748291794759502,
           -0.1875916198442168,
           -0.2748291794759502
          ],
          [
           -0.26550246602236416,
           0.07319182701581847,
           0.10312734667937848,
           -0.17877423548354857,
           0.061234119459505784,
           0.11547245703581582,
           -0.0900937462695559,
           -0.09009374626955588,
           -0.06818181818181819,
           -0.07963978098028482,
           -0.099889073731804,
           0.37616261975150633,
           0.16093239656790637,
           -0.13574799603500018,
           -0.07963978098028482,
           0.3761626197515063,
           -0.05959868750235655,
           0.05959868750235656,
           -0.10391774666352876,
           0.10391774666352871,
           0.15238344029416478,
           -0.1523834402941648,
           -0.09009374626955592,
           -0.09009374626955588,
           0.18759161984421668,
           -0.099889073731804,
           -0.09988907373180404,
           -0.10923286218816286,
           -0.18759161984421674,
           1,
           -0.099889073731804,
           -0.06818181818181816,
           -0.09988907373180402
          ],
          [
           0.13123840761134775,
           0.1912249355310053,
           -0.24406145399663878,
           -0.12513542799204938,
           -0.06087492714194604,
           0.1691717393643667,
           0.07479485429103108,
           0.07479485429103107,
           -0.099889073731804,
           -0.11667544466342446,
           -0.14634146341463408,
           0.23522270290910763,
           -0.14634146341463408,
           -0.04308984548085607,
           0.11181396780244848,
           0.23522270290910766,
           -0.08731444612354407,
           0.08731444612354404,
           -0.15224362939157035,
           0.15224362939157035,
           0.0920897162534512,
           -0.09208971625345125,
           -0.1319909193371137,
           0.07479485429103105,
           0.1402773936908495,
           -0.14634146341463408,
           -0.1463414634146341,
           -0.1600304849007244,
           -0.2748291794759502,
           -0.099889073731804,
           1,
           -0.099889073731804,
           -0.14634146341463408
          ],
          [
           0.038854019417906956,
           -0.09164226674272292,
           -0.07932872821490662,
           0.007945521577046612,
           0.26680580621641803,
           -0.23466983204052894,
           -0.09009374626955591,
           -0.09009374626955592,
           -0.0681818181818182,
           0.23228269452583075,
           -0.099889073731804,
           -0.055048188256318006,
           0.16093239656790642,
           0.07692386441983345,
           -0.07963978098028482,
           -0.055048188256318034,
           -0.05959868750235655,
           0.05959868750235655,
           -0.27835110713445216,
           0.27835110713445205,
           -0.026667102051478844,
           0.026667102051478864,
           -0.0900937462695559,
           0.1921999920417192,
           -0.17977530235070763,
           0.16093239656790645,
           -0.099889073731804,
           -0.1092328621881629,
           -0.1875916198442168,
           -0.06818181818181816,
           -0.099889073731804,
           1,
           -0.09988907373180399
          ],
          [
           0.1461015525697413,
           -0.17275772991897664,
           -0.0522988829992798,
           0.011640504929492953,
           -0.21146027322991787,
           0.16917173936436666,
           0.074794854291031,
           -0.13199091933711368,
           -0.09988907373180402,
           -0.11667544466342446,
           -0.14634146341463408,
           -0.08064778385455118,
           0.2357723577235771,
           0.11269651894993121,
           0.11181396780244841,
           -0.08064778385455117,
           0.16917173936436652,
           -0.16917173936436664,
           0.23108408032649064,
           -0.23108408032649058,
           -0.1702264451957735,
           0.17022644519577348,
           -0.1319909193371136,
           -0.1319909193371136,
           0.14027739369084952,
           0.0447154471544715,
           -0.14634146341463408,
           -0.16003048490072447,
           -0.2748291794759502,
           -0.09988907373180402,
           -0.14634146341463408,
           -0.09988907373180399,
           1
          ]
         ]
        }
       ],
       "layout": {
        "coloraxis": {
         "colorscale": [
          [
           0,
           "#0d0887"
          ],
          [
           0.1111111111111111,
           "#46039f"
          ],
          [
           0.2222222222222222,
           "#7201a8"
          ],
          [
           0.3333333333333333,
           "#9c179e"
          ],
          [
           0.4444444444444444,
           "#bd3786"
          ],
          [
           0.5555555555555556,
           "#d8576b"
          ],
          [
           0.6666666666666666,
           "#ed7953"
          ],
          [
           0.7777777777777778,
           "#fb9f3a"
          ],
          [
           0.8888888888888888,
           "#fdca26"
          ],
          [
           1,
           "#f0f921"
          ]
         ]
        },
        "margin": {
         "t": 60
        },
        "template": {
         "data": {
          "bar": [
           {
            "error_x": {
             "color": "#2a3f5f"
            },
            "error_y": {
             "color": "#2a3f5f"
            },
            "marker": {
             "line": {
              "color": "#E5ECF6",
              "width": 0.5
             },
             "pattern": {
              "fillmode": "overlay",
              "size": 10,
              "solidity": 0.2
             }
            },
            "type": "bar"
           }
          ],
          "barpolar": [
           {
            "marker": {
             "line": {
              "color": "#E5ECF6",
              "width": 0.5
             },
             "pattern": {
              "fillmode": "overlay",
              "size": 10,
              "solidity": 0.2
             }
            },
            "type": "barpolar"
           }
          ],
          "carpet": [
           {
            "aaxis": {
             "endlinecolor": "#2a3f5f",
             "gridcolor": "white",
             "linecolor": "white",
             "minorgridcolor": "white",
             "startlinecolor": "#2a3f5f"
            },
            "baxis": {
             "endlinecolor": "#2a3f5f",
             "gridcolor": "white",
             "linecolor": "white",
             "minorgridcolor": "white",
             "startlinecolor": "#2a3f5f"
            },
            "type": "carpet"
           }
          ],
          "choropleth": [
           {
            "colorbar": {
             "outlinewidth": 0,
             "ticks": ""
            },
            "type": "choropleth"
           }
          ],
          "contour": [
           {
            "colorbar": {
             "outlinewidth": 0,
             "ticks": ""
            },
            "colorscale": [
             [
              0,
              "#0d0887"
             ],
             [
              0.1111111111111111,
              "#46039f"
             ],
             [
              0.2222222222222222,
              "#7201a8"
             ],
             [
              0.3333333333333333,
              "#9c179e"
             ],
             [
              0.4444444444444444,
              "#bd3786"
             ],
             [
              0.5555555555555556,
              "#d8576b"
             ],
             [
              0.6666666666666666,
              "#ed7953"
             ],
             [
              0.7777777777777778,
              "#fb9f3a"
             ],
             [
              0.8888888888888888,
              "#fdca26"
             ],
             [
              1,
              "#f0f921"
             ]
            ],
            "type": "contour"
           }
          ],
          "contourcarpet": [
           {
            "colorbar": {
             "outlinewidth": 0,
             "ticks": ""
            },
            "type": "contourcarpet"
           }
          ],
          "heatmap": [
           {
            "colorbar": {
             "outlinewidth": 0,
             "ticks": ""
            },
            "colorscale": [
             [
              0,
              "#0d0887"
             ],
             [
              0.1111111111111111,
              "#46039f"
             ],
             [
              0.2222222222222222,
              "#7201a8"
             ],
             [
              0.3333333333333333,
              "#9c179e"
             ],
             [
              0.4444444444444444,
              "#bd3786"
             ],
             [
              0.5555555555555556,
              "#d8576b"
             ],
             [
              0.6666666666666666,
              "#ed7953"
             ],
             [
              0.7777777777777778,
              "#fb9f3a"
             ],
             [
              0.8888888888888888,
              "#fdca26"
             ],
             [
              1,
              "#f0f921"
             ]
            ],
            "type": "heatmap"
           }
          ],
          "heatmapgl": [
           {
            "colorbar": {
             "outlinewidth": 0,
             "ticks": ""
            },
            "colorscale": [
             [
              0,
              "#0d0887"
             ],
             [
              0.1111111111111111,
              "#46039f"
             ],
             [
              0.2222222222222222,
              "#7201a8"
             ],
             [
              0.3333333333333333,
              "#9c179e"
             ],
             [
              0.4444444444444444,
              "#bd3786"
             ],
             [
              0.5555555555555556,
              "#d8576b"
             ],
             [
              0.6666666666666666,
              "#ed7953"
             ],
             [
              0.7777777777777778,
              "#fb9f3a"
             ],
             [
              0.8888888888888888,
              "#fdca26"
             ],
             [
              1,
              "#f0f921"
             ]
            ],
            "type": "heatmapgl"
           }
          ],
          "histogram": [
           {
            "marker": {
             "pattern": {
              "fillmode": "overlay",
              "size": 10,
              "solidity": 0.2
             }
            },
            "type": "histogram"
           }
          ],
          "histogram2d": [
           {
            "colorbar": {
             "outlinewidth": 0,
             "ticks": ""
            },
            "colorscale": [
             [
              0,
              "#0d0887"
             ],
             [
              0.1111111111111111,
              "#46039f"
             ],
             [
              0.2222222222222222,
              "#7201a8"
             ],
             [
              0.3333333333333333,
              "#9c179e"
             ],
             [
              0.4444444444444444,
              "#bd3786"
             ],
             [
              0.5555555555555556,
              "#d8576b"
             ],
             [
              0.6666666666666666,
              "#ed7953"
             ],
             [
              0.7777777777777778,
              "#fb9f3a"
             ],
             [
              0.8888888888888888,
              "#fdca26"
             ],
             [
              1,
              "#f0f921"
             ]
            ],
            "type": "histogram2d"
           }
          ],
          "histogram2dcontour": [
           {
            "colorbar": {
             "outlinewidth": 0,
             "ticks": ""
            },
            "colorscale": [
             [
              0,
              "#0d0887"
             ],
             [
              0.1111111111111111,
              "#46039f"
             ],
             [
              0.2222222222222222,
              "#7201a8"
             ],
             [
              0.3333333333333333,
              "#9c179e"
             ],
             [
              0.4444444444444444,
              "#bd3786"
             ],
             [
              0.5555555555555556,
              "#d8576b"
             ],
             [
              0.6666666666666666,
              "#ed7953"
             ],
             [
              0.7777777777777778,
              "#fb9f3a"
             ],
             [
              0.8888888888888888,
              "#fdca26"
             ],
             [
              1,
              "#f0f921"
             ]
            ],
            "type": "histogram2dcontour"
           }
          ],
          "mesh3d": [
           {
            "colorbar": {
             "outlinewidth": 0,
             "ticks": ""
            },
            "type": "mesh3d"
           }
          ],
          "parcoords": [
           {
            "line": {
             "colorbar": {
              "outlinewidth": 0,
              "ticks": ""
             }
            },
            "type": "parcoords"
           }
          ],
          "pie": [
           {
            "automargin": true,
            "type": "pie"
           }
          ],
          "scatter": [
           {
            "fillpattern": {
             "fillmode": "overlay",
             "size": 10,
             "solidity": 0.2
            },
            "type": "scatter"
           }
          ],
          "scatter3d": [
           {
            "line": {
             "colorbar": {
              "outlinewidth": 0,
              "ticks": ""
             }
            },
            "marker": {
             "colorbar": {
              "outlinewidth": 0,
              "ticks": ""
             }
            },
            "type": "scatter3d"
           }
          ],
          "scattercarpet": [
           {
            "marker": {
             "colorbar": {
              "outlinewidth": 0,
              "ticks": ""
             }
            },
            "type": "scattercarpet"
           }
          ],
          "scattergeo": [
           {
            "marker": {
             "colorbar": {
              "outlinewidth": 0,
              "ticks": ""
             }
            },
            "type": "scattergeo"
           }
          ],
          "scattergl": [
           {
            "marker": {
             "colorbar": {
              "outlinewidth": 0,
              "ticks": ""
             }
            },
            "type": "scattergl"
           }
          ],
          "scattermapbox": [
           {
            "marker": {
             "colorbar": {
              "outlinewidth": 0,
              "ticks": ""
             }
            },
            "type": "scattermapbox"
           }
          ],
          "scatterpolar": [
           {
            "marker": {
             "colorbar": {
              "outlinewidth": 0,
              "ticks": ""
             }
            },
            "type": "scatterpolar"
           }
          ],
          "scatterpolargl": [
           {
            "marker": {
             "colorbar": {
              "outlinewidth": 0,
              "ticks": ""
             }
            },
            "type": "scatterpolargl"
           }
          ],
          "scatterternary": [
           {
            "marker": {
             "colorbar": {
              "outlinewidth": 0,
              "ticks": ""
             }
            },
            "type": "scatterternary"
           }
          ],
          "surface": [
           {
            "colorbar": {
             "outlinewidth": 0,
             "ticks": ""
            },
            "colorscale": [
             [
              0,
              "#0d0887"
             ],
             [
              0.1111111111111111,
              "#46039f"
             ],
             [
              0.2222222222222222,
              "#7201a8"
             ],
             [
              0.3333333333333333,
              "#9c179e"
             ],
             [
              0.4444444444444444,
              "#bd3786"
             ],
             [
              0.5555555555555556,
              "#d8576b"
             ],
             [
              0.6666666666666666,
              "#ed7953"
             ],
             [
              0.7777777777777778,
              "#fb9f3a"
             ],
             [
              0.8888888888888888,
              "#fdca26"
             ],
             [
              1,
              "#f0f921"
             ]
            ],
            "type": "surface"
           }
          ],
          "table": [
           {
            "cells": {
             "fill": {
              "color": "#EBF0F8"
             },
             "line": {
              "color": "white"
             }
            },
            "header": {
             "fill": {
              "color": "#C8D4E3"
             },
             "line": {
              "color": "white"
             }
            },
            "type": "table"
           }
          ]
         },
         "layout": {
          "annotationdefaults": {
           "arrowcolor": "#2a3f5f",
           "arrowhead": 0,
           "arrowwidth": 1
          },
          "autotypenumbers": "strict",
          "coloraxis": {
           "colorbar": {
            "outlinewidth": 0,
            "ticks": ""
           }
          },
          "colorscale": {
           "diverging": [
            [
             0,
             "#8e0152"
            ],
            [
             0.1,
             "#c51b7d"
            ],
            [
             0.2,
             "#de77ae"
            ],
            [
             0.3,
             "#f1b6da"
            ],
            [
             0.4,
             "#fde0ef"
            ],
            [
             0.5,
             "#f7f7f7"
            ],
            [
             0.6,
             "#e6f5d0"
            ],
            [
             0.7,
             "#b8e186"
            ],
            [
             0.8,
             "#7fbc41"
            ],
            [
             0.9,
             "#4d9221"
            ],
            [
             1,
             "#276419"
            ]
           ],
           "sequential": [
            [
             0,
             "#0d0887"
            ],
            [
             0.1111111111111111,
             "#46039f"
            ],
            [
             0.2222222222222222,
             "#7201a8"
            ],
            [
             0.3333333333333333,
             "#9c179e"
            ],
            [
             0.4444444444444444,
             "#bd3786"
            ],
            [
             0.5555555555555556,
             "#d8576b"
            ],
            [
             0.6666666666666666,
             "#ed7953"
            ],
            [
             0.7777777777777778,
             "#fb9f3a"
            ],
            [
             0.8888888888888888,
             "#fdca26"
            ],
            [
             1,
             "#f0f921"
            ]
           ],
           "sequentialminus": [
            [
             0,
             "#0d0887"
            ],
            [
             0.1111111111111111,
             "#46039f"
            ],
            [
             0.2222222222222222,
             "#7201a8"
            ],
            [
             0.3333333333333333,
             "#9c179e"
            ],
            [
             0.4444444444444444,
             "#bd3786"
            ],
            [
             0.5555555555555556,
             "#d8576b"
            ],
            [
             0.6666666666666666,
             "#ed7953"
            ],
            [
             0.7777777777777778,
             "#fb9f3a"
            ],
            [
             0.8888888888888888,
             "#fdca26"
            ],
            [
             1,
             "#f0f921"
            ]
           ]
          },
          "colorway": [
           "#636efa",
           "#EF553B",
           "#00cc96",
           "#ab63fa",
           "#FFA15A",
           "#19d3f3",
           "#FF6692",
           "#B6E880",
           "#FF97FF",
           "#FECB52"
          ],
          "font": {
           "color": "#2a3f5f"
          },
          "geo": {
           "bgcolor": "white",
           "lakecolor": "white",
           "landcolor": "#E5ECF6",
           "showlakes": true,
           "showland": true,
           "subunitcolor": "white"
          },
          "hoverlabel": {
           "align": "left"
          },
          "hovermode": "closest",
          "mapbox": {
           "style": "light"
          },
          "paper_bgcolor": "white",
          "plot_bgcolor": "#E5ECF6",
          "polar": {
           "angularaxis": {
            "gridcolor": "white",
            "linecolor": "white",
            "ticks": ""
           },
           "bgcolor": "#E5ECF6",
           "radialaxis": {
            "gridcolor": "white",
            "linecolor": "white",
            "ticks": ""
           }
          },
          "scene": {
           "xaxis": {
            "backgroundcolor": "#E5ECF6",
            "gridcolor": "white",
            "gridwidth": 2,
            "linecolor": "white",
            "showbackground": true,
            "ticks": "",
            "zerolinecolor": "white"
           },
           "yaxis": {
            "backgroundcolor": "#E5ECF6",
            "gridcolor": "white",
            "gridwidth": 2,
            "linecolor": "white",
            "showbackground": true,
            "ticks": "",
            "zerolinecolor": "white"
           },
           "zaxis": {
            "backgroundcolor": "#E5ECF6",
            "gridcolor": "white",
            "gridwidth": 2,
            "linecolor": "white",
            "showbackground": true,
            "ticks": "",
            "zerolinecolor": "white"
           }
          },
          "shapedefaults": {
           "line": {
            "color": "#2a3f5f"
           }
          },
          "ternary": {
           "aaxis": {
            "gridcolor": "white",
            "linecolor": "white",
            "ticks": ""
           },
           "baxis": {
            "gridcolor": "white",
            "linecolor": "white",
            "ticks": ""
           },
           "bgcolor": "#E5ECF6",
           "caxis": {
            "gridcolor": "white",
            "linecolor": "white",
            "ticks": ""
           }
          },
          "title": {
           "x": 0.05
          },
          "xaxis": {
           "automargin": true,
           "gridcolor": "white",
           "linecolor": "white",
           "ticks": "",
           "title": {
            "standoff": 15
           },
           "zerolinecolor": "white",
           "zerolinewidth": 2
          },
          "yaxis": {
           "automargin": true,
           "gridcolor": "white",
           "linecolor": "white",
           "ticks": "",
           "title": {
            "standoff": 15
           },
           "zerolinecolor": "white",
           "zerolinewidth": 2
          }
         }
        },
        "xaxis": {
         "anchor": "y",
         "domain": [
          0,
          1
         ]
        },
        "yaxis": {
         "anchor": "x",
         "autorange": "reversed",
         "domain": [
          0,
          1
         ]
        }
       }
      }
     },
     "metadata": {},
     "output_type": "display_data"
    }
   ],
   "source": [
    "corr = patient_df.corr()\n",
    "fig = px.imshow(corr, text_auto=True, aspect=\"auto\")\n",
    "fig.show()"
   ]
  },
  {
   "cell_type": "code",
   "execution_count": 102,
   "metadata": {
    "scrolled": true
   },
   "outputs": [
    {
     "data": {
      "text/html": [
       "<style type=\"text/css\">\n",
       "#T_6355e_row0_col0, #T_6355e_row1_col1, #T_6355e_row2_col2, #T_6355e_row3_col3, #T_6355e_row4_col4, #T_6355e_row5_col5, #T_6355e_row6_col6, #T_6355e_row7_col7, #T_6355e_row8_col8, #T_6355e_row9_col9, #T_6355e_row10_col10, #T_6355e_row11_col11, #T_6355e_row12_col12, #T_6355e_row13_col13, #T_6355e_row14_col14, #T_6355e_row15_col15, #T_6355e_row16_col16, #T_6355e_row17_col17, #T_6355e_row18_col18, #T_6355e_row19_col19, #T_6355e_row20_col20, #T_6355e_row21_col21, #T_6355e_row22_col22, #T_6355e_row23_col23, #T_6355e_row24_col24, #T_6355e_row25_col25, #T_6355e_row26_col26, #T_6355e_row27_col27, #T_6355e_row28_col28, #T_6355e_row29_col29, #T_6355e_row30_col30, #T_6355e_row31_col31, #T_6355e_row32_col32 {\n",
       "  background-color: #fde725;\n",
       "  color: #000000;\n",
       "}\n",
       "#T_6355e_row0_col1, #T_6355e_row5_col14, #T_6355e_row10_col22, #T_6355e_row12_col22, #T_6355e_row17_col0, #T_6355e_row17_col25, #T_6355e_row20_col22, #T_6355e_row20_col25, #T_6355e_row25_col22, #T_6355e_row25_col23, #T_6355e_row30_col22, #T_6355e_row31_col5, #T_6355e_row32_col22, #T_6355e_row32_col23 {\n",
       "  background-color: #3d4e8a;\n",
       "  color: #f1f1f1;\n",
       "}\n",
       "#T_6355e_row0_col2, #T_6355e_row14_col28, #T_6355e_row19_col12 {\n",
       "  background-color: #423f85;\n",
       "  color: #f1f1f1;\n",
       "}\n",
       "#T_6355e_row0_col3, #T_6355e_row0_col19, #T_6355e_row18_col22, #T_6355e_row21_col0, #T_6355e_row27_col9, #T_6355e_row29_col5, #T_6355e_row31_col25 {\n",
       "  background-color: #25848e;\n",
       "  color: #f1f1f1;\n",
       "}\n",
       "#T_6355e_row0_col4, #T_6355e_row3_col10, #T_6355e_row5_col26, #T_6355e_row5_col28, #T_6355e_row9_col4, #T_6355e_row16_col27, #T_6355e_row21_col24, #T_6355e_row23_col2 {\n",
       "  background-color: #3e4989;\n",
       "  color: #f1f1f1;\n",
       "}\n",
       "#T_6355e_row0_col5, #T_6355e_row9_col31, #T_6355e_row11_col30, #T_6355e_row12_col32, #T_6355e_row13_col20, #T_6355e_row14_col5, #T_6355e_row15_col30, #T_6355e_row24_col21 {\n",
       "  background-color: #2a788e;\n",
       "  color: #f1f1f1;\n",
       "}\n",
       "#T_6355e_row0_col6, #T_6355e_row2_col5, #T_6355e_row6_col26, #T_6355e_row12_col29, #T_6355e_row14_col4, #T_6355e_row20_col3, #T_6355e_row23_col26, #T_6355e_row24_col28, #T_6355e_row28_col7, #T_6355e_row32_col0 {\n",
       "  background-color: #30698e;\n",
       "  color: #f1f1f1;\n",
       "}\n",
       "#T_6355e_row0_col7, #T_6355e_row1_col0, #T_6355e_row1_col4, #T_6355e_row3_col27, #T_6355e_row4_col22, #T_6355e_row4_col25, #T_6355e_row19_col13 {\n",
       "  background-color: #34618d;\n",
       "  color: #f1f1f1;\n",
       "}\n",
       "#T_6355e_row0_col8, #T_6355e_row1_col31, #T_6355e_row4_col3, #T_6355e_row6_col31, #T_6355e_row7_col31, #T_6355e_row8_col14, #T_6355e_row8_col27, #T_6355e_row9_col29, #T_6355e_row14_col29, #T_6355e_row16_col30, #T_6355e_row18_col12, #T_6355e_row18_col15, #T_6355e_row21_col11, #T_6355e_row22_col31, #T_6355e_row29_col14, #T_6355e_row29_col27, #T_6355e_row31_col14, #T_6355e_row31_col27 {\n",
       "  background-color: #46337f;\n",
       "  color: #f1f1f1;\n",
       "}\n",
       "#T_6355e_row0_col9, #T_6355e_row4_col2, #T_6355e_row9_col24, #T_6355e_row13_col31, #T_6355e_row17_col24, #T_6355e_row21_col4, #T_6355e_row28_col4 {\n",
       "  background-color: #375a8c;\n",
       "  color: #f1f1f1;\n",
       "}\n",
       "#T_6355e_row0_col10, #T_6355e_row0_col29, #T_6355e_row2_col6, #T_6355e_row2_col7, #T_6355e_row2_col11, #T_6355e_row3_col5, #T_6355e_row3_col13, #T_6355e_row4_col6, #T_6355e_row5_col3, #T_6355e_row5_col4, #T_6355e_row5_col9, #T_6355e_row13_col12, #T_6355e_row16_col15, #T_6355e_row16_col17, #T_6355e_row17_col2, #T_6355e_row17_col16, #T_6355e_row18_col19, #T_6355e_row18_col31, #T_6355e_row19_col8, #T_6355e_row19_col18, #T_6355e_row20_col0, #T_6355e_row20_col2, #T_6355e_row20_col21, #T_6355e_row21_col20, #T_6355e_row24_col14, #T_6355e_row24_col22, #T_6355e_row24_col23, #T_6355e_row24_col25, #T_6355e_row24_col26, #T_6355e_row25_col24, #T_6355e_row27_col28, #T_6355e_row28_col27, #T_6355e_row28_col30, #T_6355e_row28_col32, #T_6355e_row32_col1 {\n",
       "  background-color: #440154;\n",
       "  color: #f1f1f1;\n",
       "}\n",
       "#T_6355e_row0_col11, #T_6355e_row9_col5, #T_6355e_row16_col0, #T_6355e_row26_col0, #T_6355e_row29_col26, #T_6355e_row31_col26 {\n",
       "  background-color: #3f4788;\n",
       "  color: #f1f1f1;\n",
       "}\n",
       "#T_6355e_row0_col12 {\n",
       "  background-color: #450559;\n",
       "  color: #f1f1f1;\n",
       "}\n",
       "#T_6355e_row0_col13, #T_6355e_row5_col23, #T_6355e_row16_col22, #T_6355e_row16_col23, #T_6355e_row17_col1, #T_6355e_row19_col26, #T_6355e_row29_col1 {\n",
       "  background-color: #404688;\n",
       "  color: #f1f1f1;\n",
       "}\n",
       "#T_6355e_row0_col14, #T_6355e_row1_col27, #T_6355e_row2_col22, #T_6355e_row7_col26, #T_6355e_row10_col1, #T_6355e_row17_col9, #T_6355e_row32_col4 {\n",
       "  background-color: #424086;\n",
       "  color: #f1f1f1;\n",
       "}\n",
       "#T_6355e_row0_col15, #T_6355e_row1_col29, #T_6355e_row6_col27, #T_6355e_row7_col27, #T_6355e_row19_col28, #T_6355e_row20_col14, #T_6355e_row21_col6, #T_6355e_row22_col27, #T_6355e_row23_col27 {\n",
       "  background-color: #39568c;\n",
       "  color: #f1f1f1;\n",
       "}\n",
       "#T_6355e_row0_col16, #T_6355e_row1_col19, #T_6355e_row2_col27, #T_6355e_row9_col18, #T_6355e_row22_col0 {\n",
       "  background-color: #218e8d;\n",
       "  color: #f1f1f1;\n",
       "}\n",
       "#T_6355e_row0_col17, #T_6355e_row1_col18, #T_6355e_row4_col18, #T_6355e_row5_col19, #T_6355e_row6_col3, #T_6355e_row7_col20, #T_6355e_row8_col4, #T_6355e_row9_col19, #T_6355e_row11_col19, #T_6355e_row11_col29, #T_6355e_row15_col19, #T_6355e_row15_col23, #T_6355e_row15_col29, #T_6355e_row23_col20, #T_6355e_row27_col17, #T_6355e_row31_col4 {\n",
       "  background-color: #20928c;\n",
       "  color: #f1f1f1;\n",
       "}\n",
       "#T_6355e_row0_col18 {\n",
       "  background-color: #1e9c89;\n",
       "  color: #f1f1f1;\n",
       "}\n",
       "#T_6355e_row0_col20, #T_6355e_row2_col24, #T_6355e_row4_col16, #T_6355e_row14_col3, #T_6355e_row21_col13 {\n",
       "  background-color: #2e6d8e;\n",
       "  color: #f1f1f1;\n",
       "}\n",
       "#T_6355e_row0_col21, #T_6355e_row4_col17, #T_6355e_row8_col22 {\n",
       "  background-color: #2eb37c;\n",
       "  color: #f1f1f1;\n",
       "}\n",
       "#T_6355e_row0_col22, #T_6355e_row25_col3 {\n",
       "  background-color: #1f9e89;\n",
       "  color: #f1f1f1;\n",
       "}\n",
       "#T_6355e_row0_col23, #T_6355e_row1_col10, #T_6355e_row3_col11, #T_6355e_row5_col0, #T_6355e_row9_col1, #T_6355e_row9_col22, #T_6355e_row10_col25, #T_6355e_row12_col25, #T_6355e_row25_col32, #T_6355e_row30_col25 {\n",
       "  background-color: #3b528b;\n",
       "  color: #f1f1f1;\n",
       "}\n",
       "#T_6355e_row0_col24, #T_6355e_row2_col29, #T_6355e_row3_col24, #T_6355e_row10_col4, #T_6355e_row15_col3, #T_6355e_row19_col23, #T_6355e_row19_col29, #T_6355e_row25_col4, #T_6355e_row30_col4 {\n",
       "  background-color: #365d8d;\n",
       "  color: #f1f1f1;\n",
       "}\n",
       "#T_6355e_row0_col25, #T_6355e_row1_col22, #T_6355e_row9_col0, #T_6355e_row13_col27, #T_6355e_row20_col30, #T_6355e_row26_col13, #T_6355e_row32_col13 {\n",
       "  background-color: #365c8d;\n",
       "  color: #f1f1f1;\n",
       "}\n",
       "#T_6355e_row0_col26, #T_6355e_row2_col1, #T_6355e_row4_col15, #T_6355e_row4_col27, #T_6355e_row8_col3, #T_6355e_row16_col7, #T_6355e_row18_col2, #T_6355e_row20_col9, #T_6355e_row22_col7, #T_6355e_row23_col10, #T_6355e_row29_col3 {\n",
       "  background-color: #38588c;\n",
       "  color: #f1f1f1;\n",
       "}\n",
       "#T_6355e_row0_col27, #T_6355e_row1_col5, #T_6355e_row5_col22, #T_6355e_row6_col22, #T_6355e_row7_col22, #T_6355e_row7_col25, #T_6355e_row15_col5, #T_6355e_row18_col32, #T_6355e_row31_col9 {\n",
       "  background-color: #2a778e;\n",
       "  color: #f1f1f1;\n",
       "}\n",
       "#T_6355e_row0_col28, #T_6355e_row6_col12, #T_6355e_row7_col12, #T_6355e_row11_col2, #T_6355e_row13_col10, #T_6355e_row22_col12 {\n",
       "  background-color: #481668;\n",
       "  color: #f1f1f1;\n",
       "}\n",
       "#T_6355e_row0_col30, #T_6355e_row7_col24, #T_6355e_row17_col15, #T_6355e_row20_col8, #T_6355e_row25_col26 {\n",
       "  background-color: #32648e;\n",
       "  color: #f1f1f1;\n",
       "}\n",
       "#T_6355e_row0_col31, #T_6355e_row3_col2, #T_6355e_row11_col0, #T_6355e_row22_col6, #T_6355e_row25_col5 {\n",
       "  background-color: #3b518b;\n",
       "  color: #f1f1f1;\n",
       "}\n",
       "#T_6355e_row0_col32, #T_6355e_row18_col25, #T_6355e_row20_col29 {\n",
       "  background-color: #31678e;\n",
       "  color: #f1f1f1;\n",
       "}\n",
       "#T_6355e_row1_col2, #T_6355e_row1_col13, #T_6355e_row7_col0, #T_6355e_row12_col31, #T_6355e_row17_col11, #T_6355e_row18_col4, #T_6355e_row25_col31, #T_6355e_row28_col25 {\n",
       "  background-color: #306a8e;\n",
       "  color: #f1f1f1;\n",
       "}\n",
       "#T_6355e_row1_col3, #T_6355e_row1_col24, #T_6355e_row6_col0, #T_6355e_row10_col3, #T_6355e_row12_col3, #T_6355e_row19_col5, #T_6355e_row26_col3, #T_6355e_row32_col3 {\n",
       "  background-color: #2b758e;\n",
       "  color: #f1f1f1;\n",
       "}\n",
       "#T_6355e_row1_col6, #T_6355e_row3_col7, #T_6355e_row7_col32, #T_6355e_row8_col7, #T_6355e_row8_col15, #T_6355e_row13_col28, #T_6355e_row18_col7, #T_6355e_row22_col30, #T_6355e_row22_col32, #T_6355e_row23_col32, #T_6355e_row29_col7, #T_6355e_row31_col7, #T_6355e_row31_col15 {\n",
       "  background-color: #482878;\n",
       "  color: #f1f1f1;\n",
       "}\n",
       "#T_6355e_row1_col7, #T_6355e_row6_col10, #T_6355e_row7_col10, #T_6355e_row10_col27, #T_6355e_row11_col13, #T_6355e_row12_col27, #T_6355e_row15_col13, #T_6355e_row22_col10, #T_6355e_row26_col27, #T_6355e_row27_col8, #T_6355e_row30_col27, #T_6355e_row32_col27 {\n",
       "  background-color: #482677;\n",
       "  color: #f1f1f1;\n",
       "}\n",
       "#T_6355e_row1_col8, #T_6355e_row2_col32, #T_6355e_row3_col12, #T_6355e_row3_col14, #T_6355e_row11_col31, #T_6355e_row14_col24, #T_6355e_row15_col31, #T_6355e_row21_col7, #T_6355e_row31_col2 {\n",
       "  background-color: #443b84;\n",
       "  color: #f1f1f1;\n",
       "}\n",
       "#T_6355e_row1_col9, #T_6355e_row2_col23, #T_6355e_row2_col28, #T_6355e_row24_col11, #T_6355e_row28_col2, #T_6355e_row29_col2, #T_6355e_row30_col1 {\n",
       "  background-color: #33628d;\n",
       "  color: #f1f1f1;\n",
       "}\n",
       "#T_6355e_row1_col11, #T_6355e_row11_col27, #T_6355e_row15_col27, #T_6355e_row16_col29, #T_6355e_row28_col12, #T_6355e_row28_col14, #T_6355e_row30_col13 {\n",
       "  background-color: #453882;\n",
       "  color: #f1f1f1;\n",
       "}\n",
       "#T_6355e_row1_col12, #T_6355e_row2_col8, #T_6355e_row4_col0, #T_6355e_row6_col15, #T_6355e_row7_col15, #T_6355e_row9_col7, #T_6355e_row10_col30, #T_6355e_row10_col32, #T_6355e_row11_col6, #T_6355e_row11_col12, #T_6355e_row12_col30, #T_6355e_row13_col11, #T_6355e_row14_col7, #T_6355e_row15_col6, #T_6355e_row15_col12, #T_6355e_row17_col7, #T_6355e_row22_col1, #T_6355e_row22_col15, #T_6355e_row24_col15, #T_6355e_row25_col30, #T_6355e_row26_col30, #T_6355e_row26_col32, #T_6355e_row30_col32, #T_6355e_row32_col30 {\n",
       "  background-color: #482475;\n",
       "  color: #f1f1f1;\n",
       "}\n",
       "#T_6355e_row1_col14, #T_6355e_row9_col15, #T_6355e_row12_col2, #T_6355e_row13_col29, #T_6355e_row14_col15, #T_6355e_row19_col14, #T_6355e_row27_col1 {\n",
       "  background-color: #482576;\n",
       "  color: #f1f1f1;\n",
       "}\n",
       "#T_6355e_row1_col15, #T_6355e_row5_col8, #T_6355e_row11_col10, #T_6355e_row11_col32, #T_6355e_row15_col10, #T_6355e_row15_col11, #T_6355e_row15_col32, #T_6355e_row16_col8, #T_6355e_row19_col0, #T_6355e_row21_col14, #T_6355e_row24_col7 {\n",
       "  background-color: #463480;\n",
       "  color: #f1f1f1;\n",
       "}\n",
       "#T_6355e_row1_col16, #T_6355e_row9_col21, #T_6355e_row9_col27, #T_6355e_row14_col21, #T_6355e_row16_col19, #T_6355e_row17_col18, #T_6355e_row18_col17, #T_6355e_row19_col16 {\n",
       "  background-color: #24878e;\n",
       "  color: #f1f1f1;\n",
       "}\n",
       "#T_6355e_row1_col17, #T_6355e_row9_col20, #T_6355e_row14_col20, #T_6355e_row16_col18, #T_6355e_row17_col19, #T_6355e_row18_col16, #T_6355e_row19_col17, #T_6355e_row26_col8 {\n",
       "  background-color: #1f998a;\n",
       "  color: #f1f1f1;\n",
       "}\n",
       "#T_6355e_row1_col20, #T_6355e_row9_col16 {\n",
       "  background-color: #1f948c;\n",
       "  color: #f1f1f1;\n",
       "}\n",
       "#T_6355e_row1_col21, #T_6355e_row9_col17 {\n",
       "  background-color: #228c8d;\n",
       "  color: #f1f1f1;\n",
       "}\n",
       "#T_6355e_row1_col23, #T_6355e_row17_col29, #T_6355e_row20_col26, #T_6355e_row27_col13, #T_6355e_row28_col22, #T_6355e_row28_col23, #T_6355e_row31_col0 {\n",
       "  background-color: #3a538b;\n",
       "  color: #f1f1f1;\n",
       "}\n",
       "#T_6355e_row1_col25, #T_6355e_row5_col7, #T_6355e_row13_col4, #T_6355e_row20_col4, #T_6355e_row21_col5, #T_6355e_row23_col15, #T_6355e_row31_col3, #T_6355e_row32_col19 {\n",
       "  background-color: #2b748e;\n",
       "  color: #f1f1f1;\n",
       "}\n",
       "#T_6355e_row1_col26, #T_6355e_row16_col14, #T_6355e_row18_col23, #T_6355e_row18_col26, #T_6355e_row24_col29, #T_6355e_row27_col22, #T_6355e_row27_col23, #T_6355e_row30_col15 {\n",
       "  background-color: #2e6e8e;\n",
       "  color: #f1f1f1;\n",
       "}\n",
       "#T_6355e_row1_col28, #T_6355e_row14_col26, #T_6355e_row18_col6, #T_6355e_row18_col9, #T_6355e_row20_col15, #T_6355e_row24_col1, #T_6355e_row27_col6 {\n",
       "  background-color: #414487;\n",
       "  color: #f1f1f1;\n",
       "}\n",
       "#T_6355e_row1_col30, #T_6355e_row9_col26, #T_6355e_row13_col26, #T_6355e_row19_col25, #T_6355e_row27_col4 {\n",
       "  background-color: #2d708e;\n",
       "  color: #f1f1f1;\n",
       "}\n",
       "#T_6355e_row1_col32, #T_6355e_row3_col4, #T_6355e_row12_col1, #T_6355e_row22_col2 {\n",
       "  background-color: #481d6f;\n",
       "  color: #f1f1f1;\n",
       "}\n",
       "#T_6355e_row2_col0, #T_6355e_row5_col2, #T_6355e_row5_col15, #T_6355e_row8_col0, #T_6355e_row18_col11, #T_6355e_row20_col1 {\n",
       "  background-color: #433d84;\n",
       "  color: #f1f1f1;\n",
       "}\n",
       "#T_6355e_row2_col3, #T_6355e_row2_col10, #T_6355e_row9_col2, #T_6355e_row12_col4, #T_6355e_row18_col8, #T_6355e_row26_col4, #T_6355e_row27_col0 {\n",
       "  background-color: #2a768e;\n",
       "  color: #f1f1f1;\n",
       "}\n",
       "#T_6355e_row2_col4, #T_6355e_row10_col23, #T_6355e_row12_col23, #T_6355e_row18_col5, #T_6355e_row26_col23, #T_6355e_row28_col5, #T_6355e_row28_col17, #T_6355e_row29_col4, #T_6355e_row30_col23 {\n",
       "  background-color: #2c718e;\n",
       "  color: #f1f1f1;\n",
       "}\n",
       "#T_6355e_row2_col9, #T_6355e_row7_col28, #T_6355e_row8_col19, #T_6355e_row13_col24, #T_6355e_row20_col5, #T_6355e_row26_col25, #T_6355e_row30_col11, #T_6355e_row32_col25 {\n",
       "  background-color: #2c728e;\n",
       "  color: #f1f1f1;\n",
       "}\n",
       "#T_6355e_row2_col12, #T_6355e_row2_col30 {\n",
       "  background-color: #460a5d;\n",
       "  color: #f1f1f1;\n",
       "}\n",
       "#T_6355e_row2_col13, #T_6355e_row10_col24, #T_6355e_row12_col24, #T_6355e_row17_col22, #T_6355e_row17_col23, #T_6355e_row27_col3, #T_6355e_row30_col24, #T_6355e_row32_col24 {\n",
       "  background-color: #26828e;\n",
       "  color: #f1f1f1;\n",
       "}\n",
       "#T_6355e_row2_col14, #T_6355e_row4_col12, #T_6355e_row13_col0, #T_6355e_row16_col9, #T_6355e_row17_col12, #T_6355e_row21_col31, #T_6355e_row24_col2 {\n",
       "  background-color: #3c4f8a;\n",
       "  color: #f1f1f1;\n",
       "}\n",
       "#T_6355e_row2_col15, #T_6355e_row3_col30, #T_6355e_row9_col10, #T_6355e_row11_col1, #T_6355e_row14_col10, #T_6355e_row19_col6 {\n",
       "  background-color: #472a7a;\n",
       "  color: #f1f1f1;\n",
       "}\n",
       "#T_6355e_row2_col16, #T_6355e_row2_col21 {\n",
       "  background-color: #2fb47c;\n",
       "  color: #f1f1f1;\n",
       "}\n",
       "#T_6355e_row2_col17, #T_6355e_row2_col20, #T_6355e_row4_col26, #T_6355e_row5_col30, #T_6355e_row5_col32, #T_6355e_row16_col32, #T_6355e_row18_col27, #T_6355e_row21_col32 {\n",
       "  background-color: #2f6c8e;\n",
       "  color: #f1f1f1;\n",
       "}\n",
       "#T_6355e_row2_col18, #T_6355e_row4_col23, #T_6355e_row6_col18, #T_6355e_row11_col20, #T_6355e_row15_col20, #T_6355e_row23_col18 {\n",
       "  background-color: #1f968b;\n",
       "  color: #f1f1f1;\n",
       "}\n",
       "#T_6355e_row2_col19, #T_6355e_row5_col24, #T_6355e_row6_col19, #T_6355e_row11_col21, #T_6355e_row15_col21, #T_6355e_row20_col24, #T_6355e_row23_col19, #T_6355e_row29_col15 {\n",
       "  background-color: #238a8d;\n",
       "  color: #f1f1f1;\n",
       "}\n",
       "#T_6355e_row2_col25, #T_6355e_row8_col16, #T_6355e_row29_col16, #T_6355e_row29_col24, #T_6355e_row31_col16 {\n",
       "  background-color: #23898e;\n",
       "  color: #f1f1f1;\n",
       "}\n",
       "#T_6355e_row2_col26, #T_6355e_row6_col8, #T_6355e_row7_col8, #T_6355e_row8_col1, #T_6355e_row9_col30, #T_6355e_row9_col32, #T_6355e_row10_col9, #T_6355e_row10_col11, #T_6355e_row11_col15, #T_6355e_row12_col9, #T_6355e_row12_col11, #T_6355e_row23_col8, #T_6355e_row25_col11, #T_6355e_row26_col11, #T_6355e_row27_col29, #T_6355e_row30_col9, #T_6355e_row32_col9, #T_6355e_row32_col11 {\n",
       "  background-color: #472c7a;\n",
       "  color: #f1f1f1;\n",
       "}\n",
       "#T_6355e_row2_col31, #T_6355e_row6_col28, #T_6355e_row8_col9, #T_6355e_row8_col29, #T_6355e_row11_col8, #T_6355e_row14_col31, #T_6355e_row15_col8, #T_6355e_row22_col28, #T_6355e_row23_col28, #T_6355e_row25_col0, #T_6355e_row29_col9, #T_6355e_row31_col29 {\n",
       "  background-color: #453581;\n",
       "  color: #f1f1f1;\n",
       "}\n",
       "#T_6355e_row3_col0, #T_6355e_row18_col14, #T_6355e_row21_col23, #T_6355e_row21_col26, #T_6355e_row22_col4 {\n",
       "  background-color: #33638d;\n",
       "  color: #f1f1f1;\n",
       "}\n",
       "#T_6355e_row3_col1, #T_6355e_row11_col14, #T_6355e_row15_col14, #T_6355e_row21_col9, #T_6355e_row24_col0 {\n",
       "  background-color: #453781;\n",
       "  color: #f1f1f1;\n",
       "}\n",
       "#T_6355e_row3_col6, #T_6355e_row19_col30, #T_6355e_row20_col23 {\n",
       "  background-color: #31688e;\n",
       "  color: #f1f1f1;\n",
       "}\n",
       "#T_6355e_row3_col8, #T_6355e_row6_col13, #T_6355e_row7_col13, #T_6355e_row20_col6, #T_6355e_row22_col13, #T_6355e_row23_col13, #T_6355e_row24_col8 {\n",
       "  background-color: #481467;\n",
       "  color: #f1f1f1;\n",
       "}\n",
       "#T_6355e_row3_col9, #T_6355e_row6_col21, #T_6355e_row18_col20, #T_6355e_row19_col21, #T_6355e_row20_col18, #T_6355e_row21_col19, #T_6355e_row22_col21 {\n",
       "  background-color: #1fa088;\n",
       "  color: #f1f1f1;\n",
       "}\n",
       "#T_6355e_row3_col15, #T_6355e_row10_col13, #T_6355e_row12_col13, #T_6355e_row13_col7, #T_6355e_row16_col26 {\n",
       "  background-color: #470e61;\n",
       "  color: #f1f1f1;\n",
       "}\n",
       "#T_6355e_row3_col16, #T_6355e_row9_col23, #T_6355e_row9_col25, #T_6355e_row11_col4, #T_6355e_row13_col17, #T_6355e_row14_col22, #T_6355e_row14_col23, #T_6355e_row14_col25, #T_6355e_row15_col4 {\n",
       "  background-color: #287d8e;\n",
       "  color: #f1f1f1;\n",
       "}\n",
       "#T_6355e_row3_col17, #T_6355e_row13_col16 {\n",
       "  background-color: #20a386;\n",
       "  color: #f1f1f1;\n",
       "}\n",
       "#T_6355e_row3_col18, #T_6355e_row5_col21, #T_6355e_row24_col5 {\n",
       "  background-color: #21918c;\n",
       "  color: #f1f1f1;\n",
       "}\n",
       "#T_6355e_row3_col19, #T_6355e_row5_col20 {\n",
       "  background-color: #21908d;\n",
       "  color: #f1f1f1;\n",
       "}\n",
       "#T_6355e_row3_col20, #T_6355e_row13_col2, #T_6355e_row16_col2, #T_6355e_row21_col2 {\n",
       "  background-color: #23888e;\n",
       "  color: #f1f1f1;\n",
       "}\n",
       "#T_6355e_row3_col21, #T_6355e_row3_col25, #T_6355e_row7_col5 {\n",
       "  background-color: #1f988b;\n",
       "  color: #f1f1f1;\n",
       "}\n",
       "#T_6355e_row3_col22, #T_6355e_row3_col23, #T_6355e_row8_col23, #T_6355e_row11_col5, #T_6355e_row14_col2, #T_6355e_row17_col31, #T_6355e_row29_col22, #T_6355e_row29_col23, #T_6355e_row31_col22 {\n",
       "  background-color: #39558c;\n",
       "  color: #f1f1f1;\n",
       "}\n",
       "#T_6355e_row3_col26, #T_6355e_row4_col11, #T_6355e_row11_col25, #T_6355e_row15_col25, #T_6355e_row20_col28, #T_6355e_row21_col27, #T_6355e_row27_col24 {\n",
       "  background-color: #355e8d;\n",
       "  color: #f1f1f1;\n",
       "}\n",
       "#T_6355e_row3_col28, #T_6355e_row14_col27, #T_6355e_row25_col14, #T_6355e_row27_col5, #T_6355e_row29_col12, #T_6355e_row30_col14, #T_6355e_row31_col12, #T_6355e_row32_col14 {\n",
       "  background-color: #355f8d;\n",
       "  color: #f1f1f1;\n",
       "}\n",
       "#T_6355e_row3_col29, #T_6355e_row7_col1, #T_6355e_row9_col12, #T_6355e_row9_col13, #T_6355e_row13_col15, #T_6355e_row14_col12, #T_6355e_row14_col13, #T_6355e_row17_col13, #T_6355e_row31_col1 {\n",
       "  background-color: #481a6c;\n",
       "  color: #f1f1f1;\n",
       "}\n",
       "#T_6355e_row3_col31, #T_6355e_row3_col32, #T_6355e_row26_col6, #T_6355e_row27_col7, #T_6355e_row30_col6, #T_6355e_row32_col6 {\n",
       "  background-color: #3e4a89;\n",
       "  color: #f1f1f1;\n",
       "}\n",
       "#T_6355e_row4_col1, #T_6355e_row10_col8, #T_6355e_row10_col14, #T_6355e_row11_col28, #T_6355e_row12_col8, #T_6355e_row12_col14, #T_6355e_row15_col28, #T_6355e_row19_col27, #T_6355e_row21_col1, #T_6355e_row21_col15, #T_6355e_row25_col8, #T_6355e_row26_col14, #T_6355e_row27_col11, #T_6355e_row28_col1, #T_6355e_row30_col8, #T_6355e_row32_col8 {\n",
       "  background-color: #482979;\n",
       "  color: #f1f1f1;\n",
       "}\n",
       "#T_6355e_row4_col5, #T_6355e_row9_col6, #T_6355e_row14_col6, #T_6355e_row28_col13, #T_6355e_row28_col31 {\n",
       "  background-color: #481b6d;\n",
       "  color: #f1f1f1;\n",
       "}\n",
       "#T_6355e_row4_col7 {\n",
       "  background-color: #460b5e;\n",
       "  color: #f1f1f1;\n",
       "}\n",
       "#T_6355e_row4_col8, #T_6355e_row21_col22, #T_6355e_row25_col13 {\n",
       "  background-color: #297b8e;\n",
       "  color: #f1f1f1;\n",
       "}\n",
       "#T_6355e_row4_col9, #T_6355e_row8_col6, #T_6355e_row8_col12, #T_6355e_row12_col0, #T_6355e_row13_col14, #T_6355e_row17_col32, #T_6355e_row20_col32, #T_6355e_row27_col15, #T_6355e_row29_col6, #T_6355e_row31_col6 {\n",
       "  background-color: #481f70;\n",
       "  color: #f1f1f1;\n",
       "}\n",
       "#T_6355e_row4_col10, #T_6355e_row4_col30, #T_6355e_row5_col1, #T_6355e_row8_col31, #T_6355e_row11_col9, #T_6355e_row15_col9, #T_6355e_row18_col1, #T_6355e_row20_col27, #T_6355e_row29_col31 {\n",
       "  background-color: #443983;\n",
       "  color: #f1f1f1;\n",
       "}\n",
       "#T_6355e_row4_col13, #T_6355e_row4_col24, #T_6355e_row4_col29, #T_6355e_row6_col25, #T_6355e_row18_col24, #T_6355e_row19_col7, #T_6355e_row22_col25, #T_6355e_row23_col25, #T_6355e_row31_col13 {\n",
       "  background-color: #3a548c;\n",
       "  color: #f1f1f1;\n",
       "}\n",
       "#T_6355e_row4_col14 {\n",
       "  background-color: #3f4889;\n",
       "  color: #f1f1f1;\n",
       "}\n",
       "#T_6355e_row4_col19, #T_6355e_row5_col18, #T_6355e_row7_col21, #T_6355e_row11_col18, #T_6355e_row15_col18, #T_6355e_row23_col21, #T_6355e_row27_col2, #T_6355e_row27_col16, #T_6355e_row29_col11 {\n",
       "  background-color: #218f8d;\n",
       "  color: #f1f1f1;\n",
       "}\n",
       "#T_6355e_row4_col20, #T_6355e_row16_col20, #T_6355e_row17_col21, #T_6355e_row20_col16, #T_6355e_row21_col17, #T_6355e_row27_col21, #T_6355e_row28_col20 {\n",
       "  background-color: #1f9a8a;\n",
       "  color: #f1f1f1;\n",
       "}\n",
       "#T_6355e_row4_col21, #T_6355e_row16_col21, #T_6355e_row16_col25, #T_6355e_row17_col20, #T_6355e_row20_col17, #T_6355e_row21_col16, #T_6355e_row21_col25, #T_6355e_row27_col20, #T_6355e_row28_col21 {\n",
       "  background-color: #24868e;\n",
       "  color: #f1f1f1;\n",
       "}\n",
       "#T_6355e_row4_col28, #T_6355e_row16_col31, #T_6355e_row19_col15, #T_6355e_row21_col28, #T_6355e_row24_col27, #T_6355e_row27_col26 {\n",
       "  background-color: #443a83;\n",
       "  color: #f1f1f1;\n",
       "}\n",
       "#T_6355e_row4_col31, #T_6355e_row16_col28 {\n",
       "  background-color: #277f8e;\n",
       "  color: #f1f1f1;\n",
       "}\n",
       "#T_6355e_row4_col32, #T_6355e_row10_col6, #T_6355e_row12_col6, #T_6355e_row25_col6, #T_6355e_row28_col0 {\n",
       "  background-color: #471365;\n",
       "  color: #f1f1f1;\n",
       "}\n",
       "#T_6355e_row5_col6, #T_6355e_row8_col10, #T_6355e_row9_col11, #T_6355e_row9_col14, #T_6355e_row14_col11, #T_6355e_row16_col4, #T_6355e_row17_col5, #T_6355e_row24_col9, #T_6355e_row29_col10, #T_6355e_row31_col10 {\n",
       "  background-color: #472f7d;\n",
       "  color: #f1f1f1;\n",
       "}\n",
       "#T_6355e_row5_col10, #T_6355e_row6_col23, #T_6355e_row7_col23, #T_6355e_row16_col10, #T_6355e_row17_col8, #T_6355e_row17_col27, #T_6355e_row20_col12, #T_6355e_row21_col10, #T_6355e_row22_col23, #T_6355e_row23_col22, #T_6355e_row24_col4, #T_6355e_row24_col6, #T_6355e_row25_col7, #T_6355e_row25_col27, #T_6355e_row30_col7 {\n",
       "  background-color: #3c508b;\n",
       "  color: #f1f1f1;\n",
       "}\n",
       "#T_6355e_row5_col11, #T_6355e_row5_col31, #T_6355e_row14_col1, #T_6355e_row16_col11, #T_6355e_row17_col28, #T_6355e_row19_col32, #T_6355e_row22_col24, #T_6355e_row23_col24, #T_6355e_row27_col12, #T_6355e_row28_col15 {\n",
       "  background-color: #470d60;\n",
       "  color: #f1f1f1;\n",
       "}\n",
       "#T_6355e_row5_col12, #T_6355e_row10_col15, #T_6355e_row12_col15, #T_6355e_row13_col9, #T_6355e_row16_col12, #T_6355e_row25_col15, #T_6355e_row26_col15, #T_6355e_row27_col30, #T_6355e_row27_col32, #T_6355e_row32_col15 {\n",
       "  background-color: #482173;\n",
       "  color: #f1f1f1;\n",
       "}\n",
       "#T_6355e_row5_col13, #T_6355e_row7_col3, #T_6355e_row12_col5, #T_6355e_row15_col0, #T_6355e_row16_col13, #T_6355e_row22_col3, #T_6355e_row23_col3, #T_6355e_row23_col9, #T_6355e_row24_col3, #T_6355e_row24_col30, #T_6355e_row24_col32, #T_6355e_row26_col5, #T_6355e_row26_col16, #T_6355e_row30_col0 {\n",
       "  background-color: #31668e;\n",
       "  color: #f1f1f1;\n",
       "}\n",
       "#T_6355e_row5_col16 {\n",
       "  background-color: #42be71;\n",
       "  color: #f1f1f1;\n",
       "}\n",
       "#T_6355e_row5_col17, #T_6355e_row5_col29, #T_6355e_row13_col1, #T_6355e_row13_col32, #T_6355e_row14_col30, #T_6355e_row14_col32, #T_6355e_row15_col24, #T_6355e_row17_col6, #T_6355e_row18_col0, #T_6355e_row25_col9, #T_6355e_row26_col9, #T_6355e_row30_col3 {\n",
       "  background-color: #34608d;\n",
       "  color: #f1f1f1;\n",
       "}\n",
       "#T_6355e_row5_col25, #T_6355e_row6_col4, #T_6355e_row7_col4, #T_6355e_row13_col22, #T_6355e_row13_col23, #T_6355e_row14_col0 {\n",
       "  background-color: #404588;\n",
       "  color: #f1f1f1;\n",
       "}\n",
       "#T_6355e_row5_col27, #T_6355e_row6_col11, #T_6355e_row6_col14, #T_6355e_row7_col11, #T_6355e_row7_col14, #T_6355e_row11_col7, #T_6355e_row15_col7, #T_6355e_row18_col29, #T_6355e_row22_col11, #T_6355e_row23_col11 {\n",
       "  background-color: #472d7b;\n",
       "  color: #f1f1f1;\n",
       "}\n",
       "#T_6355e_row6_col1, #T_6355e_row12_col10, #T_6355e_row18_col30, #T_6355e_row25_col10, #T_6355e_row26_col10, #T_6355e_row30_col10, #T_6355e_row32_col10 {\n",
       "  background-color: #482374;\n",
       "  color: #f1f1f1;\n",
       "}\n",
       "#T_6355e_row6_col2, #T_6355e_row6_col7, #T_6355e_row8_col13, #T_6355e_row13_col8, #T_6355e_row16_col1, #T_6355e_row18_col13, #T_6355e_row21_col12, #T_6355e_row21_col29, #T_6355e_row23_col7, #T_6355e_row26_col24, #T_6355e_row27_col10, #T_6355e_row28_col26, #T_6355e_row29_col13, #T_6355e_row29_col28, #T_6355e_row31_col28 {\n",
       "  background-color: #482071;\n",
       "  color: #f1f1f1;\n",
       "}\n",
       "#T_6355e_row6_col5, #T_6355e_row27_col25, #T_6355e_row31_col18, #T_6355e_row32_col12 {\n",
       "  background-color: #2e6f8e;\n",
       "  color: #f1f1f1;\n",
       "}\n",
       "#T_6355e_row6_col9, #T_6355e_row7_col9, #T_6355e_row9_col8, #T_6355e_row10_col29, #T_6355e_row14_col8, #T_6355e_row19_col1, #T_6355e_row22_col9, #T_6355e_row25_col29, #T_6355e_row26_col29, #T_6355e_row27_col31, #T_6355e_row30_col29, #T_6355e_row32_col29 {\n",
       "  background-color: #472e7c;\n",
       "  color: #f1f1f1;\n",
       "}\n",
       "#T_6355e_row6_col16, #T_6355e_row6_col24, #T_6355e_row16_col24, #T_6355e_row22_col16, #T_6355e_row23_col16, #T_6355e_row25_col17, #T_6355e_row25_col20, #T_6355e_row32_col17, #T_6355e_row32_col20 {\n",
       "  background-color: #287c8e;\n",
       "  color: #f1f1f1;\n",
       "}\n",
       "#T_6355e_row6_col17, #T_6355e_row22_col17, #T_6355e_row23_col17, #T_6355e_row25_col16, #T_6355e_row25_col21, #T_6355e_row32_col16, #T_6355e_row32_col21 {\n",
       "  background-color: #20a486;\n",
       "  color: #f1f1f1;\n",
       "}\n",
       "#T_6355e_row6_col20, #T_6355e_row18_col21, #T_6355e_row19_col20, #T_6355e_row19_col24, #T_6355e_row19_col31, #T_6355e_row20_col19, #T_6355e_row21_col18, #T_6355e_row22_col20, #T_6355e_row28_col3, #T_6355e_row28_col24 {\n",
       "  background-color: #26818e;\n",
       "  color: #f1f1f1;\n",
       "}\n",
       "#T_6355e_row6_col29, #T_6355e_row7_col29, #T_6355e_row8_col30, #T_6355e_row8_col32, #T_6355e_row10_col31, #T_6355e_row15_col1, #T_6355e_row22_col29, #T_6355e_row23_col0, #T_6355e_row23_col29, #T_6355e_row26_col31, #T_6355e_row29_col30, #T_6355e_row29_col32, #T_6355e_row30_col31, #T_6355e_row31_col30, #T_6355e_row31_col32, #T_6355e_row32_col31 {\n",
       "  background-color: #46307e;\n",
       "  color: #f1f1f1;\n",
       "}\n",
       "#T_6355e_row6_col30, #T_6355e_row6_col32, #T_6355e_row7_col30, #T_6355e_row11_col22, #T_6355e_row11_col23, #T_6355e_row15_col22, #T_6355e_row23_col5, #T_6355e_row23_col30, #T_6355e_row27_col14 {\n",
       "  background-color: #38598c;\n",
       "  color: #f1f1f1;\n",
       "}\n",
       "#T_6355e_row7_col2, #T_6355e_row7_col6, #T_6355e_row17_col14, #T_6355e_row23_col1, #T_6355e_row23_col6, #T_6355e_row26_col2, #T_6355e_row28_col29 {\n",
       "  background-color: #481769;\n",
       "  color: #f1f1f1;\n",
       "}\n",
       "#T_6355e_row7_col16, #T_6355e_row24_col16, #T_6355e_row26_col18, #T_6355e_row29_col19 {\n",
       "  background-color: #1e9d89;\n",
       "  color: #f1f1f1;\n",
       "}\n",
       "#T_6355e_row7_col17, #T_6355e_row11_col24, #T_6355e_row22_col5, #T_6355e_row24_col17, #T_6355e_row26_col19, #T_6355e_row29_col18 {\n",
       "  background-color: #25838e;\n",
       "  color: #f1f1f1;\n",
       "}\n",
       "#T_6355e_row7_col18, #T_6355e_row12_col16, #T_6355e_row12_col21, #T_6355e_row30_col16, #T_6355e_row30_col21, #T_6355e_row31_col23 {\n",
       "  background-color: #25858e;\n",
       "  color: #f1f1f1;\n",
       "}\n",
       "#T_6355e_row7_col19, #T_6355e_row12_col17, #T_6355e_row12_col20, #T_6355e_row30_col17, #T_6355e_row30_col20 {\n",
       "  background-color: #1e9b8a;\n",
       "  color: #f1f1f1;\n",
       "}\n",
       "#T_6355e_row8_col2, #T_6355e_row8_col11, #T_6355e_row14_col9, #T_6355e_row21_col30, #T_6355e_row29_col8, #T_6355e_row31_col8, #T_6355e_row31_col11 {\n",
       "  background-color: #46327e;\n",
       "  color: #f1f1f1;\n",
       "}\n",
       "#T_6355e_row8_col5 {\n",
       "  background-color: #2f6b8e;\n",
       "  color: #f1f1f1;\n",
       "}\n",
       "#T_6355e_row8_col17, #T_6355e_row17_col4, #T_6355e_row17_col26, #T_6355e_row23_col4, #T_6355e_row29_col17, #T_6355e_row31_col17 {\n",
       "  background-color: #1f978b;\n",
       "  color: #f1f1f1;\n",
       "}\n",
       "#T_6355e_row8_col18 {\n",
       "  background-color: #27ad81;\n",
       "  color: #f1f1f1;\n",
       "}\n",
       "#T_6355e_row8_col20, #T_6355e_row22_col8, #T_6355e_row27_col18, #T_6355e_row29_col20, #T_6355e_row30_col19 {\n",
       "  background-color: #1fa287;\n",
       "  color: #f1f1f1;\n",
       "}\n",
       "#T_6355e_row8_col21, #T_6355e_row21_col3, #T_6355e_row27_col19, #T_6355e_row29_col21, #T_6355e_row30_col18 {\n",
       "  background-color: #277e8e;\n",
       "  color: #f1f1f1;\n",
       "}\n",
       "#T_6355e_row8_col24, #T_6355e_row8_col28, #T_6355e_row11_col26, #T_6355e_row12_col28, #T_6355e_row13_col3, #T_6355e_row15_col26, #T_6355e_row19_col9, #T_6355e_row20_col11, #T_6355e_row23_col12, #T_6355e_row25_col28, #T_6355e_row31_col24 {\n",
       "  background-color: #3e4c8a;\n",
       "  color: #f1f1f1;\n",
       "}\n",
       "#T_6355e_row8_col25, #T_6355e_row16_col3, #T_6355e_row17_col30, #T_6355e_row24_col12, #T_6355e_row29_col25 {\n",
       "  background-color: #375b8d;\n",
       "  color: #f1f1f1;\n",
       "}\n",
       "#T_6355e_row8_col26 {\n",
       "  background-color: #21a585;\n",
       "  color: #f1f1f1;\n",
       "}\n",
       "#T_6355e_row9_col3 {\n",
       "  background-color: #32b67a;\n",
       "  color: #f1f1f1;\n",
       "}\n",
       "#T_6355e_row9_col28, #T_6355e_row28_col11 {\n",
       "  background-color: #48186a;\n",
       "  color: #f1f1f1;\n",
       "}\n",
       "#T_6355e_row10_col0, #T_6355e_row16_col6 {\n",
       "  background-color: #46075a;\n",
       "  color: #f1f1f1;\n",
       "}\n",
       "#T_6355e_row10_col2, #T_6355e_row10_col5, #T_6355e_row14_col17, #T_6355e_row22_col19 {\n",
       "  background-color: #297a8e;\n",
       "  color: #f1f1f1;\n",
       "}\n",
       "#T_6355e_row10_col7, #T_6355e_row12_col7, #T_6355e_row21_col8, #T_6355e_row24_col31, #T_6355e_row26_col7, #T_6355e_row28_col6, #T_6355e_row32_col7 {\n",
       "  background-color: #481c6e;\n",
       "  color: #f1f1f1;\n",
       "}\n",
       "#T_6355e_row10_col12, #T_6355e_row25_col12, #T_6355e_row26_col12, #T_6355e_row28_col9, #T_6355e_row30_col2, #T_6355e_row30_col12 {\n",
       "  background-color: #471164;\n",
       "  color: #f1f1f1;\n",
       "}\n",
       "#T_6355e_row10_col16, #T_6355e_row10_col21, #T_6355e_row13_col25, #T_6355e_row26_col21, #T_6355e_row28_col19 {\n",
       "  background-color: #1f958b;\n",
       "  color: #f1f1f1;\n",
       "}\n",
       "#T_6355e_row10_col17, #T_6355e_row10_col20, #T_6355e_row13_col5, #T_6355e_row17_col3, #T_6355e_row26_col20, #T_6355e_row28_col18 {\n",
       "  background-color: #228b8d;\n",
       "  color: #f1f1f1;\n",
       "}\n",
       "#T_6355e_row10_col18, #T_6355e_row12_col18, #T_6355e_row25_col18, #T_6355e_row30_col5, #T_6355e_row31_col20, #T_6355e_row32_col5 {\n",
       "  background-color: #228d8d;\n",
       "  color: #f1f1f1;\n",
       "}\n",
       "#T_6355e_row10_col19, #T_6355e_row12_col19, #T_6355e_row25_col19, #T_6355e_row31_col21 {\n",
       "  background-color: #20938c;\n",
       "  color: #f1f1f1;\n",
       "}\n",
       "#T_6355e_row10_col26, #T_6355e_row12_col26, #T_6355e_row13_col30, #T_6355e_row17_col10, #T_6355e_row20_col10, #T_6355e_row30_col26, #T_6355e_row32_col26 {\n",
       "  background-color: #433e85;\n",
       "  color: #f1f1f1;\n",
       "}\n",
       "#T_6355e_row10_col28, #T_6355e_row31_col19 {\n",
       "  background-color: #2cb17e;\n",
       "  color: #f1f1f1;\n",
       "}\n",
       "#T_6355e_row11_col3, #T_6355e_row13_col18, #T_6355e_row14_col19, #T_6355e_row24_col18 {\n",
       "  background-color: #27808e;\n",
       "  color: #f1f1f1;\n",
       "}\n",
       "#T_6355e_row11_col16, #T_6355e_row15_col16 {\n",
       "  background-color: #29798e;\n",
       "  color: #f1f1f1;\n",
       "}\n",
       "#T_6355e_row11_col17, #T_6355e_row15_col17 {\n",
       "  background-color: #22a785;\n",
       "  color: #f1f1f1;\n",
       "}\n",
       "#T_6355e_row13_col6 {\n",
       "  background-color: #450457;\n",
       "  color: #f1f1f1;\n",
       "}\n",
       "#T_6355e_row13_col19, #T_6355e_row14_col18, #T_6355e_row24_col19 {\n",
       "  background-color: #1fa188;\n",
       "  color: #f1f1f1;\n",
       "}\n",
       "#T_6355e_row13_col21, #T_6355e_row24_col20 {\n",
       "  background-color: #22a884;\n",
       "  color: #f1f1f1;\n",
       "}\n",
       "#T_6355e_row14_col16, #T_6355e_row22_col18 {\n",
       "  background-color: #21a685;\n",
       "  color: #f1f1f1;\n",
       "}\n",
       "#T_6355e_row15_col2, #T_6355e_row18_col28, #T_6355e_row19_col11, #T_6355e_row19_col22, #T_6355e_row20_col31, #T_6355e_row25_col1 {\n",
       "  background-color: #414287;\n",
       "  color: #f1f1f1;\n",
       "}\n",
       "#T_6355e_row16_col5, #T_6355e_row28_col16 {\n",
       "  background-color: #28ae80;\n",
       "  color: #f1f1f1;\n",
       "}\n",
       "#T_6355e_row18_col3, #T_6355e_row19_col3, #T_6355e_row25_col2 {\n",
       "  background-color: #2c738e;\n",
       "  color: #f1f1f1;\n",
       "}\n",
       "#T_6355e_row18_col10, #T_6355e_row19_col2, #T_6355e_row20_col7, #T_6355e_row28_col8, #T_6355e_row32_col2 {\n",
       "  background-color: #424186;\n",
       "  color: #f1f1f1;\n",
       "}\n",
       "#T_6355e_row19_col4, #T_6355e_row22_col14, #T_6355e_row23_col14, #T_6355e_row24_col10 {\n",
       "  background-color: #32658e;\n",
       "  color: #f1f1f1;\n",
       "}\n",
       "#T_6355e_row19_col10, #T_6355e_row24_col13, #T_6355e_row26_col1 {\n",
       "  background-color: #3d4d8a;\n",
       "  color: #f1f1f1;\n",
       "}\n",
       "#T_6355e_row20_col13 {\n",
       "  background-color: #471063;\n",
       "  color: #f1f1f1;\n",
       "}\n",
       "#T_6355e_row22_col26 {\n",
       "  background-color: #2ab07f;\n",
       "  color: #f1f1f1;\n",
       "}\n",
       "#T_6355e_row23_col31 {\n",
       "  background-color: #2d718e;\n",
       "  color: #f1f1f1;\n",
       "}\n",
       "#T_6355e_row26_col17 {\n",
       "  background-color: #38b977;\n",
       "  color: #f1f1f1;\n",
       "}\n",
       "#T_6355e_row26_col22 {\n",
       "  background-color: #31b57b;\n",
       "  color: #f1f1f1;\n",
       "}\n",
       "#T_6355e_row26_col28, #T_6355e_row29_col0, #T_6355e_row30_col28, #T_6355e_row32_col28 {\n",
       "  background-color: #46085c;\n",
       "  color: #f1f1f1;\n",
       "}\n",
       "#T_6355e_row28_col10 {\n",
       "  background-color: #29af7f;\n",
       "  color: #f1f1f1;\n",
       "}\n",
       "#T_6355e_row32_col18 {\n",
       "  background-color: #25ac82;\n",
       "  color: #f1f1f1;\n",
       "}\n",
       "</style>\n",
       "<table id=\"T_6355e\">\n",
       "  <thead>\n",
       "    <tr>\n",
       "      <th class=\"blank level0\" >&nbsp;</th>\n",
       "      <th id=\"T_6355e_level0_col0\" class=\"col_heading level0 col0\" >closest_hospital</th>\n",
       "      <th id=\"T_6355e_level0_col1\" class=\"col_heading level0 col1\" >height</th>\n",
       "      <th id=\"T_6355e_level0_col2\" class=\"col_heading level0 col2\" >weight</th>\n",
       "      <th id=\"T_6355e_level0_col3\" class=\"col_heading level0 col3\" >community_rural</th>\n",
       "      <th id=\"T_6355e_level0_col4\" class=\"col_heading level0 col4\" >community_suburban</th>\n",
       "      <th id=\"T_6355e_level0_col5\" class=\"col_heading level0 col5\" >community_urban</th>\n",
       "      <th id=\"T_6355e_level0_col6\" class=\"col_heading level0 col6\" >disabilities_alzheimer's</th>\n",
       "      <th id=\"T_6355e_level0_col7\" class=\"col_heading level0 col7\" >disabilities_amnesia</th>\n",
       "      <th id=\"T_6355e_level0_col8\" class=\"col_heading level0 col8\" >disabilities_arthritis</th>\n",
       "      <th id=\"T_6355e_level0_col9\" class=\"col_heading level0 col9\" >disabilities_atherosclerosis</th>\n",
       "      <th id=\"T_6355e_level0_col10\" class=\"col_heading level0 col10\" >disabilities_cyclothimic disorder</th>\n",
       "      <th id=\"T_6355e_level0_col11\" class=\"col_heading level0 col11\" >disabilities_delirium</th>\n",
       "      <th id=\"T_6355e_level0_col12\" class=\"col_heading level0 col12\" >disabilities_fibromas</th>\n",
       "      <th id=\"T_6355e_level0_col13\" class=\"col_heading level0 col13\" >disabilities_none</th>\n",
       "      <th id=\"T_6355e_level0_col14\" class=\"col_heading level0 col14\" >disabilities_ruptured discs</th>\n",
       "      <th id=\"T_6355e_level0_col15\" class=\"col_heading level0 col15\" >disabilities_scoliosis</th>\n",
       "      <th id=\"T_6355e_level0_col16\" class=\"col_heading level0 col16\" >gender_Female</th>\n",
       "      <th id=\"T_6355e_level0_col17\" class=\"col_heading level0 col17\" >gender_Male</th>\n",
       "      <th id=\"T_6355e_level0_col18\" class=\"col_heading level0 col18\" >has_children_No</th>\n",
       "      <th id=\"T_6355e_level0_col19\" class=\"col_heading level0 col19\" >has_children_Yes</th>\n",
       "      <th id=\"T_6355e_level0_col20\" class=\"col_heading level0 col20\" >has_dependent_No</th>\n",
       "      <th id=\"T_6355e_level0_col21\" class=\"col_heading level0 col21\" >has_dependent_Yes</th>\n",
       "      <th id=\"T_6355e_level0_col22\" class=\"col_heading level0 col22\" >marital_status_divorced</th>\n",
       "      <th id=\"T_6355e_level0_col23\" class=\"col_heading level0 col23\" >marital_status_married</th>\n",
       "      <th id=\"T_6355e_level0_col24\" class=\"col_heading level0 col24\" >marital_status_single</th>\n",
       "      <th id=\"T_6355e_level0_col25\" class=\"col_heading level0 col25\" >marital_status_widowed</th>\n",
       "      <th id=\"T_6355e_level0_col26\" class=\"col_heading level0 col26\" >medical_problems_drug addiction</th>\n",
       "      <th id=\"T_6355e_level0_col27\" class=\"col_heading level0 col27\" >medical_problems_mental issue</th>\n",
       "      <th id=\"T_6355e_level0_col28\" class=\"col_heading level0 col28\" >medical_problems_none</th>\n",
       "      <th id=\"T_6355e_level0_col29\" class=\"col_heading level0 col29\" >medical_problems_not immunized</th>\n",
       "      <th id=\"T_6355e_level0_col30\" class=\"col_heading level0 col30\" >medical_problems_overweight</th>\n",
       "      <th id=\"T_6355e_level0_col31\" class=\"col_heading level0 col31\" >medical_problems_physical injury</th>\n",
       "      <th id=\"T_6355e_level0_col32\" class=\"col_heading level0 col32\" >medical_problems_underweight</th>\n",
       "    </tr>\n",
       "  </thead>\n",
       "  <tbody>\n",
       "    <tr>\n",
       "      <th id=\"T_6355e_level0_row0\" class=\"row_heading level0 row0\" >closest_hospital</th>\n",
       "      <td id=\"T_6355e_row0_col0\" class=\"data row0 col0\" >1.000000</td>\n",
       "      <td id=\"T_6355e_row0_col1\" class=\"data row0 col1\" >0.104090</td>\n",
       "      <td id=\"T_6355e_row0_col2\" class=\"data row0 col2\" >-0.063741</td>\n",
       "      <td id=\"T_6355e_row0_col3\" class=\"data row0 col3\" >0.112516</td>\n",
       "      <td id=\"T_6355e_row0_col4\" class=\"data row0 col4\" >-0.163756</td>\n",
       "      <td id=\"T_6355e_row0_col5\" class=\"data row0 col5\" >0.033963</td>\n",
       "      <td id=\"T_6355e_row0_col6\" class=\"data row0 col6\" >0.212208</td>\n",
       "      <td id=\"T_6355e_row0_col7\" class=\"data row0 col7\" >0.147861</td>\n",
       "      <td id=\"T_6355e_row0_col8\" class=\"data row0 col8\" >-0.062598</td>\n",
       "      <td id=\"T_6355e_row0_col9\" class=\"data row0 col9\" >0.080934</td>\n",
       "      <td id=\"T_6355e_row0_col10\" class=\"data row0 col10\" >-0.270067</td>\n",
       "      <td id=\"T_6355e_row0_col11\" class=\"data row0 col11\" >0.031370</td>\n",
       "      <td id=\"T_6355e_row0_col12\" class=\"data row0 col12\" >-0.180888</td>\n",
       "      <td id=\"T_6355e_row0_col13\" class=\"data row0 col13\" >0.016761</td>\n",
       "      <td id=\"T_6355e_row0_col14\" class=\"data row0 col14\" >-0.025717</td>\n",
       "      <td id=\"T_6355e_row0_col15\" class=\"data row0 col15\" >0.129661</td>\n",
       "      <td id=\"T_6355e_row0_col16\" class=\"data row0 col16\" >-0.015920</td>\n",
       "      <td id=\"T_6355e_row0_col17\" class=\"data row0 col17\" >0.015920</td>\n",
       "      <td id=\"T_6355e_row0_col18\" class=\"data row0 col18\" >0.098979</td>\n",
       "      <td id=\"T_6355e_row0_col19\" class=\"data row0 col19\" >-0.098979</td>\n",
       "      <td id=\"T_6355e_row0_col20\" class=\"data row0 col20\" >-0.290904</td>\n",
       "      <td id=\"T_6355e_row0_col21\" class=\"data row0 col21\" >0.290904</td>\n",
       "      <td id=\"T_6355e_row0_col22\" class=\"data row0 col22\" >0.340902</td>\n",
       "      <td id=\"T_6355e_row0_col23\" class=\"data row0 col23\" >-0.109527</td>\n",
       "      <td id=\"T_6355e_row0_col24\" class=\"data row0 col24\" >-0.085966</td>\n",
       "      <td id=\"T_6355e_row0_col25\" class=\"data row0 col25\" >-0.091709</td>\n",
       "      <td id=\"T_6355e_row0_col26\" class=\"data row0 col26\" >-0.017393</td>\n",
       "      <td id=\"T_6355e_row0_col27\" class=\"data row0 col27\" >0.215494</td>\n",
       "      <td id=\"T_6355e_row0_col28\" class=\"data row0 col28\" >-0.228055</td>\n",
       "      <td id=\"T_6355e_row0_col29\" class=\"data row0 col29\" >-0.265502</td>\n",
       "      <td id=\"T_6355e_row0_col30\" class=\"data row0 col30\" >0.131238</td>\n",
       "      <td id=\"T_6355e_row0_col31\" class=\"data row0 col31\" >0.038854</td>\n",
       "      <td id=\"T_6355e_row0_col32\" class=\"data row0 col32\" >0.146102</td>\n",
       "    </tr>\n",
       "    <tr>\n",
       "      <th id=\"T_6355e_level0_row1\" class=\"row_heading level0 row1\" >height</th>\n",
       "      <td id=\"T_6355e_row1_col0\" class=\"data row1 col0\" >0.104090</td>\n",
       "      <td id=\"T_6355e_row1_col1\" class=\"data row1 col1\" >1.000000</td>\n",
       "      <td id=\"T_6355e_row1_col2\" class=\"data row1 col2\" >0.143757</td>\n",
       "      <td id=\"T_6355e_row1_col3\" class=\"data row1 col3\" >0.011515</td>\n",
       "      <td id=\"T_6355e_row1_col4\" class=\"data row1 col4\" >-0.039528</td>\n",
       "      <td id=\"T_6355e_row1_col5\" class=\"data row1 col5\" >0.022867</td>\n",
       "      <td id=\"T_6355e_row1_col6\" class=\"data row1 col6\" >-0.060486</td>\n",
       "      <td id=\"T_6355e_row1_col7\" class=\"data row1 col7\" >-0.092684</td>\n",
       "      <td id=\"T_6355e_row1_col8\" class=\"data row1 col8\" >-0.029531</td>\n",
       "      <td id=\"T_6355e_row1_col9\" class=\"data row1 col9\" >0.123162</td>\n",
       "      <td id=\"T_6355e_row1_col10\" class=\"data row1 col10\" >0.051232</td>\n",
       "      <td id=\"T_6355e_row1_col11\" class=\"data row1 col11\" >-0.033486</td>\n",
       "      <td id=\"T_6355e_row1_col12\" class=\"data row1 col12\" >-0.078262</td>\n",
       "      <td id=\"T_6355e_row1_col13\" class=\"data row1 col13\" >0.182821</td>\n",
       "      <td id=\"T_6355e_row1_col14\" class=\"data row1 col14\" >-0.132156</td>\n",
       "      <td id=\"T_6355e_row1_col15\" class=\"data row1 col15\" >-0.010341</td>\n",
       "      <td id=\"T_6355e_row1_col16\" class=\"data row1 col16\" >-0.071101</td>\n",
       "      <td id=\"T_6355e_row1_col17\" class=\"data row1 col17\" >0.071101</td>\n",
       "      <td id=\"T_6355e_row1_col18\" class=\"data row1 col18\" >0.020269</td>\n",
       "      <td id=\"T_6355e_row1_col19\" class=\"data row1 col19\" >-0.020269</td>\n",
       "      <td id=\"T_6355e_row1_col20\" class=\"data row1 col20\" >0.035834</td>\n",
       "      <td id=\"T_6355e_row1_col21\" class=\"data row1 col21\" >-0.035834</td>\n",
       "      <td id=\"T_6355e_row1_col22\" class=\"data row1 col22\" >-0.056698</td>\n",
       "      <td id=\"T_6355e_row1_col23\" class=\"data row1 col23\" >-0.102154</td>\n",
       "      <td id=\"T_6355e_row1_col24\" class=\"data row1 col24\" >0.063585</td>\n",
       "      <td id=\"T_6355e_row1_col25\" class=\"data row1 col25\" >0.056481</td>\n",
       "      <td id=\"T_6355e_row1_col26\" class=\"data row1 col26\" >0.101979</td>\n",
       "      <td id=\"T_6355e_row1_col27\" class=\"data row1 col27\" >-0.051685</td>\n",
       "      <td id=\"T_6355e_row1_col28\" class=\"data row1 col28\" >-0.036473</td>\n",
       "      <td id=\"T_6355e_row1_col29\" class=\"data row1 col29\" >0.073192</td>\n",
       "      <td id=\"T_6355e_row1_col30\" class=\"data row1 col30\" >0.191225</td>\n",
       "      <td id=\"T_6355e_row1_col31\" class=\"data row1 col31\" >-0.091642</td>\n",
       "      <td id=\"T_6355e_row1_col32\" class=\"data row1 col32\" >-0.172758</td>\n",
       "    </tr>\n",
       "    <tr>\n",
       "      <th id=\"T_6355e_level0_row2\" class=\"row_heading level0 row2\" >weight</th>\n",
       "      <td id=\"T_6355e_row2_col0\" class=\"data row2 col0\" >-0.063741</td>\n",
       "      <td id=\"T_6355e_row2_col1\" class=\"data row2 col1\" >0.143757</td>\n",
       "      <td id=\"T_6355e_row2_col2\" class=\"data row2 col2\" >1.000000</td>\n",
       "      <td id=\"T_6355e_row2_col3\" class=\"data row2 col3\" >0.020800</td>\n",
       "      <td id=\"T_6355e_row2_col4\" class=\"data row2 col4\" >0.059541</td>\n",
       "      <td id=\"T_6355e_row2_col5\" class=\"data row2 col5\" >-0.070209</td>\n",
       "      <td id=\"T_6355e_row2_col6\" class=\"data row2 col6\" >-0.188681</td>\n",
       "      <td id=\"T_6355e_row2_col7\" class=\"data row2 col7\" >-0.226418</td>\n",
       "      <td id=\"T_6355e_row2_col8\" class=\"data row2 col8\" >-0.118993</td>\n",
       "      <td id=\"T_6355e_row2_col9\" class=\"data row2 col9\" >0.208485</td>\n",
       "      <td id=\"T_6355e_row2_col10\" class=\"data row2 col10\" >0.226628</td>\n",
       "      <td id=\"T_6355e_row2_col11\" class=\"data row2 col11\" >-0.230572</td>\n",
       "      <td id=\"T_6355e_row2_col12\" class=\"data row2 col12\" >-0.168519</td>\n",
       "      <td id=\"T_6355e_row2_col13\" class=\"data row2 col13\" >0.303247</td>\n",
       "      <td id=\"T_6355e_row2_col14\" class=\"data row2 col14\" >0.041697</td>\n",
       "      <td id=\"T_6355e_row2_col15\" class=\"data row2 col15\" >-0.048036</td>\n",
       "      <td id=\"T_6355e_row2_col16\" class=\"data row2 col16\" >0.304240</td>\n",
       "      <td id=\"T_6355e_row2_col17\" class=\"data row2 col17\" >-0.304240</td>\n",
       "      <td id=\"T_6355e_row2_col18\" class=\"data row2 col18\" >0.050522</td>\n",
       "      <td id=\"T_6355e_row2_col19\" class=\"data row2 col19\" >-0.050522</td>\n",
       "      <td id=\"T_6355e_row2_col20\" class=\"data row2 col20\" >-0.303177</td>\n",
       "      <td id=\"T_6355e_row2_col21\" class=\"data row2 col21\" >0.303177</td>\n",
       "      <td id=\"T_6355e_row2_col22\" class=\"data row2 col22\" >-0.201260</td>\n",
       "      <td id=\"T_6355e_row2_col23\" class=\"data row2 col23\" >-0.018868</td>\n",
       "      <td id=\"T_6355e_row2_col24\" class=\"data row2 col24\" >0.008185</td>\n",
       "      <td id=\"T_6355e_row2_col25\" class=\"data row2 col25\" >0.191763</td>\n",
       "      <td id=\"T_6355e_row2_col26\" class=\"data row2 col26\" >-0.226628</td>\n",
       "      <td id=\"T_6355e_row2_col27\" class=\"data row2 col27\" >0.337699</td>\n",
       "      <td id=\"T_6355e_row2_col28\" class=\"data row2 col28\" >0.102310</td>\n",
       "      <td id=\"T_6355e_row2_col29\" class=\"data row2 col29\" >0.103127</td>\n",
       "      <td id=\"T_6355e_row2_col30\" class=\"data row2 col30\" >-0.244061</td>\n",
       "      <td id=\"T_6355e_row2_col31\" class=\"data row2 col31\" >-0.079329</td>\n",
       "      <td id=\"T_6355e_row2_col32\" class=\"data row2 col32\" >-0.052299</td>\n",
       "    </tr>\n",
       "    <tr>\n",
       "      <th id=\"T_6355e_level0_row3\" class=\"row_heading level0 row3\" >community_rural</th>\n",
       "      <td id=\"T_6355e_row3_col0\" class=\"data row3 col0\" >0.112516</td>\n",
       "      <td id=\"T_6355e_row3_col1\" class=\"data row3 col1\" >0.011515</td>\n",
       "      <td id=\"T_6355e_row3_col2\" class=\"data row3 col2\" >0.020800</td>\n",
       "      <td id=\"T_6355e_row3_col3\" class=\"data row3 col3\" >1.000000</td>\n",
       "      <td id=\"T_6355e_row3_col4\" class=\"data row3 col4\" >-0.378456</td>\n",
       "      <td id=\"T_6355e_row3_col5\" class=\"data row3 col5\" >-0.615309</td>\n",
       "      <td id=\"T_6355e_row3_col6\" class=\"data row3 col6\" >0.207880</td>\n",
       "      <td id=\"T_6355e_row3_col7\" class=\"data row3 col7\" >-0.088192</td>\n",
       "      <td id=\"T_6355e_row3_col8\" class=\"data row3 col8\" >-0.178774</td>\n",
       "      <td id=\"T_6355e_row3_col9\" class=\"data row3 col9\" >0.445477</td>\n",
       "      <td id=\"T_6355e_row3_col10\" class=\"data row3 col10\" >0.011641</td>\n",
       "      <td id=\"T_6355e_row3_col11\" class=\"data row3 col11\" >0.081791</td>\n",
       "      <td id=\"T_6355e_row3_col12\" class=\"data row3 col12\" >0.011641</td>\n",
       "      <td id=\"T_6355e_row3_col13\" class=\"data row3 col13\" >-0.244408</td>\n",
       "      <td id=\"T_6355e_row3_col14\" class=\"data row3 col14\" >-0.045244</td>\n",
       "      <td id=\"T_6355e_row3_col15\" class=\"data row3 col15\" >-0.144338</td>\n",
       "      <td id=\"T_6355e_row3_col16\" class=\"data row3 col16\" >-0.156269</td>\n",
       "      <td id=\"T_6355e_row3_col17\" class=\"data row3 col17\" >0.156269</td>\n",
       "      <td id=\"T_6355e_row3_col18\" class=\"data row3 col18\" >0.001946</td>\n",
       "      <td id=\"T_6355e_row3_col19\" class=\"data row3 col19\" >-0.001946</td>\n",
       "      <td id=\"T_6355e_row3_col20\" class=\"data row3 col20\" >-0.069922</td>\n",
       "      <td id=\"T_6355e_row3_col21\" class=\"data row3 col21\" >0.069922</td>\n",
       "      <td id=\"T_6355e_row3_col22\" class=\"data row3 col22\" >-0.088192</td>\n",
       "      <td id=\"T_6355e_row3_col23\" class=\"data row3 col23\" >-0.088192</td>\n",
       "      <td id=\"T_6355e_row3_col24\" class=\"data row3 col24\" >-0.086077</td>\n",
       "      <td id=\"T_6355e_row3_col25\" class=\"data row3 col25\" >0.285192</td>\n",
       "      <td id=\"T_6355e_row3_col26\" class=\"data row3 col26\" >0.011641</td>\n",
       "      <td id=\"T_6355e_row3_col27\" class=\"data row3 col27\" >0.098198</td>\n",
       "      <td id=\"T_6355e_row3_col28\" class=\"data row3 col28\" >0.086077</td>\n",
       "      <td id=\"T_6355e_row3_col29\" class=\"data row3 col29\" >-0.178774</td>\n",
       "      <td id=\"T_6355e_row3_col30\" class=\"data row3 col30\" >-0.125135</td>\n",
       "      <td id=\"T_6355e_row3_col31\" class=\"data row3 col31\" >0.007946</td>\n",
       "      <td id=\"T_6355e_row3_col32\" class=\"data row3 col32\" >0.011641</td>\n",
       "    </tr>\n",
       "    <tr>\n",
       "      <th id=\"T_6355e_level0_row4\" class=\"row_heading level0 row4\" >community_suburban</th>\n",
       "      <td id=\"T_6355e_row4_col0\" class=\"data row4 col0\" >-0.163756</td>\n",
       "      <td id=\"T_6355e_row4_col1\" class=\"data row4 col1\" >-0.039528</td>\n",
       "      <td id=\"T_6355e_row4_col2\" class=\"data row4 col2\" >0.059541</td>\n",
       "      <td id=\"T_6355e_row4_col3\" class=\"data row4 col3\" >-0.378456</td>\n",
       "      <td id=\"T_6355e_row4_col4\" class=\"data row4 col4\" >1.000000</td>\n",
       "      <td id=\"T_6355e_row4_col5\" class=\"data row4 col5\" >-0.496785</td>\n",
       "      <td id=\"T_6355e_row4_col6\" class=\"data row4 col6\" >-0.190724</td>\n",
       "      <td id=\"T_6355e_row4_col7\" class=\"data row4 col7\" >-0.190724</td>\n",
       "      <td id=\"T_6355e_row4_col8\" class=\"data row4 col8\" >0.266806</td>\n",
       "      <td id=\"T_6355e_row4_col9\" class=\"data row4 col9\" >-0.168594</td>\n",
       "      <td id=\"T_6355e_row4_col10\" class=\"data row4 col10\" >-0.060875</td>\n",
       "      <td id=\"T_6355e_row4_col11\" class=\"data row4 col11\" >0.132425</td>\n",
       "      <td id=\"T_6355e_row4_col12\" class=\"data row4 col12\" >0.089710</td>\n",
       "      <td id=\"T_6355e_row4_col13\" class=\"data row4 col13\" >0.080987</td>\n",
       "      <td id=\"T_6355e_row4_col14\" class=\"data row4 col14\" >0.011495</td>\n",
       "      <td id=\"T_6355e_row4_col15\" class=\"data row4 col15\" >0.132425</td>\n",
       "      <td id=\"T_6355e_row4_col16\" class=\"data row4 col16\" >-0.294630</td>\n",
       "      <td id=\"T_6355e_row4_col17\" class=\"data row4 col17\" >0.294630</td>\n",
       "      <td id=\"T_6355e_row4_col18\" class=\"data row4 col18\" >0.014999</td>\n",
       "      <td id=\"T_6355e_row4_col19\" class=\"data row4 col19\" >-0.014999</td>\n",
       "      <td id=\"T_6355e_row4_col20\" class=\"data row4 col20\" >0.081380</td>\n",
       "      <td id=\"T_6355e_row4_col21\" class=\"data row4 col21\" >-0.081380</td>\n",
       "      <td id=\"T_6355e_row4_col22\" class=\"data row4 col22\" >-0.027742</td>\n",
       "      <td id=\"T_6355e_row4_col23\" class=\"data row4 col23\" >0.298223</td>\n",
       "      <td id=\"T_6355e_row4_col24\" class=\"data row4 col24\" >-0.133126</td>\n",
       "      <td id=\"T_6355e_row4_col25\" class=\"data row4 col25\" >-0.060875</td>\n",
       "      <td id=\"T_6355e_row4_col26\" class=\"data row4 col26\" >0.089710</td>\n",
       "      <td id=\"T_6355e_row4_col27\" class=\"data row4 col27\" >0.051053</td>\n",
       "      <td id=\"T_6355e_row4_col28\" class=\"data row4 col28\" >-0.078973</td>\n",
       "      <td id=\"T_6355e_row4_col29\" class=\"data row4 col29\" >0.061234</td>\n",
       "      <td id=\"T_6355e_row4_col30\" class=\"data row4 col30\" >-0.060875</td>\n",
       "      <td id=\"T_6355e_row4_col31\" class=\"data row4 col31\" >0.266806</td>\n",
       "      <td id=\"T_6355e_row4_col32\" class=\"data row4 col32\" >-0.211460</td>\n",
       "    </tr>\n",
       "    <tr>\n",
       "      <th id=\"T_6355e_level0_row5\" class=\"row_heading level0 row5\" >community_urban</th>\n",
       "      <td id=\"T_6355e_row5_col0\" class=\"data row5 col0\" >0.033963</td>\n",
       "      <td id=\"T_6355e_row5_col1\" class=\"data row5 col1\" >0.022867</td>\n",
       "      <td id=\"T_6355e_row5_col2\" class=\"data row5 col2\" >-0.070209</td>\n",
       "      <td id=\"T_6355e_row5_col3\" class=\"data row5 col3\" >-0.615309</td>\n",
       "      <td id=\"T_6355e_row5_col4\" class=\"data row5 col4\" >-0.496785</td>\n",
       "      <td id=\"T_6355e_row5_col5\" class=\"data row5 col5\" >1.000000</td>\n",
       "      <td id=\"T_6355e_row5_col6\" class=\"data row5 col6\" >-0.032485</td>\n",
       "      <td id=\"T_6355e_row5_col7\" class=\"data row5 col7\" >0.245116</td>\n",
       "      <td id=\"T_6355e_row5_col8\" class=\"data row5 col8\" >-0.059599</td>\n",
       "      <td id=\"T_6355e_row5_col9\" class=\"data row5 col9\" >-0.274106</td>\n",
       "      <td id=\"T_6355e_row5_col10\" class=\"data row5 col10\" >0.040929</td>\n",
       "      <td id=\"T_6355e_row5_col11\" class=\"data row5 col11\" >-0.189466</td>\n",
       "      <td id=\"T_6355e_row5_col12\" class=\"data row5 col12\" >-0.087314</td>\n",
       "      <td id=\"T_6355e_row5_col13\" class=\"data row5 col13\" >0.160190</td>\n",
       "      <td id=\"T_6355e_row5_col14\" class=\"data row5 col14\" >0.032632</td>\n",
       "      <td id=\"T_6355e_row5_col15\" class=\"data row5 col15\" >0.022555</td>\n",
       "      <td id=\"T_6355e_row5_col16\" class=\"data row5 col16\" >0.397436</td>\n",
       "      <td id=\"T_6355e_row5_col17\" class=\"data row5 col17\" >-0.397436</td>\n",
       "      <td id=\"T_6355e_row5_col18\" class=\"data row5 col18\" >-0.014599</td>\n",
       "      <td id=\"T_6355e_row5_col19\" class=\"data row5 col19\" >0.014599</td>\n",
       "      <td id=\"T_6355e_row5_col20\" class=\"data row5 col20\" >-0.003746</td>\n",
       "      <td id=\"T_6355e_row5_col21\" class=\"data row5 col21\" >0.003746</td>\n",
       "      <td id=\"T_6355e_row5_col22\" class=\"data row5 col22\" >0.106315</td>\n",
       "      <td id=\"T_6355e_row5_col23\" class=\"data row5 col23\" >-0.171286</td>\n",
       "      <td id=\"T_6355e_row5_col24\" class=\"data row5 col24\" >0.194082</td>\n",
       "      <td id=\"T_6355e_row5_col25\" class=\"data row5 col25\" >-0.215558</td>\n",
       "      <td id=\"T_6355e_row5_col26\" class=\"data row5 col26\" >-0.087314</td>\n",
       "      <td id=\"T_6355e_row5_col27\" class=\"data row5 col27\" >-0.135550</td>\n",
       "      <td id=\"T_6355e_row5_col28\" class=\"data row5 col28\" >-0.013451</td>\n",
       "      <td id=\"T_6355e_row5_col29\" class=\"data row5 col29\" >0.115472</td>\n",
       "      <td id=\"T_6355e_row5_col30\" class=\"data row5 col30\" >0.169172</td>\n",
       "      <td id=\"T_6355e_row5_col31\" class=\"data row5 col31\" >-0.234670</td>\n",
       "      <td id=\"T_6355e_row5_col32\" class=\"data row5 col32\" >0.169172</td>\n",
       "    </tr>\n",
       "    <tr>\n",
       "      <th id=\"T_6355e_level0_row6\" class=\"row_heading level0 row6\" >disabilities_alzheimer's</th>\n",
       "      <td id=\"T_6355e_row6_col0\" class=\"data row6 col0\" >0.212208</td>\n",
       "      <td id=\"T_6355e_row6_col1\" class=\"data row6 col1\" >-0.060486</td>\n",
       "      <td id=\"T_6355e_row6_col2\" class=\"data row6 col2\" >-0.188681</td>\n",
       "      <td id=\"T_6355e_row6_col3\" class=\"data row6 col3\" >0.207880</td>\n",
       "      <td id=\"T_6355e_row6_col4\" class=\"data row6 col4\" >-0.190724</td>\n",
       "      <td id=\"T_6355e_row6_col5\" class=\"data row6 col5\" >-0.032485</td>\n",
       "      <td id=\"T_6355e_row6_col6\" class=\"data row6 col6\" >1.000000</td>\n",
       "      <td id=\"T_6355e_row6_col7\" class=\"data row6 col7\" >-0.119048</td>\n",
       "      <td id=\"T_6355e_row6_col8\" class=\"data row6 col8\" >-0.090094</td>\n",
       "      <td id=\"T_6355e_row6_col9\" class=\"data row6 col9\" >-0.105234</td>\n",
       "      <td id=\"T_6355e_row6_col10\" class=\"data row6 col10\" >-0.131991</td>\n",
       "      <td id=\"T_6355e_row6_col11\" class=\"data row6 col11\" >-0.072739</td>\n",
       "      <td id=\"T_6355e_row6_col12\" class=\"data row6 col12\" >-0.131991</td>\n",
       "      <td id=\"T_6355e_row6_col13\" class=\"data row6 col13\" >-0.179374</td>\n",
       "      <td id=\"T_6355e_row6_col14\" class=\"data row6 col14\" >-0.105234</td>\n",
       "      <td id=\"T_6355e_row6_col15\" class=\"data row6 col15\" >-0.072739</td>\n",
       "      <td id=\"T_6355e_row6_col16\" class=\"data row6 col16\" >-0.171286</td>\n",
       "      <td id=\"T_6355e_row6_col17\" class=\"data row6 col17\" >0.171286</td>\n",
       "      <td id=\"T_6355e_row6_col18\" class=\"data row6 col18\" >0.047079</td>\n",
       "      <td id=\"T_6355e_row6_col19\" class=\"data row6 col19\" >-0.047079</td>\n",
       "      <td id=\"T_6355e_row6_col20\" class=\"data row6 col20\" >-0.129874</td>\n",
       "      <td id=\"T_6355e_row6_col21\" class=\"data row6 col21\" >0.129874</td>\n",
       "      <td id=\"T_6355e_row6_col22\" class=\"data row6 col22\" >0.104762</td>\n",
       "      <td id=\"T_6355e_row6_col23\" class=\"data row6 col23\" >-0.119048</td>\n",
       "      <td id=\"T_6355e_row6_col24\" class=\"data row6 col24\" >0.102250</td>\n",
       "      <td id=\"T_6355e_row6_col25\" class=\"data row6 col25\" >-0.131991</td>\n",
       "      <td id=\"T_6355e_row6_col26\" class=\"data row6 col26\" >0.074795</td>\n",
       "      <td id=\"T_6355e_row6_col27\" class=\"data row6 col27\" >0.049487</td>\n",
       "      <td id=\"T_6355e_row6_col28\" class=\"data row6 col28\" >-0.102250</td>\n",
       "      <td id=\"T_6355e_row6_col29\" class=\"data row6 col29\" >-0.090094</td>\n",
       "      <td id=\"T_6355e_row6_col30\" class=\"data row6 col30\" >0.074795</td>\n",
       "      <td id=\"T_6355e_row6_col31\" class=\"data row6 col31\" >-0.090094</td>\n",
       "      <td id=\"T_6355e_row6_col32\" class=\"data row6 col32\" >0.074795</td>\n",
       "    </tr>\n",
       "    <tr>\n",
       "      <th id=\"T_6355e_level0_row7\" class=\"row_heading level0 row7\" >disabilities_amnesia</th>\n",
       "      <td id=\"T_6355e_row7_col0\" class=\"data row7 col0\" >0.147861</td>\n",
       "      <td id=\"T_6355e_row7_col1\" class=\"data row7 col1\" >-0.092684</td>\n",
       "      <td id=\"T_6355e_row7_col2\" class=\"data row7 col2\" >-0.226418</td>\n",
       "      <td id=\"T_6355e_row7_col3\" class=\"data row7 col3\" >-0.088192</td>\n",
       "      <td id=\"T_6355e_row7_col4\" class=\"data row7 col4\" >-0.190724</td>\n",
       "      <td id=\"T_6355e_row7_col5\" class=\"data row7 col5\" >0.245116</td>\n",
       "      <td id=\"T_6355e_row7_col6\" class=\"data row7 col6\" >-0.119048</td>\n",
       "      <td id=\"T_6355e_row7_col7\" class=\"data row7 col7\" >1.000000</td>\n",
       "      <td id=\"T_6355e_row7_col8\" class=\"data row7 col8\" >-0.090094</td>\n",
       "      <td id=\"T_6355e_row7_col9\" class=\"data row7 col9\" >-0.105234</td>\n",
       "      <td id=\"T_6355e_row7_col10\" class=\"data row7 col10\" >-0.131991</td>\n",
       "      <td id=\"T_6355e_row7_col11\" class=\"data row7 col11\" >-0.072739</td>\n",
       "      <td id=\"T_6355e_row7_col12\" class=\"data row7 col12\" >-0.131991</td>\n",
       "      <td id=\"T_6355e_row7_col13\" class=\"data row7 col13\" >-0.179374</td>\n",
       "      <td id=\"T_6355e_row7_col14\" class=\"data row7 col14\" >-0.105234</td>\n",
       "      <td id=\"T_6355e_row7_col15\" class=\"data row7 col15\" >-0.072739</td>\n",
       "      <td id=\"T_6355e_row7_col16\" class=\"data row7 col16\" >0.106315</td>\n",
       "      <td id=\"T_6355e_row7_col17\" class=\"data row7 col17\" >-0.106315</td>\n",
       "      <td id=\"T_6355e_row7_col18\" class=\"data row7 col18\" >-0.091216</td>\n",
       "      <td id=\"T_6355e_row7_col19\" class=\"data row7 col19\" >0.091216</td>\n",
       "      <td id=\"T_6355e_row7_col20\" class=\"data row7 col20\" >0.012081</td>\n",
       "      <td id=\"T_6355e_row7_col21\" class=\"data row7 col21\" >-0.012081</td>\n",
       "      <td id=\"T_6355e_row7_col22\" class=\"data row7 col22\" >0.104762</td>\n",
       "      <td id=\"T_6355e_row7_col23\" class=\"data row7 col23\" >-0.119048</td>\n",
       "      <td id=\"T_6355e_row7_col24\" class=\"data row7 col24\" >-0.043379</td>\n",
       "      <td id=\"T_6355e_row7_col25\" class=\"data row7 col25\" >0.074795</td>\n",
       "      <td id=\"T_6355e_row7_col26\" class=\"data row7 col26\" >-0.131991</td>\n",
       "      <td id=\"T_6355e_row7_col27\" class=\"data row7 col27\" >0.049487</td>\n",
       "      <td id=\"T_6355e_row7_col28\" class=\"data row7 col28\" >0.189008</td>\n",
       "      <td id=\"T_6355e_row7_col29\" class=\"data row7 col29\" >-0.090094</td>\n",
       "      <td id=\"T_6355e_row7_col30\" class=\"data row7 col30\" >0.074795</td>\n",
       "      <td id=\"T_6355e_row7_col31\" class=\"data row7 col31\" >-0.090094</td>\n",
       "      <td id=\"T_6355e_row7_col32\" class=\"data row7 col32\" >-0.131991</td>\n",
       "    </tr>\n",
       "    <tr>\n",
       "      <th id=\"T_6355e_level0_row8\" class=\"row_heading level0 row8\" >disabilities_arthritis</th>\n",
       "      <td id=\"T_6355e_row8_col0\" class=\"data row8 col0\" >-0.062598</td>\n",
       "      <td id=\"T_6355e_row8_col1\" class=\"data row8 col1\" >-0.029531</td>\n",
       "      <td id=\"T_6355e_row8_col2\" class=\"data row8 col2\" >-0.118993</td>\n",
       "      <td id=\"T_6355e_row8_col3\" class=\"data row8 col3\" >-0.178774</td>\n",
       "      <td id=\"T_6355e_row8_col4\" class=\"data row8 col4\" >0.266806</td>\n",
       "      <td id=\"T_6355e_row8_col5\" class=\"data row8 col5\" >-0.059599</td>\n",
       "      <td id=\"T_6355e_row8_col6\" class=\"data row8 col6\" >-0.090094</td>\n",
       "      <td id=\"T_6355e_row8_col7\" class=\"data row8 col7\" >-0.090094</td>\n",
       "      <td id=\"T_6355e_row8_col8\" class=\"data row8 col8\" >1.000000</td>\n",
       "      <td id=\"T_6355e_row8_col9\" class=\"data row8 col9\" >-0.079640</td>\n",
       "      <td id=\"T_6355e_row8_col10\" class=\"data row8 col10\" >-0.099889</td>\n",
       "      <td id=\"T_6355e_row8_col11\" class=\"data row8 col11\" >-0.055048</td>\n",
       "      <td id=\"T_6355e_row8_col12\" class=\"data row8 col12\" >-0.099889</td>\n",
       "      <td id=\"T_6355e_row8_col13\" class=\"data row8 col13\" >-0.135748</td>\n",
       "      <td id=\"T_6355e_row8_col14\" class=\"data row8 col14\" >-0.079640</td>\n",
       "      <td id=\"T_6355e_row8_col15\" class=\"data row8 col15\" >-0.055048</td>\n",
       "      <td id=\"T_6355e_row8_col16\" class=\"data row8 col16\" >-0.059599</td>\n",
       "      <td id=\"T_6355e_row8_col17\" class=\"data row8 col17\" >0.059599</td>\n",
       "      <td id=\"T_6355e_row8_col18\" class=\"data row8 col18\" >0.244949</td>\n",
       "      <td id=\"T_6355e_row8_col19\" class=\"data row8 col19\" >-0.244949</td>\n",
       "      <td id=\"T_6355e_row8_col20\" class=\"data row8 col20\" >0.152383</td>\n",
       "      <td id=\"T_6355e_row8_col21\" class=\"data row8 col21\" >-0.152383</td>\n",
       "      <td id=\"T_6355e_row8_col22\" class=\"data row8 col22\" >0.474494</td>\n",
       "      <td id=\"T_6355e_row8_col23\" class=\"data row8 col23\" >-0.090094</td>\n",
       "      <td id=\"T_6355e_row8_col24\" class=\"data row8 col24\" >-0.179775</td>\n",
       "      <td id=\"T_6355e_row8_col25\" class=\"data row8 col25\" >-0.099889</td>\n",
       "      <td id=\"T_6355e_row8_col26\" class=\"data row8 col26\" >0.421754</td>\n",
       "      <td id=\"T_6355e_row8_col27\" class=\"data row8 col27\" >-0.109233</td>\n",
       "      <td id=\"T_6355e_row8_col28\" class=\"data row8 col28\" >-0.003908</td>\n",
       "      <td id=\"T_6355e_row8_col29\" class=\"data row8 col29\" >-0.068182</td>\n",
       "      <td id=\"T_6355e_row8_col30\" class=\"data row8 col30\" >-0.099889</td>\n",
       "      <td id=\"T_6355e_row8_col31\" class=\"data row8 col31\" >-0.068182</td>\n",
       "      <td id=\"T_6355e_row8_col32\" class=\"data row8 col32\" >-0.099889</td>\n",
       "    </tr>\n",
       "    <tr>\n",
       "      <th id=\"T_6355e_level0_row9\" class=\"row_heading level0 row9\" >disabilities_atherosclerosis</th>\n",
       "      <td id=\"T_6355e_row9_col0\" class=\"data row9 col0\" >0.080934</td>\n",
       "      <td id=\"T_6355e_row9_col1\" class=\"data row9 col1\" >0.123162</td>\n",
       "      <td id=\"T_6355e_row9_col2\" class=\"data row9 col2\" >0.208485</td>\n",
       "      <td id=\"T_6355e_row9_col3\" class=\"data row9 col3\" >0.445477</td>\n",
       "      <td id=\"T_6355e_row9_col4\" class=\"data row9 col4\" >-0.168594</td>\n",
       "      <td id=\"T_6355e_row9_col5\" class=\"data row9 col5\" >-0.274106</td>\n",
       "      <td id=\"T_6355e_row9_col6\" class=\"data row9 col6\" >-0.105234</td>\n",
       "      <td id=\"T_6355e_row9_col7\" class=\"data row9 col7\" >-0.105234</td>\n",
       "      <td id=\"T_6355e_row9_col8\" class=\"data row9 col8\" >-0.079640</td>\n",
       "      <td id=\"T_6355e_row9_col9\" class=\"data row9 col9\" >1.000000</td>\n",
       "      <td id=\"T_6355e_row9_col10\" class=\"data row9 col10\" >-0.116675</td>\n",
       "      <td id=\"T_6355e_row9_col11\" class=\"data row9 col11\" >-0.064299</td>\n",
       "      <td id=\"T_6355e_row9_col12\" class=\"data row9 col12\" >-0.116675</td>\n",
       "      <td id=\"T_6355e_row9_col13\" class=\"data row9 col13\" >-0.158560</td>\n",
       "      <td id=\"T_6355e_row9_col14\" class=\"data row9 col14\" >-0.093023</td>\n",
       "      <td id=\"T_6355e_row9_col15\" class=\"data row9 col15\" >-0.064299</td>\n",
       "      <td id=\"T_6355e_row9_col16\" class=\"data row9 col16\" >0.032632</td>\n",
       "      <td id=\"T_6355e_row9_col17\" class=\"data row9 col17\" >-0.032632</td>\n",
       "      <td id=\"T_6355e_row9_col18\" class=\"data row9 col18\" >-0.019508</td>\n",
       "      <td id=\"T_6355e_row9_col19\" class=\"data row9 col19\" >0.019508</td>\n",
       "      <td id=\"T_6355e_row9_col20\" class=\"data row9 col20\" >0.073421</td>\n",
       "      <td id=\"T_6355e_row9_col21\" class=\"data row9 col21\" >-0.073421</td>\n",
       "      <td id=\"T_6355e_row9_col22\" class=\"data row9 col22\" >-0.105234</td>\n",
       "      <td id=\"T_6355e_row9_col23\" class=\"data row9 col23\" >0.142066</td>\n",
       "      <td id=\"T_6355e_row9_col24\" class=\"data row9 col24\" >-0.102711</td>\n",
       "      <td id=\"T_6355e_row9_col25\" class=\"data row9 col25\" >0.111814</td>\n",
       "      <td id=\"T_6355e_row9_col26\" class=\"data row9 col26\" >0.111814</td>\n",
       "      <td id=\"T_6355e_row9_col27\" class=\"data row9 col27\" >0.300747</td>\n",
       "      <td id=\"T_6355e_row9_col28\" class=\"data row9 col28\" >-0.219116</td>\n",
       "      <td id=\"T_6355e_row9_col29\" class=\"data row9 col29\" >-0.079640</td>\n",
       "      <td id=\"T_6355e_row9_col30\" class=\"data row9 col30\" >-0.116675</td>\n",
       "      <td id=\"T_6355e_row9_col31\" class=\"data row9 col31\" >0.232283</td>\n",
       "      <td id=\"T_6355e_row9_col32\" class=\"data row9 col32\" >-0.116675</td>\n",
       "    </tr>\n",
       "    <tr>\n",
       "      <th id=\"T_6355e_level0_row10\" class=\"row_heading level0 row10\" >disabilities_cyclothimic disorder</th>\n",
       "      <td id=\"T_6355e_row10_col0\" class=\"data row10 col0\" >-0.270067</td>\n",
       "      <td id=\"T_6355e_row10_col1\" class=\"data row10 col1\" >0.051232</td>\n",
       "      <td id=\"T_6355e_row10_col2\" class=\"data row10 col2\" >0.226628</td>\n",
       "      <td id=\"T_6355e_row10_col3\" class=\"data row10 col3\" >0.011641</td>\n",
       "      <td id=\"T_6355e_row10_col4\" class=\"data row10 col4\" >-0.060875</td>\n",
       "      <td id=\"T_6355e_row10_col5\" class=\"data row10 col5\" >0.040929</td>\n",
       "      <td id=\"T_6355e_row10_col6\" class=\"data row10 col6\" >-0.131991</td>\n",
       "      <td id=\"T_6355e_row10_col7\" class=\"data row10 col7\" >-0.131991</td>\n",
       "      <td id=\"T_6355e_row10_col8\" class=\"data row10 col8\" >-0.099889</td>\n",
       "      <td id=\"T_6355e_row10_col9\" class=\"data row10 col9\" >-0.116675</td>\n",
       "      <td id=\"T_6355e_row10_col10\" class=\"data row10 col10\" >1.000000</td>\n",
       "      <td id=\"T_6355e_row10_col11\" class=\"data row10 col11\" >-0.080648</td>\n",
       "      <td id=\"T_6355e_row10_col12\" class=\"data row10 col12\" >-0.146341</td>\n",
       "      <td id=\"T_6355e_row10_col13\" class=\"data row10 col13\" >-0.198876</td>\n",
       "      <td id=\"T_6355e_row10_col14\" class=\"data row10 col14\" >-0.116675</td>\n",
       "      <td id=\"T_6355e_row10_col15\" class=\"data row10 col15\" >-0.080648</td>\n",
       "      <td id=\"T_6355e_row10_col16\" class=\"data row10 col16\" >0.040929</td>\n",
       "      <td id=\"T_6355e_row10_col17\" class=\"data row10 col17\" >-0.040929</td>\n",
       "      <td id=\"T_6355e_row10_col18\" class=\"data row10 col18\" >-0.024468</td>\n",
       "      <td id=\"T_6355e_row10_col19\" class=\"data row10 col19\" >0.024468</td>\n",
       "      <td id=\"T_6355e_row10_col20\" class=\"data row10 col20\" >-0.039068</td>\n",
       "      <td id=\"T_6355e_row10_col21\" class=\"data row10 col21\" >0.039068</td>\n",
       "      <td id=\"T_6355e_row10_col22\" class=\"data row10 col22\" >-0.131991</td>\n",
       "      <td id=\"T_6355e_row10_col23\" class=\"data row10 col23\" >0.074795</td>\n",
       "      <td id=\"T_6355e_row10_col24\" class=\"data row10 col24\" >0.140277</td>\n",
       "      <td id=\"T_6355e_row10_col25\" class=\"data row10 col25\" >-0.146341</td>\n",
       "      <td id=\"T_6355e_row10_col26\" class=\"data row10 col26\" >-0.146341</td>\n",
       "      <td id=\"T_6355e_row10_col27\" class=\"data row10 col27\" >-0.160030</td>\n",
       "      <td id=\"T_6355e_row10_col28\" class=\"data row10 col28\" >0.532482</td>\n",
       "      <td id=\"T_6355e_row10_col29\" class=\"data row10 col29\" >-0.099889</td>\n",
       "      <td id=\"T_6355e_row10_col30\" class=\"data row10 col30\" >-0.146341</td>\n",
       "      <td id=\"T_6355e_row10_col31\" class=\"data row10 col31\" >-0.099889</td>\n",
       "      <td id=\"T_6355e_row10_col32\" class=\"data row10 col32\" >-0.146341</td>\n",
       "    </tr>\n",
       "    <tr>\n",
       "      <th id=\"T_6355e_level0_row11\" class=\"row_heading level0 row11\" >disabilities_delirium</th>\n",
       "      <td id=\"T_6355e_row11_col0\" class=\"data row11 col0\" >0.031370</td>\n",
       "      <td id=\"T_6355e_row11_col1\" class=\"data row11 col1\" >-0.033486</td>\n",
       "      <td id=\"T_6355e_row11_col2\" class=\"data row11 col2\" >-0.230572</td>\n",
       "      <td id=\"T_6355e_row11_col3\" class=\"data row11 col3\" >0.081791</td>\n",
       "      <td id=\"T_6355e_row11_col4\" class=\"data row11 col4\" >0.132425</td>\n",
       "      <td id=\"T_6355e_row11_col5\" class=\"data row11 col5\" >-0.189466</td>\n",
       "      <td id=\"T_6355e_row11_col6\" class=\"data row11 col6\" >-0.072739</td>\n",
       "      <td id=\"T_6355e_row11_col7\" class=\"data row11 col7\" >-0.072739</td>\n",
       "      <td id=\"T_6355e_row11_col8\" class=\"data row11 col8\" >-0.055048</td>\n",
       "      <td id=\"T_6355e_row11_col9\" class=\"data row11 col9\" >-0.064299</td>\n",
       "      <td id=\"T_6355e_row11_col10\" class=\"data row11 col10\" >-0.080648</td>\n",
       "      <td id=\"T_6355e_row11_col11\" class=\"data row11 col11\" >1.000000</td>\n",
       "      <td id=\"T_6355e_row11_col12\" class=\"data row11 col12\" >-0.080648</td>\n",
       "      <td id=\"T_6355e_row11_col13\" class=\"data row11 col13\" >-0.109599</td>\n",
       "      <td id=\"T_6355e_row11_col14\" class=\"data row11 col14\" >-0.064299</td>\n",
       "      <td id=\"T_6355e_row11_col15\" class=\"data row11 col15\" >-0.044444</td>\n",
       "      <td id=\"T_6355e_row11_col16\" class=\"data row11 col16\" >-0.189466</td>\n",
       "      <td id=\"T_6355e_row11_col17\" class=\"data row11 col17\" >0.189466</td>\n",
       "      <td id=\"T_6355e_row11_col18\" class=\"data row11 col18\" >-0.013484</td>\n",
       "      <td id=\"T_6355e_row11_col19\" class=\"data row11 col19\" >0.013484</td>\n",
       "      <td id=\"T_6355e_row11_col20\" class=\"data row11 col20\" >0.050750</td>\n",
       "      <td id=\"T_6355e_row11_col21\" class=\"data row11 col21\" >-0.050750</td>\n",
       "      <td id=\"T_6355e_row11_col22\" class=\"data row11 col22\" >-0.072739</td>\n",
       "      <td id=\"T_6355e_row11_col23\" class=\"data row11 col23\" >-0.072739</td>\n",
       "      <td id=\"T_6355e_row11_col24\" class=\"data row11 col24\" >0.151456</td>\n",
       "      <td id=\"T_6355e_row11_col25\" class=\"data row11 col25\" >-0.080648</td>\n",
       "      <td id=\"T_6355e_row11_col26\" class=\"data row11 col26\" >-0.080648</td>\n",
       "      <td id=\"T_6355e_row11_col27\" class=\"data row11 col27\" >-0.088192</td>\n",
       "      <td id=\"T_6355e_row11_col28\" class=\"data row11 col28\" >-0.151456</td>\n",
       "      <td id=\"T_6355e_row11_col29\" class=\"data row11 col29\" >0.376163</td>\n",
       "      <td id=\"T_6355e_row11_col30\" class=\"data row11 col30\" >0.235223</td>\n",
       "      <td id=\"T_6355e_row11_col31\" class=\"data row11 col31\" >-0.055048</td>\n",
       "      <td id=\"T_6355e_row11_col32\" class=\"data row11 col32\" >-0.080648</td>\n",
       "    </tr>\n",
       "    <tr>\n",
       "      <th id=\"T_6355e_level0_row12\" class=\"row_heading level0 row12\" >disabilities_fibromas</th>\n",
       "      <td id=\"T_6355e_row12_col0\" class=\"data row12 col0\" >-0.180888</td>\n",
       "      <td id=\"T_6355e_row12_col1\" class=\"data row12 col1\" >-0.078262</td>\n",
       "      <td id=\"T_6355e_row12_col2\" class=\"data row12 col2\" >-0.168519</td>\n",
       "      <td id=\"T_6355e_row12_col3\" class=\"data row12 col3\" >0.011641</td>\n",
       "      <td id=\"T_6355e_row12_col4\" class=\"data row12 col4\" >0.089710</td>\n",
       "      <td id=\"T_6355e_row12_col5\" class=\"data row12 col5\" >-0.087314</td>\n",
       "      <td id=\"T_6355e_row12_col6\" class=\"data row12 col6\" >-0.131991</td>\n",
       "      <td id=\"T_6355e_row12_col7\" class=\"data row12 col7\" >-0.131991</td>\n",
       "      <td id=\"T_6355e_row12_col8\" class=\"data row12 col8\" >-0.099889</td>\n",
       "      <td id=\"T_6355e_row12_col9\" class=\"data row12 col9\" >-0.116675</td>\n",
       "      <td id=\"T_6355e_row12_col10\" class=\"data row12 col10\" >-0.146341</td>\n",
       "      <td id=\"T_6355e_row12_col11\" class=\"data row12 col11\" >-0.080648</td>\n",
       "      <td id=\"T_6355e_row12_col12\" class=\"data row12 col12\" >1.000000</td>\n",
       "      <td id=\"T_6355e_row12_col13\" class=\"data row12 col13\" >-0.198876</td>\n",
       "      <td id=\"T_6355e_row12_col14\" class=\"data row12 col14\" >-0.116675</td>\n",
       "      <td id=\"T_6355e_row12_col15\" class=\"data row12 col15\" >-0.080648</td>\n",
       "      <td id=\"T_6355e_row12_col16\" class=\"data row12 col16\" >-0.087314</td>\n",
       "      <td id=\"T_6355e_row12_col17\" class=\"data row12 col17\" >0.087314</td>\n",
       "      <td id=\"T_6355e_row12_col18\" class=\"data row12 col18\" >-0.024468</td>\n",
       "      <td id=\"T_6355e_row12_col19\" class=\"data row12 col19\" >0.024468</td>\n",
       "      <td id=\"T_6355e_row12_col20\" class=\"data row12 col20\" >0.092090</td>\n",
       "      <td id=\"T_6355e_row12_col21\" class=\"data row12 col21\" >-0.092090</td>\n",
       "      <td id=\"T_6355e_row12_col22\" class=\"data row12 col22\" >-0.131991</td>\n",
       "      <td id=\"T_6355e_row12_col23\" class=\"data row12 col23\" >0.074795</td>\n",
       "      <td id=\"T_6355e_row12_col24\" class=\"data row12 col24\" >0.140277</td>\n",
       "      <td id=\"T_6355e_row12_col25\" class=\"data row12 col25\" >-0.146341</td>\n",
       "      <td id=\"T_6355e_row12_col26\" class=\"data row12 col26\" >-0.146341</td>\n",
       "      <td id=\"T_6355e_row12_col27\" class=\"data row12 col27\" >-0.160030</td>\n",
       "      <td id=\"T_6355e_row12_col28\" class=\"data row12 col28\" >-0.005726</td>\n",
       "      <td id=\"T_6355e_row12_col29\" class=\"data row12 col29\" >0.160932</td>\n",
       "      <td id=\"T_6355e_row12_col30\" class=\"data row12 col30\" >-0.146341</td>\n",
       "      <td id=\"T_6355e_row12_col31\" class=\"data row12 col31\" >0.160932</td>\n",
       "      <td id=\"T_6355e_row12_col32\" class=\"data row12 col32\" >0.235772</td>\n",
       "    </tr>\n",
       "    <tr>\n",
       "      <th id=\"T_6355e_level0_row13\" class=\"row_heading level0 row13\" >disabilities_none</th>\n",
       "      <td id=\"T_6355e_row13_col0\" class=\"data row13 col0\" >0.016761</td>\n",
       "      <td id=\"T_6355e_row13_col1\" class=\"data row13 col1\" >0.182821</td>\n",
       "      <td id=\"T_6355e_row13_col2\" class=\"data row13 col2\" >0.303247</td>\n",
       "      <td id=\"T_6355e_row13_col3\" class=\"data row13 col3\" >-0.244408</td>\n",
       "      <td id=\"T_6355e_row13_col4\" class=\"data row13 col4\" >0.080987</td>\n",
       "      <td id=\"T_6355e_row13_col5\" class=\"data row13 col5\" >0.160190</td>\n",
       "      <td id=\"T_6355e_row13_col6\" class=\"data row13 col6\" >-0.179374</td>\n",
       "      <td id=\"T_6355e_row13_col7\" class=\"data row13 col7\" >-0.179374</td>\n",
       "      <td id=\"T_6355e_row13_col8\" class=\"data row13 col8\" >-0.135748</td>\n",
       "      <td id=\"T_6355e_row13_col9\" class=\"data row13 col9\" >-0.158560</td>\n",
       "      <td id=\"T_6355e_row13_col10\" class=\"data row13 col10\" >-0.198876</td>\n",
       "      <td id=\"T_6355e_row13_col11\" class=\"data row13 col11\" >-0.109599</td>\n",
       "      <td id=\"T_6355e_row13_col12\" class=\"data row13 col12\" >-0.198876</td>\n",
       "      <td id=\"T_6355e_row13_col13\" class=\"data row13 col13\" >1.000000</td>\n",
       "      <td id=\"T_6355e_row13_col14\" class=\"data row13 col14\" >-0.158560</td>\n",
       "      <td id=\"T_6355e_row13_col15\" class=\"data row13 col15\" >-0.109599</td>\n",
       "      <td id=\"T_6355e_row13_col16\" class=\"data row13 col16\" >0.160190</td>\n",
       "      <td id=\"T_6355e_row13_col17\" class=\"data row13 col17\" >-0.160190</td>\n",
       "      <td id=\"T_6355e_row13_col18\" class=\"data row13 col18\" >-0.137439</td>\n",
       "      <td id=\"T_6355e_row13_col19\" class=\"data row13 col19\" >0.137439</td>\n",
       "      <td id=\"T_6355e_row13_col20\" class=\"data row13 col20\" >-0.195687</td>\n",
       "      <td id=\"T_6355e_row13_col21\" class=\"data row13 col21\" >0.195687</td>\n",
       "      <td id=\"T_6355e_row13_col22\" class=\"data row13 col22\" >-0.179374</td>\n",
       "      <td id=\"T_6355e_row13_col23\" class=\"data row13 col23\" >-0.179374</td>\n",
       "      <td id=\"T_6355e_row13_col24\" class=\"data row13 col24\" >0.044352</td>\n",
       "      <td id=\"T_6355e_row13_col25\" class=\"data row13 col25\" >0.268483</td>\n",
       "      <td id=\"T_6355e_row13_col26\" class=\"data row13 col26\" >0.112697</td>\n",
       "      <td id=\"T_6355e_row13_col27\" class=\"data row13 col27\" >0.074564</td>\n",
       "      <td id=\"T_6355e_row13_col28\" class=\"data row13 col28\" >-0.154064</td>\n",
       "      <td id=\"T_6355e_row13_col29\" class=\"data row13 col29\" >-0.135748</td>\n",
       "      <td id=\"T_6355e_row13_col30\" class=\"data row13 col30\" >-0.043090</td>\n",
       "      <td id=\"T_6355e_row13_col31\" class=\"data row13 col31\" >0.076924</td>\n",
       "      <td id=\"T_6355e_row13_col32\" class=\"data row13 col32\" >0.112697</td>\n",
       "    </tr>\n",
       "    <tr>\n",
       "      <th id=\"T_6355e_level0_row14\" class=\"row_heading level0 row14\" >disabilities_ruptured discs</th>\n",
       "      <td id=\"T_6355e_row14_col0\" class=\"data row14 col0\" >-0.025717</td>\n",
       "      <td id=\"T_6355e_row14_col1\" class=\"data row14 col1\" >-0.132156</td>\n",
       "      <td id=\"T_6355e_row14_col2\" class=\"data row14 col2\" >0.041697</td>\n",
       "      <td id=\"T_6355e_row14_col3\" class=\"data row14 col3\" >-0.045244</td>\n",
       "      <td id=\"T_6355e_row14_col4\" class=\"data row14 col4\" >0.011495</td>\n",
       "      <td id=\"T_6355e_row14_col5\" class=\"data row14 col5\" >0.032632</td>\n",
       "      <td id=\"T_6355e_row14_col6\" class=\"data row14 col6\" >-0.105234</td>\n",
       "      <td id=\"T_6355e_row14_col7\" class=\"data row14 col7\" >-0.105234</td>\n",
       "      <td id=\"T_6355e_row14_col8\" class=\"data row14 col8\" >-0.079640</td>\n",
       "      <td id=\"T_6355e_row14_col9\" class=\"data row14 col9\" >-0.093023</td>\n",
       "      <td id=\"T_6355e_row14_col10\" class=\"data row14 col10\" >-0.116675</td>\n",
       "      <td id=\"T_6355e_row14_col11\" class=\"data row14 col11\" >-0.064299</td>\n",
       "      <td id=\"T_6355e_row14_col12\" class=\"data row14 col12\" >-0.116675</td>\n",
       "      <td id=\"T_6355e_row14_col13\" class=\"data row14 col13\" >-0.158560</td>\n",
       "      <td id=\"T_6355e_row14_col14\" class=\"data row14 col14\" >1.000000</td>\n",
       "      <td id=\"T_6355e_row14_col15\" class=\"data row14 col15\" >-0.064299</td>\n",
       "      <td id=\"T_6355e_row14_col16\" class=\"data row14 col16\" >0.186001</td>\n",
       "      <td id=\"T_6355e_row14_col17\" class=\"data row14 col17\" >-0.186001</td>\n",
       "      <td id=\"T_6355e_row14_col18\" class=\"data row14 col18\" >0.133302</td>\n",
       "      <td id=\"T_6355e_row14_col19\" class=\"data row14 col19\" >-0.133302</td>\n",
       "      <td id=\"T_6355e_row14_col20\" class=\"data row14 col20\" >0.073421</td>\n",
       "      <td id=\"T_6355e_row14_col21\" class=\"data row14 col21\" >-0.073421</td>\n",
       "      <td id=\"T_6355e_row14_col22\" class=\"data row14 col22\" >0.142066</td>\n",
       "      <td id=\"T_6355e_row14_col23\" class=\"data row14 col23\" >0.142066</td>\n",
       "      <td id=\"T_6355e_row14_col24\" class=\"data row14 col24\" >-0.263624</td>\n",
       "      <td id=\"T_6355e_row14_col25\" class=\"data row14 col25\" >0.111814</td>\n",
       "      <td id=\"T_6355e_row14_col26\" class=\"data row14 col26\" >-0.116675</td>\n",
       "      <td id=\"T_6355e_row14_col27\" class=\"data row14 col27\" >0.086579</td>\n",
       "      <td id=\"T_6355e_row14_col28\" class=\"data row14 col28\" >-0.058203</td>\n",
       "      <td id=\"T_6355e_row14_col29\" class=\"data row14 col29\" >-0.079640</td>\n",
       "      <td id=\"T_6355e_row14_col30\" class=\"data row14 col30\" >0.111814</td>\n",
       "      <td id=\"T_6355e_row14_col31\" class=\"data row14 col31\" >-0.079640</td>\n",
       "      <td id=\"T_6355e_row14_col32\" class=\"data row14 col32\" >0.111814</td>\n",
       "    </tr>\n",
       "    <tr>\n",
       "      <th id=\"T_6355e_level0_row15\" class=\"row_heading level0 row15\" >disabilities_scoliosis</th>\n",
       "      <td id=\"T_6355e_row15_col0\" class=\"data row15 col0\" >0.129661</td>\n",
       "      <td id=\"T_6355e_row15_col1\" class=\"data row15 col1\" >-0.010341</td>\n",
       "      <td id=\"T_6355e_row15_col2\" class=\"data row15 col2\" >-0.048036</td>\n",
       "      <td id=\"T_6355e_row15_col3\" class=\"data row15 col3\" >-0.144338</td>\n",
       "      <td id=\"T_6355e_row15_col4\" class=\"data row15 col4\" >0.132425</td>\n",
       "      <td id=\"T_6355e_row15_col5\" class=\"data row15 col5\" >0.022555</td>\n",
       "      <td id=\"T_6355e_row15_col6\" class=\"data row15 col6\" >-0.072739</td>\n",
       "      <td id=\"T_6355e_row15_col7\" class=\"data row15 col7\" >-0.072739</td>\n",
       "      <td id=\"T_6355e_row15_col8\" class=\"data row15 col8\" >-0.055048</td>\n",
       "      <td id=\"T_6355e_row15_col9\" class=\"data row15 col9\" >-0.064299</td>\n",
       "      <td id=\"T_6355e_row15_col10\" class=\"data row15 col10\" >-0.080648</td>\n",
       "      <td id=\"T_6355e_row15_col11\" class=\"data row15 col11\" >-0.044444</td>\n",
       "      <td id=\"T_6355e_row15_col12\" class=\"data row15 col12\" >-0.080648</td>\n",
       "      <td id=\"T_6355e_row15_col13\" class=\"data row15 col13\" >-0.109599</td>\n",
       "      <td id=\"T_6355e_row15_col14\" class=\"data row15 col14\" >-0.064299</td>\n",
       "      <td id=\"T_6355e_row15_col15\" class=\"data row15 col15\" >1.000000</td>\n",
       "      <td id=\"T_6355e_row15_col16\" class=\"data row15 col16\" >-0.189466</td>\n",
       "      <td id=\"T_6355e_row15_col17\" class=\"data row15 col17\" >0.189466</td>\n",
       "      <td id=\"T_6355e_row15_col18\" class=\"data row15 col18\" >-0.013484</td>\n",
       "      <td id=\"T_6355e_row15_col19\" class=\"data row15 col19\" >0.013484</td>\n",
       "      <td id=\"T_6355e_row15_col20\" class=\"data row15 col20\" >0.050750</td>\n",
       "      <td id=\"T_6355e_row15_col21\" class=\"data row15 col21\" >-0.050750</td>\n",
       "      <td id=\"T_6355e_row15_col22\" class=\"data row15 col22\" >-0.072739</td>\n",
       "      <td id=\"T_6355e_row15_col23\" class=\"data row15 col23\" >0.269135</td>\n",
       "      <td id=\"T_6355e_row15_col24\" class=\"data row15 col24\" >-0.070995</td>\n",
       "      <td id=\"T_6355e_row15_col25\" class=\"data row15 col25\" >-0.080648</td>\n",
       "      <td id=\"T_6355e_row15_col26\" class=\"data row15 col26\" >-0.080648</td>\n",
       "      <td id=\"T_6355e_row15_col27\" class=\"data row15 col27\" >-0.088192</td>\n",
       "      <td id=\"T_6355e_row15_col28\" class=\"data row15 col28\" >-0.151456</td>\n",
       "      <td id=\"T_6355e_row15_col29\" class=\"data row15 col29\" >0.376163</td>\n",
       "      <td id=\"T_6355e_row15_col30\" class=\"data row15 col30\" >0.235223</td>\n",
       "      <td id=\"T_6355e_row15_col31\" class=\"data row15 col31\" >-0.055048</td>\n",
       "      <td id=\"T_6355e_row15_col32\" class=\"data row15 col32\" >-0.080648</td>\n",
       "    </tr>\n",
       "    <tr>\n",
       "      <th id=\"T_6355e_level0_row16\" class=\"row_heading level0 row16\" >gender_Female</th>\n",
       "      <td id=\"T_6355e_row16_col0\" class=\"data row16 col0\" >-0.015920</td>\n",
       "      <td id=\"T_6355e_row16_col1\" class=\"data row16 col1\" >-0.071101</td>\n",
       "      <td id=\"T_6355e_row16_col2\" class=\"data row16 col2\" >0.304240</td>\n",
       "      <td id=\"T_6355e_row16_col3\" class=\"data row16 col3\" >-0.156269</td>\n",
       "      <td id=\"T_6355e_row16_col4\" class=\"data row16 col4\" >-0.294630</td>\n",
       "      <td id=\"T_6355e_row16_col5\" class=\"data row16 col5\" >0.397436</td>\n",
       "      <td id=\"T_6355e_row16_col6\" class=\"data row16 col6\" >-0.171286</td>\n",
       "      <td id=\"T_6355e_row16_col7\" class=\"data row16 col7\" >0.106315</td>\n",
       "      <td id=\"T_6355e_row16_col8\" class=\"data row16 col8\" >-0.059599</td>\n",
       "      <td id=\"T_6355e_row16_col9\" class=\"data row16 col9\" >0.032632</td>\n",
       "      <td id=\"T_6355e_row16_col10\" class=\"data row16 col10\" >0.040929</td>\n",
       "      <td id=\"T_6355e_row16_col11\" class=\"data row16 col11\" >-0.189466</td>\n",
       "      <td id=\"T_6355e_row16_col12\" class=\"data row16 col12\" >-0.087314</td>\n",
       "      <td id=\"T_6355e_row16_col13\" class=\"data row16 col13\" >0.160190</td>\n",
       "      <td id=\"T_6355e_row16_col14\" class=\"data row16 col14\" >0.186001</td>\n",
       "      <td id=\"T_6355e_row16_col15\" class=\"data row16 col15\" >-0.189466</td>\n",
       "      <td id=\"T_6355e_row16_col16\" class=\"data row16 col16\" >1.000000</td>\n",
       "      <td id=\"T_6355e_row16_col17\" class=\"data row16 col17\" >-1.000000</td>\n",
       "      <td id=\"T_6355e_row16_col18\" class=\"data row16 col18\" >0.071168</td>\n",
       "      <td id=\"T_6355e_row16_col19\" class=\"data row16 col19\" >-0.071168</td>\n",
       "      <td id=\"T_6355e_row16_col20\" class=\"data row16 col20\" >0.084291</td>\n",
       "      <td id=\"T_6355e_row16_col21\" class=\"data row16 col21\" >-0.084291</td>\n",
       "      <td id=\"T_6355e_row16_col22\" class=\"data row16 col22\" >-0.171286</td>\n",
       "      <td id=\"T_6355e_row16_col23\" class=\"data row16 col23\" >-0.171286</td>\n",
       "      <td id=\"T_6355e_row16_col24\" class=\"data row16 col24\" >0.103766</td>\n",
       "      <td id=\"T_6355e_row16_col25\" class=\"data row16 col25\" >0.169172</td>\n",
       "      <td id=\"T_6355e_row16_col26\" class=\"data row16 col26\" >-0.343801</td>\n",
       "      <td id=\"T_6355e_row16_col27\" class=\"data row16 col27\" >-0.015345</td>\n",
       "      <td id=\"T_6355e_row16_col28\" class=\"data row16 col28\" >0.257494</td>\n",
       "      <td id=\"T_6355e_row16_col29\" class=\"data row16 col29\" >-0.059599</td>\n",
       "      <td id=\"T_6355e_row16_col30\" class=\"data row16 col30\" >-0.087314</td>\n",
       "      <td id=\"T_6355e_row16_col31\" class=\"data row16 col31\" >-0.059599</td>\n",
       "      <td id=\"T_6355e_row16_col32\" class=\"data row16 col32\" >0.169172</td>\n",
       "    </tr>\n",
       "    <tr>\n",
       "      <th id=\"T_6355e_level0_row17\" class=\"row_heading level0 row17\" >gender_Male</th>\n",
       "      <td id=\"T_6355e_row17_col0\" class=\"data row17 col0\" >0.015920</td>\n",
       "      <td id=\"T_6355e_row17_col1\" class=\"data row17 col1\" >0.071101</td>\n",
       "      <td id=\"T_6355e_row17_col2\" class=\"data row17 col2\" >-0.304240</td>\n",
       "      <td id=\"T_6355e_row17_col3\" class=\"data row17 col3\" >0.156269</td>\n",
       "      <td id=\"T_6355e_row17_col4\" class=\"data row17 col4\" >0.294630</td>\n",
       "      <td id=\"T_6355e_row17_col5\" class=\"data row17 col5\" >-0.397436</td>\n",
       "      <td id=\"T_6355e_row17_col6\" class=\"data row17 col6\" >0.171286</td>\n",
       "      <td id=\"T_6355e_row17_col7\" class=\"data row17 col7\" >-0.106315</td>\n",
       "      <td id=\"T_6355e_row17_col8\" class=\"data row17 col8\" >0.059599</td>\n",
       "      <td id=\"T_6355e_row17_col9\" class=\"data row17 col9\" >-0.032632</td>\n",
       "      <td id=\"T_6355e_row17_col10\" class=\"data row17 col10\" >-0.040929</td>\n",
       "      <td id=\"T_6355e_row17_col11\" class=\"data row17 col11\" >0.189466</td>\n",
       "      <td id=\"T_6355e_row17_col12\" class=\"data row17 col12\" >0.087314</td>\n",
       "      <td id=\"T_6355e_row17_col13\" class=\"data row17 col13\" >-0.160190</td>\n",
       "      <td id=\"T_6355e_row17_col14\" class=\"data row17 col14\" >-0.186001</td>\n",
       "      <td id=\"T_6355e_row17_col15\" class=\"data row17 col15\" >0.189466</td>\n",
       "      <td id=\"T_6355e_row17_col16\" class=\"data row17 col16\" >-1.000000</td>\n",
       "      <td id=\"T_6355e_row17_col17\" class=\"data row17 col17\" >1.000000</td>\n",
       "      <td id=\"T_6355e_row17_col18\" class=\"data row17 col18\" >-0.071168</td>\n",
       "      <td id=\"T_6355e_row17_col19\" class=\"data row17 col19\" >0.071168</td>\n",
       "      <td id=\"T_6355e_row17_col20\" class=\"data row17 col20\" >-0.084291</td>\n",
       "      <td id=\"T_6355e_row17_col21\" class=\"data row17 col21\" >0.084291</td>\n",
       "      <td id=\"T_6355e_row17_col22\" class=\"data row17 col22\" >0.171286</td>\n",
       "      <td id=\"T_6355e_row17_col23\" class=\"data row17 col23\" >0.171286</td>\n",
       "      <td id=\"T_6355e_row17_col24\" class=\"data row17 col24\" >-0.103766</td>\n",
       "      <td id=\"T_6355e_row17_col25\" class=\"data row17 col25\" >-0.169172</td>\n",
       "      <td id=\"T_6355e_row17_col26\" class=\"data row17 col26\" >0.343801</td>\n",
       "      <td id=\"T_6355e_row17_col27\" class=\"data row17 col27\" >0.015345</td>\n",
       "      <td id=\"T_6355e_row17_col28\" class=\"data row17 col28\" >-0.257494</td>\n",
       "      <td id=\"T_6355e_row17_col29\" class=\"data row17 col29\" >0.059599</td>\n",
       "      <td id=\"T_6355e_row17_col30\" class=\"data row17 col30\" >0.087314</td>\n",
       "      <td id=\"T_6355e_row17_col31\" class=\"data row17 col31\" >0.059599</td>\n",
       "      <td id=\"T_6355e_row17_col32\" class=\"data row17 col32\" >-0.169172</td>\n",
       "    </tr>\n",
       "    <tr>\n",
       "      <th id=\"T_6355e_level0_row18\" class=\"row_heading level0 row18\" >has_children_No</th>\n",
       "      <td id=\"T_6355e_row18_col0\" class=\"data row18 col0\" >0.098979</td>\n",
       "      <td id=\"T_6355e_row18_col1\" class=\"data row18 col1\" >0.020269</td>\n",
       "      <td id=\"T_6355e_row18_col2\" class=\"data row18 col2\" >0.050522</td>\n",
       "      <td id=\"T_6355e_row18_col3\" class=\"data row18 col3\" >0.001946</td>\n",
       "      <td id=\"T_6355e_row18_col4\" class=\"data row18 col4\" >0.014999</td>\n",
       "      <td id=\"T_6355e_row18_col5\" class=\"data row18 col5\" >-0.014599</td>\n",
       "      <td id=\"T_6355e_row18_col6\" class=\"data row18 col6\" >0.047079</td>\n",
       "      <td id=\"T_6355e_row18_col7\" class=\"data row18 col7\" >-0.091216</td>\n",
       "      <td id=\"T_6355e_row18_col8\" class=\"data row18 col8\" >0.244949</td>\n",
       "      <td id=\"T_6355e_row18_col9\" class=\"data row18 col9\" >-0.019508</td>\n",
       "      <td id=\"T_6355e_row18_col10\" class=\"data row18 col10\" >-0.024468</td>\n",
       "      <td id=\"T_6355e_row18_col11\" class=\"data row18 col11\" >-0.013484</td>\n",
       "      <td id=\"T_6355e_row18_col12\" class=\"data row18 col12\" >-0.024468</td>\n",
       "      <td id=\"T_6355e_row18_col13\" class=\"data row18 col13\" >-0.137439</td>\n",
       "      <td id=\"T_6355e_row18_col14\" class=\"data row18 col14\" >0.133302</td>\n",
       "      <td id=\"T_6355e_row18_col15\" class=\"data row18 col15\" >-0.013484</td>\n",
       "      <td id=\"T_6355e_row18_col16\" class=\"data row18 col16\" >0.071168</td>\n",
       "      <td id=\"T_6355e_row18_col17\" class=\"data row18 col17\" >-0.071168</td>\n",
       "      <td id=\"T_6355e_row18_col18\" class=\"data row18 col18\" >1.000000</td>\n",
       "      <td id=\"T_6355e_row18_col19\" class=\"data row18 col19\" >-1.000000</td>\n",
       "      <td id=\"T_6355e_row18_col20\" class=\"data row18 col20\" >0.125043</td>\n",
       "      <td id=\"T_6355e_row18_col21\" class=\"data row18 col21\" >-0.125043</td>\n",
       "      <td id=\"T_6355e_row18_col22\" class=\"data row18 col22\" >0.185374</td>\n",
       "      <td id=\"T_6355e_row18_col23\" class=\"data row18 col23\" >0.047079</td>\n",
       "      <td id=\"T_6355e_row18_col24\" class=\"data row18 col24\" >-0.134022</td>\n",
       "      <td id=\"T_6355e_row18_col25\" class=\"data row18 col25\" >-0.024468</td>\n",
       "      <td id=\"T_6355e_row18_col26\" class=\"data row18 col26\" >0.103308</td>\n",
       "      <td id=\"T_6355e_row18_col27\" class=\"data row18 col27\" >0.152894</td>\n",
       "      <td id=\"T_6355e_row18_col28\" class=\"data row18 col28\" >-0.045950</td>\n",
       "      <td id=\"T_6355e_row18_col29\" class=\"data row18 col29\" >-0.103918</td>\n",
       "      <td id=\"T_6355e_row18_col30\" class=\"data row18 col30\" >-0.152244</td>\n",
       "      <td id=\"T_6355e_row18_col31\" class=\"data row18 col31\" >-0.278351</td>\n",
       "      <td id=\"T_6355e_row18_col32\" class=\"data row18 col32\" >0.231084</td>\n",
       "    </tr>\n",
       "    <tr>\n",
       "      <th id=\"T_6355e_level0_row19\" class=\"row_heading level0 row19\" >has_children_Yes</th>\n",
       "      <td id=\"T_6355e_row19_col0\" class=\"data row19 col0\" >-0.098979</td>\n",
       "      <td id=\"T_6355e_row19_col1\" class=\"data row19 col1\" >-0.020269</td>\n",
       "      <td id=\"T_6355e_row19_col2\" class=\"data row19 col2\" >-0.050522</td>\n",
       "      <td id=\"T_6355e_row19_col3\" class=\"data row19 col3\" >-0.001946</td>\n",
       "      <td id=\"T_6355e_row19_col4\" class=\"data row19 col4\" >-0.014999</td>\n",
       "      <td id=\"T_6355e_row19_col5\" class=\"data row19 col5\" >0.014599</td>\n",
       "      <td id=\"T_6355e_row19_col6\" class=\"data row19 col6\" >-0.047079</td>\n",
       "      <td id=\"T_6355e_row19_col7\" class=\"data row19 col7\" >0.091216</td>\n",
       "      <td id=\"T_6355e_row19_col8\" class=\"data row19 col8\" >-0.244949</td>\n",
       "      <td id=\"T_6355e_row19_col9\" class=\"data row19 col9\" >0.019508</td>\n",
       "      <td id=\"T_6355e_row19_col10\" class=\"data row19 col10\" >0.024468</td>\n",
       "      <td id=\"T_6355e_row19_col11\" class=\"data row19 col11\" >0.013484</td>\n",
       "      <td id=\"T_6355e_row19_col12\" class=\"data row19 col12\" >0.024468</td>\n",
       "      <td id=\"T_6355e_row19_col13\" class=\"data row19 col13\" >0.137439</td>\n",
       "      <td id=\"T_6355e_row19_col14\" class=\"data row19 col14\" >-0.133302</td>\n",
       "      <td id=\"T_6355e_row19_col15\" class=\"data row19 col15\" >0.013484</td>\n",
       "      <td id=\"T_6355e_row19_col16\" class=\"data row19 col16\" >-0.071168</td>\n",
       "      <td id=\"T_6355e_row19_col17\" class=\"data row19 col17\" >0.071168</td>\n",
       "      <td id=\"T_6355e_row19_col18\" class=\"data row19 col18\" >-1.000000</td>\n",
       "      <td id=\"T_6355e_row19_col19\" class=\"data row19 col19\" >1.000000</td>\n",
       "      <td id=\"T_6355e_row19_col20\" class=\"data row19 col20\" >-0.125043</td>\n",
       "      <td id=\"T_6355e_row19_col21\" class=\"data row19 col21\" >0.125043</td>\n",
       "      <td id=\"T_6355e_row19_col22\" class=\"data row19 col22\" >-0.185374</td>\n",
       "      <td id=\"T_6355e_row19_col23\" class=\"data row19 col23\" >-0.047079</td>\n",
       "      <td id=\"T_6355e_row19_col24\" class=\"data row19 col24\" >0.134022</td>\n",
       "      <td id=\"T_6355e_row19_col25\" class=\"data row19 col25\" >0.024468</td>\n",
       "      <td id=\"T_6355e_row19_col26\" class=\"data row19 col26\" >-0.103308</td>\n",
       "      <td id=\"T_6355e_row19_col27\" class=\"data row19 col27\" >-0.152894</td>\n",
       "      <td id=\"T_6355e_row19_col28\" class=\"data row19 col28\" >0.045950</td>\n",
       "      <td id=\"T_6355e_row19_col29\" class=\"data row19 col29\" >0.103918</td>\n",
       "      <td id=\"T_6355e_row19_col30\" class=\"data row19 col30\" >0.152244</td>\n",
       "      <td id=\"T_6355e_row19_col31\" class=\"data row19 col31\" >0.278351</td>\n",
       "      <td id=\"T_6355e_row19_col32\" class=\"data row19 col32\" >-0.231084</td>\n",
       "    </tr>\n",
       "    <tr>\n",
       "      <th id=\"T_6355e_level0_row20\" class=\"row_heading level0 row20\" >has_dependent_No</th>\n",
       "      <td id=\"T_6355e_row20_col0\" class=\"data row20 col0\" >-0.290904</td>\n",
       "      <td id=\"T_6355e_row20_col1\" class=\"data row20 col1\" >0.035834</td>\n",
       "      <td id=\"T_6355e_row20_col2\" class=\"data row20 col2\" >-0.303177</td>\n",
       "      <td id=\"T_6355e_row20_col3\" class=\"data row20 col3\" >-0.069922</td>\n",
       "      <td id=\"T_6355e_row20_col4\" class=\"data row20 col4\" >0.081380</td>\n",
       "      <td id=\"T_6355e_row20_col5\" class=\"data row20 col5\" >-0.003746</td>\n",
       "      <td id=\"T_6355e_row20_col6\" class=\"data row20 col6\" >-0.129874</td>\n",
       "      <td id=\"T_6355e_row20_col7\" class=\"data row20 col7\" >0.012081</td>\n",
       "      <td id=\"T_6355e_row20_col8\" class=\"data row20 col8\" >0.152383</td>\n",
       "      <td id=\"T_6355e_row20_col9\" class=\"data row20 col9\" >0.073421</td>\n",
       "      <td id=\"T_6355e_row20_col10\" class=\"data row20 col10\" >-0.039068</td>\n",
       "      <td id=\"T_6355e_row20_col11\" class=\"data row20 col11\" >0.050750</td>\n",
       "      <td id=\"T_6355e_row20_col12\" class=\"data row20 col12\" >0.092090</td>\n",
       "      <td id=\"T_6355e_row20_col13\" class=\"data row20 col13\" >-0.195687</td>\n",
       "      <td id=\"T_6355e_row20_col14\" class=\"data row20 col14\" >0.073421</td>\n",
       "      <td id=\"T_6355e_row20_col15\" class=\"data row20 col15\" >0.050750</td>\n",
       "      <td id=\"T_6355e_row20_col16\" class=\"data row20 col16\" >0.084291</td>\n",
       "      <td id=\"T_6355e_row20_col17\" class=\"data row20 col17\" >-0.084291</td>\n",
       "      <td id=\"T_6355e_row20_col18\" class=\"data row20 col18\" >0.125043</td>\n",
       "      <td id=\"T_6355e_row20_col19\" class=\"data row20 col19\" >-0.125043</td>\n",
       "      <td id=\"T_6355e_row20_col20\" class=\"data row20 col20\" >1.000000</td>\n",
       "      <td id=\"T_6355e_row20_col21\" class=\"data row20 col21\" >-1.000000</td>\n",
       "      <td id=\"T_6355e_row20_col22\" class=\"data row20 col22\" >-0.129874</td>\n",
       "      <td id=\"T_6355e_row20_col23\" class=\"data row20 col23\" >0.012081</td>\n",
       "      <td id=\"T_6355e_row20_col24\" class=\"data row20 col24\" >0.196528</td>\n",
       "      <td id=\"T_6355e_row20_col25\" class=\"data row20 col25\" >-0.170226</td>\n",
       "      <td id=\"T_6355e_row20_col26\" class=\"data row20 col26\" >-0.039068</td>\n",
       "      <td id=\"T_6355e_row20_col27\" class=\"data row20 col27\" >-0.083702</td>\n",
       "      <td id=\"T_6355e_row20_col28\" class=\"data row20 col28\" >0.080576</td>\n",
       "      <td id=\"T_6355e_row20_col29\" class=\"data row20 col29\" >0.152383</td>\n",
       "      <td id=\"T_6355e_row20_col30\" class=\"data row20 col30\" >0.092090</td>\n",
       "      <td id=\"T_6355e_row20_col31\" class=\"data row20 col31\" >-0.026667</td>\n",
       "      <td id=\"T_6355e_row20_col32\" class=\"data row20 col32\" >-0.170226</td>\n",
       "    </tr>\n",
       "    <tr>\n",
       "      <th id=\"T_6355e_level0_row21\" class=\"row_heading level0 row21\" >has_dependent_Yes</th>\n",
       "      <td id=\"T_6355e_row21_col0\" class=\"data row21 col0\" >0.290904</td>\n",
       "      <td id=\"T_6355e_row21_col1\" class=\"data row21 col1\" >-0.035834</td>\n",
       "      <td id=\"T_6355e_row21_col2\" class=\"data row21 col2\" >0.303177</td>\n",
       "      <td id=\"T_6355e_row21_col3\" class=\"data row21 col3\" >0.069922</td>\n",
       "      <td id=\"T_6355e_row21_col4\" class=\"data row21 col4\" >-0.081380</td>\n",
       "      <td id=\"T_6355e_row21_col5\" class=\"data row21 col5\" >0.003746</td>\n",
       "      <td id=\"T_6355e_row21_col6\" class=\"data row21 col6\" >0.129874</td>\n",
       "      <td id=\"T_6355e_row21_col7\" class=\"data row21 col7\" >-0.012081</td>\n",
       "      <td id=\"T_6355e_row21_col8\" class=\"data row21 col8\" >-0.152383</td>\n",
       "      <td id=\"T_6355e_row21_col9\" class=\"data row21 col9\" >-0.073421</td>\n",
       "      <td id=\"T_6355e_row21_col10\" class=\"data row21 col10\" >0.039068</td>\n",
       "      <td id=\"T_6355e_row21_col11\" class=\"data row21 col11\" >-0.050750</td>\n",
       "      <td id=\"T_6355e_row21_col12\" class=\"data row21 col12\" >-0.092090</td>\n",
       "      <td id=\"T_6355e_row21_col13\" class=\"data row21 col13\" >0.195687</td>\n",
       "      <td id=\"T_6355e_row21_col14\" class=\"data row21 col14\" >-0.073421</td>\n",
       "      <td id=\"T_6355e_row21_col15\" class=\"data row21 col15\" >-0.050750</td>\n",
       "      <td id=\"T_6355e_row21_col16\" class=\"data row21 col16\" >-0.084291</td>\n",
       "      <td id=\"T_6355e_row21_col17\" class=\"data row21 col17\" >0.084291</td>\n",
       "      <td id=\"T_6355e_row21_col18\" class=\"data row21 col18\" >-0.125043</td>\n",
       "      <td id=\"T_6355e_row21_col19\" class=\"data row21 col19\" >0.125043</td>\n",
       "      <td id=\"T_6355e_row21_col20\" class=\"data row21 col20\" >-1.000000</td>\n",
       "      <td id=\"T_6355e_row21_col21\" class=\"data row21 col21\" >1.000000</td>\n",
       "      <td id=\"T_6355e_row21_col22\" class=\"data row21 col22\" >0.129874</td>\n",
       "      <td id=\"T_6355e_row21_col23\" class=\"data row21 col23\" >-0.012081</td>\n",
       "      <td id=\"T_6355e_row21_col24\" class=\"data row21 col24\" >-0.196528</td>\n",
       "      <td id=\"T_6355e_row21_col25\" class=\"data row21 col25\" >0.170226</td>\n",
       "      <td id=\"T_6355e_row21_col26\" class=\"data row21 col26\" >0.039068</td>\n",
       "      <td id=\"T_6355e_row21_col27\" class=\"data row21 col27\" >0.083702</td>\n",
       "      <td id=\"T_6355e_row21_col28\" class=\"data row21 col28\" >-0.080576</td>\n",
       "      <td id=\"T_6355e_row21_col29\" class=\"data row21 col29\" >-0.152383</td>\n",
       "      <td id=\"T_6355e_row21_col30\" class=\"data row21 col30\" >-0.092090</td>\n",
       "      <td id=\"T_6355e_row21_col31\" class=\"data row21 col31\" >0.026667</td>\n",
       "      <td id=\"T_6355e_row21_col32\" class=\"data row21 col32\" >0.170226</td>\n",
       "    </tr>\n",
       "    <tr>\n",
       "      <th id=\"T_6355e_level0_row22\" class=\"row_heading level0 row22\" >marital_status_divorced</th>\n",
       "      <td id=\"T_6355e_row22_col0\" class=\"data row22 col0\" >0.340902</td>\n",
       "      <td id=\"T_6355e_row22_col1\" class=\"data row22 col1\" >-0.056698</td>\n",
       "      <td id=\"T_6355e_row22_col2\" class=\"data row22 col2\" >-0.201260</td>\n",
       "      <td id=\"T_6355e_row22_col3\" class=\"data row22 col3\" >-0.088192</td>\n",
       "      <td id=\"T_6355e_row22_col4\" class=\"data row22 col4\" >-0.027742</td>\n",
       "      <td id=\"T_6355e_row22_col5\" class=\"data row22 col5\" >0.106315</td>\n",
       "      <td id=\"T_6355e_row22_col6\" class=\"data row22 col6\" >0.104762</td>\n",
       "      <td id=\"T_6355e_row22_col7\" class=\"data row22 col7\" >0.104762</td>\n",
       "      <td id=\"T_6355e_row22_col8\" class=\"data row22 col8\" >0.474494</td>\n",
       "      <td id=\"T_6355e_row22_col9\" class=\"data row22 col9\" >-0.105234</td>\n",
       "      <td id=\"T_6355e_row22_col10\" class=\"data row22 col10\" >-0.131991</td>\n",
       "      <td id=\"T_6355e_row22_col11\" class=\"data row22 col11\" >-0.072739</td>\n",
       "      <td id=\"T_6355e_row22_col12\" class=\"data row22 col12\" >-0.131991</td>\n",
       "      <td id=\"T_6355e_row22_col13\" class=\"data row22 col13\" >-0.179374</td>\n",
       "      <td id=\"T_6355e_row22_col14\" class=\"data row22 col14\" >0.142066</td>\n",
       "      <td id=\"T_6355e_row22_col15\" class=\"data row22 col15\" >-0.072739</td>\n",
       "      <td id=\"T_6355e_row22_col16\" class=\"data row22 col16\" >-0.171286</td>\n",
       "      <td id=\"T_6355e_row22_col17\" class=\"data row22 col17\" >0.171286</td>\n",
       "      <td id=\"T_6355e_row22_col18\" class=\"data row22 col18\" >0.185374</td>\n",
       "      <td id=\"T_6355e_row22_col19\" class=\"data row22 col19\" >-0.185374</td>\n",
       "      <td id=\"T_6355e_row22_col20\" class=\"data row22 col20\" >-0.129874</td>\n",
       "      <td id=\"T_6355e_row22_col21\" class=\"data row22 col21\" >0.129874</td>\n",
       "      <td id=\"T_6355e_row22_col22\" class=\"data row22 col22\" >1.000000</td>\n",
       "      <td id=\"T_6355e_row22_col23\" class=\"data row22 col23\" >-0.119048</td>\n",
       "      <td id=\"T_6355e_row22_col24\" class=\"data row22 col24\" >-0.480265</td>\n",
       "      <td id=\"T_6355e_row22_col25\" class=\"data row22 col25\" >-0.131991</td>\n",
       "      <td id=\"T_6355e_row22_col26\" class=\"data row22 col26\" >0.488366</td>\n",
       "      <td id=\"T_6355e_row22_col27\" class=\"data row22 col27\" >0.049487</td>\n",
       "      <td id=\"T_6355e_row22_col28\" class=\"data row22 col28\" >-0.102250</td>\n",
       "      <td id=\"T_6355e_row22_col29\" class=\"data row22 col29\" >-0.090094</td>\n",
       "      <td id=\"T_6355e_row22_col30\" class=\"data row22 col30\" >-0.131991</td>\n",
       "      <td id=\"T_6355e_row22_col31\" class=\"data row22 col31\" >-0.090094</td>\n",
       "      <td id=\"T_6355e_row22_col32\" class=\"data row22 col32\" >-0.131991</td>\n",
       "    </tr>\n",
       "    <tr>\n",
       "      <th id=\"T_6355e_level0_row23\" class=\"row_heading level0 row23\" >marital_status_married</th>\n",
       "      <td id=\"T_6355e_row23_col0\" class=\"data row23 col0\" >-0.109527</td>\n",
       "      <td id=\"T_6355e_row23_col1\" class=\"data row23 col1\" >-0.102154</td>\n",
       "      <td id=\"T_6355e_row23_col2\" class=\"data row23 col2\" >-0.018868</td>\n",
       "      <td id=\"T_6355e_row23_col3\" class=\"data row23 col3\" >-0.088192</td>\n",
       "      <td id=\"T_6355e_row23_col4\" class=\"data row23 col4\" >0.298223</td>\n",
       "      <td id=\"T_6355e_row23_col5\" class=\"data row23 col5\" >-0.171286</td>\n",
       "      <td id=\"T_6355e_row23_col6\" class=\"data row23 col6\" >-0.119048</td>\n",
       "      <td id=\"T_6355e_row23_col7\" class=\"data row23 col7\" >-0.119048</td>\n",
       "      <td id=\"T_6355e_row23_col8\" class=\"data row23 col8\" >-0.090094</td>\n",
       "      <td id=\"T_6355e_row23_col9\" class=\"data row23 col9\" >0.142066</td>\n",
       "      <td id=\"T_6355e_row23_col10\" class=\"data row23 col10\" >0.074795</td>\n",
       "      <td id=\"T_6355e_row23_col11\" class=\"data row23 col11\" >-0.072739</td>\n",
       "      <td id=\"T_6355e_row23_col12\" class=\"data row23 col12\" >0.074795</td>\n",
       "      <td id=\"T_6355e_row23_col13\" class=\"data row23 col13\" >-0.179374</td>\n",
       "      <td id=\"T_6355e_row23_col14\" class=\"data row23 col14\" >0.142066</td>\n",
       "      <td id=\"T_6355e_row23_col15\" class=\"data row23 col15\" >0.269135</td>\n",
       "      <td id=\"T_6355e_row23_col16\" class=\"data row23 col16\" >-0.171286</td>\n",
       "      <td id=\"T_6355e_row23_col17\" class=\"data row23 col17\" >0.171286</td>\n",
       "      <td id=\"T_6355e_row23_col18\" class=\"data row23 col18\" >0.047079</td>\n",
       "      <td id=\"T_6355e_row23_col19\" class=\"data row23 col19\" >-0.047079</td>\n",
       "      <td id=\"T_6355e_row23_col20\" class=\"data row23 col20\" >0.012081</td>\n",
       "      <td id=\"T_6355e_row23_col21\" class=\"data row23 col21\" >-0.012081</td>\n",
       "      <td id=\"T_6355e_row23_col22\" class=\"data row23 col22\" >-0.119048</td>\n",
       "      <td id=\"T_6355e_row23_col23\" class=\"data row23 col23\" >1.000000</td>\n",
       "      <td id=\"T_6355e_row23_col24\" class=\"data row23 col24\" >-0.480265</td>\n",
       "      <td id=\"T_6355e_row23_col25\" class=\"data row23 col25\" >-0.131991</td>\n",
       "      <td id=\"T_6355e_row23_col26\" class=\"data row23 col26\" >0.074795</td>\n",
       "      <td id=\"T_6355e_row23_col27\" class=\"data row23 col27\" >0.049487</td>\n",
       "      <td id=\"T_6355e_row23_col28\" class=\"data row23 col28\" >-0.102250</td>\n",
       "      <td id=\"T_6355e_row23_col29\" class=\"data row23 col29\" >-0.090094</td>\n",
       "      <td id=\"T_6355e_row23_col30\" class=\"data row23 col30\" >0.074795</td>\n",
       "      <td id=\"T_6355e_row23_col31\" class=\"data row23 col31\" >0.192200</td>\n",
       "      <td id=\"T_6355e_row23_col32\" class=\"data row23 col32\" >-0.131991</td>\n",
       "    </tr>\n",
       "    <tr>\n",
       "      <th id=\"T_6355e_level0_row24\" class=\"row_heading level0 row24\" >marital_status_single</th>\n",
       "      <td id=\"T_6355e_row24_col0\" class=\"data row24 col0\" >-0.085966</td>\n",
       "      <td id=\"T_6355e_row24_col1\" class=\"data row24 col1\" >0.063585</td>\n",
       "      <td id=\"T_6355e_row24_col2\" class=\"data row24 col2\" >0.008185</td>\n",
       "      <td id=\"T_6355e_row24_col3\" class=\"data row24 col3\" >-0.086077</td>\n",
       "      <td id=\"T_6355e_row24_col4\" class=\"data row24 col4\" >-0.133126</td>\n",
       "      <td id=\"T_6355e_row24_col5\" class=\"data row24 col5\" >0.194082</td>\n",
       "      <td id=\"T_6355e_row24_col6\" class=\"data row24 col6\" >0.102250</td>\n",
       "      <td id=\"T_6355e_row24_col7\" class=\"data row24 col7\" >-0.043379</td>\n",
       "      <td id=\"T_6355e_row24_col8\" class=\"data row24 col8\" >-0.179775</td>\n",
       "      <td id=\"T_6355e_row24_col9\" class=\"data row24 col9\" >-0.102711</td>\n",
       "      <td id=\"T_6355e_row24_col10\" class=\"data row24 col10\" >0.140277</td>\n",
       "      <td id=\"T_6355e_row24_col11\" class=\"data row24 col11\" >0.151456</td>\n",
       "      <td id=\"T_6355e_row24_col12\" class=\"data row24 col12\" >0.140277</td>\n",
       "      <td id=\"T_6355e_row24_col13\" class=\"data row24 col13\" >0.044352</td>\n",
       "      <td id=\"T_6355e_row24_col14\" class=\"data row24 col14\" >-0.263624</td>\n",
       "      <td id=\"T_6355e_row24_col15\" class=\"data row24 col15\" >-0.070995</td>\n",
       "      <td id=\"T_6355e_row24_col16\" class=\"data row24 col16\" >0.103766</td>\n",
       "      <td id=\"T_6355e_row24_col17\" class=\"data row24 col17\" >-0.103766</td>\n",
       "      <td id=\"T_6355e_row24_col18\" class=\"data row24 col18\" >-0.134022</td>\n",
       "      <td id=\"T_6355e_row24_col19\" class=\"data row24 col19\" >0.134022</td>\n",
       "      <td id=\"T_6355e_row24_col20\" class=\"data row24 col20\" >0.196528</td>\n",
       "      <td id=\"T_6355e_row24_col21\" class=\"data row24 col21\" >-0.196528</td>\n",
       "      <td id=\"T_6355e_row24_col22\" class=\"data row24 col22\" >-0.480265</td>\n",
       "      <td id=\"T_6355e_row24_col23\" class=\"data row24 col23\" >-0.480265</td>\n",
       "      <td id=\"T_6355e_row24_col24\" class=\"data row24 col24\" >1.000000</td>\n",
       "      <td id=\"T_6355e_row24_col25\" class=\"data row24 col25\" >-0.532482</td>\n",
       "      <td id=\"T_6355e_row24_col26\" class=\"data row24 col26\" >-0.397930</td>\n",
       "      <td id=\"T_6355e_row24_col27\" class=\"data row24 col27\" >-0.077818</td>\n",
       "      <td id=\"T_6355e_row24_col28\" class=\"data row24 col28\" >0.137097</td>\n",
       "      <td id=\"T_6355e_row24_col29\" class=\"data row24 col29\" >0.187592</td>\n",
       "      <td id=\"T_6355e_row24_col30\" class=\"data row24 col30\" >0.140277</td>\n",
       "      <td id=\"T_6355e_row24_col31\" class=\"data row24 col31\" >-0.179775</td>\n",
       "      <td id=\"T_6355e_row24_col32\" class=\"data row24 col32\" >0.140277</td>\n",
       "    </tr>\n",
       "    <tr>\n",
       "      <th id=\"T_6355e_level0_row25\" class=\"row_heading level0 row25\" >marital_status_widowed</th>\n",
       "      <td id=\"T_6355e_row25_col0\" class=\"data row25 col0\" >-0.091709</td>\n",
       "      <td id=\"T_6355e_row25_col1\" class=\"data row25 col1\" >0.056481</td>\n",
       "      <td id=\"T_6355e_row25_col2\" class=\"data row25 col2\" >0.191763</td>\n",
       "      <td id=\"T_6355e_row25_col3\" class=\"data row25 col3\" >0.285192</td>\n",
       "      <td id=\"T_6355e_row25_col4\" class=\"data row25 col4\" >-0.060875</td>\n",
       "      <td id=\"T_6355e_row25_col5\" class=\"data row25 col5\" >-0.215558</td>\n",
       "      <td id=\"T_6355e_row25_col6\" class=\"data row25 col6\" >-0.131991</td>\n",
       "      <td id=\"T_6355e_row25_col7\" class=\"data row25 col7\" >0.074795</td>\n",
       "      <td id=\"T_6355e_row25_col8\" class=\"data row25 col8\" >-0.099889</td>\n",
       "      <td id=\"T_6355e_row25_col9\" class=\"data row25 col9\" >0.111814</td>\n",
       "      <td id=\"T_6355e_row25_col10\" class=\"data row25 col10\" >-0.146341</td>\n",
       "      <td id=\"T_6355e_row25_col11\" class=\"data row25 col11\" >-0.080648</td>\n",
       "      <td id=\"T_6355e_row25_col12\" class=\"data row25 col12\" >-0.146341</td>\n",
       "      <td id=\"T_6355e_row25_col13\" class=\"data row25 col13\" >0.268483</td>\n",
       "      <td id=\"T_6355e_row25_col14\" class=\"data row25 col14\" >0.111814</td>\n",
       "      <td id=\"T_6355e_row25_col15\" class=\"data row25 col15\" >-0.080648</td>\n",
       "      <td id=\"T_6355e_row25_col16\" class=\"data row25 col16\" >0.169172</td>\n",
       "      <td id=\"T_6355e_row25_col17\" class=\"data row25 col17\" >-0.169172</td>\n",
       "      <td id=\"T_6355e_row25_col18\" class=\"data row25 col18\" >-0.024468</td>\n",
       "      <td id=\"T_6355e_row25_col19\" class=\"data row25 col19\" >0.024468</td>\n",
       "      <td id=\"T_6355e_row25_col20\" class=\"data row25 col20\" >-0.170226</td>\n",
       "      <td id=\"T_6355e_row25_col21\" class=\"data row25 col21\" >0.170226</td>\n",
       "      <td id=\"T_6355e_row25_col22\" class=\"data row25 col22\" >-0.131991</td>\n",
       "      <td id=\"T_6355e_row25_col23\" class=\"data row25 col23\" >-0.131991</td>\n",
       "      <td id=\"T_6355e_row25_col24\" class=\"data row25 col24\" >-0.532482</td>\n",
       "      <td id=\"T_6355e_row25_col25\" class=\"data row25 col25\" >1.000000</td>\n",
       "      <td id=\"T_6355e_row25_col26\" class=\"data row25 col26\" >0.044715</td>\n",
       "      <td id=\"T_6355e_row25_col27\" class=\"data row25 col27\" >0.019051</td>\n",
       "      <td id=\"T_6355e_row25_col28\" class=\"data row25 col28\" >-0.005726</td>\n",
       "      <td id=\"T_6355e_row25_col29\" class=\"data row25 col29\" >-0.099889</td>\n",
       "      <td id=\"T_6355e_row25_col30\" class=\"data row25 col30\" >-0.146341</td>\n",
       "      <td id=\"T_6355e_row25_col31\" class=\"data row25 col31\" >0.160932</td>\n",
       "      <td id=\"T_6355e_row25_col32\" class=\"data row25 col32\" >0.044715</td>\n",
       "    </tr>\n",
       "    <tr>\n",
       "      <th id=\"T_6355e_level0_row26\" class=\"row_heading level0 row26\" >medical_problems_drug addiction</th>\n",
       "      <td id=\"T_6355e_row26_col0\" class=\"data row26 col0\" >-0.017393</td>\n",
       "      <td id=\"T_6355e_row26_col1\" class=\"data row26 col1\" >0.101979</td>\n",
       "      <td id=\"T_6355e_row26_col2\" class=\"data row26 col2\" >-0.226628</td>\n",
       "      <td id=\"T_6355e_row26_col3\" class=\"data row26 col3\" >0.011641</td>\n",
       "      <td id=\"T_6355e_row26_col4\" class=\"data row26 col4\" >0.089710</td>\n",
       "      <td id=\"T_6355e_row26_col5\" class=\"data row26 col5\" >-0.087314</td>\n",
       "      <td id=\"T_6355e_row26_col6\" class=\"data row26 col6\" >0.074795</td>\n",
       "      <td id=\"T_6355e_row26_col7\" class=\"data row26 col7\" >-0.131991</td>\n",
       "      <td id=\"T_6355e_row26_col8\" class=\"data row26 col8\" >0.421754</td>\n",
       "      <td id=\"T_6355e_row26_col9\" class=\"data row26 col9\" >0.111814</td>\n",
       "      <td id=\"T_6355e_row26_col10\" class=\"data row26 col10\" >-0.146341</td>\n",
       "      <td id=\"T_6355e_row26_col11\" class=\"data row26 col11\" >-0.080648</td>\n",
       "      <td id=\"T_6355e_row26_col12\" class=\"data row26 col12\" >-0.146341</td>\n",
       "      <td id=\"T_6355e_row26_col13\" class=\"data row26 col13\" >0.112697</td>\n",
       "      <td id=\"T_6355e_row26_col14\" class=\"data row26 col14\" >-0.116675</td>\n",
       "      <td id=\"T_6355e_row26_col15\" class=\"data row26 col15\" >-0.080648</td>\n",
       "      <td id=\"T_6355e_row26_col16\" class=\"data row26 col16\" >-0.343801</td>\n",
       "      <td id=\"T_6355e_row26_col17\" class=\"data row26 col17\" >0.343801</td>\n",
       "      <td id=\"T_6355e_row26_col18\" class=\"data row26 col18\" >0.103308</td>\n",
       "      <td id=\"T_6355e_row26_col19\" class=\"data row26 col19\" >-0.103308</td>\n",
       "      <td id=\"T_6355e_row26_col20\" class=\"data row26 col20\" >-0.039068</td>\n",
       "      <td id=\"T_6355e_row26_col21\" class=\"data row26 col21\" >0.039068</td>\n",
       "      <td id=\"T_6355e_row26_col22\" class=\"data row26 col22\" >0.488366</td>\n",
       "      <td id=\"T_6355e_row26_col23\" class=\"data row26 col23\" >0.074795</td>\n",
       "      <td id=\"T_6355e_row26_col24\" class=\"data row26 col24\" >-0.397930</td>\n",
       "      <td id=\"T_6355e_row26_col25\" class=\"data row26 col25\" >0.044715</td>\n",
       "      <td id=\"T_6355e_row26_col26\" class=\"data row26 col26\" >1.000000</td>\n",
       "      <td id=\"T_6355e_row26_col27\" class=\"data row26 col27\" >-0.160030</td>\n",
       "      <td id=\"T_6355e_row26_col28\" class=\"data row26 col28\" >-0.274829</td>\n",
       "      <td id=\"T_6355e_row26_col29\" class=\"data row26 col29\" >-0.099889</td>\n",
       "      <td id=\"T_6355e_row26_col30\" class=\"data row26 col30\" >-0.146341</td>\n",
       "      <td id=\"T_6355e_row26_col31\" class=\"data row26 col31\" >-0.099889</td>\n",
       "      <td id=\"T_6355e_row26_col32\" class=\"data row26 col32\" >-0.146341</td>\n",
       "    </tr>\n",
       "    <tr>\n",
       "      <th id=\"T_6355e_level0_row27\" class=\"row_heading level0 row27\" >medical_problems_mental issue</th>\n",
       "      <td id=\"T_6355e_row27_col0\" class=\"data row27 col0\" >0.215494</td>\n",
       "      <td id=\"T_6355e_row27_col1\" class=\"data row27 col1\" >-0.051685</td>\n",
       "      <td id=\"T_6355e_row27_col2\" class=\"data row27 col2\" >0.337699</td>\n",
       "      <td id=\"T_6355e_row27_col3\" class=\"data row27 col3\" >0.098198</td>\n",
       "      <td id=\"T_6355e_row27_col4\" class=\"data row27 col4\" >0.051053</td>\n",
       "      <td id=\"T_6355e_row27_col5\" class=\"data row27 col5\" >-0.135550</td>\n",
       "      <td id=\"T_6355e_row27_col6\" class=\"data row27 col6\" >0.049487</td>\n",
       "      <td id=\"T_6355e_row27_col7\" class=\"data row27 col7\" >0.049487</td>\n",
       "      <td id=\"T_6355e_row27_col8\" class=\"data row27 col8\" >-0.109233</td>\n",
       "      <td id=\"T_6355e_row27_col9\" class=\"data row27 col9\" >0.300747</td>\n",
       "      <td id=\"T_6355e_row27_col10\" class=\"data row27 col10\" >-0.160030</td>\n",
       "      <td id=\"T_6355e_row27_col11\" class=\"data row27 col11\" >-0.088192</td>\n",
       "      <td id=\"T_6355e_row27_col12\" class=\"data row27 col12\" >-0.160030</td>\n",
       "      <td id=\"T_6355e_row27_col13\" class=\"data row27 col13\" >0.074564</td>\n",
       "      <td id=\"T_6355e_row27_col14\" class=\"data row27 col14\" >0.086579</td>\n",
       "      <td id=\"T_6355e_row27_col15\" class=\"data row27 col15\" >-0.088192</td>\n",
       "      <td id=\"T_6355e_row27_col16\" class=\"data row27 col16\" >-0.015345</td>\n",
       "      <td id=\"T_6355e_row27_col17\" class=\"data row27 col17\" >0.015345</td>\n",
       "      <td id=\"T_6355e_row27_col18\" class=\"data row27 col18\" >0.152894</td>\n",
       "      <td id=\"T_6355e_row27_col19\" class=\"data row27 col19\" >-0.152894</td>\n",
       "      <td id=\"T_6355e_row27_col20\" class=\"data row27 col20\" >-0.083702</td>\n",
       "      <td id=\"T_6355e_row27_col21\" class=\"data row27 col21\" >0.083702</td>\n",
       "      <td id=\"T_6355e_row27_col22\" class=\"data row27 col22\" >0.049487</td>\n",
       "      <td id=\"T_6355e_row27_col23\" class=\"data row27 col23\" >0.049487</td>\n",
       "      <td id=\"T_6355e_row27_col24\" class=\"data row27 col24\" >-0.077818</td>\n",
       "      <td id=\"T_6355e_row27_col25\" class=\"data row27 col25\" >0.019051</td>\n",
       "      <td id=\"T_6355e_row27_col26\" class=\"data row27 col26\" >-0.160030</td>\n",
       "      <td id=\"T_6355e_row27_col27\" class=\"data row27 col27\" >1.000000</td>\n",
       "      <td id=\"T_6355e_row27_col28\" class=\"data row27 col28\" >-0.300537</td>\n",
       "      <td id=\"T_6355e_row27_col29\" class=\"data row27 col29\" >-0.109233</td>\n",
       "      <td id=\"T_6355e_row27_col30\" class=\"data row27 col30\" >-0.160030</td>\n",
       "      <td id=\"T_6355e_row27_col31\" class=\"data row27 col31\" >-0.109233</td>\n",
       "      <td id=\"T_6355e_row27_col32\" class=\"data row27 col32\" >-0.160030</td>\n",
       "    </tr>\n",
       "    <tr>\n",
       "      <th id=\"T_6355e_level0_row28\" class=\"row_heading level0 row28\" >medical_problems_none</th>\n",
       "      <td id=\"T_6355e_row28_col0\" class=\"data row28 col0\" >-0.228055</td>\n",
       "      <td id=\"T_6355e_row28_col1\" class=\"data row28 col1\" >-0.036473</td>\n",
       "      <td id=\"T_6355e_row28_col2\" class=\"data row28 col2\" >0.102310</td>\n",
       "      <td id=\"T_6355e_row28_col3\" class=\"data row28 col3\" >0.086077</td>\n",
       "      <td id=\"T_6355e_row28_col4\" class=\"data row28 col4\" >-0.078973</td>\n",
       "      <td id=\"T_6355e_row28_col5\" class=\"data row28 col5\" >-0.013451</td>\n",
       "      <td id=\"T_6355e_row28_col6\" class=\"data row28 col6\" >-0.102250</td>\n",
       "      <td id=\"T_6355e_row28_col7\" class=\"data row28 col7\" >0.189008</td>\n",
       "      <td id=\"T_6355e_row28_col8\" class=\"data row28 col8\" >-0.003908</td>\n",
       "      <td id=\"T_6355e_row28_col9\" class=\"data row28 col9\" >-0.219116</td>\n",
       "      <td id=\"T_6355e_row28_col10\" class=\"data row28 col10\" >0.532482</td>\n",
       "      <td id=\"T_6355e_row28_col11\" class=\"data row28 col11\" >-0.151456</td>\n",
       "      <td id=\"T_6355e_row28_col12\" class=\"data row28 col12\" >-0.005726</td>\n",
       "      <td id=\"T_6355e_row28_col13\" class=\"data row28 col13\" >-0.154064</td>\n",
       "      <td id=\"T_6355e_row28_col14\" class=\"data row28 col14\" >-0.058203</td>\n",
       "      <td id=\"T_6355e_row28_col15\" class=\"data row28 col15\" >-0.151456</td>\n",
       "      <td id=\"T_6355e_row28_col16\" class=\"data row28 col16\" >0.257494</td>\n",
       "      <td id=\"T_6355e_row28_col17\" class=\"data row28 col17\" >-0.257494</td>\n",
       "      <td id=\"T_6355e_row28_col18\" class=\"data row28 col18\" >-0.045950</td>\n",
       "      <td id=\"T_6355e_row28_col19\" class=\"data row28 col19\" >0.045950</td>\n",
       "      <td id=\"T_6355e_row28_col20\" class=\"data row28 col20\" >0.080576</td>\n",
       "      <td id=\"T_6355e_row28_col21\" class=\"data row28 col21\" >-0.080576</td>\n",
       "      <td id=\"T_6355e_row28_col22\" class=\"data row28 col22\" >-0.102250</td>\n",
       "      <td id=\"T_6355e_row28_col23\" class=\"data row28 col23\" >-0.102250</td>\n",
       "      <td id=\"T_6355e_row28_col24\" class=\"data row28 col24\" >0.137097</td>\n",
       "      <td id=\"T_6355e_row28_col25\" class=\"data row28 col25\" >-0.005726</td>\n",
       "      <td id=\"T_6355e_row28_col26\" class=\"data row28 col26\" >-0.274829</td>\n",
       "      <td id=\"T_6355e_row28_col27\" class=\"data row28 col27\" >-0.300537</td>\n",
       "      <td id=\"T_6355e_row28_col28\" class=\"data row28 col28\" >1.000000</td>\n",
       "      <td id=\"T_6355e_row28_col29\" class=\"data row28 col29\" >-0.187592</td>\n",
       "      <td id=\"T_6355e_row28_col30\" class=\"data row28 col30\" >-0.274829</td>\n",
       "      <td id=\"T_6355e_row28_col31\" class=\"data row28 col31\" >-0.187592</td>\n",
       "      <td id=\"T_6355e_row28_col32\" class=\"data row28 col32\" >-0.274829</td>\n",
       "    </tr>\n",
       "    <tr>\n",
       "      <th id=\"T_6355e_level0_row29\" class=\"row_heading level0 row29\" >medical_problems_not immunized</th>\n",
       "      <td id=\"T_6355e_row29_col0\" class=\"data row29 col0\" >-0.265502</td>\n",
       "      <td id=\"T_6355e_row29_col1\" class=\"data row29 col1\" >0.073192</td>\n",
       "      <td id=\"T_6355e_row29_col2\" class=\"data row29 col2\" >0.103127</td>\n",
       "      <td id=\"T_6355e_row29_col3\" class=\"data row29 col3\" >-0.178774</td>\n",
       "      <td id=\"T_6355e_row29_col4\" class=\"data row29 col4\" >0.061234</td>\n",
       "      <td id=\"T_6355e_row29_col5\" class=\"data row29 col5\" >0.115472</td>\n",
       "      <td id=\"T_6355e_row29_col6\" class=\"data row29 col6\" >-0.090094</td>\n",
       "      <td id=\"T_6355e_row29_col7\" class=\"data row29 col7\" >-0.090094</td>\n",
       "      <td id=\"T_6355e_row29_col8\" class=\"data row29 col8\" >-0.068182</td>\n",
       "      <td id=\"T_6355e_row29_col9\" class=\"data row29 col9\" >-0.079640</td>\n",
       "      <td id=\"T_6355e_row29_col10\" class=\"data row29 col10\" >-0.099889</td>\n",
       "      <td id=\"T_6355e_row29_col11\" class=\"data row29 col11\" >0.376163</td>\n",
       "      <td id=\"T_6355e_row29_col12\" class=\"data row29 col12\" >0.160932</td>\n",
       "      <td id=\"T_6355e_row29_col13\" class=\"data row29 col13\" >-0.135748</td>\n",
       "      <td id=\"T_6355e_row29_col14\" class=\"data row29 col14\" >-0.079640</td>\n",
       "      <td id=\"T_6355e_row29_col15\" class=\"data row29 col15\" >0.376163</td>\n",
       "      <td id=\"T_6355e_row29_col16\" class=\"data row29 col16\" >-0.059599</td>\n",
       "      <td id=\"T_6355e_row29_col17\" class=\"data row29 col17\" >0.059599</td>\n",
       "      <td id=\"T_6355e_row29_col18\" class=\"data row29 col18\" >-0.103918</td>\n",
       "      <td id=\"T_6355e_row29_col19\" class=\"data row29 col19\" >0.103918</td>\n",
       "      <td id=\"T_6355e_row29_col20\" class=\"data row29 col20\" >0.152383</td>\n",
       "      <td id=\"T_6355e_row29_col21\" class=\"data row29 col21\" >-0.152383</td>\n",
       "      <td id=\"T_6355e_row29_col22\" class=\"data row29 col22\" >-0.090094</td>\n",
       "      <td id=\"T_6355e_row29_col23\" class=\"data row29 col23\" >-0.090094</td>\n",
       "      <td id=\"T_6355e_row29_col24\" class=\"data row29 col24\" >0.187592</td>\n",
       "      <td id=\"T_6355e_row29_col25\" class=\"data row29 col25\" >-0.099889</td>\n",
       "      <td id=\"T_6355e_row29_col26\" class=\"data row29 col26\" >-0.099889</td>\n",
       "      <td id=\"T_6355e_row29_col27\" class=\"data row29 col27\" >-0.109233</td>\n",
       "      <td id=\"T_6355e_row29_col28\" class=\"data row29 col28\" >-0.187592</td>\n",
       "      <td id=\"T_6355e_row29_col29\" class=\"data row29 col29\" >1.000000</td>\n",
       "      <td id=\"T_6355e_row29_col30\" class=\"data row29 col30\" >-0.099889</td>\n",
       "      <td id=\"T_6355e_row29_col31\" class=\"data row29 col31\" >-0.068182</td>\n",
       "      <td id=\"T_6355e_row29_col32\" class=\"data row29 col32\" >-0.099889</td>\n",
       "    </tr>\n",
       "    <tr>\n",
       "      <th id=\"T_6355e_level0_row30\" class=\"row_heading level0 row30\" >medical_problems_overweight</th>\n",
       "      <td id=\"T_6355e_row30_col0\" class=\"data row30 col0\" >0.131238</td>\n",
       "      <td id=\"T_6355e_row30_col1\" class=\"data row30 col1\" >0.191225</td>\n",
       "      <td id=\"T_6355e_row30_col2\" class=\"data row30 col2\" >-0.244061</td>\n",
       "      <td id=\"T_6355e_row30_col3\" class=\"data row30 col3\" >-0.125135</td>\n",
       "      <td id=\"T_6355e_row30_col4\" class=\"data row30 col4\" >-0.060875</td>\n",
       "      <td id=\"T_6355e_row30_col5\" class=\"data row30 col5\" >0.169172</td>\n",
       "      <td id=\"T_6355e_row30_col6\" class=\"data row30 col6\" >0.074795</td>\n",
       "      <td id=\"T_6355e_row30_col7\" class=\"data row30 col7\" >0.074795</td>\n",
       "      <td id=\"T_6355e_row30_col8\" class=\"data row30 col8\" >-0.099889</td>\n",
       "      <td id=\"T_6355e_row30_col9\" class=\"data row30 col9\" >-0.116675</td>\n",
       "      <td id=\"T_6355e_row30_col10\" class=\"data row30 col10\" >-0.146341</td>\n",
       "      <td id=\"T_6355e_row30_col11\" class=\"data row30 col11\" >0.235223</td>\n",
       "      <td id=\"T_6355e_row30_col12\" class=\"data row30 col12\" >-0.146341</td>\n",
       "      <td id=\"T_6355e_row30_col13\" class=\"data row30 col13\" >-0.043090</td>\n",
       "      <td id=\"T_6355e_row30_col14\" class=\"data row30 col14\" >0.111814</td>\n",
       "      <td id=\"T_6355e_row30_col15\" class=\"data row30 col15\" >0.235223</td>\n",
       "      <td id=\"T_6355e_row30_col16\" class=\"data row30 col16\" >-0.087314</td>\n",
       "      <td id=\"T_6355e_row30_col17\" class=\"data row30 col17\" >0.087314</td>\n",
       "      <td id=\"T_6355e_row30_col18\" class=\"data row30 col18\" >-0.152244</td>\n",
       "      <td id=\"T_6355e_row30_col19\" class=\"data row30 col19\" >0.152244</td>\n",
       "      <td id=\"T_6355e_row30_col20\" class=\"data row30 col20\" >0.092090</td>\n",
       "      <td id=\"T_6355e_row30_col21\" class=\"data row30 col21\" >-0.092090</td>\n",
       "      <td id=\"T_6355e_row30_col22\" class=\"data row30 col22\" >-0.131991</td>\n",
       "      <td id=\"T_6355e_row30_col23\" class=\"data row30 col23\" >0.074795</td>\n",
       "      <td id=\"T_6355e_row30_col24\" class=\"data row30 col24\" >0.140277</td>\n",
       "      <td id=\"T_6355e_row30_col25\" class=\"data row30 col25\" >-0.146341</td>\n",
       "      <td id=\"T_6355e_row30_col26\" class=\"data row30 col26\" >-0.146341</td>\n",
       "      <td id=\"T_6355e_row30_col27\" class=\"data row30 col27\" >-0.160030</td>\n",
       "      <td id=\"T_6355e_row30_col28\" class=\"data row30 col28\" >-0.274829</td>\n",
       "      <td id=\"T_6355e_row30_col29\" class=\"data row30 col29\" >-0.099889</td>\n",
       "      <td id=\"T_6355e_row30_col30\" class=\"data row30 col30\" >1.000000</td>\n",
       "      <td id=\"T_6355e_row30_col31\" class=\"data row30 col31\" >-0.099889</td>\n",
       "      <td id=\"T_6355e_row30_col32\" class=\"data row30 col32\" >-0.146341</td>\n",
       "    </tr>\n",
       "    <tr>\n",
       "      <th id=\"T_6355e_level0_row31\" class=\"row_heading level0 row31\" >medical_problems_physical injury</th>\n",
       "      <td id=\"T_6355e_row31_col0\" class=\"data row31 col0\" >0.038854</td>\n",
       "      <td id=\"T_6355e_row31_col1\" class=\"data row31 col1\" >-0.091642</td>\n",
       "      <td id=\"T_6355e_row31_col2\" class=\"data row31 col2\" >-0.079329</td>\n",
       "      <td id=\"T_6355e_row31_col3\" class=\"data row31 col3\" >0.007946</td>\n",
       "      <td id=\"T_6355e_row31_col4\" class=\"data row31 col4\" >0.266806</td>\n",
       "      <td id=\"T_6355e_row31_col5\" class=\"data row31 col5\" >-0.234670</td>\n",
       "      <td id=\"T_6355e_row31_col6\" class=\"data row31 col6\" >-0.090094</td>\n",
       "      <td id=\"T_6355e_row31_col7\" class=\"data row31 col7\" >-0.090094</td>\n",
       "      <td id=\"T_6355e_row31_col8\" class=\"data row31 col8\" >-0.068182</td>\n",
       "      <td id=\"T_6355e_row31_col9\" class=\"data row31 col9\" >0.232283</td>\n",
       "      <td id=\"T_6355e_row31_col10\" class=\"data row31 col10\" >-0.099889</td>\n",
       "      <td id=\"T_6355e_row31_col11\" class=\"data row31 col11\" >-0.055048</td>\n",
       "      <td id=\"T_6355e_row31_col12\" class=\"data row31 col12\" >0.160932</td>\n",
       "      <td id=\"T_6355e_row31_col13\" class=\"data row31 col13\" >0.076924</td>\n",
       "      <td id=\"T_6355e_row31_col14\" class=\"data row31 col14\" >-0.079640</td>\n",
       "      <td id=\"T_6355e_row31_col15\" class=\"data row31 col15\" >-0.055048</td>\n",
       "      <td id=\"T_6355e_row31_col16\" class=\"data row31 col16\" >-0.059599</td>\n",
       "      <td id=\"T_6355e_row31_col17\" class=\"data row31 col17\" >0.059599</td>\n",
       "      <td id=\"T_6355e_row31_col18\" class=\"data row31 col18\" >-0.278351</td>\n",
       "      <td id=\"T_6355e_row31_col19\" class=\"data row31 col19\" >0.278351</td>\n",
       "      <td id=\"T_6355e_row31_col20\" class=\"data row31 col20\" >-0.026667</td>\n",
       "      <td id=\"T_6355e_row31_col21\" class=\"data row31 col21\" >0.026667</td>\n",
       "      <td id=\"T_6355e_row31_col22\" class=\"data row31 col22\" >-0.090094</td>\n",
       "      <td id=\"T_6355e_row31_col23\" class=\"data row31 col23\" >0.192200</td>\n",
       "      <td id=\"T_6355e_row31_col24\" class=\"data row31 col24\" >-0.179775</td>\n",
       "      <td id=\"T_6355e_row31_col25\" class=\"data row31 col25\" >0.160932</td>\n",
       "      <td id=\"T_6355e_row31_col26\" class=\"data row31 col26\" >-0.099889</td>\n",
       "      <td id=\"T_6355e_row31_col27\" class=\"data row31 col27\" >-0.109233</td>\n",
       "      <td id=\"T_6355e_row31_col28\" class=\"data row31 col28\" >-0.187592</td>\n",
       "      <td id=\"T_6355e_row31_col29\" class=\"data row31 col29\" >-0.068182</td>\n",
       "      <td id=\"T_6355e_row31_col30\" class=\"data row31 col30\" >-0.099889</td>\n",
       "      <td id=\"T_6355e_row31_col31\" class=\"data row31 col31\" >1.000000</td>\n",
       "      <td id=\"T_6355e_row31_col32\" class=\"data row31 col32\" >-0.099889</td>\n",
       "    </tr>\n",
       "    <tr>\n",
       "      <th id=\"T_6355e_level0_row32\" class=\"row_heading level0 row32\" >medical_problems_underweight</th>\n",
       "      <td id=\"T_6355e_row32_col0\" class=\"data row32 col0\" >0.146102</td>\n",
       "      <td id=\"T_6355e_row32_col1\" class=\"data row32 col1\" >-0.172758</td>\n",
       "      <td id=\"T_6355e_row32_col2\" class=\"data row32 col2\" >-0.052299</td>\n",
       "      <td id=\"T_6355e_row32_col3\" class=\"data row32 col3\" >0.011641</td>\n",
       "      <td id=\"T_6355e_row32_col4\" class=\"data row32 col4\" >-0.211460</td>\n",
       "      <td id=\"T_6355e_row32_col5\" class=\"data row32 col5\" >0.169172</td>\n",
       "      <td id=\"T_6355e_row32_col6\" class=\"data row32 col6\" >0.074795</td>\n",
       "      <td id=\"T_6355e_row32_col7\" class=\"data row32 col7\" >-0.131991</td>\n",
       "      <td id=\"T_6355e_row32_col8\" class=\"data row32 col8\" >-0.099889</td>\n",
       "      <td id=\"T_6355e_row32_col9\" class=\"data row32 col9\" >-0.116675</td>\n",
       "      <td id=\"T_6355e_row32_col10\" class=\"data row32 col10\" >-0.146341</td>\n",
       "      <td id=\"T_6355e_row32_col11\" class=\"data row32 col11\" >-0.080648</td>\n",
       "      <td id=\"T_6355e_row32_col12\" class=\"data row32 col12\" >0.235772</td>\n",
       "      <td id=\"T_6355e_row32_col13\" class=\"data row32 col13\" >0.112697</td>\n",
       "      <td id=\"T_6355e_row32_col14\" class=\"data row32 col14\" >0.111814</td>\n",
       "      <td id=\"T_6355e_row32_col15\" class=\"data row32 col15\" >-0.080648</td>\n",
       "      <td id=\"T_6355e_row32_col16\" class=\"data row32 col16\" >0.169172</td>\n",
       "      <td id=\"T_6355e_row32_col17\" class=\"data row32 col17\" >-0.169172</td>\n",
       "      <td id=\"T_6355e_row32_col18\" class=\"data row32 col18\" >0.231084</td>\n",
       "      <td id=\"T_6355e_row32_col19\" class=\"data row32 col19\" >-0.231084</td>\n",
       "      <td id=\"T_6355e_row32_col20\" class=\"data row32 col20\" >-0.170226</td>\n",
       "      <td id=\"T_6355e_row32_col21\" class=\"data row32 col21\" >0.170226</td>\n",
       "      <td id=\"T_6355e_row32_col22\" class=\"data row32 col22\" >-0.131991</td>\n",
       "      <td id=\"T_6355e_row32_col23\" class=\"data row32 col23\" >-0.131991</td>\n",
       "      <td id=\"T_6355e_row32_col24\" class=\"data row32 col24\" >0.140277</td>\n",
       "      <td id=\"T_6355e_row32_col25\" class=\"data row32 col25\" >0.044715</td>\n",
       "      <td id=\"T_6355e_row32_col26\" class=\"data row32 col26\" >-0.146341</td>\n",
       "      <td id=\"T_6355e_row32_col27\" class=\"data row32 col27\" >-0.160030</td>\n",
       "      <td id=\"T_6355e_row32_col28\" class=\"data row32 col28\" >-0.274829</td>\n",
       "      <td id=\"T_6355e_row32_col29\" class=\"data row32 col29\" >-0.099889</td>\n",
       "      <td id=\"T_6355e_row32_col30\" class=\"data row32 col30\" >-0.146341</td>\n",
       "      <td id=\"T_6355e_row32_col31\" class=\"data row32 col31\" >-0.099889</td>\n",
       "      <td id=\"T_6355e_row32_col32\" class=\"data row32 col32\" >1.000000</td>\n",
       "    </tr>\n",
       "  </tbody>\n",
       "</table>\n"
      ],
      "text/plain": [
       "<pandas.io.formats.style.Styler at 0x1485d9518e0>"
      ]
     },
     "execution_count": 102,
     "metadata": {},
     "output_type": "execute_result"
    }
   ],
   "source": [
    "corr.style.background_gradient(cmap='viridis')"
   ]
  },
  {
   "attachments": {},
   "cell_type": "markdown",
   "metadata": {},
   "source": [
    "# Conclusion and Discussion\n",
    "    The correlation matrix above reveals that the medical problems a patient incounter has a relatively moderate positive corelation to the patient disabilities(arthritis, atherosclerosis, cyclothimic disorder, delirium, scoliosis), gender(male) and marital_status(divorced).\n",
    "    \n",
    "    The patient data has only few numerical variables which affected the precision of the analysis interms of creating limitation on either log transformation or robus scaling that can help to reduce outliers and increase precision on the above correlation analysis.  "
   ]
  }
 ],
 "metadata": {
  "kernelspec": {
   "display_name": "Python 3.9.12 ('base')",
   "language": "python",
   "name": "python3"
  },
  "language_info": {
   "codemirror_mode": {
    "name": "ipython",
    "version": 3
   },
   "file_extension": ".py",
   "mimetype": "text/x-python",
   "name": "python",
   "nbconvert_exporter": "python",
   "pygments_lexer": "ipython3",
   "version": "3.9.12"
  },
  "vscode": {
   "interpreter": {
    "hash": "77fc87c6222eb0d5442d7426cf6d325b1e6f9f529e2a41000bbfc9b477d4e968"
   }
  }
 },
 "nbformat": 4,
 "nbformat_minor": 2
}
